{
 "cells": [
  {
   "cell_type": "code",
   "execution_count": 1,
   "id": "a0c42726",
   "metadata": {
    "_cell_guid": "b1076dfc-b9ad-4769-8c92-a6c4dae69d19",
    "_uuid": "8f2839f25d086af736a60e9eeb907d3b93b6e0e5",
    "execution": {
     "iopub.execute_input": "2022-03-03T10:30:33.693780Z",
     "iopub.status.busy": "2022-03-03T10:30:33.692622Z",
     "iopub.status.idle": "2022-03-03T10:30:33.705028Z",
     "shell.execute_reply": "2022-03-03T10:30:33.705551Z",
     "shell.execute_reply.started": "2022-02-25T19:09:47.005442Z"
    },
    "papermill": {
     "duration": 0.19755,
     "end_time": "2022-03-03T10:30:33.705859",
     "exception": false,
     "start_time": "2022-03-03T10:30:33.508309",
     "status": "completed"
    },
    "tags": []
   },
   "outputs": [
    {
     "name": "stdout",
     "output_type": "stream",
     "text": [
      "/kaggle/input/spaceship-titanic/sample_submission.csv\n",
      "/kaggle/input/spaceship-titanic/train.csv\n",
      "/kaggle/input/spaceship-titanic/test.csv\n"
     ]
    }
   ],
   "source": [
    "# This Python 3 environment comes with many helpful analytics libraries installed\n",
    "# It is defined by the kaggle/python Docker image: https://github.com/kaggle/docker-python\n",
    "# For example, here's several helpful packages to load\n",
    "\n",
    "import numpy as np # linear algebra\n",
    "import pandas as pd # data processing, CSV file I/O (e.g. pd.read_csv)\n",
    "\n",
    "# Input data files are available in the read-only \"../input/\" directory\n",
    "# For example, running this (by clicking run or pressing Shift+Enter) will list all files under the input directory\n",
    "\n",
    "import os\n",
    "for dirname, _, filenames in os.walk('/kaggle/input'):\n",
    "    for filename in filenames:\n",
    "        print(os.path.join(dirname, filename))\n",
    "\n",
    "# You can write up to 20GB to the current directory (/kaggle/working/) that gets preserved as output when you create a version using \"Save & Run All\" \n",
    "# You can also write temporary files to /kaggle/temp/, but they won't be saved outside of the current session"
   ]
  },
  {
   "cell_type": "code",
   "execution_count": 2,
   "id": "08238509",
   "metadata": {
    "execution": {
     "iopub.execute_input": "2022-03-03T10:30:34.086527Z",
     "iopub.status.busy": "2022-03-03T10:30:34.085914Z",
     "iopub.status.idle": "2022-03-03T10:30:34.169515Z",
     "shell.execute_reply": "2022-03-03T10:30:34.170063Z",
     "shell.execute_reply.started": "2022-02-25T19:09:47.790846Z"
    },
    "papermill": {
     "duration": 0.265252,
     "end_time": "2022-03-03T10:30:34.170227",
     "exception": false,
     "start_time": "2022-03-03T10:30:33.904975",
     "status": "completed"
    },
    "tags": []
   },
   "outputs": [],
   "source": [
    "train=pd.read_csv('/kaggle/input/spaceship-titanic/train.csv')\n",
    "test=pd.read_csv('/kaggle/input/spaceship-titanic/test.csv')"
   ]
  },
  {
   "cell_type": "code",
   "execution_count": 3,
   "id": "de4a96b2",
   "metadata": {
    "execution": {
     "iopub.execute_input": "2022-03-03T10:30:34.534402Z",
     "iopub.status.busy": "2022-03-03T10:30:34.533803Z",
     "iopub.status.idle": "2022-03-03T10:30:34.564537Z",
     "shell.execute_reply": "2022-03-03T10:30:34.565013Z",
     "shell.execute_reply.started": "2022-02-25T19:09:48.539011Z"
    },
    "papermill": {
     "duration": 0.219888,
     "end_time": "2022-03-03T10:30:34.565169",
     "exception": false,
     "start_time": "2022-03-03T10:30:34.345281",
     "status": "completed"
    },
    "tags": []
   },
   "outputs": [
    {
     "data": {
      "text/html": [
       "<div>\n",
       "<style scoped>\n",
       "    .dataframe tbody tr th:only-of-type {\n",
       "        vertical-align: middle;\n",
       "    }\n",
       "\n",
       "    .dataframe tbody tr th {\n",
       "        vertical-align: top;\n",
       "    }\n",
       "\n",
       "    .dataframe thead th {\n",
       "        text-align: right;\n",
       "    }\n",
       "</style>\n",
       "<table border=\"1\" class=\"dataframe\">\n",
       "  <thead>\n",
       "    <tr style=\"text-align: right;\">\n",
       "      <th></th>\n",
       "      <th>PassengerId</th>\n",
       "      <th>HomePlanet</th>\n",
       "      <th>CryoSleep</th>\n",
       "      <th>Cabin</th>\n",
       "      <th>Destination</th>\n",
       "      <th>Age</th>\n",
       "      <th>VIP</th>\n",
       "      <th>RoomService</th>\n",
       "      <th>FoodCourt</th>\n",
       "      <th>ShoppingMall</th>\n",
       "      <th>Spa</th>\n",
       "      <th>VRDeck</th>\n",
       "      <th>Name</th>\n",
       "      <th>Transported</th>\n",
       "    </tr>\n",
       "  </thead>\n",
       "  <tbody>\n",
       "    <tr>\n",
       "      <th>0</th>\n",
       "      <td>0001_01</td>\n",
       "      <td>Europa</td>\n",
       "      <td>False</td>\n",
       "      <td>B/0/P</td>\n",
       "      <td>TRAPPIST-1e</td>\n",
       "      <td>39.0</td>\n",
       "      <td>False</td>\n",
       "      <td>0.0</td>\n",
       "      <td>0.0</td>\n",
       "      <td>0.0</td>\n",
       "      <td>0.0</td>\n",
       "      <td>0.0</td>\n",
       "      <td>Maham Ofracculy</td>\n",
       "      <td>False</td>\n",
       "    </tr>\n",
       "    <tr>\n",
       "      <th>1</th>\n",
       "      <td>0002_01</td>\n",
       "      <td>Earth</td>\n",
       "      <td>False</td>\n",
       "      <td>F/0/S</td>\n",
       "      <td>TRAPPIST-1e</td>\n",
       "      <td>24.0</td>\n",
       "      <td>False</td>\n",
       "      <td>109.0</td>\n",
       "      <td>9.0</td>\n",
       "      <td>25.0</td>\n",
       "      <td>549.0</td>\n",
       "      <td>44.0</td>\n",
       "      <td>Juanna Vines</td>\n",
       "      <td>True</td>\n",
       "    </tr>\n",
       "    <tr>\n",
       "      <th>2</th>\n",
       "      <td>0003_01</td>\n",
       "      <td>Europa</td>\n",
       "      <td>False</td>\n",
       "      <td>A/0/S</td>\n",
       "      <td>TRAPPIST-1e</td>\n",
       "      <td>58.0</td>\n",
       "      <td>True</td>\n",
       "      <td>43.0</td>\n",
       "      <td>3576.0</td>\n",
       "      <td>0.0</td>\n",
       "      <td>6715.0</td>\n",
       "      <td>49.0</td>\n",
       "      <td>Altark Susent</td>\n",
       "      <td>False</td>\n",
       "    </tr>\n",
       "    <tr>\n",
       "      <th>3</th>\n",
       "      <td>0003_02</td>\n",
       "      <td>Europa</td>\n",
       "      <td>False</td>\n",
       "      <td>A/0/S</td>\n",
       "      <td>TRAPPIST-1e</td>\n",
       "      <td>33.0</td>\n",
       "      <td>False</td>\n",
       "      <td>0.0</td>\n",
       "      <td>1283.0</td>\n",
       "      <td>371.0</td>\n",
       "      <td>3329.0</td>\n",
       "      <td>193.0</td>\n",
       "      <td>Solam Susent</td>\n",
       "      <td>False</td>\n",
       "    </tr>\n",
       "    <tr>\n",
       "      <th>4</th>\n",
       "      <td>0004_01</td>\n",
       "      <td>Earth</td>\n",
       "      <td>False</td>\n",
       "      <td>F/1/S</td>\n",
       "      <td>TRAPPIST-1e</td>\n",
       "      <td>16.0</td>\n",
       "      <td>False</td>\n",
       "      <td>303.0</td>\n",
       "      <td>70.0</td>\n",
       "      <td>151.0</td>\n",
       "      <td>565.0</td>\n",
       "      <td>2.0</td>\n",
       "      <td>Willy Santantines</td>\n",
       "      <td>True</td>\n",
       "    </tr>\n",
       "    <tr>\n",
       "      <th>...</th>\n",
       "      <td>...</td>\n",
       "      <td>...</td>\n",
       "      <td>...</td>\n",
       "      <td>...</td>\n",
       "      <td>...</td>\n",
       "      <td>...</td>\n",
       "      <td>...</td>\n",
       "      <td>...</td>\n",
       "      <td>...</td>\n",
       "      <td>...</td>\n",
       "      <td>...</td>\n",
       "      <td>...</td>\n",
       "      <td>...</td>\n",
       "      <td>...</td>\n",
       "    </tr>\n",
       "    <tr>\n",
       "      <th>8688</th>\n",
       "      <td>9276_01</td>\n",
       "      <td>Europa</td>\n",
       "      <td>False</td>\n",
       "      <td>A/98/P</td>\n",
       "      <td>55 Cancri e</td>\n",
       "      <td>41.0</td>\n",
       "      <td>True</td>\n",
       "      <td>0.0</td>\n",
       "      <td>6819.0</td>\n",
       "      <td>0.0</td>\n",
       "      <td>1643.0</td>\n",
       "      <td>74.0</td>\n",
       "      <td>Gravior Noxnuther</td>\n",
       "      <td>False</td>\n",
       "    </tr>\n",
       "    <tr>\n",
       "      <th>8689</th>\n",
       "      <td>9278_01</td>\n",
       "      <td>Earth</td>\n",
       "      <td>True</td>\n",
       "      <td>G/1499/S</td>\n",
       "      <td>PSO J318.5-22</td>\n",
       "      <td>18.0</td>\n",
       "      <td>False</td>\n",
       "      <td>0.0</td>\n",
       "      <td>0.0</td>\n",
       "      <td>0.0</td>\n",
       "      <td>0.0</td>\n",
       "      <td>0.0</td>\n",
       "      <td>Kurta Mondalley</td>\n",
       "      <td>False</td>\n",
       "    </tr>\n",
       "    <tr>\n",
       "      <th>8690</th>\n",
       "      <td>9279_01</td>\n",
       "      <td>Earth</td>\n",
       "      <td>False</td>\n",
       "      <td>G/1500/S</td>\n",
       "      <td>TRAPPIST-1e</td>\n",
       "      <td>26.0</td>\n",
       "      <td>False</td>\n",
       "      <td>0.0</td>\n",
       "      <td>0.0</td>\n",
       "      <td>1872.0</td>\n",
       "      <td>1.0</td>\n",
       "      <td>0.0</td>\n",
       "      <td>Fayey Connon</td>\n",
       "      <td>True</td>\n",
       "    </tr>\n",
       "    <tr>\n",
       "      <th>8691</th>\n",
       "      <td>9280_01</td>\n",
       "      <td>Europa</td>\n",
       "      <td>False</td>\n",
       "      <td>E/608/S</td>\n",
       "      <td>55 Cancri e</td>\n",
       "      <td>32.0</td>\n",
       "      <td>False</td>\n",
       "      <td>0.0</td>\n",
       "      <td>1049.0</td>\n",
       "      <td>0.0</td>\n",
       "      <td>353.0</td>\n",
       "      <td>3235.0</td>\n",
       "      <td>Celeon Hontichre</td>\n",
       "      <td>False</td>\n",
       "    </tr>\n",
       "    <tr>\n",
       "      <th>8692</th>\n",
       "      <td>9280_02</td>\n",
       "      <td>Europa</td>\n",
       "      <td>False</td>\n",
       "      <td>E/608/S</td>\n",
       "      <td>TRAPPIST-1e</td>\n",
       "      <td>44.0</td>\n",
       "      <td>False</td>\n",
       "      <td>126.0</td>\n",
       "      <td>4688.0</td>\n",
       "      <td>0.0</td>\n",
       "      <td>0.0</td>\n",
       "      <td>12.0</td>\n",
       "      <td>Propsh Hontichre</td>\n",
       "      <td>True</td>\n",
       "    </tr>\n",
       "  </tbody>\n",
       "</table>\n",
       "<p>8693 rows × 14 columns</p>\n",
       "</div>"
      ],
      "text/plain": [
       "     PassengerId HomePlanet CryoSleep     Cabin    Destination   Age    VIP  \\\n",
       "0        0001_01     Europa     False     B/0/P    TRAPPIST-1e  39.0  False   \n",
       "1        0002_01      Earth     False     F/0/S    TRAPPIST-1e  24.0  False   \n",
       "2        0003_01     Europa     False     A/0/S    TRAPPIST-1e  58.0   True   \n",
       "3        0003_02     Europa     False     A/0/S    TRAPPIST-1e  33.0  False   \n",
       "4        0004_01      Earth     False     F/1/S    TRAPPIST-1e  16.0  False   \n",
       "...          ...        ...       ...       ...            ...   ...    ...   \n",
       "8688     9276_01     Europa     False    A/98/P    55 Cancri e  41.0   True   \n",
       "8689     9278_01      Earth      True  G/1499/S  PSO J318.5-22  18.0  False   \n",
       "8690     9279_01      Earth     False  G/1500/S    TRAPPIST-1e  26.0  False   \n",
       "8691     9280_01     Europa     False   E/608/S    55 Cancri e  32.0  False   \n",
       "8692     9280_02     Europa     False   E/608/S    TRAPPIST-1e  44.0  False   \n",
       "\n",
       "      RoomService  FoodCourt  ShoppingMall     Spa  VRDeck               Name  \\\n",
       "0             0.0        0.0           0.0     0.0     0.0    Maham Ofracculy   \n",
       "1           109.0        9.0          25.0   549.0    44.0       Juanna Vines   \n",
       "2            43.0     3576.0           0.0  6715.0    49.0      Altark Susent   \n",
       "3             0.0     1283.0         371.0  3329.0   193.0       Solam Susent   \n",
       "4           303.0       70.0         151.0   565.0     2.0  Willy Santantines   \n",
       "...           ...        ...           ...     ...     ...                ...   \n",
       "8688          0.0     6819.0           0.0  1643.0    74.0  Gravior Noxnuther   \n",
       "8689          0.0        0.0           0.0     0.0     0.0    Kurta Mondalley   \n",
       "8690          0.0        0.0        1872.0     1.0     0.0       Fayey Connon   \n",
       "8691          0.0     1049.0           0.0   353.0  3235.0   Celeon Hontichre   \n",
       "8692        126.0     4688.0           0.0     0.0    12.0   Propsh Hontichre   \n",
       "\n",
       "      Transported  \n",
       "0           False  \n",
       "1            True  \n",
       "2           False  \n",
       "3           False  \n",
       "4            True  \n",
       "...           ...  \n",
       "8688        False  \n",
       "8689        False  \n",
       "8690         True  \n",
       "8691        False  \n",
       "8692         True  \n",
       "\n",
       "[8693 rows x 14 columns]"
      ]
     },
     "execution_count": 3,
     "metadata": {},
     "output_type": "execute_result"
    }
   ],
   "source": [
    "train"
   ]
  },
  {
   "cell_type": "code",
   "execution_count": 4,
   "id": "2539929f",
   "metadata": {
    "execution": {
     "iopub.execute_input": "2022-03-03T10:30:34.923030Z",
     "iopub.status.busy": "2022-03-03T10:30:34.922034Z",
     "iopub.status.idle": "2022-03-03T10:30:34.949520Z",
     "shell.execute_reply": "2022-03-03T10:30:34.950056Z",
     "shell.execute_reply.started": "2022-02-25T19:09:49.088874Z"
    },
    "papermill": {
     "duration": 0.207458,
     "end_time": "2022-03-03T10:30:34.950216",
     "exception": false,
     "start_time": "2022-03-03T10:30:34.742758",
     "status": "completed"
    },
    "tags": []
   },
   "outputs": [
    {
     "data": {
      "text/html": [
       "<div>\n",
       "<style scoped>\n",
       "    .dataframe tbody tr th:only-of-type {\n",
       "        vertical-align: middle;\n",
       "    }\n",
       "\n",
       "    .dataframe tbody tr th {\n",
       "        vertical-align: top;\n",
       "    }\n",
       "\n",
       "    .dataframe thead th {\n",
       "        text-align: right;\n",
       "    }\n",
       "</style>\n",
       "<table border=\"1\" class=\"dataframe\">\n",
       "  <thead>\n",
       "    <tr style=\"text-align: right;\">\n",
       "      <th></th>\n",
       "      <th>PassengerId</th>\n",
       "      <th>HomePlanet</th>\n",
       "      <th>CryoSleep</th>\n",
       "      <th>Cabin</th>\n",
       "      <th>Destination</th>\n",
       "      <th>Age</th>\n",
       "      <th>VIP</th>\n",
       "      <th>RoomService</th>\n",
       "      <th>FoodCourt</th>\n",
       "      <th>ShoppingMall</th>\n",
       "      <th>Spa</th>\n",
       "      <th>VRDeck</th>\n",
       "      <th>Name</th>\n",
       "    </tr>\n",
       "  </thead>\n",
       "  <tbody>\n",
       "    <tr>\n",
       "      <th>0</th>\n",
       "      <td>0013_01</td>\n",
       "      <td>Earth</td>\n",
       "      <td>True</td>\n",
       "      <td>G/3/S</td>\n",
       "      <td>TRAPPIST-1e</td>\n",
       "      <td>27.0</td>\n",
       "      <td>False</td>\n",
       "      <td>0.0</td>\n",
       "      <td>0.0</td>\n",
       "      <td>0.0</td>\n",
       "      <td>0.0</td>\n",
       "      <td>0.0</td>\n",
       "      <td>Nelly Carsoning</td>\n",
       "    </tr>\n",
       "    <tr>\n",
       "      <th>1</th>\n",
       "      <td>0018_01</td>\n",
       "      <td>Earth</td>\n",
       "      <td>False</td>\n",
       "      <td>F/4/S</td>\n",
       "      <td>TRAPPIST-1e</td>\n",
       "      <td>19.0</td>\n",
       "      <td>False</td>\n",
       "      <td>0.0</td>\n",
       "      <td>9.0</td>\n",
       "      <td>0.0</td>\n",
       "      <td>2823.0</td>\n",
       "      <td>0.0</td>\n",
       "      <td>Lerome Peckers</td>\n",
       "    </tr>\n",
       "    <tr>\n",
       "      <th>2</th>\n",
       "      <td>0019_01</td>\n",
       "      <td>Europa</td>\n",
       "      <td>True</td>\n",
       "      <td>C/0/S</td>\n",
       "      <td>55 Cancri e</td>\n",
       "      <td>31.0</td>\n",
       "      <td>False</td>\n",
       "      <td>0.0</td>\n",
       "      <td>0.0</td>\n",
       "      <td>0.0</td>\n",
       "      <td>0.0</td>\n",
       "      <td>0.0</td>\n",
       "      <td>Sabih Unhearfus</td>\n",
       "    </tr>\n",
       "    <tr>\n",
       "      <th>3</th>\n",
       "      <td>0021_01</td>\n",
       "      <td>Europa</td>\n",
       "      <td>False</td>\n",
       "      <td>C/1/S</td>\n",
       "      <td>TRAPPIST-1e</td>\n",
       "      <td>38.0</td>\n",
       "      <td>False</td>\n",
       "      <td>0.0</td>\n",
       "      <td>6652.0</td>\n",
       "      <td>0.0</td>\n",
       "      <td>181.0</td>\n",
       "      <td>585.0</td>\n",
       "      <td>Meratz Caltilter</td>\n",
       "    </tr>\n",
       "    <tr>\n",
       "      <th>4</th>\n",
       "      <td>0023_01</td>\n",
       "      <td>Earth</td>\n",
       "      <td>False</td>\n",
       "      <td>F/5/S</td>\n",
       "      <td>TRAPPIST-1e</td>\n",
       "      <td>20.0</td>\n",
       "      <td>False</td>\n",
       "      <td>10.0</td>\n",
       "      <td>0.0</td>\n",
       "      <td>635.0</td>\n",
       "      <td>0.0</td>\n",
       "      <td>0.0</td>\n",
       "      <td>Brence Harperez</td>\n",
       "    </tr>\n",
       "    <tr>\n",
       "      <th>...</th>\n",
       "      <td>...</td>\n",
       "      <td>...</td>\n",
       "      <td>...</td>\n",
       "      <td>...</td>\n",
       "      <td>...</td>\n",
       "      <td>...</td>\n",
       "      <td>...</td>\n",
       "      <td>...</td>\n",
       "      <td>...</td>\n",
       "      <td>...</td>\n",
       "      <td>...</td>\n",
       "      <td>...</td>\n",
       "      <td>...</td>\n",
       "    </tr>\n",
       "    <tr>\n",
       "      <th>4272</th>\n",
       "      <td>9266_02</td>\n",
       "      <td>Earth</td>\n",
       "      <td>True</td>\n",
       "      <td>G/1496/S</td>\n",
       "      <td>TRAPPIST-1e</td>\n",
       "      <td>34.0</td>\n",
       "      <td>False</td>\n",
       "      <td>0.0</td>\n",
       "      <td>0.0</td>\n",
       "      <td>0.0</td>\n",
       "      <td>0.0</td>\n",
       "      <td>0.0</td>\n",
       "      <td>Jeron Peter</td>\n",
       "    </tr>\n",
       "    <tr>\n",
       "      <th>4273</th>\n",
       "      <td>9269_01</td>\n",
       "      <td>Earth</td>\n",
       "      <td>False</td>\n",
       "      <td>NaN</td>\n",
       "      <td>TRAPPIST-1e</td>\n",
       "      <td>42.0</td>\n",
       "      <td>False</td>\n",
       "      <td>0.0</td>\n",
       "      <td>847.0</td>\n",
       "      <td>17.0</td>\n",
       "      <td>10.0</td>\n",
       "      <td>144.0</td>\n",
       "      <td>Matty Scheron</td>\n",
       "    </tr>\n",
       "    <tr>\n",
       "      <th>4274</th>\n",
       "      <td>9271_01</td>\n",
       "      <td>Mars</td>\n",
       "      <td>True</td>\n",
       "      <td>D/296/P</td>\n",
       "      <td>55 Cancri e</td>\n",
       "      <td>NaN</td>\n",
       "      <td>False</td>\n",
       "      <td>0.0</td>\n",
       "      <td>0.0</td>\n",
       "      <td>0.0</td>\n",
       "      <td>0.0</td>\n",
       "      <td>0.0</td>\n",
       "      <td>Jayrin Pore</td>\n",
       "    </tr>\n",
       "    <tr>\n",
       "      <th>4275</th>\n",
       "      <td>9273_01</td>\n",
       "      <td>Europa</td>\n",
       "      <td>False</td>\n",
       "      <td>D/297/P</td>\n",
       "      <td>NaN</td>\n",
       "      <td>NaN</td>\n",
       "      <td>False</td>\n",
       "      <td>0.0</td>\n",
       "      <td>2680.0</td>\n",
       "      <td>0.0</td>\n",
       "      <td>0.0</td>\n",
       "      <td>523.0</td>\n",
       "      <td>Kitakan Conale</td>\n",
       "    </tr>\n",
       "    <tr>\n",
       "      <th>4276</th>\n",
       "      <td>9277_01</td>\n",
       "      <td>Earth</td>\n",
       "      <td>True</td>\n",
       "      <td>G/1498/S</td>\n",
       "      <td>PSO J318.5-22</td>\n",
       "      <td>43.0</td>\n",
       "      <td>False</td>\n",
       "      <td>0.0</td>\n",
       "      <td>0.0</td>\n",
       "      <td>0.0</td>\n",
       "      <td>0.0</td>\n",
       "      <td>0.0</td>\n",
       "      <td>Lilace Leonzaley</td>\n",
       "    </tr>\n",
       "  </tbody>\n",
       "</table>\n",
       "<p>4277 rows × 13 columns</p>\n",
       "</div>"
      ],
      "text/plain": [
       "     PassengerId HomePlanet CryoSleep     Cabin    Destination   Age    VIP  \\\n",
       "0        0013_01      Earth      True     G/3/S    TRAPPIST-1e  27.0  False   \n",
       "1        0018_01      Earth     False     F/4/S    TRAPPIST-1e  19.0  False   \n",
       "2        0019_01     Europa      True     C/0/S    55 Cancri e  31.0  False   \n",
       "3        0021_01     Europa     False     C/1/S    TRAPPIST-1e  38.0  False   \n",
       "4        0023_01      Earth     False     F/5/S    TRAPPIST-1e  20.0  False   \n",
       "...          ...        ...       ...       ...            ...   ...    ...   \n",
       "4272     9266_02      Earth      True  G/1496/S    TRAPPIST-1e  34.0  False   \n",
       "4273     9269_01      Earth     False       NaN    TRAPPIST-1e  42.0  False   \n",
       "4274     9271_01       Mars      True   D/296/P    55 Cancri e   NaN  False   \n",
       "4275     9273_01     Europa     False   D/297/P            NaN   NaN  False   \n",
       "4276     9277_01      Earth      True  G/1498/S  PSO J318.5-22  43.0  False   \n",
       "\n",
       "      RoomService  FoodCourt  ShoppingMall     Spa  VRDeck              Name  \n",
       "0             0.0        0.0           0.0     0.0     0.0   Nelly Carsoning  \n",
       "1             0.0        9.0           0.0  2823.0     0.0    Lerome Peckers  \n",
       "2             0.0        0.0           0.0     0.0     0.0   Sabih Unhearfus  \n",
       "3             0.0     6652.0           0.0   181.0   585.0  Meratz Caltilter  \n",
       "4            10.0        0.0         635.0     0.0     0.0   Brence Harperez  \n",
       "...           ...        ...           ...     ...     ...               ...  \n",
       "4272          0.0        0.0           0.0     0.0     0.0       Jeron Peter  \n",
       "4273          0.0      847.0          17.0    10.0   144.0     Matty Scheron  \n",
       "4274          0.0        0.0           0.0     0.0     0.0       Jayrin Pore  \n",
       "4275          0.0     2680.0           0.0     0.0   523.0    Kitakan Conale  \n",
       "4276          0.0        0.0           0.0     0.0     0.0  Lilace Leonzaley  \n",
       "\n",
       "[4277 rows x 13 columns]"
      ]
     },
     "execution_count": 4,
     "metadata": {},
     "output_type": "execute_result"
    }
   ],
   "source": [
    "test"
   ]
  },
  {
   "cell_type": "code",
   "execution_count": 5,
   "id": "c6bb2bff",
   "metadata": {
    "execution": {
     "iopub.execute_input": "2022-03-03T10:30:35.304182Z",
     "iopub.status.busy": "2022-03-03T10:30:35.303275Z",
     "iopub.status.idle": "2022-03-03T10:30:35.313519Z",
     "shell.execute_reply": "2022-03-03T10:30:35.314085Z",
     "shell.execute_reply.started": "2022-02-25T19:09:49.466145Z"
    },
    "papermill": {
     "duration": 0.189418,
     "end_time": "2022-03-03T10:30:35.314238",
     "exception": false,
     "start_time": "2022-03-03T10:30:35.124820",
     "status": "completed"
    },
    "tags": []
   },
   "outputs": [],
   "source": [
    "train.drop('PassengerId',axis=1,inplace=True)"
   ]
  },
  {
   "cell_type": "code",
   "execution_count": 6,
   "id": "0c881d68",
   "metadata": {
    "execution": {
     "iopub.execute_input": "2022-03-03T10:30:35.671436Z",
     "iopub.status.busy": "2022-03-03T10:30:35.670487Z",
     "iopub.status.idle": "2022-03-03T10:30:35.675522Z",
     "shell.execute_reply": "2022-03-03T10:30:35.676144Z",
     "shell.execute_reply.started": "2022-02-25T19:09:49.729031Z"
    },
    "papermill": {
     "duration": 0.185064,
     "end_time": "2022-03-03T10:30:35.676300",
     "exception": false,
     "start_time": "2022-03-03T10:30:35.491236",
     "status": "completed"
    },
    "tags": []
   },
   "outputs": [
    {
     "data": {
      "text/plain": [
       "8693"
      ]
     },
     "execution_count": 6,
     "metadata": {},
     "output_type": "execute_result"
    }
   ],
   "source": [
    "len(train)"
   ]
  },
  {
   "cell_type": "code",
   "execution_count": 7,
   "id": "cf6dd558",
   "metadata": {
    "execution": {
     "iopub.execute_input": "2022-03-03T10:30:36.034059Z",
     "iopub.status.busy": "2022-03-03T10:30:36.033057Z",
     "iopub.status.idle": "2022-03-03T10:30:36.047464Z",
     "shell.execute_reply": "2022-03-03T10:30:36.046956Z",
     "shell.execute_reply.started": "2022-02-25T19:09:50.008543Z"
    },
    "papermill": {
     "duration": 0.193919,
     "end_time": "2022-03-03T10:30:36.047604",
     "exception": false,
     "start_time": "2022-03-03T10:30:35.853685",
     "status": "completed"
    },
    "tags": []
   },
   "outputs": [
    {
     "data": {
      "text/plain": [
       "HomePlanet      201\n",
       "CryoSleep       217\n",
       "Cabin           199\n",
       "Destination     182\n",
       "Age             179\n",
       "VIP             203\n",
       "RoomService     181\n",
       "FoodCourt       183\n",
       "ShoppingMall    208\n",
       "Spa             183\n",
       "VRDeck          188\n",
       "Name            200\n",
       "Transported       0\n",
       "dtype: int64"
      ]
     },
     "execution_count": 7,
     "metadata": {},
     "output_type": "execute_result"
    }
   ],
   "source": [
    "train.isnull().sum()"
   ]
  },
  {
   "cell_type": "code",
   "execution_count": 8,
   "id": "90b3e10e",
   "metadata": {
    "execution": {
     "iopub.execute_input": "2022-03-03T10:30:36.414330Z",
     "iopub.status.busy": "2022-03-03T10:30:36.413642Z",
     "iopub.status.idle": "2022-03-03T10:30:36.421195Z",
     "shell.execute_reply": "2022-03-03T10:30:36.421713Z",
     "shell.execute_reply.started": "2022-02-25T19:09:50.219046Z"
    },
    "papermill": {
     "duration": 0.197478,
     "end_time": "2022-03-03T10:30:36.421870",
     "exception": false,
     "start_time": "2022-03-03T10:30:36.224392",
     "status": "completed"
    },
    "tags": []
   },
   "outputs": [
    {
     "data": {
      "text/plain": [
       "6606"
      ]
     },
     "execution_count": 8,
     "metadata": {},
     "output_type": "execute_result"
    }
   ],
   "source": [
    "len(train.dropna())"
   ]
  },
  {
   "cell_type": "code",
   "execution_count": 9,
   "id": "5a452219",
   "metadata": {
    "execution": {
     "iopub.execute_input": "2022-03-03T10:30:36.785400Z",
     "iopub.status.busy": "2022-03-03T10:30:36.783227Z",
     "iopub.status.idle": "2022-03-03T10:30:36.789003Z",
     "shell.execute_reply": "2022-03-03T10:30:36.788477Z",
     "shell.execute_reply.started": "2022-02-25T19:09:50.466125Z"
    },
    "papermill": {
     "duration": 0.189097,
     "end_time": "2022-03-03T10:30:36.789152",
     "exception": false,
     "start_time": "2022-03-03T10:30:36.600055",
     "status": "completed"
    },
    "tags": []
   },
   "outputs": [
    {
     "data": {
      "text/plain": [
       "75.99217761417232"
      ]
     },
     "execution_count": 9,
     "metadata": {},
     "output_type": "execute_result"
    }
   ],
   "source": [
    "(6606/8693)*100"
   ]
  },
  {
   "cell_type": "markdown",
   "id": "3e242030",
   "metadata": {
    "papermill": {
     "duration": 0.180745,
     "end_time": "2022-03-03T10:30:37.148263",
     "exception": false,
     "start_time": "2022-03-03T10:30:36.967518",
     "status": "completed"
    },
    "tags": []
   },
   "source": [
    "### Deleting null values is not a good idea, we are lossing around 25% data."
   ]
  },
  {
   "cell_type": "code",
   "execution_count": 10,
   "id": "c5f7c8f8",
   "metadata": {
    "execution": {
     "iopub.execute_input": "2022-03-03T10:30:37.522591Z",
     "iopub.status.busy": "2022-03-03T10:30:37.518326Z",
     "iopub.status.idle": "2022-03-03T10:30:37.528462Z",
     "shell.execute_reply": "2022-03-03T10:30:37.527984Z",
     "shell.execute_reply.started": "2022-02-25T19:09:50.938037Z"
    },
    "papermill": {
     "duration": 0.195827,
     "end_time": "2022-03-03T10:30:37.528593",
     "exception": false,
     "start_time": "2022-03-03T10:30:37.332766",
     "status": "completed"
    },
    "tags": []
   },
   "outputs": [
    {
     "data": {
      "text/plain": [
       "PassengerId       0\n",
       "HomePlanet       87\n",
       "CryoSleep        93\n",
       "Cabin           100\n",
       "Destination      92\n",
       "Age              91\n",
       "VIP              93\n",
       "RoomService      82\n",
       "FoodCourt       106\n",
       "ShoppingMall     98\n",
       "Spa             101\n",
       "VRDeck           80\n",
       "Name             94\n",
       "dtype: int64"
      ]
     },
     "execution_count": 10,
     "metadata": {},
     "output_type": "execute_result"
    }
   ],
   "source": [
    "test.isnull().sum()"
   ]
  },
  {
   "cell_type": "code",
   "execution_count": 11,
   "id": "c37cbf3c",
   "metadata": {
    "execution": {
     "iopub.execute_input": "2022-03-03T10:30:37.892272Z",
     "iopub.status.busy": "2022-03-03T10:30:37.891642Z",
     "iopub.status.idle": "2022-03-03T10:30:37.914298Z",
     "shell.execute_reply": "2022-03-03T10:30:37.914874Z",
     "shell.execute_reply.started": "2022-02-25T19:09:51.148713Z"
    },
    "papermill": {
     "duration": 0.204721,
     "end_time": "2022-03-03T10:30:37.915055",
     "exception": false,
     "start_time": "2022-03-03T10:30:37.710334",
     "status": "completed"
    },
    "tags": []
   },
   "outputs": [
    {
     "name": "stdout",
     "output_type": "stream",
     "text": [
      "<class 'pandas.core.frame.DataFrame'>\n",
      "RangeIndex: 8693 entries, 0 to 8692\n",
      "Data columns (total 13 columns):\n",
      " #   Column        Non-Null Count  Dtype  \n",
      "---  ------        --------------  -----  \n",
      " 0   HomePlanet    8492 non-null   object \n",
      " 1   CryoSleep     8476 non-null   object \n",
      " 2   Cabin         8494 non-null   object \n",
      " 3   Destination   8511 non-null   object \n",
      " 4   Age           8514 non-null   float64\n",
      " 5   VIP           8490 non-null   object \n",
      " 6   RoomService   8512 non-null   float64\n",
      " 7   FoodCourt     8510 non-null   float64\n",
      " 8   ShoppingMall  8485 non-null   float64\n",
      " 9   Spa           8510 non-null   float64\n",
      " 10  VRDeck        8505 non-null   float64\n",
      " 11  Name          8493 non-null   object \n",
      " 12  Transported   8693 non-null   bool   \n",
      "dtypes: bool(1), float64(6), object(6)\n",
      "memory usage: 823.6+ KB\n"
     ]
    }
   ],
   "source": [
    "train.info()"
   ]
  },
  {
   "cell_type": "code",
   "execution_count": 12,
   "id": "0f8869b7",
   "metadata": {
    "execution": {
     "iopub.execute_input": "2022-03-03T10:30:38.275575Z",
     "iopub.status.busy": "2022-03-03T10:30:38.274575Z",
     "iopub.status.idle": "2022-03-03T10:30:39.410956Z",
     "shell.execute_reply": "2022-03-03T10:30:39.410435Z",
     "shell.execute_reply.started": "2022-02-25T19:09:51.358765Z"
    },
    "papermill": {
     "duration": 1.316952,
     "end_time": "2022-03-03T10:30:39.411077",
     "exception": false,
     "start_time": "2022-03-03T10:30:38.094125",
     "status": "completed"
    },
    "tags": []
   },
   "outputs": [
    {
     "data": {
      "text/plain": [
       "<AxesSubplot:xlabel='Transported', ylabel='Age'>"
      ]
     },
     "execution_count": 12,
     "metadata": {},
     "output_type": "execute_result"
    },
    {
     "data": {
      "image/png": "[encoded data removed]",
      "text/plain": [
       "<Figure size 432x288 with 1 Axes>"
      ]
     },
     "metadata": {
      "needs_background": "light"
     },
     "output_type": "display_data"
    }
   ],
   "source": [
    "import matplotlib.pyplot as plt\n",
    "import seaborn as sns\n",
    "sns.boxplot(x='Transported',y='Age',data=train)"
   ]
  },
  {
   "cell_type": "code",
   "execution_count": 13,
   "id": "6ab12ea0",
   "metadata": {
    "execution": {
     "iopub.execute_input": "2022-03-03T10:30:39.780412Z",
     "iopub.status.busy": "2022-03-03T10:30:39.779516Z",
     "iopub.status.idle": "2022-03-03T10:30:39.782240Z",
     "shell.execute_reply": "2022-03-03T10:30:39.781809Z",
     "shell.execute_reply.started": "2022-02-25T19:09:51.58576Z"
    },
    "papermill": {
     "duration": 0.191083,
     "end_time": "2022-03-03T10:30:39.782359",
     "exception": false,
     "start_time": "2022-03-03T10:30:39.591276",
     "status": "completed"
    },
    "tags": []
   },
   "outputs": [],
   "source": [
    "train['Age'].fillna(int(train['Age'].mode()),inplace=True)"
   ]
  },
  {
   "cell_type": "code",
   "execution_count": 14,
   "id": "3d718892",
   "metadata": {
    "execution": {
     "iopub.execute_input": "2022-03-03T10:30:40.144817Z",
     "iopub.status.busy": "2022-03-03T10:30:40.144204Z",
     "iopub.status.idle": "2022-03-03T10:30:40.344127Z",
     "shell.execute_reply": "2022-03-03T10:30:40.344617Z",
     "shell.execute_reply.started": "2022-02-25T19:09:51.791359Z"
    },
    "papermill": {
     "duration": 0.382101,
     "end_time": "2022-03-03T10:30:40.344816",
     "exception": false,
     "start_time": "2022-03-03T10:30:39.962715",
     "status": "completed"
    },
    "tags": []
   },
   "outputs": [
    {
     "data": {
      "text/plain": [
       "<AxesSubplot:xlabel='Transported', ylabel='Age'>"
      ]
     },
     "execution_count": 14,
     "metadata": {},
     "output_type": "execute_result"
    },
    {
     "data": {
      "image/png": "[encoded data removed]",
      "text/plain": [
       "<Figure size 432x288 with 1 Axes>"
      ]
     },
     "metadata": {
      "needs_background": "light"
     },
     "output_type": "display_data"
    }
   ],
   "source": [
    "sns.boxplot(x='Transported',y='Age',data=train)"
   ]
  },
  {
   "cell_type": "code",
   "execution_count": 15,
   "id": "bd5a5f5e",
   "metadata": {
    "execution": {
     "iopub.execute_input": "2022-03-03T10:30:40.717738Z",
     "iopub.status.busy": "2022-03-03T10:30:40.717096Z",
     "iopub.status.idle": "2022-03-03T10:30:40.721747Z",
     "shell.execute_reply": "2022-03-03T10:30:40.722199Z",
     "shell.execute_reply.started": "2022-02-25T19:09:51.992917Z"
    },
    "papermill": {
     "duration": 0.192848,
     "end_time": "2022-03-03T10:30:40.722352",
     "exception": false,
     "start_time": "2022-03-03T10:30:40.529504",
     "status": "completed"
    },
    "tags": []
   },
   "outputs": [],
   "source": [
    "test['Age'].fillna(int(test['Age'].mode()),inplace=True)"
   ]
  },
  {
   "cell_type": "markdown",
   "id": "aba70a38",
   "metadata": {
    "papermill": {
     "duration": 0.186461,
     "end_time": "2022-03-03T10:30:41.097913",
     "exception": false,
     "start_time": "2022-03-03T10:30:40.911452",
     "status": "completed"
    },
    "tags": []
   },
   "source": [
    "### List of Numerical variables:\n",
    "Age,RoomService,FoodCourt,ShoppingMall,Spa,VRDeck"
   ]
  },
  {
   "cell_type": "code",
   "execution_count": 16,
   "id": "693c7aef",
   "metadata": {
    "execution": {
     "iopub.execute_input": "2022-03-03T10:30:41.471781Z",
     "iopub.status.busy": "2022-03-03T10:30:41.471172Z",
     "iopub.status.idle": "2022-03-03T10:30:41.473543Z",
     "shell.execute_reply": "2022-03-03T10:30:41.474037Z",
     "shell.execute_reply.started": "2022-02-25T19:09:52.631963Z"
    },
    "papermill": {
     "duration": 0.194014,
     "end_time": "2022-03-03T10:30:41.474184",
     "exception": false,
     "start_time": "2022-03-03T10:30:41.280170",
     "status": "completed"
    },
    "tags": []
   },
   "outputs": [
    {
     "data": {
      "text/plain": [
       "RoomService    181\n",
       "dtype: int64"
      ]
     },
     "execution_count": 16,
     "metadata": {},
     "output_type": "execute_result"
    }
   ],
   "source": [
    "train[['RoomService']].isnull().sum()"
   ]
  },
  {
   "cell_type": "code",
   "execution_count": 17,
   "id": "a7abdf38",
   "metadata": {
    "execution": {
     "iopub.execute_input": "2022-03-03T10:30:41.851593Z",
     "iopub.status.busy": "2022-03-03T10:30:41.851039Z",
     "iopub.status.idle": "2022-03-03T10:30:42.051898Z",
     "shell.execute_reply": "2022-03-03T10:30:42.052323Z",
     "shell.execute_reply.started": "2022-02-25T19:09:53.057833Z"
    },
    "papermill": {
     "duration": 0.394751,
     "end_time": "2022-03-03T10:30:42.052468",
     "exception": false,
     "start_time": "2022-03-03T10:30:41.657717",
     "status": "completed"
    },
    "tags": []
   },
   "outputs": [
    {
     "data": {
      "text/plain": [
       "<AxesSubplot:xlabel='Transported', ylabel='RoomService'>"
      ]
     },
     "execution_count": 17,
     "metadata": {},
     "output_type": "execute_result"
    },
    {
     "data": {
      "image/png": "[encoded data removed]",
      "text/plain": [
       "<Figure size 432x288 with 1 Axes>"
      ]
     },
     "metadata": {
      "needs_background": "light"
     },
     "output_type": "display_data"
    }
   ],
   "source": [
    "sns.boxplot(x='Transported',y='RoomService',data=train)"
   ]
  },
  {
   "cell_type": "code",
   "execution_count": 18,
   "id": "bd24aec2",
   "metadata": {
    "execution": {
     "iopub.execute_input": "2022-03-03T10:30:42.423015Z",
     "iopub.status.busy": "2022-03-03T10:30:42.420688Z",
     "iopub.status.idle": "2022-03-03T10:30:42.430122Z",
     "shell.execute_reply": "2022-03-03T10:30:42.430739Z",
     "shell.execute_reply.started": "2022-02-25T19:09:53.372607Z"
    },
    "papermill": {
     "duration": 0.195589,
     "end_time": "2022-03-03T10:30:42.430905",
     "exception": false,
     "start_time": "2022-03-03T10:30:42.235316",
     "status": "completed"
    },
    "tags": []
   },
   "outputs": [
    {
     "data": {
      "text/plain": [
       "count     8512.000000\n",
       "mean       224.687617\n",
       "std        666.717663\n",
       "min          0.000000\n",
       "25%          0.000000\n",
       "50%          0.000000\n",
       "75%         47.000000\n",
       "max      14327.000000\n",
       "Name: RoomService, dtype: float64"
      ]
     },
     "execution_count": 18,
     "metadata": {},
     "output_type": "execute_result"
    }
   ],
   "source": [
    "train['RoomService'].describe()"
   ]
  },
  {
   "cell_type": "code",
   "execution_count": 19,
   "id": "72c18496",
   "metadata": {
    "execution": {
     "iopub.execute_input": "2022-03-03T10:30:42.808874Z",
     "iopub.status.busy": "2022-03-03T10:30:42.807914Z",
     "iopub.status.idle": "2022-03-03T10:30:42.812281Z",
     "shell.execute_reply": "2022-03-03T10:30:42.812901Z",
     "shell.execute_reply.started": "2022-02-25T19:09:53.712804Z"
    },
    "papermill": {
     "duration": 0.195783,
     "end_time": "2022-03-03T10:30:42.813075",
     "exception": false,
     "start_time": "2022-03-03T10:30:42.617292",
     "status": "completed"
    },
    "tags": []
   },
   "outputs": [],
   "source": [
    "\n",
    "train['RoomService'].fillna(0,inplace=True)"
   ]
  },
  {
   "cell_type": "code",
   "execution_count": 20,
   "id": "f1c5b943",
   "metadata": {
    "execution": {
     "iopub.execute_input": "2022-03-03T10:30:43.190346Z",
     "iopub.status.busy": "2022-03-03T10:30:43.189604Z",
     "iopub.status.idle": "2022-03-03T10:30:43.196375Z",
     "shell.execute_reply": "2022-03-03T10:30:43.196827Z",
     "shell.execute_reply.started": "2022-02-25T19:09:53.925512Z"
    },
    "papermill": {
     "duration": 0.196834,
     "end_time": "2022-03-03T10:30:43.196985",
     "exception": false,
     "start_time": "2022-03-03T10:30:43.000151",
     "status": "completed"
    },
    "tags": []
   },
   "outputs": [
    {
     "data": {
      "text/plain": [
       "count     4195.000000\n",
       "mean       219.266269\n",
       "std        607.011289\n",
       "min          0.000000\n",
       "25%          0.000000\n",
       "50%          0.000000\n",
       "75%         53.000000\n",
       "max      11567.000000\n",
       "Name: RoomService, dtype: float64"
      ]
     },
     "execution_count": 20,
     "metadata": {},
     "output_type": "execute_result"
    }
   ],
   "source": [
    "test['RoomService'].describe()"
   ]
  },
  {
   "cell_type": "code",
   "execution_count": 21,
   "id": "6f7cdd08",
   "metadata": {
    "execution": {
     "iopub.execute_input": "2022-03-03T10:30:43.569596Z",
     "iopub.status.busy": "2022-03-03T10:30:43.569001Z",
     "iopub.status.idle": "2022-03-03T10:30:43.572932Z",
     "shell.execute_reply": "2022-03-03T10:30:43.573485Z",
     "shell.execute_reply.started": "2022-02-25T19:09:54.223323Z"
    },
    "papermill": {
     "duration": 0.191379,
     "end_time": "2022-03-03T10:30:43.573638",
     "exception": false,
     "start_time": "2022-03-03T10:30:43.382259",
     "status": "completed"
    },
    "tags": []
   },
   "outputs": [],
   "source": [
    "test['RoomService'].fillna(0,inplace=True)"
   ]
  },
  {
   "cell_type": "code",
   "execution_count": 22,
   "id": "3ea0e08e",
   "metadata": {
    "execution": {
     "iopub.execute_input": "2022-03-03T10:30:43.951608Z",
     "iopub.status.busy": "2022-03-03T10:30:43.951025Z",
     "iopub.status.idle": "2022-03-03T10:30:43.959092Z",
     "shell.execute_reply": "2022-03-03T10:30:43.959627Z",
     "shell.execute_reply.started": "2022-02-25T19:09:54.613537Z"
    },
    "papermill": {
     "duration": 0.199637,
     "end_time": "2022-03-03T10:30:43.959808",
     "exception": false,
     "start_time": "2022-03-03T10:30:43.760171",
     "status": "completed"
    },
    "tags": []
   },
   "outputs": [
    {
     "data": {
      "text/plain": [
       "count     8510.000000\n",
       "mean       458.077203\n",
       "std       1611.489240\n",
       "min          0.000000\n",
       "25%          0.000000\n",
       "50%          0.000000\n",
       "75%         76.000000\n",
       "max      29813.000000\n",
       "Name: FoodCourt, dtype: float64"
      ]
     },
     "execution_count": 22,
     "metadata": {},
     "output_type": "execute_result"
    }
   ],
   "source": [
    "train['FoodCourt'].describe()"
   ]
  },
  {
   "cell_type": "code",
   "execution_count": 23,
   "id": "e68eff29",
   "metadata": {
    "execution": {
     "iopub.execute_input": "2022-03-03T10:30:44.333540Z",
     "iopub.status.busy": "2022-03-03T10:30:44.332964Z",
     "iopub.status.idle": "2022-03-03T10:30:44.336577Z",
     "shell.execute_reply": "2022-03-03T10:30:44.337139Z",
     "shell.execute_reply.started": "2022-02-25T19:09:54.984138Z"
    },
    "papermill": {
     "duration": 0.192063,
     "end_time": "2022-03-03T10:30:44.337287",
     "exception": false,
     "start_time": "2022-03-03T10:30:44.145224",
     "status": "completed"
    },
    "tags": []
   },
   "outputs": [],
   "source": [
    "train['FoodCourt'].fillna(0,inplace=True)"
   ]
  },
  {
   "cell_type": "code",
   "execution_count": 24,
   "id": "a4f56c45",
   "metadata": {
    "execution": {
     "iopub.execute_input": "2022-03-03T10:30:44.717523Z",
     "iopub.status.busy": "2022-03-03T10:30:44.716532Z",
     "iopub.status.idle": "2022-03-03T10:30:44.724787Z",
     "shell.execute_reply": "2022-03-03T10:30:44.725503Z",
     "shell.execute_reply.started": "2022-02-25T19:09:55.345968Z"
    },
    "papermill": {
     "duration": 0.202406,
     "end_time": "2022-03-03T10:30:44.725729",
     "exception": false,
     "start_time": "2022-03-03T10:30:44.523323",
     "status": "completed"
    },
    "tags": []
   },
   "outputs": [
    {
     "data": {
      "text/plain": [
       "count     8485.000000\n",
       "mean       173.729169\n",
       "std        604.696458\n",
       "min          0.000000\n",
       "25%          0.000000\n",
       "50%          0.000000\n",
       "75%         27.000000\n",
       "max      23492.000000\n",
       "Name: ShoppingMall, dtype: float64"
      ]
     },
     "execution_count": 24,
     "metadata": {},
     "output_type": "execute_result"
    }
   ],
   "source": [
    "train['ShoppingMall'].describe()"
   ]
  },
  {
   "cell_type": "code",
   "execution_count": 25,
   "id": "cac79200",
   "metadata": {
    "execution": {
     "iopub.execute_input": "2022-03-03T10:30:45.132034Z",
     "iopub.status.busy": "2022-03-03T10:30:45.129847Z",
     "iopub.status.idle": "2022-03-03T10:30:45.133983Z",
     "shell.execute_reply": "2022-03-03T10:30:45.134463Z",
     "shell.execute_reply.started": "2022-02-25T19:09:55.661548Z"
    },
    "papermill": {
     "duration": 0.197337,
     "end_time": "2022-03-03T10:30:45.134636",
     "exception": false,
     "start_time": "2022-03-03T10:30:44.937299",
     "status": "completed"
    },
    "tags": []
   },
   "outputs": [],
   "source": [
    "train['ShoppingMall'].fillna(0,inplace=True)"
   ]
  },
  {
   "cell_type": "code",
   "execution_count": 26,
   "id": "7e0dd969",
   "metadata": {
    "execution": {
     "iopub.execute_input": "2022-03-03T10:30:45.510921Z",
     "iopub.status.busy": "2022-03-03T10:30:45.510013Z",
     "iopub.status.idle": "2022-03-03T10:30:45.518482Z",
     "shell.execute_reply": "2022-03-03T10:30:45.519080Z",
     "shell.execute_reply.started": "2022-02-25T19:09:55.930069Z"
    },
    "papermill": {
     "duration": 0.197718,
     "end_time": "2022-03-03T10:30:45.519245",
     "exception": false,
     "start_time": "2022-03-03T10:30:45.321527",
     "status": "completed"
    },
    "tags": []
   },
   "outputs": [
    {
     "data": {
      "text/plain": [
       "count     8510.000000\n",
       "mean       311.138778\n",
       "std       1136.705535\n",
       "min          0.000000\n",
       "25%          0.000000\n",
       "50%          0.000000\n",
       "75%         59.000000\n",
       "max      22408.000000\n",
       "Name: Spa, dtype: float64"
      ]
     },
     "execution_count": 26,
     "metadata": {},
     "output_type": "execute_result"
    }
   ],
   "source": [
    "train['Spa'].describe()"
   ]
  },
  {
   "cell_type": "code",
   "execution_count": 27,
   "id": "1b831139",
   "metadata": {
    "execution": {
     "iopub.execute_input": "2022-03-03T10:30:45.894369Z",
     "iopub.status.busy": "2022-03-03T10:30:45.893287Z",
     "iopub.status.idle": "2022-03-03T10:30:45.897741Z",
     "shell.execute_reply": "2022-03-03T10:30:45.898287Z",
     "shell.execute_reply.started": "2022-02-25T19:09:56.260569Z"
    },
    "papermill": {
     "duration": 0.194484,
     "end_time": "2022-03-03T10:30:45.898452",
     "exception": false,
     "start_time": "2022-03-03T10:30:45.703968",
     "status": "completed"
    },
    "tags": []
   },
   "outputs": [],
   "source": [
    "train['Spa'].fillna(0,inplace=True)"
   ]
  },
  {
   "cell_type": "code",
   "execution_count": 28,
   "id": "15598bcf",
   "metadata": {
    "execution": {
     "iopub.execute_input": "2022-03-03T10:30:46.275247Z",
     "iopub.status.busy": "2022-03-03T10:30:46.274355Z",
     "iopub.status.idle": "2022-03-03T10:30:46.283119Z",
     "shell.execute_reply": "2022-03-03T10:30:46.283605Z",
     "shell.execute_reply.started": "2022-02-25T19:09:56.601003Z"
    },
    "papermill": {
     "duration": 0.196359,
     "end_time": "2022-03-03T10:30:46.283781",
     "exception": false,
     "start_time": "2022-03-03T10:30:46.087422",
     "status": "completed"
    },
    "tags": []
   },
   "outputs": [
    {
     "data": {
      "text/plain": [
       "count     8505.000000\n",
       "mean       304.854791\n",
       "std       1145.717189\n",
       "min          0.000000\n",
       "25%          0.000000\n",
       "50%          0.000000\n",
       "75%         46.000000\n",
       "max      24133.000000\n",
       "Name: VRDeck, dtype: float64"
      ]
     },
     "execution_count": 28,
     "metadata": {},
     "output_type": "execute_result"
    }
   ],
   "source": [
    "train['VRDeck'].describe()"
   ]
  },
  {
   "cell_type": "code",
   "execution_count": 29,
   "id": "925c4e30",
   "metadata": {
    "execution": {
     "iopub.execute_input": "2022-03-03T10:30:46.660313Z",
     "iopub.status.busy": "2022-03-03T10:30:46.659442Z",
     "iopub.status.idle": "2022-03-03T10:30:46.663548Z",
     "shell.execute_reply": "2022-03-03T10:30:46.663993Z",
     "shell.execute_reply.started": "2022-02-25T19:09:56.857715Z"
    },
    "papermill": {
     "duration": 0.192945,
     "end_time": "2022-03-03T10:30:46.664151",
     "exception": false,
     "start_time": "2022-03-03T10:30:46.471206",
     "status": "completed"
    },
    "tags": []
   },
   "outputs": [],
   "source": [
    "train['VRDeck'].fillna(0,inplace=True)"
   ]
  },
  {
   "cell_type": "code",
   "execution_count": 30,
   "id": "773af850",
   "metadata": {
    "execution": {
     "iopub.execute_input": "2022-03-03T10:30:47.045571Z",
     "iopub.status.busy": "2022-03-03T10:30:47.044638Z",
     "iopub.status.idle": "2022-03-03T10:30:47.053093Z",
     "shell.execute_reply": "2022-03-03T10:30:47.053590Z",
     "shell.execute_reply.started": "2022-02-25T19:09:57.084355Z"
    },
    "papermill": {
     "duration": 0.201758,
     "end_time": "2022-03-03T10:30:47.053761",
     "exception": false,
     "start_time": "2022-03-03T10:30:46.852003",
     "status": "completed"
    },
    "tags": []
   },
   "outputs": [
    {
     "data": {
      "text/plain": [
       "count    4179.000000\n",
       "mean      177.295525\n",
       "std       560.821123\n",
       "min         0.000000\n",
       "25%         0.000000\n",
       "50%         0.000000\n",
       "75%        33.000000\n",
       "max      8292.000000\n",
       "Name: ShoppingMall, dtype: float64"
      ]
     },
     "execution_count": 30,
     "metadata": {},
     "output_type": "execute_result"
    }
   ],
   "source": [
    "test['ShoppingMall'].describe()"
   ]
  },
  {
   "cell_type": "code",
   "execution_count": 31,
   "id": "c7371ca4",
   "metadata": {
    "execution": {
     "iopub.execute_input": "2022-03-03T10:30:47.432608Z",
     "iopub.status.busy": "2022-03-03T10:30:47.431672Z",
     "iopub.status.idle": "2022-03-03T10:30:47.441037Z",
     "shell.execute_reply": "2022-03-03T10:30:47.441695Z",
     "shell.execute_reply.started": "2022-02-25T19:09:57.345612Z"
    },
    "papermill": {
     "duration": 0.200942,
     "end_time": "2022-03-03T10:30:47.441860",
     "exception": false,
     "start_time": "2022-03-03T10:30:47.240918",
     "status": "completed"
    },
    "tags": []
   },
   "outputs": [
    {
     "data": {
      "text/plain": [
       "count     4171.000000\n",
       "mean       439.484296\n",
       "std       1527.663045\n",
       "min          0.000000\n",
       "25%          0.000000\n",
       "50%          0.000000\n",
       "75%         78.000000\n",
       "max      25273.000000\n",
       "Name: FoodCourt, dtype: float64"
      ]
     },
     "execution_count": 31,
     "metadata": {},
     "output_type": "execute_result"
    }
   ],
   "source": [
    "test['FoodCourt'].describe()"
   ]
  },
  {
   "cell_type": "code",
   "execution_count": 32,
   "id": "ebecc388",
   "metadata": {
    "execution": {
     "iopub.execute_input": "2022-03-03T10:30:47.824443Z",
     "iopub.status.busy": "2022-03-03T10:30:47.823512Z",
     "iopub.status.idle": "2022-03-03T10:30:47.832005Z",
     "shell.execute_reply": "2022-03-03T10:30:47.832466Z",
     "shell.execute_reply.started": "2022-02-25T19:09:57.574706Z"
    },
    "papermill": {
     "duration": 0.201875,
     "end_time": "2022-03-03T10:30:47.832621",
     "exception": false,
     "start_time": "2022-03-03T10:30:47.630746",
     "status": "completed"
    },
    "tags": []
   },
   "outputs": [
    {
     "data": {
      "text/plain": [
       "count     4176.000000\n",
       "mean       303.052443\n",
       "std       1117.186015\n",
       "min          0.000000\n",
       "25%          0.000000\n",
       "50%          0.000000\n",
       "75%         50.000000\n",
       "max      19844.000000\n",
       "Name: Spa, dtype: float64"
      ]
     },
     "execution_count": 32,
     "metadata": {},
     "output_type": "execute_result"
    }
   ],
   "source": [
    "test['Spa'].describe()"
   ]
  },
  {
   "cell_type": "code",
   "execution_count": 33,
   "id": "d64819e4",
   "metadata": {
    "execution": {
     "iopub.execute_input": "2022-03-03T10:30:48.217275Z",
     "iopub.status.busy": "2022-03-03T10:30:48.216354Z",
     "iopub.status.idle": "2022-03-03T10:30:48.225010Z",
     "shell.execute_reply": "2022-03-03T10:30:48.225607Z",
     "shell.execute_reply.started": "2022-02-25T19:09:57.797475Z"
    },
    "papermill": {
     "duration": 0.199805,
     "end_time": "2022-03-03T10:30:48.225781",
     "exception": false,
     "start_time": "2022-03-03T10:30:48.025976",
     "status": "completed"
    },
    "tags": []
   },
   "outputs": [
    {
     "data": {
      "text/plain": [
       "count     4197.000000\n",
       "mean       310.710031\n",
       "std       1246.994742\n",
       "min          0.000000\n",
       "25%          0.000000\n",
       "50%          0.000000\n",
       "75%         36.000000\n",
       "max      22272.000000\n",
       "Name: VRDeck, dtype: float64"
      ]
     },
     "execution_count": 33,
     "metadata": {},
     "output_type": "execute_result"
    }
   ],
   "source": [
    "test['VRDeck'].describe()"
   ]
  },
  {
   "cell_type": "code",
   "execution_count": 34,
   "id": "c427e803",
   "metadata": {
    "execution": {
     "iopub.execute_input": "2022-03-03T10:30:48.606636Z",
     "iopub.status.busy": "2022-03-03T10:30:48.605646Z",
     "iopub.status.idle": "2022-03-03T10:30:48.609052Z",
     "shell.execute_reply": "2022-03-03T10:30:48.609625Z",
     "shell.execute_reply.started": "2022-02-25T19:09:58.004719Z"
    },
    "papermill": {
     "duration": 0.196253,
     "end_time": "2022-03-03T10:30:48.609785",
     "exception": false,
     "start_time": "2022-03-03T10:30:48.413532",
     "status": "completed"
    },
    "tags": []
   },
   "outputs": [],
   "source": [
    "test['VRDeck'].fillna(0,inplace=True)\n",
    "test['Spa'].fillna(0,inplace=True)\n",
    "test['FoodCourt'].fillna(0,inplace=True)\n",
    "test['ShoppingMall'].fillna(0,inplace=True)"
   ]
  },
  {
   "cell_type": "code",
   "execution_count": 35,
   "id": "99870752",
   "metadata": {
    "execution": {
     "iopub.execute_input": "2022-03-03T10:30:48.996034Z",
     "iopub.status.busy": "2022-03-03T10:30:48.995071Z",
     "iopub.status.idle": "2022-03-03T10:30:49.009752Z",
     "shell.execute_reply": "2022-03-03T10:30:49.010375Z",
     "shell.execute_reply.started": "2022-02-25T19:09:58.183021Z"
    },
    "papermill": {
     "duration": 0.211481,
     "end_time": "2022-03-03T10:30:49.010544",
     "exception": false,
     "start_time": "2022-03-03T10:30:48.799063",
     "status": "completed"
    },
    "tags": []
   },
   "outputs": [
    {
     "data": {
      "text/plain": [
       "HomePlanet      201\n",
       "CryoSleep       217\n",
       "Cabin           199\n",
       "Destination     182\n",
       "Age               0\n",
       "VIP             203\n",
       "RoomService       0\n",
       "FoodCourt         0\n",
       "ShoppingMall      0\n",
       "Spa               0\n",
       "VRDeck            0\n",
       "Name            200\n",
       "Transported       0\n",
       "dtype: int64"
      ]
     },
     "execution_count": 35,
     "metadata": {},
     "output_type": "execute_result"
    }
   ],
   "source": [
    "train.isnull().sum()"
   ]
  },
  {
   "cell_type": "code",
   "execution_count": 36,
   "id": "5b41992e",
   "metadata": {
    "execution": {
     "iopub.execute_input": "2022-03-03T10:30:49.394961Z",
     "iopub.status.busy": "2022-03-03T10:30:49.394023Z",
     "iopub.status.idle": "2022-03-03T10:30:49.400978Z",
     "shell.execute_reply": "2022-03-03T10:30:49.401523Z",
     "shell.execute_reply.started": "2022-02-25T19:09:58.425399Z"
    },
    "papermill": {
     "duration": 0.200007,
     "end_time": "2022-03-03T10:30:49.401721",
     "exception": false,
     "start_time": "2022-03-03T10:30:49.201714",
     "status": "completed"
    },
    "tags": []
   },
   "outputs": [
    {
     "data": {
      "text/plain": [
       "0         Maham Ofracculy\n",
       "1            Juanna Vines\n",
       "2           Altark Susent\n",
       "3            Solam Susent\n",
       "4       Willy Santantines\n",
       "              ...        \n",
       "8688    Gravior Noxnuther\n",
       "8689      Kurta Mondalley\n",
       "8690         Fayey Connon\n",
       "8691     Celeon Hontichre\n",
       "8692     Propsh Hontichre\n",
       "Name: Name, Length: 8693, dtype: object"
      ]
     },
     "execution_count": 36,
     "metadata": {},
     "output_type": "execute_result"
    }
   ],
   "source": [
    "train['Name']"
   ]
  },
  {
   "cell_type": "code",
   "execution_count": 37,
   "id": "79abedba",
   "metadata": {
    "execution": {
     "iopub.execute_input": "2022-03-03T10:30:49.784097Z",
     "iopub.status.busy": "2022-03-03T10:30:49.783062Z",
     "iopub.status.idle": "2022-03-03T10:30:49.788397Z",
     "shell.execute_reply": "2022-03-03T10:30:49.788997Z",
     "shell.execute_reply.started": "2022-02-25T19:09:58.654823Z"
    },
    "papermill": {
     "duration": 0.198244,
     "end_time": "2022-03-03T10:30:49.789166",
     "exception": false,
     "start_time": "2022-03-03T10:30:49.590922",
     "status": "completed"
    },
    "tags": []
   },
   "outputs": [],
   "source": [
    "train.drop('Name',axis=1,inplace=True)"
   ]
  },
  {
   "cell_type": "code",
   "execution_count": 38,
   "id": "9e5f96b4",
   "metadata": {
    "execution": {
     "iopub.execute_input": "2022-03-03T10:30:50.177401Z",
     "iopub.status.busy": "2022-03-03T10:30:50.176404Z",
     "iopub.status.idle": "2022-03-03T10:30:50.178740Z",
     "shell.execute_reply": "2022-03-03T10:30:50.179220Z",
     "shell.execute_reply.started": "2022-02-25T19:09:58.965002Z"
    },
    "papermill": {
     "duration": 0.198804,
     "end_time": "2022-03-03T10:30:50.179376",
     "exception": false,
     "start_time": "2022-03-03T10:30:49.980572",
     "status": "completed"
    },
    "tags": []
   },
   "outputs": [],
   "source": [
    "test.drop('Name',axis=1,inplace=True)"
   ]
  },
  {
   "cell_type": "code",
   "execution_count": 39,
   "id": "de00ae3c",
   "metadata": {
    "execution": {
     "iopub.execute_input": "2022-03-03T10:30:50.564373Z",
     "iopub.status.busy": "2022-03-03T10:30:50.563328Z",
     "iopub.status.idle": "2022-03-03T10:30:50.575379Z",
     "shell.execute_reply": "2022-03-03T10:30:50.575996Z",
     "shell.execute_reply.started": "2022-02-25T19:09:59.09721Z"
    },
    "papermill": {
     "duration": 0.205727,
     "end_time": "2022-03-03T10:30:50.576147",
     "exception": false,
     "start_time": "2022-03-03T10:30:50.370420",
     "status": "completed"
    },
    "tags": []
   },
   "outputs": [
    {
     "data": {
      "text/plain": [
       "HomePlanet      201\n",
       "CryoSleep       217\n",
       "Cabin           199\n",
       "Destination     182\n",
       "Age               0\n",
       "VIP             203\n",
       "RoomService       0\n",
       "FoodCourt         0\n",
       "ShoppingMall      0\n",
       "Spa               0\n",
       "VRDeck            0\n",
       "Transported       0\n",
       "dtype: int64"
      ]
     },
     "execution_count": 39,
     "metadata": {},
     "output_type": "execute_result"
    }
   ],
   "source": [
    "train.isnull().sum()"
   ]
  },
  {
   "cell_type": "code",
   "execution_count": 40,
   "id": "b7d0f8d4",
   "metadata": {
    "execution": {
     "iopub.execute_input": "2022-03-03T10:30:50.971786Z",
     "iopub.status.busy": "2022-03-03T10:30:50.971079Z",
     "iopub.status.idle": "2022-03-03T10:30:50.973519Z",
     "shell.execute_reply": "2022-03-03T10:30:50.974005Z",
     "shell.execute_reply.started": "2022-02-25T19:09:59.301009Z"
    },
    "papermill": {
     "duration": 0.208314,
     "end_time": "2022-03-03T10:30:50.974163",
     "exception": false,
     "start_time": "2022-03-03T10:30:50.765849",
     "status": "completed"
    },
    "tags": []
   },
   "outputs": [
    {
     "data": {
      "text/plain": [
       "count      4184\n",
       "unique        2\n",
       "top       False\n",
       "freq       4110\n",
       "Name: VIP, dtype: object"
      ]
     },
     "execution_count": 40,
     "metadata": {},
     "output_type": "execute_result"
    }
   ],
   "source": [
    "test['VIP'].describe()"
   ]
  },
  {
   "cell_type": "code",
   "execution_count": 41,
   "id": "4fa9aa57",
   "metadata": {
    "execution": {
     "iopub.execute_input": "2022-03-03T10:30:51.360294Z",
     "iopub.status.busy": "2022-03-03T10:30:51.359709Z",
     "iopub.status.idle": "2022-03-03T10:30:51.368719Z",
     "shell.execute_reply": "2022-03-03T10:30:51.369192Z",
     "shell.execute_reply.started": "2022-02-25T19:09:59.529346Z"
    },
    "papermill": {
     "duration": 0.202853,
     "end_time": "2022-03-03T10:30:51.369350",
     "exception": false,
     "start_time": "2022-03-03T10:30:51.166497",
     "status": "completed"
    },
    "tags": []
   },
   "outputs": [
    {
     "data": {
      "text/plain": [
       "count      8490\n",
       "unique        2\n",
       "top       False\n",
       "freq       8291\n",
       "Name: VIP, dtype: object"
      ]
     },
     "execution_count": 41,
     "metadata": {},
     "output_type": "execute_result"
    }
   ],
   "source": [
    "train['VIP'].describe()"
   ]
  },
  {
   "cell_type": "code",
   "execution_count": 42,
   "id": "a7a30daa",
   "metadata": {
    "execution": {
     "iopub.execute_input": "2022-03-03T10:30:51.760709Z",
     "iopub.status.busy": "2022-03-03T10:30:51.760047Z",
     "iopub.status.idle": "2022-03-03T10:30:51.766030Z",
     "shell.execute_reply": "2022-03-03T10:30:51.766565Z",
     "shell.execute_reply.started": "2022-02-25T19:09:59.795008Z"
    },
    "papermill": {
     "duration": 0.205847,
     "end_time": "2022-03-03T10:30:51.766742",
     "exception": false,
     "start_time": "2022-03-03T10:30:51.560895",
     "status": "completed"
    },
    "tags": []
   },
   "outputs": [
    {
     "data": {
      "text/plain": [
       "False"
      ]
     },
     "execution_count": 42,
     "metadata": {},
     "output_type": "execute_result"
    }
   ],
   "source": [
    "train['VIP'].value_counts().index[0]"
   ]
  },
  {
   "cell_type": "code",
   "execution_count": 43,
   "id": "fce6421e",
   "metadata": {
    "execution": {
     "iopub.execute_input": "2022-03-03T10:30:52.152377Z",
     "iopub.status.busy": "2022-03-03T10:30:52.151803Z",
     "iopub.status.idle": "2022-03-03T10:30:52.162182Z",
     "shell.execute_reply": "2022-03-03T10:30:52.162631Z",
     "shell.execute_reply.started": "2022-02-25T19:10:00.062254Z"
    },
    "papermill": {
     "duration": 0.202253,
     "end_time": "2022-03-03T10:30:52.162809",
     "exception": false,
     "start_time": "2022-03-03T10:30:51.960556",
     "status": "completed"
    },
    "tags": []
   },
   "outputs": [],
   "source": [
    "most_freq_train = train['VIP'].value_counts().index[0]\n",
    "most_freq_test = test['VIP'].value_counts().index[0]\n",
    "train['VIP'].fillna(most_freq_train,inplace=True)\n",
    "test['VIP'].fillna(most_freq_test,inplace=True)"
   ]
  },
  {
   "cell_type": "code",
   "execution_count": 44,
   "id": "4fda0106",
   "metadata": {
    "execution": {
     "iopub.execute_input": "2022-03-03T10:30:52.544329Z",
     "iopub.status.busy": "2022-03-03T10:30:52.543760Z",
     "iopub.status.idle": "2022-03-03T10:30:52.554277Z",
     "shell.execute_reply": "2022-03-03T10:30:52.554720Z",
     "shell.execute_reply.started": "2022-02-25T19:10:00.108855Z"
    },
    "papermill": {
     "duration": 0.202512,
     "end_time": "2022-03-03T10:30:52.554891",
     "exception": false,
     "start_time": "2022-03-03T10:30:52.352379",
     "status": "completed"
    },
    "tags": []
   },
   "outputs": [],
   "source": [
    "train['HomePlanet'].fillna('None', inplace=True)\n",
    "train['CryoSleep'].fillna(False, inplace=True)\n",
    "train['Cabin'].fillna('A/-1/A', inplace=True)\n",
    "train['Destination'].fillna('None', inplace=True)"
   ]
  },
  {
   "cell_type": "code",
   "execution_count": 45,
   "id": "a8146060",
   "metadata": {
    "execution": {
     "iopub.execute_input": "2022-03-03T10:30:52.942411Z",
     "iopub.status.busy": "2022-03-03T10:30:52.941809Z",
     "iopub.status.idle": "2022-03-03T10:30:52.950159Z",
     "shell.execute_reply": "2022-03-03T10:30:52.950628Z",
     "shell.execute_reply.started": "2022-02-25T19:10:00.336551Z"
    },
    "papermill": {
     "duration": 0.204056,
     "end_time": "2022-03-03T10:30:52.950801",
     "exception": false,
     "start_time": "2022-03-03T10:30:52.746745",
     "status": "completed"
    },
    "tags": []
   },
   "outputs": [],
   "source": [
    "test['HomePlanet'].fillna('None', inplace=True)\n",
    "test['CryoSleep'].fillna(False, inplace=True)\n",
    "test['Cabin'].fillna('A/-1/A', inplace=True)\n",
    "test['Destination'].fillna('None', inplace=True)"
   ]
  },
  {
   "cell_type": "code",
   "execution_count": 46,
   "id": "75eeb851",
   "metadata": {
    "execution": {
     "iopub.execute_input": "2022-03-03T10:30:53.340140Z",
     "iopub.status.busy": "2022-03-03T10:30:53.339489Z",
     "iopub.status.idle": "2022-03-03T10:30:53.349275Z",
     "shell.execute_reply": "2022-03-03T10:30:53.349794Z",
     "shell.execute_reply.started": "2022-02-25T19:10:00.538219Z"
    },
    "papermill": {
     "duration": 0.205447,
     "end_time": "2022-03-03T10:30:53.349970",
     "exception": false,
     "start_time": "2022-03-03T10:30:53.144523",
     "status": "completed"
    },
    "tags": []
   },
   "outputs": [
    {
     "data": {
      "text/plain": [
       "HomePlanet      0\n",
       "CryoSleep       0\n",
       "Cabin           0\n",
       "Destination     0\n",
       "Age             0\n",
       "VIP             0\n",
       "RoomService     0\n",
       "FoodCourt       0\n",
       "ShoppingMall    0\n",
       "Spa             0\n",
       "VRDeck          0\n",
       "Transported     0\n",
       "dtype: int64"
      ]
     },
     "execution_count": 46,
     "metadata": {},
     "output_type": "execute_result"
    }
   ],
   "source": [
    "train.isnull().sum()"
   ]
  },
  {
   "cell_type": "code",
   "execution_count": 47,
   "id": "db83cfc8",
   "metadata": {
    "execution": {
     "iopub.execute_input": "2022-03-03T10:30:53.733724Z",
     "iopub.status.busy": "2022-03-03T10:30:53.733125Z",
     "iopub.status.idle": "2022-03-03T10:30:53.739989Z",
     "shell.execute_reply": "2022-03-03T10:30:53.739492Z",
     "shell.execute_reply.started": "2022-02-25T19:10:00.777686Z"
    },
    "papermill": {
     "duration": 0.198957,
     "end_time": "2022-03-03T10:30:53.740116",
     "exception": false,
     "start_time": "2022-03-03T10:30:53.541159",
     "status": "completed"
    },
    "tags": []
   },
   "outputs": [
    {
     "data": {
      "text/plain": [
       "True     4378\n",
       "False    4315\n",
       "Name: Transported, dtype: int64"
      ]
     },
     "execution_count": 47,
     "metadata": {},
     "output_type": "execute_result"
    }
   ],
   "source": [
    "train['Transported'].value_counts()"
   ]
  },
  {
   "cell_type": "code",
   "execution_count": 48,
   "id": "db8d2517",
   "metadata": {
    "execution": {
     "iopub.execute_input": "2022-03-03T10:30:54.148458Z",
     "iopub.status.busy": "2022-03-03T10:30:54.147872Z",
     "iopub.status.idle": "2022-03-03T10:30:54.151599Z",
     "shell.execute_reply": "2022-03-03T10:30:54.151140Z",
     "shell.execute_reply.started": "2022-02-25T19:10:01.04873Z"
    },
    "papermill": {
     "duration": 0.222747,
     "end_time": "2022-03-03T10:30:54.151734",
     "exception": false,
     "start_time": "2022-03-03T10:30:53.928987",
     "status": "completed"
    },
    "tags": []
   },
   "outputs": [
    {
     "data": {
      "text/html": [
       "<div>\n",
       "<style scoped>\n",
       "    .dataframe tbody tr th:only-of-type {\n",
       "        vertical-align: middle;\n",
       "    }\n",
       "\n",
       "    .dataframe tbody tr th {\n",
       "        vertical-align: top;\n",
       "    }\n",
       "\n",
       "    .dataframe thead th {\n",
       "        text-align: right;\n",
       "    }\n",
       "</style>\n",
       "<table border=\"1\" class=\"dataframe\">\n",
       "  <thead>\n",
       "    <tr style=\"text-align: right;\">\n",
       "      <th></th>\n",
       "      <th>HomePlanet</th>\n",
       "      <th>CryoSleep</th>\n",
       "      <th>Cabin</th>\n",
       "      <th>Destination</th>\n",
       "      <th>Age</th>\n",
       "      <th>VIP</th>\n",
       "      <th>RoomService</th>\n",
       "      <th>FoodCourt</th>\n",
       "      <th>ShoppingMall</th>\n",
       "      <th>Spa</th>\n",
       "      <th>VRDeck</th>\n",
       "      <th>Transported</th>\n",
       "    </tr>\n",
       "  </thead>\n",
       "  <tbody>\n",
       "    <tr>\n",
       "      <th>0</th>\n",
       "      <td>Europa</td>\n",
       "      <td>False</td>\n",
       "      <td>B/0/P</td>\n",
       "      <td>TRAPPIST-1e</td>\n",
       "      <td>39.0</td>\n",
       "      <td>False</td>\n",
       "      <td>0.0</td>\n",
       "      <td>0.0</td>\n",
       "      <td>0.0</td>\n",
       "      <td>0.0</td>\n",
       "      <td>0.0</td>\n",
       "      <td>False</td>\n",
       "    </tr>\n",
       "    <tr>\n",
       "      <th>1</th>\n",
       "      <td>Earth</td>\n",
       "      <td>False</td>\n",
       "      <td>F/0/S</td>\n",
       "      <td>TRAPPIST-1e</td>\n",
       "      <td>24.0</td>\n",
       "      <td>False</td>\n",
       "      <td>109.0</td>\n",
       "      <td>9.0</td>\n",
       "      <td>25.0</td>\n",
       "      <td>549.0</td>\n",
       "      <td>44.0</td>\n",
       "      <td>True</td>\n",
       "    </tr>\n",
       "    <tr>\n",
       "      <th>2</th>\n",
       "      <td>Europa</td>\n",
       "      <td>False</td>\n",
       "      <td>A/0/S</td>\n",
       "      <td>TRAPPIST-1e</td>\n",
       "      <td>58.0</td>\n",
       "      <td>True</td>\n",
       "      <td>43.0</td>\n",
       "      <td>3576.0</td>\n",
       "      <td>0.0</td>\n",
       "      <td>6715.0</td>\n",
       "      <td>49.0</td>\n",
       "      <td>False</td>\n",
       "    </tr>\n",
       "    <tr>\n",
       "      <th>3</th>\n",
       "      <td>Europa</td>\n",
       "      <td>False</td>\n",
       "      <td>A/0/S</td>\n",
       "      <td>TRAPPIST-1e</td>\n",
       "      <td>33.0</td>\n",
       "      <td>False</td>\n",
       "      <td>0.0</td>\n",
       "      <td>1283.0</td>\n",
       "      <td>371.0</td>\n",
       "      <td>3329.0</td>\n",
       "      <td>193.0</td>\n",
       "      <td>False</td>\n",
       "    </tr>\n",
       "    <tr>\n",
       "      <th>4</th>\n",
       "      <td>Earth</td>\n",
       "      <td>False</td>\n",
       "      <td>F/1/S</td>\n",
       "      <td>TRAPPIST-1e</td>\n",
       "      <td>16.0</td>\n",
       "      <td>False</td>\n",
       "      <td>303.0</td>\n",
       "      <td>70.0</td>\n",
       "      <td>151.0</td>\n",
       "      <td>565.0</td>\n",
       "      <td>2.0</td>\n",
       "      <td>True</td>\n",
       "    </tr>\n",
       "    <tr>\n",
       "      <th>...</th>\n",
       "      <td>...</td>\n",
       "      <td>...</td>\n",
       "      <td>...</td>\n",
       "      <td>...</td>\n",
       "      <td>...</td>\n",
       "      <td>...</td>\n",
       "      <td>...</td>\n",
       "      <td>...</td>\n",
       "      <td>...</td>\n",
       "      <td>...</td>\n",
       "      <td>...</td>\n",
       "      <td>...</td>\n",
       "    </tr>\n",
       "    <tr>\n",
       "      <th>8688</th>\n",
       "      <td>Europa</td>\n",
       "      <td>False</td>\n",
       "      <td>A/98/P</td>\n",
       "      <td>55 Cancri e</td>\n",
       "      <td>41.0</td>\n",
       "      <td>True</td>\n",
       "      <td>0.0</td>\n",
       "      <td>6819.0</td>\n",
       "      <td>0.0</td>\n",
       "      <td>1643.0</td>\n",
       "      <td>74.0</td>\n",
       "      <td>False</td>\n",
       "    </tr>\n",
       "    <tr>\n",
       "      <th>8689</th>\n",
       "      <td>Earth</td>\n",
       "      <td>True</td>\n",
       "      <td>G/1499/S</td>\n",
       "      <td>PSO J318.5-22</td>\n",
       "      <td>18.0</td>\n",
       "      <td>False</td>\n",
       "      <td>0.0</td>\n",
       "      <td>0.0</td>\n",
       "      <td>0.0</td>\n",
       "      <td>0.0</td>\n",
       "      <td>0.0</td>\n",
       "      <td>False</td>\n",
       "    </tr>\n",
       "    <tr>\n",
       "      <th>8690</th>\n",
       "      <td>Earth</td>\n",
       "      <td>False</td>\n",
       "      <td>G/1500/S</td>\n",
       "      <td>TRAPPIST-1e</td>\n",
       "      <td>26.0</td>\n",
       "      <td>False</td>\n",
       "      <td>0.0</td>\n",
       "      <td>0.0</td>\n",
       "      <td>1872.0</td>\n",
       "      <td>1.0</td>\n",
       "      <td>0.0</td>\n",
       "      <td>True</td>\n",
       "    </tr>\n",
       "    <tr>\n",
       "      <th>8691</th>\n",
       "      <td>Europa</td>\n",
       "      <td>False</td>\n",
       "      <td>E/608/S</td>\n",
       "      <td>55 Cancri e</td>\n",
       "      <td>32.0</td>\n",
       "      <td>False</td>\n",
       "      <td>0.0</td>\n",
       "      <td>1049.0</td>\n",
       "      <td>0.0</td>\n",
       "      <td>353.0</td>\n",
       "      <td>3235.0</td>\n",
       "      <td>False</td>\n",
       "    </tr>\n",
       "    <tr>\n",
       "      <th>8692</th>\n",
       "      <td>Europa</td>\n",
       "      <td>False</td>\n",
       "      <td>E/608/S</td>\n",
       "      <td>TRAPPIST-1e</td>\n",
       "      <td>44.0</td>\n",
       "      <td>False</td>\n",
       "      <td>126.0</td>\n",
       "      <td>4688.0</td>\n",
       "      <td>0.0</td>\n",
       "      <td>0.0</td>\n",
       "      <td>12.0</td>\n",
       "      <td>True</td>\n",
       "    </tr>\n",
       "  </tbody>\n",
       "</table>\n",
       "<p>8693 rows × 12 columns</p>\n",
       "</div>"
      ],
      "text/plain": [
       "     HomePlanet  CryoSleep     Cabin    Destination   Age    VIP  RoomService  \\\n",
       "0        Europa      False     B/0/P    TRAPPIST-1e  39.0  False          0.0   \n",
       "1         Earth      False     F/0/S    TRAPPIST-1e  24.0  False        109.0   \n",
       "2        Europa      False     A/0/S    TRAPPIST-1e  58.0   True         43.0   \n",
       "3        Europa      False     A/0/S    TRAPPIST-1e  33.0  False          0.0   \n",
       "4         Earth      False     F/1/S    TRAPPIST-1e  16.0  False        303.0   \n",
       "...         ...        ...       ...            ...   ...    ...          ...   \n",
       "8688     Europa      False    A/98/P    55 Cancri e  41.0   True          0.0   \n",
       "8689      Earth       True  G/1499/S  PSO J318.5-22  18.0  False          0.0   \n",
       "8690      Earth      False  G/1500/S    TRAPPIST-1e  26.0  False          0.0   \n",
       "8691     Europa      False   E/608/S    55 Cancri e  32.0  False          0.0   \n",
       "8692     Europa      False   E/608/S    TRAPPIST-1e  44.0  False        126.0   \n",
       "\n",
       "      FoodCourt  ShoppingMall     Spa  VRDeck  Transported  \n",
       "0           0.0           0.0     0.0     0.0        False  \n",
       "1           9.0          25.0   549.0    44.0         True  \n",
       "2        3576.0           0.0  6715.0    49.0        False  \n",
       "3        1283.0         371.0  3329.0   193.0        False  \n",
       "4          70.0         151.0   565.0     2.0         True  \n",
       "...         ...           ...     ...     ...          ...  \n",
       "8688     6819.0           0.0  1643.0    74.0        False  \n",
       "8689        0.0           0.0     0.0     0.0        False  \n",
       "8690        0.0        1872.0     1.0     0.0         True  \n",
       "8691     1049.0           0.0   353.0  3235.0        False  \n",
       "8692     4688.0           0.0     0.0    12.0         True  \n",
       "\n",
       "[8693 rows x 12 columns]"
      ]
     },
     "execution_count": 48,
     "metadata": {},
     "output_type": "execute_result"
    }
   ],
   "source": [
    "train"
   ]
  },
  {
   "cell_type": "markdown",
   "id": "e5a18941",
   "metadata": {
    "papermill": {
     "duration": 0.193418,
     "end_time": "2022-03-03T10:30:54.537478",
     "exception": false,
     "start_time": "2022-03-03T10:30:54.344060",
     "status": "completed"
    },
    "tags": []
   },
   "source": [
    "### Feature Scaling"
   ]
  },
  {
   "cell_type": "code",
   "execution_count": 49,
   "id": "50acd934",
   "metadata": {
    "execution": {
     "iopub.execute_input": "2022-03-03T10:30:54.929721Z",
     "iopub.status.busy": "2022-03-03T10:30:54.929087Z",
     "iopub.status.idle": "2022-03-03T10:30:54.943365Z",
     "shell.execute_reply": "2022-03-03T10:30:54.942767Z",
     "shell.execute_reply.started": "2022-02-25T19:10:01.552002Z"
    },
    "papermill": {
     "duration": 0.211478,
     "end_time": "2022-03-03T10:30:54.943494",
     "exception": false,
     "start_time": "2022-03-03T10:30:54.732016",
     "status": "completed"
    },
    "tags": []
   },
   "outputs": [
    {
     "name": "stdout",
     "output_type": "stream",
     "text": [
      "<class 'pandas.core.frame.DataFrame'>\n",
      "RangeIndex: 8693 entries, 0 to 8692\n",
      "Data columns (total 12 columns):\n",
      " #   Column        Non-Null Count  Dtype  \n",
      "---  ------        --------------  -----  \n",
      " 0   HomePlanet    8693 non-null   object \n",
      " 1   CryoSleep     8693 non-null   bool   \n",
      " 2   Cabin         8693 non-null   object \n",
      " 3   Destination   8693 non-null   object \n",
      " 4   Age           8693 non-null   float64\n",
      " 5   VIP           8693 non-null   bool   \n",
      " 6   RoomService   8693 non-null   float64\n",
      " 7   FoodCourt     8693 non-null   float64\n",
      " 8   ShoppingMall  8693 non-null   float64\n",
      " 9   Spa           8693 non-null   float64\n",
      " 10  VRDeck        8693 non-null   float64\n",
      " 11  Transported   8693 non-null   bool   \n",
      "dtypes: bool(3), float64(6), object(3)\n",
      "memory usage: 636.8+ KB\n"
     ]
    }
   ],
   "source": [
    "train.info()"
   ]
  },
  {
   "cell_type": "code",
   "execution_count": 50,
   "id": "be13822d",
   "metadata": {
    "execution": {
     "iopub.execute_input": "2022-03-03T10:30:55.335211Z",
     "iopub.status.busy": "2022-03-03T10:30:55.334335Z",
     "iopub.status.idle": "2022-03-03T10:30:55.442262Z",
     "shell.execute_reply": "2022-03-03T10:30:55.441634Z",
     "shell.execute_reply.started": "2022-02-25T19:10:02.063397Z"
    },
    "papermill": {
     "duration": 0.304835,
     "end_time": "2022-03-03T10:30:55.442397",
     "exception": false,
     "start_time": "2022-03-03T10:30:55.137562",
     "status": "completed"
    },
    "tags": []
   },
   "outputs": [],
   "source": [
    "from sklearn.preprocessing import RobustScaler\n",
    "transformer_Age = RobustScaler().fit(train[['Age']])\n",
    "val=transformer_Age.transform(train[['Age']])\n",
    "train['Age']=val"
   ]
  },
  {
   "cell_type": "code",
   "execution_count": 51,
   "id": "99f13199",
   "metadata": {
    "execution": {
     "iopub.execute_input": "2022-03-03T10:30:55.863943Z",
     "iopub.status.busy": "2022-03-03T10:30:55.863004Z",
     "iopub.status.idle": "2022-03-03T10:30:55.872426Z",
     "shell.execute_reply": "2022-03-03T10:30:55.872961Z",
     "shell.execute_reply.started": "2022-02-25T19:10:02.559071Z"
    },
    "papermill": {
     "duration": 0.234918,
     "end_time": "2022-03-03T10:30:55.873120",
     "exception": false,
     "start_time": "2022-03-03T10:30:55.638202",
     "status": "completed"
    },
    "tags": []
   },
   "outputs": [],
   "source": [
    "transformer_RoomService = RobustScaler().fit(train[['RoomService']])\n",
    "val=transformer_RoomService.transform(train[['RoomService']])\n",
    "train['RoomService']=val"
   ]
  },
  {
   "cell_type": "code",
   "execution_count": 52,
   "id": "fb6076c5",
   "metadata": {
    "execution": {
     "iopub.execute_input": "2022-03-03T10:30:56.267418Z",
     "iopub.status.busy": "2022-03-03T10:30:56.266478Z",
     "iopub.status.idle": "2022-03-03T10:30:56.275382Z",
     "shell.execute_reply": "2022-03-03T10:30:56.275917Z",
     "shell.execute_reply.started": "2022-02-25T19:10:02.8989Z"
    },
    "papermill": {
     "duration": 0.206665,
     "end_time": "2022-03-03T10:30:56.276079",
     "exception": false,
     "start_time": "2022-03-03T10:30:56.069414",
     "status": "completed"
    },
    "tags": []
   },
   "outputs": [],
   "source": [
    "transformer_FoodCourt = RobustScaler().fit(train[['FoodCourt']])\n",
    "val=transformer_FoodCourt.transform(train[['FoodCourt']])\n",
    "train['FoodCourt']=val"
   ]
  },
  {
   "cell_type": "code",
   "execution_count": 53,
   "id": "7ce64664",
   "metadata": {
    "execution": {
     "iopub.execute_input": "2022-03-03T10:30:56.668403Z",
     "iopub.status.busy": "2022-03-03T10:30:56.667814Z",
     "iopub.status.idle": "2022-03-03T10:30:56.673469Z",
     "shell.execute_reply": "2022-03-03T10:30:56.672880Z",
     "shell.execute_reply.started": "2022-02-25T19:10:03.145227Z"
    },
    "papermill": {
     "duration": 0.204848,
     "end_time": "2022-03-03T10:30:56.673594",
     "exception": false,
     "start_time": "2022-03-03T10:30:56.468746",
     "status": "completed"
    },
    "tags": []
   },
   "outputs": [],
   "source": [
    "transformer_ShoppingMall = RobustScaler().fit(train[['ShoppingMall']])\n",
    "val=transformer_ShoppingMall.transform(train[['ShoppingMall']])\n",
    "train['ShoppingMall']=val"
   ]
  },
  {
   "cell_type": "code",
   "execution_count": 54,
   "id": "d16809a5",
   "metadata": {
    "execution": {
     "iopub.execute_input": "2022-03-03T10:30:57.072721Z",
     "iopub.status.busy": "2022-03-03T10:30:57.071742Z",
     "iopub.status.idle": "2022-03-03T10:30:57.076823Z",
     "shell.execute_reply": "2022-03-03T10:30:57.077358Z",
     "shell.execute_reply.started": "2022-02-25T19:10:03.533661Z"
    },
    "papermill": {
     "duration": 0.210007,
     "end_time": "2022-03-03T10:30:57.077513",
     "exception": false,
     "start_time": "2022-03-03T10:30:56.867506",
     "status": "completed"
    },
    "tags": []
   },
   "outputs": [],
   "source": [
    "transformer_Spa = RobustScaler().fit(train[['Spa']])\n",
    "val=transformer_Spa.transform(train[['Spa']])\n",
    "train['Spa']=val"
   ]
  },
  {
   "cell_type": "code",
   "execution_count": 55,
   "id": "eaeba5b5",
   "metadata": {
    "execution": {
     "iopub.execute_input": "2022-03-03T10:30:57.465689Z",
     "iopub.status.busy": "2022-03-03T10:30:57.464723Z",
     "iopub.status.idle": "2022-03-03T10:30:57.474308Z",
     "shell.execute_reply": "2022-03-03T10:30:57.474865Z",
     "shell.execute_reply.started": "2022-02-25T19:10:04.020645Z"
    },
    "papermill": {
     "duration": 0.205179,
     "end_time": "2022-03-03T10:30:57.475033",
     "exception": false,
     "start_time": "2022-03-03T10:30:57.269854",
     "status": "completed"
    },
    "tags": []
   },
   "outputs": [],
   "source": [
    "transformer_VRDeck = RobustScaler().fit(train[['VRDeck']])\n",
    "val=transformer_VRDeck.transform(train[['VRDeck']])\n",
    "train['VRDeck']=val"
   ]
  },
  {
   "cell_type": "code",
   "execution_count": 56,
   "id": "e99bf6bd",
   "metadata": {
    "execution": {
     "iopub.execute_input": "2022-03-03T10:30:57.868455Z",
     "iopub.status.busy": "2022-03-03T10:30:57.867428Z",
     "iopub.status.idle": "2022-03-03T10:30:57.890225Z",
     "shell.execute_reply": "2022-03-03T10:30:57.890988Z",
     "shell.execute_reply.started": "2022-02-25T19:10:04.397116Z"
    },
    "papermill": {
     "duration": 0.222075,
     "end_time": "2022-03-03T10:30:57.891159",
     "exception": false,
     "start_time": "2022-03-03T10:30:57.669084",
     "status": "completed"
    },
    "tags": []
   },
   "outputs": [
    {
     "data": {
      "text/html": [
       "<div>\n",
       "<style scoped>\n",
       "    .dataframe tbody tr th:only-of-type {\n",
       "        vertical-align: middle;\n",
       "    }\n",
       "\n",
       "    .dataframe tbody tr th {\n",
       "        vertical-align: top;\n",
       "    }\n",
       "\n",
       "    .dataframe thead th {\n",
       "        text-align: right;\n",
       "    }\n",
       "</style>\n",
       "<table border=\"1\" class=\"dataframe\">\n",
       "  <thead>\n",
       "    <tr style=\"text-align: right;\">\n",
       "      <th></th>\n",
       "      <th>HomePlanet</th>\n",
       "      <th>CryoSleep</th>\n",
       "      <th>Cabin</th>\n",
       "      <th>Destination</th>\n",
       "      <th>Age</th>\n",
       "      <th>VIP</th>\n",
       "      <th>RoomService</th>\n",
       "      <th>FoodCourt</th>\n",
       "      <th>ShoppingMall</th>\n",
       "      <th>Spa</th>\n",
       "      <th>VRDeck</th>\n",
       "      <th>Transported</th>\n",
       "    </tr>\n",
       "  </thead>\n",
       "  <tbody>\n",
       "    <tr>\n",
       "      <th>0</th>\n",
       "      <td>Europa</td>\n",
       "      <td>False</td>\n",
       "      <td>B/0/P</td>\n",
       "      <td>TRAPPIST-1e</td>\n",
       "      <td>0.705882</td>\n",
       "      <td>False</td>\n",
       "      <td>0.000000</td>\n",
       "      <td>0.000000</td>\n",
       "      <td>0.000000</td>\n",
       "      <td>0.000000</td>\n",
       "      <td>0.000</td>\n",
       "      <td>False</td>\n",
       "    </tr>\n",
       "    <tr>\n",
       "      <th>1</th>\n",
       "      <td>Earth</td>\n",
       "      <td>False</td>\n",
       "      <td>F/0/S</td>\n",
       "      <td>TRAPPIST-1e</td>\n",
       "      <td>-0.176471</td>\n",
       "      <td>False</td>\n",
       "      <td>2.658537</td>\n",
       "      <td>0.147541</td>\n",
       "      <td>1.136364</td>\n",
       "      <td>10.358491</td>\n",
       "      <td>1.100</td>\n",
       "      <td>True</td>\n",
       "    </tr>\n",
       "    <tr>\n",
       "      <th>2</th>\n",
       "      <td>Europa</td>\n",
       "      <td>False</td>\n",
       "      <td>A/0/S</td>\n",
       "      <td>TRAPPIST-1e</td>\n",
       "      <td>1.823529</td>\n",
       "      <td>True</td>\n",
       "      <td>1.048780</td>\n",
       "      <td>58.622951</td>\n",
       "      <td>0.000000</td>\n",
       "      <td>126.698113</td>\n",
       "      <td>1.225</td>\n",
       "      <td>False</td>\n",
       "    </tr>\n",
       "    <tr>\n",
       "      <th>3</th>\n",
       "      <td>Europa</td>\n",
       "      <td>False</td>\n",
       "      <td>A/0/S</td>\n",
       "      <td>TRAPPIST-1e</td>\n",
       "      <td>0.352941</td>\n",
       "      <td>False</td>\n",
       "      <td>0.000000</td>\n",
       "      <td>21.032787</td>\n",
       "      <td>16.863636</td>\n",
       "      <td>62.811321</td>\n",
       "      <td>4.825</td>\n",
       "      <td>False</td>\n",
       "    </tr>\n",
       "    <tr>\n",
       "      <th>4</th>\n",
       "      <td>Earth</td>\n",
       "      <td>False</td>\n",
       "      <td>F/1/S</td>\n",
       "      <td>TRAPPIST-1e</td>\n",
       "      <td>-0.647059</td>\n",
       "      <td>False</td>\n",
       "      <td>7.390244</td>\n",
       "      <td>1.147541</td>\n",
       "      <td>6.863636</td>\n",
       "      <td>10.660377</td>\n",
       "      <td>0.050</td>\n",
       "      <td>True</td>\n",
       "    </tr>\n",
       "    <tr>\n",
       "      <th>...</th>\n",
       "      <td>...</td>\n",
       "      <td>...</td>\n",
       "      <td>...</td>\n",
       "      <td>...</td>\n",
       "      <td>...</td>\n",
       "      <td>...</td>\n",
       "      <td>...</td>\n",
       "      <td>...</td>\n",
       "      <td>...</td>\n",
       "      <td>...</td>\n",
       "      <td>...</td>\n",
       "      <td>...</td>\n",
       "    </tr>\n",
       "    <tr>\n",
       "      <th>8688</th>\n",
       "      <td>Europa</td>\n",
       "      <td>False</td>\n",
       "      <td>A/98/P</td>\n",
       "      <td>55 Cancri e</td>\n",
       "      <td>0.823529</td>\n",
       "      <td>True</td>\n",
       "      <td>0.000000</td>\n",
       "      <td>111.786885</td>\n",
       "      <td>0.000000</td>\n",
       "      <td>31.000000</td>\n",
       "      <td>1.850</td>\n",
       "      <td>False</td>\n",
       "    </tr>\n",
       "    <tr>\n",
       "      <th>8689</th>\n",
       "      <td>Earth</td>\n",
       "      <td>True</td>\n",
       "      <td>G/1499/S</td>\n",
       "      <td>PSO J318.5-22</td>\n",
       "      <td>-0.529412</td>\n",
       "      <td>False</td>\n",
       "      <td>0.000000</td>\n",
       "      <td>0.000000</td>\n",
       "      <td>0.000000</td>\n",
       "      <td>0.000000</td>\n",
       "      <td>0.000</td>\n",
       "      <td>False</td>\n",
       "    </tr>\n",
       "    <tr>\n",
       "      <th>8690</th>\n",
       "      <td>Earth</td>\n",
       "      <td>False</td>\n",
       "      <td>G/1500/S</td>\n",
       "      <td>TRAPPIST-1e</td>\n",
       "      <td>-0.058824</td>\n",
       "      <td>False</td>\n",
       "      <td>0.000000</td>\n",
       "      <td>0.000000</td>\n",
       "      <td>85.090909</td>\n",
       "      <td>0.018868</td>\n",
       "      <td>0.000</td>\n",
       "      <td>True</td>\n",
       "    </tr>\n",
       "    <tr>\n",
       "      <th>8691</th>\n",
       "      <td>Europa</td>\n",
       "      <td>False</td>\n",
       "      <td>E/608/S</td>\n",
       "      <td>55 Cancri e</td>\n",
       "      <td>0.294118</td>\n",
       "      <td>False</td>\n",
       "      <td>0.000000</td>\n",
       "      <td>17.196721</td>\n",
       "      <td>0.000000</td>\n",
       "      <td>6.660377</td>\n",
       "      <td>80.875</td>\n",
       "      <td>False</td>\n",
       "    </tr>\n",
       "    <tr>\n",
       "      <th>8692</th>\n",
       "      <td>Europa</td>\n",
       "      <td>False</td>\n",
       "      <td>E/608/S</td>\n",
       "      <td>TRAPPIST-1e</td>\n",
       "      <td>1.000000</td>\n",
       "      <td>False</td>\n",
       "      <td>3.073171</td>\n",
       "      <td>76.852459</td>\n",
       "      <td>0.000000</td>\n",
       "      <td>0.000000</td>\n",
       "      <td>0.300</td>\n",
       "      <td>True</td>\n",
       "    </tr>\n",
       "  </tbody>\n",
       "</table>\n",
       "<p>8693 rows × 12 columns</p>\n",
       "</div>"
      ],
      "text/plain": [
       "     HomePlanet  CryoSleep     Cabin    Destination       Age    VIP  \\\n",
       "0        Europa      False     B/0/P    TRAPPIST-1e  0.705882  False   \n",
       "1         Earth      False     F/0/S    TRAPPIST-1e -0.176471  False   \n",
       "2        Europa      False     A/0/S    TRAPPIST-1e  1.823529   True   \n",
       "3        Europa      False     A/0/S    TRAPPIST-1e  0.352941  False   \n",
       "4         Earth      False     F/1/S    TRAPPIST-1e -0.647059  False   \n",
       "...         ...        ...       ...            ...       ...    ...   \n",
       "8688     Europa      False    A/98/P    55 Cancri e  0.823529   True   \n",
       "8689      Earth       True  G/1499/S  PSO J318.5-22 -0.529412  False   \n",
       "8690      Earth      False  G/1500/S    TRAPPIST-1e -0.058824  False   \n",
       "8691     Europa      False   E/608/S    55 Cancri e  0.294118  False   \n",
       "8692     Europa      False   E/608/S    TRAPPIST-1e  1.000000  False   \n",
       "\n",
       "      RoomService   FoodCourt  ShoppingMall         Spa  VRDeck  Transported  \n",
       "0        0.000000    0.000000      0.000000    0.000000   0.000        False  \n",
       "1        2.658537    0.147541      1.136364   10.358491   1.100         True  \n",
       "2        1.048780   58.622951      0.000000  126.698113   1.225        False  \n",
       "3        0.000000   21.032787     16.863636   62.811321   4.825        False  \n",
       "4        7.390244    1.147541      6.863636   10.660377   0.050         True  \n",
       "...           ...         ...           ...         ...     ...          ...  \n",
       "8688     0.000000  111.786885      0.000000   31.000000   1.850        False  \n",
       "8689     0.000000    0.000000      0.000000    0.000000   0.000        False  \n",
       "8690     0.000000    0.000000     85.090909    0.018868   0.000         True  \n",
       "8691     0.000000   17.196721      0.000000    6.660377  80.875        False  \n",
       "8692     3.073171   76.852459      0.000000    0.000000   0.300         True  \n",
       "\n",
       "[8693 rows x 12 columns]"
      ]
     },
     "execution_count": 56,
     "metadata": {},
     "output_type": "execute_result"
    }
   ],
   "source": [
    "train"
   ]
  },
  {
   "cell_type": "code",
   "execution_count": 57,
   "id": "8732cc7d",
   "metadata": {
    "execution": {
     "iopub.execute_input": "2022-03-03T10:30:58.300884Z",
     "iopub.status.busy": "2022-03-03T10:30:58.296532Z",
     "iopub.status.idle": "2022-03-03T10:30:58.327775Z",
     "shell.execute_reply": "2022-03-03T10:30:58.327228Z",
     "shell.execute_reply.started": "2022-02-25T19:10:04.945616Z"
    },
    "papermill": {
     "duration": 0.236556,
     "end_time": "2022-03-03T10:30:58.327921",
     "exception": false,
     "start_time": "2022-03-03T10:30:58.091365",
     "status": "completed"
    },
    "tags": []
   },
   "outputs": [],
   "source": [
    "transformer_VRDeck = RobustScaler().fit(test[['VRDeck']])\n",
    "val=transformer_VRDeck.transform(test[['VRDeck']])\n",
    "test['VRDeck']=val\n",
    "\n",
    "transformer_Spa = RobustScaler().fit(test[['Spa']])\n",
    "val=transformer_Spa.transform(test[['Spa']])\n",
    "test['Spa']=val\n",
    "\n",
    "transformer_ShoppingMall = RobustScaler().fit(test[['ShoppingMall']])\n",
    "val=transformer_ShoppingMall.transform(test[['ShoppingMall']])\n",
    "test['ShoppingMall']=val\n",
    "\n",
    "\n",
    "transformer_FoodCourt = RobustScaler().fit(test[['FoodCourt']])\n",
    "val=transformer_FoodCourt.transform(test[['FoodCourt']])\n",
    "test['FoodCourt']=val\n",
    "\n",
    "transformer_RoomService = RobustScaler().fit(test[['RoomService']])\n",
    "val=transformer_RoomService.transform(test[['RoomService']])\n",
    "test['RoomService']=val\n",
    "\n",
    "from sklearn.preprocessing import RobustScaler\n",
    "transformer_Age = RobustScaler().fit(test[['Age']])\n",
    "val=transformer_Age.transform(test[['Age']])\n",
    "test['Age']=val\n"
   ]
  },
  {
   "cell_type": "markdown",
   "id": "d56afcd8",
   "metadata": {
    "papermill": {
     "duration": 0.195273,
     "end_time": "2022-03-03T10:30:58.717873",
     "exception": false,
     "start_time": "2022-03-03T10:30:58.522600",
     "status": "completed"
    },
    "tags": []
   },
   "source": [
    "train"
   ]
  },
  {
   "cell_type": "code",
   "execution_count": 58,
   "id": "de72547e",
   "metadata": {
    "execution": {
     "iopub.execute_input": "2022-03-03T10:30:59.119491Z",
     "iopub.status.busy": "2022-03-03T10:30:59.118724Z",
     "iopub.status.idle": "2022-03-03T10:30:59.121929Z",
     "shell.execute_reply": "2022-03-03T10:30:59.122391Z",
     "shell.execute_reply.started": "2022-02-25T19:10:06.016375Z"
    },
    "papermill": {
     "duration": 0.211587,
     "end_time": "2022-03-03T10:30:59.122541",
     "exception": false,
     "start_time": "2022-03-03T10:30:58.910954",
     "status": "completed"
    },
    "tags": []
   },
   "outputs": [
    {
     "data": {
      "text/plain": [
       "TRAPPIST-1e      5915\n",
       "55 Cancri e      1800\n",
       "PSO J318.5-22     796\n",
       "None              182\n",
       "Name: Destination, dtype: int64"
      ]
     },
     "execution_count": 58,
     "metadata": {},
     "output_type": "execute_result"
    }
   ],
   "source": [
    "train['Destination'].value_counts()"
   ]
  },
  {
   "cell_type": "code",
   "execution_count": 59,
   "id": "01bc26ab",
   "metadata": {
    "execution": {
     "iopub.execute_input": "2022-03-03T10:30:59.532686Z",
     "iopub.status.busy": "2022-03-03T10:30:59.516357Z",
     "iopub.status.idle": "2022-03-03T10:30:59.536656Z",
     "shell.execute_reply": "2022-03-03T10:30:59.536099Z",
     "shell.execute_reply.started": "2022-02-25T19:10:06.593997Z"
    },
    "papermill": {
     "duration": 0.221212,
     "end_time": "2022-03-03T10:30:59.536810",
     "exception": false,
     "start_time": "2022-03-03T10:30:59.315598",
     "status": "completed"
    },
    "tags": []
   },
   "outputs": [
    {
     "data": {
      "text/html": [
       "<div>\n",
       "<style scoped>\n",
       "    .dataframe tbody tr th:only-of-type {\n",
       "        vertical-align: middle;\n",
       "    }\n",
       "\n",
       "    .dataframe tbody tr th {\n",
       "        vertical-align: top;\n",
       "    }\n",
       "\n",
       "    .dataframe thead th {\n",
       "        text-align: right;\n",
       "    }\n",
       "</style>\n",
       "<table border=\"1\" class=\"dataframe\">\n",
       "  <thead>\n",
       "    <tr style=\"text-align: right;\">\n",
       "      <th></th>\n",
       "      <th>HomePlanet</th>\n",
       "      <th>CryoSleep</th>\n",
       "      <th>Cabin</th>\n",
       "      <th>Destination</th>\n",
       "      <th>Age</th>\n",
       "      <th>VIP</th>\n",
       "      <th>RoomService</th>\n",
       "      <th>FoodCourt</th>\n",
       "      <th>ShoppingMall</th>\n",
       "      <th>Spa</th>\n",
       "      <th>VRDeck</th>\n",
       "      <th>Transported</th>\n",
       "    </tr>\n",
       "  </thead>\n",
       "  <tbody>\n",
       "    <tr>\n",
       "      <th>0</th>\n",
       "      <td>Europa</td>\n",
       "      <td>False</td>\n",
       "      <td>B/0/P</td>\n",
       "      <td>TRAPPIST-1e</td>\n",
       "      <td>0.705882</td>\n",
       "      <td>False</td>\n",
       "      <td>0.000000</td>\n",
       "      <td>0.000000</td>\n",
       "      <td>0.000000</td>\n",
       "      <td>0.000000</td>\n",
       "      <td>0.000</td>\n",
       "      <td>False</td>\n",
       "    </tr>\n",
       "    <tr>\n",
       "      <th>1</th>\n",
       "      <td>Earth</td>\n",
       "      <td>False</td>\n",
       "      <td>F/0/S</td>\n",
       "      <td>TRAPPIST-1e</td>\n",
       "      <td>-0.176471</td>\n",
       "      <td>False</td>\n",
       "      <td>2.658537</td>\n",
       "      <td>0.147541</td>\n",
       "      <td>1.136364</td>\n",
       "      <td>10.358491</td>\n",
       "      <td>1.100</td>\n",
       "      <td>True</td>\n",
       "    </tr>\n",
       "    <tr>\n",
       "      <th>2</th>\n",
       "      <td>Europa</td>\n",
       "      <td>False</td>\n",
       "      <td>A/0/S</td>\n",
       "      <td>TRAPPIST-1e</td>\n",
       "      <td>1.823529</td>\n",
       "      <td>True</td>\n",
       "      <td>1.048780</td>\n",
       "      <td>58.622951</td>\n",
       "      <td>0.000000</td>\n",
       "      <td>126.698113</td>\n",
       "      <td>1.225</td>\n",
       "      <td>False</td>\n",
       "    </tr>\n",
       "    <tr>\n",
       "      <th>3</th>\n",
       "      <td>Europa</td>\n",
       "      <td>False</td>\n",
       "      <td>A/0/S</td>\n",
       "      <td>TRAPPIST-1e</td>\n",
       "      <td>0.352941</td>\n",
       "      <td>False</td>\n",
       "      <td>0.000000</td>\n",
       "      <td>21.032787</td>\n",
       "      <td>16.863636</td>\n",
       "      <td>62.811321</td>\n",
       "      <td>4.825</td>\n",
       "      <td>False</td>\n",
       "    </tr>\n",
       "    <tr>\n",
       "      <th>4</th>\n",
       "      <td>Earth</td>\n",
       "      <td>False</td>\n",
       "      <td>F/1/S</td>\n",
       "      <td>TRAPPIST-1e</td>\n",
       "      <td>-0.647059</td>\n",
       "      <td>False</td>\n",
       "      <td>7.390244</td>\n",
       "      <td>1.147541</td>\n",
       "      <td>6.863636</td>\n",
       "      <td>10.660377</td>\n",
       "      <td>0.050</td>\n",
       "      <td>True</td>\n",
       "    </tr>\n",
       "    <tr>\n",
       "      <th>...</th>\n",
       "      <td>...</td>\n",
       "      <td>...</td>\n",
       "      <td>...</td>\n",
       "      <td>...</td>\n",
       "      <td>...</td>\n",
       "      <td>...</td>\n",
       "      <td>...</td>\n",
       "      <td>...</td>\n",
       "      <td>...</td>\n",
       "      <td>...</td>\n",
       "      <td>...</td>\n",
       "      <td>...</td>\n",
       "    </tr>\n",
       "    <tr>\n",
       "      <th>8688</th>\n",
       "      <td>Europa</td>\n",
       "      <td>False</td>\n",
       "      <td>A/98/P</td>\n",
       "      <td>55 Cancri e</td>\n",
       "      <td>0.823529</td>\n",
       "      <td>True</td>\n",
       "      <td>0.000000</td>\n",
       "      <td>111.786885</td>\n",
       "      <td>0.000000</td>\n",
       "      <td>31.000000</td>\n",
       "      <td>1.850</td>\n",
       "      <td>False</td>\n",
       "    </tr>\n",
       "    <tr>\n",
       "      <th>8689</th>\n",
       "      <td>Earth</td>\n",
       "      <td>True</td>\n",
       "      <td>G/1499/S</td>\n",
       "      <td>PSO J318.5-22</td>\n",
       "      <td>-0.529412</td>\n",
       "      <td>False</td>\n",
       "      <td>0.000000</td>\n",
       "      <td>0.000000</td>\n",
       "      <td>0.000000</td>\n",
       "      <td>0.000000</td>\n",
       "      <td>0.000</td>\n",
       "      <td>False</td>\n",
       "    </tr>\n",
       "    <tr>\n",
       "      <th>8690</th>\n",
       "      <td>Earth</td>\n",
       "      <td>False</td>\n",
       "      <td>G/1500/S</td>\n",
       "      <td>TRAPPIST-1e</td>\n",
       "      <td>-0.058824</td>\n",
       "      <td>False</td>\n",
       "      <td>0.000000</td>\n",
       "      <td>0.000000</td>\n",
       "      <td>85.090909</td>\n",
       "      <td>0.018868</td>\n",
       "      <td>0.000</td>\n",
       "      <td>True</td>\n",
       "    </tr>\n",
       "    <tr>\n",
       "      <th>8691</th>\n",
       "      <td>Europa</td>\n",
       "      <td>False</td>\n",
       "      <td>E/608/S</td>\n",
       "      <td>55 Cancri e</td>\n",
       "      <td>0.294118</td>\n",
       "      <td>False</td>\n",
       "      <td>0.000000</td>\n",
       "      <td>17.196721</td>\n",
       "      <td>0.000000</td>\n",
       "      <td>6.660377</td>\n",
       "      <td>80.875</td>\n",
       "      <td>False</td>\n",
       "    </tr>\n",
       "    <tr>\n",
       "      <th>8692</th>\n",
       "      <td>Europa</td>\n",
       "      <td>False</td>\n",
       "      <td>E/608/S</td>\n",
       "      <td>TRAPPIST-1e</td>\n",
       "      <td>1.000000</td>\n",
       "      <td>False</td>\n",
       "      <td>3.073171</td>\n",
       "      <td>76.852459</td>\n",
       "      <td>0.000000</td>\n",
       "      <td>0.000000</td>\n",
       "      <td>0.300</td>\n",
       "      <td>True</td>\n",
       "    </tr>\n",
       "  </tbody>\n",
       "</table>\n",
       "<p>8693 rows × 12 columns</p>\n",
       "</div>"
      ],
      "text/plain": [
       "     HomePlanet  CryoSleep     Cabin    Destination       Age    VIP  \\\n",
       "0        Europa      False     B/0/P    TRAPPIST-1e  0.705882  False   \n",
       "1         Earth      False     F/0/S    TRAPPIST-1e -0.176471  False   \n",
       "2        Europa      False     A/0/S    TRAPPIST-1e  1.823529   True   \n",
       "3        Europa      False     A/0/S    TRAPPIST-1e  0.352941  False   \n",
       "4         Earth      False     F/1/S    TRAPPIST-1e -0.647059  False   \n",
       "...         ...        ...       ...            ...       ...    ...   \n",
       "8688     Europa      False    A/98/P    55 Cancri e  0.823529   True   \n",
       "8689      Earth       True  G/1499/S  PSO J318.5-22 -0.529412  False   \n",
       "8690      Earth      False  G/1500/S    TRAPPIST-1e -0.058824  False   \n",
       "8691     Europa      False   E/608/S    55 Cancri e  0.294118  False   \n",
       "8692     Europa      False   E/608/S    TRAPPIST-1e  1.000000  False   \n",
       "\n",
       "      RoomService   FoodCourt  ShoppingMall         Spa  VRDeck  Transported  \n",
       "0        0.000000    0.000000      0.000000    0.000000   0.000        False  \n",
       "1        2.658537    0.147541      1.136364   10.358491   1.100         True  \n",
       "2        1.048780   58.622951      0.000000  126.698113   1.225        False  \n",
       "3        0.000000   21.032787     16.863636   62.811321   4.825        False  \n",
       "4        7.390244    1.147541      6.863636   10.660377   0.050         True  \n",
       "...           ...         ...           ...         ...     ...          ...  \n",
       "8688     0.000000  111.786885      0.000000   31.000000   1.850        False  \n",
       "8689     0.000000    0.000000      0.000000    0.000000   0.000        False  \n",
       "8690     0.000000    0.000000     85.090909    0.018868   0.000         True  \n",
       "8691     0.000000   17.196721      0.000000    6.660377  80.875        False  \n",
       "8692     3.073171   76.852459      0.000000    0.000000   0.300         True  \n",
       "\n",
       "[8693 rows x 12 columns]"
      ]
     },
     "execution_count": 59,
     "metadata": {},
     "output_type": "execute_result"
    }
   ],
   "source": [
    "train"
   ]
  },
  {
   "cell_type": "code",
   "execution_count": 60,
   "id": "856a6f70",
   "metadata": {
    "execution": {
     "iopub.execute_input": "2022-03-03T10:30:59.933596Z",
     "iopub.status.busy": "2022-03-03T10:30:59.932690Z",
     "iopub.status.idle": "2022-03-03T10:30:59.940548Z",
     "shell.execute_reply": "2022-03-03T10:30:59.941031Z",
     "shell.execute_reply.started": "2022-02-25T19:10:07.281345Z"
    },
    "papermill": {
     "duration": 0.207621,
     "end_time": "2022-03-03T10:30:59.941190",
     "exception": false,
     "start_time": "2022-03-03T10:30:59.733569",
     "status": "completed"
    },
    "tags": []
   },
   "outputs": [
    {
     "data": {
      "text/plain": [
       "Earth     4602\n",
       "Europa    2131\n",
       "Mars      1759\n",
       "None       201\n",
       "Name: HomePlanet, dtype: int64"
      ]
     },
     "execution_count": 60,
     "metadata": {},
     "output_type": "execute_result"
    }
   ],
   "source": [
    "train['HomePlanet'].value_counts()"
   ]
  },
  {
   "cell_type": "code",
   "execution_count": 61,
   "id": "d14470a4",
   "metadata": {
    "execution": {
     "iopub.execute_input": "2022-03-03T10:31:00.337761Z",
     "iopub.status.busy": "2022-03-03T10:31:00.336726Z",
     "iopub.status.idle": "2022-03-03T10:31:00.343738Z",
     "shell.execute_reply": "2022-03-03T10:31:00.344310Z",
     "shell.execute_reply.started": "2022-02-25T19:10:07.838439Z"
    },
    "papermill": {
     "duration": 0.20607,
     "end_time": "2022-03-03T10:31:00.344484",
     "exception": false,
     "start_time": "2022-03-03T10:31:00.138414",
     "status": "completed"
    },
    "tags": []
   },
   "outputs": [
    {
     "data": {
      "text/plain": [
       "False    5656\n",
       "True     3037\n",
       "Name: CryoSleep, dtype: int64"
      ]
     },
     "execution_count": 61,
     "metadata": {},
     "output_type": "execute_result"
    }
   ],
   "source": [
    "train['CryoSleep'].value_counts()"
   ]
  },
  {
   "cell_type": "code",
   "execution_count": 62,
   "id": "a2e8d453",
   "metadata": {
    "execution": {
     "iopub.execute_input": "2022-03-03T10:31:00.748257Z",
     "iopub.status.busy": "2022-03-03T10:31:00.742643Z",
     "iopub.status.idle": "2022-03-03T10:31:00.754965Z",
     "shell.execute_reply": "2022-03-03T10:31:00.755522Z",
     "shell.execute_reply.started": "2022-02-25T19:10:08.466243Z"
    },
    "papermill": {
     "duration": 0.210863,
     "end_time": "2022-03-03T10:31:00.755709",
     "exception": false,
     "start_time": "2022-03-03T10:31:00.544846",
     "status": "completed"
    },
    "tags": []
   },
   "outputs": [
    {
     "data": {
      "text/plain": [
       "A/-1/A     199\n",
       "G/734/S      8\n",
       "C/137/S      7\n",
       "B/201/P      7\n",
       "G/109/P      7\n",
       "          ... \n",
       "G/556/P      1\n",
       "E/231/S      1\n",
       "G/545/S      1\n",
       "G/543/S      1\n",
       "C/178/S      1\n",
       "Name: Cabin, Length: 6561, dtype: int64"
      ]
     },
     "execution_count": 62,
     "metadata": {},
     "output_type": "execute_result"
    }
   ],
   "source": [
    "train['Cabin'].value_counts()"
   ]
  },
  {
   "cell_type": "code",
   "execution_count": null,
   "id": "5350c819",
   "metadata": {
    "papermill": {
     "duration": 0.226434,
     "end_time": "2022-03-03T10:31:01.176961",
     "exception": false,
     "start_time": "2022-03-03T10:31:00.950527",
     "status": "completed"
    },
    "tags": []
   },
   "outputs": [],
   "source": []
  },
  {
   "cell_type": "code",
   "execution_count": 63,
   "id": "1d9168ff",
   "metadata": {
    "execution": {
     "iopub.execute_input": "2022-03-03T10:31:01.612598Z",
     "iopub.status.busy": "2022-03-03T10:31:01.611972Z",
     "iopub.status.idle": "2022-03-03T10:31:01.646378Z",
     "shell.execute_reply": "2022-03-03T10:31:01.647151Z",
     "shell.execute_reply.started": "2022-02-25T19:10:09.595588Z"
    },
    "papermill": {
     "duration": 0.24198,
     "end_time": "2022-03-03T10:31:01.647385",
     "exception": false,
     "start_time": "2022-03-03T10:31:01.405405",
     "status": "completed"
    },
    "tags": []
   },
   "outputs": [],
   "source": [
    "def extract_deck(s):\n",
    "    return s.split('/')[0]\n",
    "\n",
    "def extract_num(s):\n",
    "    return s.split('/')[1]\n",
    "\n",
    "def extract_side(s):\n",
    "    return s.split('/')[2]\n",
    "\n",
    "train['Deck'] = train['Cabin'].apply(extract_deck)\n",
    "train['Num'] = train['Cabin'].apply(extract_num)\n",
    "train['Side'] = train['Cabin'].apply(extract_side)\n",
    "\n",
    "test['Deck'] = test['Cabin'].apply(extract_deck)\n",
    "test['Num'] = test['Cabin'].apply(extract_num)\n",
    "test['Side'] = test['Cabin'].apply(extract_side)"
   ]
  },
  {
   "cell_type": "code",
   "execution_count": 64,
   "id": "94f59d84",
   "metadata": {
    "execution": {
     "iopub.execute_input": "2022-03-03T10:31:02.066193Z",
     "iopub.status.busy": "2022-03-03T10:31:02.065601Z",
     "iopub.status.idle": "2022-03-03T10:31:02.074825Z",
     "shell.execute_reply": "2022-03-03T10:31:02.075305Z",
     "shell.execute_reply.started": "2022-02-25T19:10:10.271481Z"
    },
    "papermill": {
     "duration": 0.212202,
     "end_time": "2022-03-03T10:31:02.075467",
     "exception": false,
     "start_time": "2022-03-03T10:31:01.863265",
     "status": "completed"
    },
    "tags": []
   },
   "outputs": [],
   "source": [
    "train.drop('Cabin',axis=1,inplace=True)\n",
    "test.drop('Cabin',axis=1,inplace=True)"
   ]
  },
  {
   "cell_type": "code",
   "execution_count": 65,
   "id": "90de3ce4",
   "metadata": {
    "execution": {
     "iopub.execute_input": "2022-03-03T10:31:02.473337Z",
     "iopub.status.busy": "2022-03-03T10:31:02.472379Z",
     "iopub.status.idle": "2022-03-03T10:31:02.480478Z",
     "shell.execute_reply": "2022-03-03T10:31:02.480980Z",
     "shell.execute_reply.started": "2022-02-25T19:10:10.863897Z"
    },
    "papermill": {
     "duration": 0.208999,
     "end_time": "2022-03-03T10:31:02.481160",
     "exception": false,
     "start_time": "2022-03-03T10:31:02.272161",
     "status": "completed"
    },
    "tags": []
   },
   "outputs": [
    {
     "data": {
      "text/plain": [
       "F    2794\n",
       "G    2559\n",
       "E     876\n",
       "B     779\n",
       "C     747\n",
       "D     478\n",
       "A     455\n",
       "T       5\n",
       "Name: Deck, dtype: int64"
      ]
     },
     "execution_count": 65,
     "metadata": {},
     "output_type": "execute_result"
    }
   ],
   "source": [
    "train['Deck'].value_counts()"
   ]
  },
  {
   "cell_type": "code",
   "execution_count": 66,
   "id": "78fd8b23",
   "metadata": {
    "execution": {
     "iopub.execute_input": "2022-03-03T10:31:02.879600Z",
     "iopub.status.busy": "2022-03-03T10:31:02.878640Z",
     "iopub.status.idle": "2022-03-03T10:31:02.888681Z",
     "shell.execute_reply": "2022-03-03T10:31:02.889189Z",
     "shell.execute_reply.started": "2022-02-25T19:10:11.508706Z"
    },
    "papermill": {
     "duration": 0.210613,
     "end_time": "2022-03-03T10:31:02.889346",
     "exception": false,
     "start_time": "2022-03-03T10:31:02.678733",
     "status": "completed"
    },
    "tags": []
   },
   "outputs": [
    {
     "data": {
      "text/plain": [
       "-1      199\n",
       "82       28\n",
       "86       22\n",
       "19       22\n",
       "56       21\n",
       "       ... \n",
       "1644      1\n",
       "1515      1\n",
       "1639      1\n",
       "1277      1\n",
       "1894      1\n",
       "Name: Num, Length: 1818, dtype: int64"
      ]
     },
     "execution_count": 66,
     "metadata": {},
     "output_type": "execute_result"
    }
   ],
   "source": [
    "train['Num'].value_counts()"
   ]
  },
  {
   "cell_type": "code",
   "execution_count": 67,
   "id": "bb580181",
   "metadata": {
    "execution": {
     "iopub.execute_input": "2022-03-03T10:31:03.290167Z",
     "iopub.status.busy": "2022-03-03T10:31:03.289354Z",
     "iopub.status.idle": "2022-03-03T10:31:03.292098Z",
     "shell.execute_reply": "2022-03-03T10:31:03.292505Z",
     "shell.execute_reply.started": "2022-02-25T19:10:12.144565Z"
    },
    "papermill": {
     "duration": 0.206407,
     "end_time": "2022-03-03T10:31:03.292703",
     "exception": false,
     "start_time": "2022-03-03T10:31:03.086296",
     "status": "completed"
    },
    "tags": []
   },
   "outputs": [],
   "source": [
    "train['Num']=train['Num'].astype('int')"
   ]
  },
  {
   "cell_type": "code",
   "execution_count": 68,
   "id": "8f804557",
   "metadata": {
    "execution": {
     "iopub.execute_input": "2022-03-03T10:31:03.692015Z",
     "iopub.status.busy": "2022-03-03T10:31:03.691113Z",
     "iopub.status.idle": "2022-03-03T10:31:03.699687Z",
     "shell.execute_reply": "2022-03-03T10:31:03.700161Z",
     "shell.execute_reply.started": "2022-02-25T19:10:12.636365Z"
    },
    "papermill": {
     "duration": 0.209451,
     "end_time": "2022-03-03T10:31:03.700319",
     "exception": false,
     "start_time": "2022-03-03T10:31:03.490868",
     "status": "completed"
    },
    "tags": []
   },
   "outputs": [
    {
     "data": {
      "text/plain": [
       "count    8693.000000\n",
       "mean      586.601173\n",
       "std       513.906241\n",
       "min        -1.000000\n",
       "25%       152.000000\n",
       "50%       407.000000\n",
       "75%       983.000000\n",
       "max      1894.000000\n",
       "Name: Num, dtype: float64"
      ]
     },
     "execution_count": 68,
     "metadata": {},
     "output_type": "execute_result"
    }
   ],
   "source": [
    "train['Num'].describe()"
   ]
  },
  {
   "cell_type": "code",
   "execution_count": 69,
   "id": "05871ec7",
   "metadata": {
    "execution": {
     "iopub.execute_input": "2022-03-03T10:31:04.101286Z",
     "iopub.status.busy": "2022-03-03T10:31:04.100351Z",
     "iopub.status.idle": "2022-03-03T10:31:04.117959Z",
     "shell.execute_reply": "2022-03-03T10:31:04.117406Z",
     "shell.execute_reply.started": "2022-02-25T19:10:13.03215Z"
    },
    "papermill": {
     "duration": 0.220955,
     "end_time": "2022-03-03T10:31:04.118102",
     "exception": false,
     "start_time": "2022-03-03T10:31:03.897147",
     "status": "completed"
    },
    "tags": []
   },
   "outputs": [],
   "source": [
    "transformer_Num = RobustScaler().fit(train[['Num']])\n",
    "val=transformer_Num.transform(train[['Num']])\n",
    "train['Num']=val\n",
    "\n",
    "transformer_Num = RobustScaler().fit(test[['Num']])\n",
    "val=transformer_Num.transform(test[['Num']])\n",
    "test['Num']=val"
   ]
  },
  {
   "cell_type": "code",
   "execution_count": 70,
   "id": "7d26c407",
   "metadata": {
    "execution": {
     "iopub.execute_input": "2022-03-03T10:31:04.523043Z",
     "iopub.status.busy": "2022-03-03T10:31:04.522391Z",
     "iopub.status.idle": "2022-03-03T10:31:04.525070Z",
     "shell.execute_reply": "2022-03-03T10:31:04.524541Z",
     "shell.execute_reply.started": "2022-02-25T19:10:13.524203Z"
    },
    "papermill": {
     "duration": 0.207225,
     "end_time": "2022-03-03T10:31:04.525211",
     "exception": false,
     "start_time": "2022-03-03T10:31:04.317986",
     "status": "completed"
    },
    "tags": []
   },
   "outputs": [],
   "source": [
    "test['Num']=test['Num'].astype('int')"
   ]
  },
  {
   "cell_type": "code",
   "execution_count": 71,
   "id": "8f900cfc",
   "metadata": {
    "execution": {
     "iopub.execute_input": "2022-03-03T10:31:04.925734Z",
     "iopub.status.busy": "2022-03-03T10:31:04.925093Z",
     "iopub.status.idle": "2022-03-03T10:31:05.110791Z",
     "shell.execute_reply": "2022-03-03T10:31:05.111373Z",
     "shell.execute_reply.started": "2022-02-25T19:10:14.010229Z"
    },
    "papermill": {
     "duration": 0.387143,
     "end_time": "2022-03-03T10:31:05.111533",
     "exception": false,
     "start_time": "2022-03-03T10:31:04.724390",
     "status": "completed"
    },
    "tags": []
   },
   "outputs": [
    {
     "data": {
      "text/plain": [
       "<AxesSubplot:xlabel='Transported', ylabel='Num'>"
      ]
     },
     "execution_count": 71,
     "metadata": {},
     "output_type": "execute_result"
    },
    {
     "data": {
      "image/png": "[encoded data removed]",
      "text/plain": [
       "<Figure size 432x288 with 1 Axes>"
      ]
     },
     "metadata": {
      "needs_background": "light"
     },
     "output_type": "display_data"
    }
   ],
   "source": [
    "sns.boxplot(x='Transported',y='Num',data=train)"
   ]
  },
  {
   "cell_type": "code",
   "execution_count": 72,
   "id": "8c004cb6",
   "metadata": {
    "execution": {
     "iopub.execute_input": "2022-03-03T10:31:05.511796Z",
     "iopub.status.busy": "2022-03-03T10:31:05.511205Z",
     "iopub.status.idle": "2022-03-03T10:31:05.518340Z",
     "shell.execute_reply": "2022-03-03T10:31:05.518928Z",
     "shell.execute_reply.started": "2022-02-25T19:10:14.418857Z"
    },
    "papermill": {
     "duration": 0.208068,
     "end_time": "2022-03-03T10:31:05.519099",
     "exception": false,
     "start_time": "2022-03-03T10:31:05.311031",
     "status": "completed"
    },
    "tags": []
   },
   "outputs": [
    {
     "data": {
      "text/plain": [
       "S    4288\n",
       "P    4206\n",
       "A     199\n",
       "Name: Side, dtype: int64"
      ]
     },
     "execution_count": 72,
     "metadata": {},
     "output_type": "execute_result"
    }
   ],
   "source": [
    "train['Side'].value_counts()"
   ]
  },
  {
   "cell_type": "code",
   "execution_count": 73,
   "id": "8dfd967a",
   "metadata": {
    "execution": {
     "iopub.execute_input": "2022-03-03T10:31:05.921320Z",
     "iopub.status.busy": "2022-03-03T10:31:05.920650Z",
     "iopub.status.idle": "2022-03-03T10:31:05.928193Z",
     "shell.execute_reply": "2022-03-03T10:31:05.928720Z",
     "shell.execute_reply.started": "2022-02-25T19:10:15.064085Z"
    },
    "papermill": {
     "duration": 0.210088,
     "end_time": "2022-03-03T10:31:05.928888",
     "exception": false,
     "start_time": "2022-03-03T10:31:05.718800",
     "status": "completed"
    },
    "tags": []
   },
   "outputs": [
    {
     "data": {
      "text/plain": [
       "TRAPPIST-1e      5915\n",
       "55 Cancri e      1800\n",
       "PSO J318.5-22     796\n",
       "None              182\n",
       "Name: Destination, dtype: int64"
      ]
     },
     "execution_count": 73,
     "metadata": {},
     "output_type": "execute_result"
    }
   ],
   "source": [
    "train['Destination'].value_counts()"
   ]
  },
  {
   "cell_type": "code",
   "execution_count": 74,
   "id": "3d9cd9c9",
   "metadata": {
    "execution": {
     "iopub.execute_input": "2022-03-03T10:31:06.335739Z",
     "iopub.status.busy": "2022-03-03T10:31:06.335120Z",
     "iopub.status.idle": "2022-03-03T10:31:06.341069Z",
     "shell.execute_reply": "2022-03-03T10:31:06.341514Z",
     "shell.execute_reply.started": "2022-02-25T19:10:15.453059Z"
    },
    "papermill": {
     "duration": 0.208618,
     "end_time": "2022-03-03T10:31:06.341661",
     "exception": false,
     "start_time": "2022-03-03T10:31:06.133043",
     "status": "completed"
    },
    "tags": []
   },
   "outputs": [
    {
     "data": {
      "text/plain": [
       "False    8494\n",
       "True      199\n",
       "Name: VIP, dtype: int64"
      ]
     },
     "execution_count": 74,
     "metadata": {},
     "output_type": "execute_result"
    }
   ],
   "source": [
    "train['VIP'].value_counts()"
   ]
  },
  {
   "cell_type": "code",
   "execution_count": 75,
   "id": "a7baf61c",
   "metadata": {
    "execution": {
     "iopub.execute_input": "2022-03-03T10:31:06.753912Z",
     "iopub.status.busy": "2022-03-03T10:31:06.752922Z",
     "iopub.status.idle": "2022-03-03T10:31:06.783683Z",
     "shell.execute_reply": "2022-03-03T10:31:06.784441Z",
     "shell.execute_reply.started": "2022-02-25T19:10:15.888452Z"
    },
    "papermill": {
     "duration": 0.243492,
     "end_time": "2022-03-03T10:31:06.784691",
     "exception": false,
     "start_time": "2022-03-03T10:31:06.541199",
     "status": "completed"
    },
    "tags": []
   },
   "outputs": [
    {
     "data": {
      "text/html": [
       "<div>\n",
       "<style scoped>\n",
       "    .dataframe tbody tr th:only-of-type {\n",
       "        vertical-align: middle;\n",
       "    }\n",
       "\n",
       "    .dataframe tbody tr th {\n",
       "        vertical-align: top;\n",
       "    }\n",
       "\n",
       "    .dataframe thead th {\n",
       "        text-align: right;\n",
       "    }\n",
       "</style>\n",
       "<table border=\"1\" class=\"dataframe\">\n",
       "  <thead>\n",
       "    <tr style=\"text-align: right;\">\n",
       "      <th></th>\n",
       "      <th>PassengerId</th>\n",
       "      <th>HomePlanet</th>\n",
       "      <th>CryoSleep</th>\n",
       "      <th>Destination</th>\n",
       "      <th>Age</th>\n",
       "      <th>VIP</th>\n",
       "      <th>RoomService</th>\n",
       "      <th>FoodCourt</th>\n",
       "      <th>ShoppingMall</th>\n",
       "      <th>Spa</th>\n",
       "      <th>VRDeck</th>\n",
       "      <th>Deck</th>\n",
       "      <th>Num</th>\n",
       "      <th>Side</th>\n",
       "    </tr>\n",
       "  </thead>\n",
       "  <tbody>\n",
       "    <tr>\n",
       "      <th>0</th>\n",
       "      <td>0013_01</td>\n",
       "      <td>Earth</td>\n",
       "      <td>True</td>\n",
       "      <td>TRAPPIST-1e</td>\n",
       "      <td>0.055556</td>\n",
       "      <td>False</td>\n",
       "      <td>0.000000</td>\n",
       "      <td>0.000000</td>\n",
       "      <td>0.000000</td>\n",
       "      <td>0.000000</td>\n",
       "      <td>0.000000</td>\n",
       "      <td>G</td>\n",
       "      <td>0</td>\n",
       "      <td>S</td>\n",
       "    </tr>\n",
       "    <tr>\n",
       "      <th>1</th>\n",
       "      <td>0018_01</td>\n",
       "      <td>Earth</td>\n",
       "      <td>False</td>\n",
       "      <td>TRAPPIST-1e</td>\n",
       "      <td>-0.388889</td>\n",
       "      <td>False</td>\n",
       "      <td>0.000000</td>\n",
       "      <td>0.136364</td>\n",
       "      <td>0.000000</td>\n",
       "      <td>65.651163</td>\n",
       "      <td>0.000000</td>\n",
       "      <td>F</td>\n",
       "      <td>0</td>\n",
       "      <td>S</td>\n",
       "    </tr>\n",
       "    <tr>\n",
       "      <th>2</th>\n",
       "      <td>0019_01</td>\n",
       "      <td>Europa</td>\n",
       "      <td>True</td>\n",
       "      <td>55 Cancri e</td>\n",
       "      <td>0.277778</td>\n",
       "      <td>False</td>\n",
       "      <td>0.000000</td>\n",
       "      <td>0.000000</td>\n",
       "      <td>0.000000</td>\n",
       "      <td>0.000000</td>\n",
       "      <td>0.000000</td>\n",
       "      <td>C</td>\n",
       "      <td>0</td>\n",
       "      <td>S</td>\n",
       "    </tr>\n",
       "    <tr>\n",
       "      <th>3</th>\n",
       "      <td>0021_01</td>\n",
       "      <td>Europa</td>\n",
       "      <td>False</td>\n",
       "      <td>TRAPPIST-1e</td>\n",
       "      <td>0.666667</td>\n",
       "      <td>False</td>\n",
       "      <td>0.000000</td>\n",
       "      <td>100.787879</td>\n",
       "      <td>0.000000</td>\n",
       "      <td>4.209302</td>\n",
       "      <td>18.870968</td>\n",
       "      <td>C</td>\n",
       "      <td>0</td>\n",
       "      <td>S</td>\n",
       "    </tr>\n",
       "    <tr>\n",
       "      <th>4</th>\n",
       "      <td>0023_01</td>\n",
       "      <td>Earth</td>\n",
       "      <td>False</td>\n",
       "      <td>TRAPPIST-1e</td>\n",
       "      <td>-0.333333</td>\n",
       "      <td>False</td>\n",
       "      <td>0.208333</td>\n",
       "      <td>0.000000</td>\n",
       "      <td>23.518519</td>\n",
       "      <td>0.000000</td>\n",
       "      <td>0.000000</td>\n",
       "      <td>F</td>\n",
       "      <td>0</td>\n",
       "      <td>S</td>\n",
       "    </tr>\n",
       "    <tr>\n",
       "      <th>...</th>\n",
       "      <td>...</td>\n",
       "      <td>...</td>\n",
       "      <td>...</td>\n",
       "      <td>...</td>\n",
       "      <td>...</td>\n",
       "      <td>...</td>\n",
       "      <td>...</td>\n",
       "      <td>...</td>\n",
       "      <td>...</td>\n",
       "      <td>...</td>\n",
       "      <td>...</td>\n",
       "      <td>...</td>\n",
       "      <td>...</td>\n",
       "      <td>...</td>\n",
       "    </tr>\n",
       "    <tr>\n",
       "      <th>4272</th>\n",
       "      <td>9266_02</td>\n",
       "      <td>Earth</td>\n",
       "      <td>True</td>\n",
       "      <td>TRAPPIST-1e</td>\n",
       "      <td>0.444444</td>\n",
       "      <td>False</td>\n",
       "      <td>0.000000</td>\n",
       "      <td>0.000000</td>\n",
       "      <td>0.000000</td>\n",
       "      <td>0.000000</td>\n",
       "      <td>0.000000</td>\n",
       "      <td>G</td>\n",
       "      <td>1</td>\n",
       "      <td>S</td>\n",
       "    </tr>\n",
       "    <tr>\n",
       "      <th>4273</th>\n",
       "      <td>9269_01</td>\n",
       "      <td>Earth</td>\n",
       "      <td>False</td>\n",
       "      <td>TRAPPIST-1e</td>\n",
       "      <td>0.888889</td>\n",
       "      <td>False</td>\n",
       "      <td>0.000000</td>\n",
       "      <td>12.833333</td>\n",
       "      <td>0.629630</td>\n",
       "      <td>0.232558</td>\n",
       "      <td>4.645161</td>\n",
       "      <td>A</td>\n",
       "      <td>0</td>\n",
       "      <td>A</td>\n",
       "    </tr>\n",
       "    <tr>\n",
       "      <th>4274</th>\n",
       "      <td>9271_01</td>\n",
       "      <td>Mars</td>\n",
       "      <td>True</td>\n",
       "      <td>55 Cancri e</td>\n",
       "      <td>-0.444444</td>\n",
       "      <td>False</td>\n",
       "      <td>0.000000</td>\n",
       "      <td>0.000000</td>\n",
       "      <td>0.000000</td>\n",
       "      <td>0.000000</td>\n",
       "      <td>0.000000</td>\n",
       "      <td>D</td>\n",
       "      <td>0</td>\n",
       "      <td>P</td>\n",
       "    </tr>\n",
       "    <tr>\n",
       "      <th>4275</th>\n",
       "      <td>9273_01</td>\n",
       "      <td>Europa</td>\n",
       "      <td>False</td>\n",
       "      <td>None</td>\n",
       "      <td>-0.444444</td>\n",
       "      <td>False</td>\n",
       "      <td>0.000000</td>\n",
       "      <td>40.606061</td>\n",
       "      <td>0.000000</td>\n",
       "      <td>0.000000</td>\n",
       "      <td>16.870968</td>\n",
       "      <td>D</td>\n",
       "      <td>0</td>\n",
       "      <td>P</td>\n",
       "    </tr>\n",
       "    <tr>\n",
       "      <th>4276</th>\n",
       "      <td>9277_01</td>\n",
       "      <td>Earth</td>\n",
       "      <td>True</td>\n",
       "      <td>PSO J318.5-22</td>\n",
       "      <td>0.944444</td>\n",
       "      <td>False</td>\n",
       "      <td>0.000000</td>\n",
       "      <td>0.000000</td>\n",
       "      <td>0.000000</td>\n",
       "      <td>0.000000</td>\n",
       "      <td>0.000000</td>\n",
       "      <td>G</td>\n",
       "      <td>1</td>\n",
       "      <td>S</td>\n",
       "    </tr>\n",
       "  </tbody>\n",
       "</table>\n",
       "<p>4277 rows × 14 columns</p>\n",
       "</div>"
      ],
      "text/plain": [
       "     PassengerId HomePlanet  CryoSleep    Destination       Age    VIP  \\\n",
       "0        0013_01      Earth       True    TRAPPIST-1e  0.055556  False   \n",
       "1        0018_01      Earth      False    TRAPPIST-1e -0.388889  False   \n",
       "2        0019_01     Europa       True    55 Cancri e  0.277778  False   \n",
       "3        0021_01     Europa      False    TRAPPIST-1e  0.666667  False   \n",
       "4        0023_01      Earth      False    TRAPPIST-1e -0.333333  False   \n",
       "...          ...        ...        ...            ...       ...    ...   \n",
       "4272     9266_02      Earth       True    TRAPPIST-1e  0.444444  False   \n",
       "4273     9269_01      Earth      False    TRAPPIST-1e  0.888889  False   \n",
       "4274     9271_01       Mars       True    55 Cancri e -0.444444  False   \n",
       "4275     9273_01     Europa      False           None -0.444444  False   \n",
       "4276     9277_01      Earth       True  PSO J318.5-22  0.944444  False   \n",
       "\n",
       "      RoomService   FoodCourt  ShoppingMall        Spa     VRDeck Deck  Num  \\\n",
       "0        0.000000    0.000000      0.000000   0.000000   0.000000    G    0   \n",
       "1        0.000000    0.136364      0.000000  65.651163   0.000000    F    0   \n",
       "2        0.000000    0.000000      0.000000   0.000000   0.000000    C    0   \n",
       "3        0.000000  100.787879      0.000000   4.209302  18.870968    C    0   \n",
       "4        0.208333    0.000000     23.518519   0.000000   0.000000    F    0   \n",
       "...           ...         ...           ...        ...        ...  ...  ...   \n",
       "4272     0.000000    0.000000      0.000000   0.000000   0.000000    G    1   \n",
       "4273     0.000000   12.833333      0.629630   0.232558   4.645161    A    0   \n",
       "4274     0.000000    0.000000      0.000000   0.000000   0.000000    D    0   \n",
       "4275     0.000000   40.606061      0.000000   0.000000  16.870968    D    0   \n",
       "4276     0.000000    0.000000      0.000000   0.000000   0.000000    G    1   \n",
       "\n",
       "     Side  \n",
       "0       S  \n",
       "1       S  \n",
       "2       S  \n",
       "3       S  \n",
       "4       S  \n",
       "...   ...  \n",
       "4272    S  \n",
       "4273    A  \n",
       "4274    P  \n",
       "4275    P  \n",
       "4276    S  \n",
       "\n",
       "[4277 rows x 14 columns]"
      ]
     },
     "execution_count": 75,
     "metadata": {},
     "output_type": "execute_result"
    }
   ],
   "source": [
    "test"
   ]
  },
  {
   "cell_type": "code",
   "execution_count": 76,
   "id": "c8c9e5b5",
   "metadata": {
    "execution": {
     "iopub.execute_input": "2022-03-03T10:31:07.200272Z",
     "iopub.status.busy": "2022-03-03T10:31:07.199626Z",
     "iopub.status.idle": "2022-03-03T10:31:07.223560Z",
     "shell.execute_reply": "2022-03-03T10:31:07.224159Z",
     "shell.execute_reply.started": "2022-02-25T19:10:16.302267Z"
    },
    "papermill": {
     "duration": 0.229935,
     "end_time": "2022-03-03T10:31:07.224322",
     "exception": false,
     "start_time": "2022-03-03T10:31:06.994387",
     "status": "completed"
    },
    "tags": []
   },
   "outputs": [
    {
     "data": {
      "text/html": [
       "<div>\n",
       "<style scoped>\n",
       "    .dataframe tbody tr th:only-of-type {\n",
       "        vertical-align: middle;\n",
       "    }\n",
       "\n",
       "    .dataframe tbody tr th {\n",
       "        vertical-align: top;\n",
       "    }\n",
       "\n",
       "    .dataframe thead th {\n",
       "        text-align: right;\n",
       "    }\n",
       "</style>\n",
       "<table border=\"1\" class=\"dataframe\">\n",
       "  <thead>\n",
       "    <tr style=\"text-align: right;\">\n",
       "      <th></th>\n",
       "      <th>HomePlanet</th>\n",
       "      <th>CryoSleep</th>\n",
       "      <th>Destination</th>\n",
       "      <th>Age</th>\n",
       "      <th>VIP</th>\n",
       "      <th>RoomService</th>\n",
       "      <th>FoodCourt</th>\n",
       "      <th>ShoppingMall</th>\n",
       "      <th>Spa</th>\n",
       "      <th>VRDeck</th>\n",
       "      <th>Transported</th>\n",
       "      <th>Deck</th>\n",
       "      <th>Num</th>\n",
       "      <th>Side</th>\n",
       "    </tr>\n",
       "  </thead>\n",
       "  <tbody>\n",
       "    <tr>\n",
       "      <th>0</th>\n",
       "      <td>Europa</td>\n",
       "      <td>False</td>\n",
       "      <td>TRAPPIST-1e</td>\n",
       "      <td>0.705882</td>\n",
       "      <td>False</td>\n",
       "      <td>0.000000</td>\n",
       "      <td>0.000000</td>\n",
       "      <td>0.000000</td>\n",
       "      <td>0.000000</td>\n",
       "      <td>0.000</td>\n",
       "      <td>False</td>\n",
       "      <td>B</td>\n",
       "      <td>-0.489771</td>\n",
       "      <td>P</td>\n",
       "    </tr>\n",
       "    <tr>\n",
       "      <th>1</th>\n",
       "      <td>Earth</td>\n",
       "      <td>False</td>\n",
       "      <td>TRAPPIST-1e</td>\n",
       "      <td>-0.176471</td>\n",
       "      <td>False</td>\n",
       "      <td>2.658537</td>\n",
       "      <td>0.147541</td>\n",
       "      <td>1.136364</td>\n",
       "      <td>10.358491</td>\n",
       "      <td>1.100</td>\n",
       "      <td>True</td>\n",
       "      <td>F</td>\n",
       "      <td>-0.489771</td>\n",
       "      <td>S</td>\n",
       "    </tr>\n",
       "    <tr>\n",
       "      <th>2</th>\n",
       "      <td>Europa</td>\n",
       "      <td>False</td>\n",
       "      <td>TRAPPIST-1e</td>\n",
       "      <td>1.823529</td>\n",
       "      <td>True</td>\n",
       "      <td>1.048780</td>\n",
       "      <td>58.622951</td>\n",
       "      <td>0.000000</td>\n",
       "      <td>126.698113</td>\n",
       "      <td>1.225</td>\n",
       "      <td>False</td>\n",
       "      <td>A</td>\n",
       "      <td>-0.489771</td>\n",
       "      <td>S</td>\n",
       "    </tr>\n",
       "    <tr>\n",
       "      <th>3</th>\n",
       "      <td>Europa</td>\n",
       "      <td>False</td>\n",
       "      <td>TRAPPIST-1e</td>\n",
       "      <td>0.352941</td>\n",
       "      <td>False</td>\n",
       "      <td>0.000000</td>\n",
       "      <td>21.032787</td>\n",
       "      <td>16.863636</td>\n",
       "      <td>62.811321</td>\n",
       "      <td>4.825</td>\n",
       "      <td>False</td>\n",
       "      <td>A</td>\n",
       "      <td>-0.489771</td>\n",
       "      <td>S</td>\n",
       "    </tr>\n",
       "    <tr>\n",
       "      <th>4</th>\n",
       "      <td>Earth</td>\n",
       "      <td>False</td>\n",
       "      <td>TRAPPIST-1e</td>\n",
       "      <td>-0.647059</td>\n",
       "      <td>False</td>\n",
       "      <td>7.390244</td>\n",
       "      <td>1.147541</td>\n",
       "      <td>6.863636</td>\n",
       "      <td>10.660377</td>\n",
       "      <td>0.050</td>\n",
       "      <td>True</td>\n",
       "      <td>F</td>\n",
       "      <td>-0.488568</td>\n",
       "      <td>S</td>\n",
       "    </tr>\n",
       "    <tr>\n",
       "      <th>...</th>\n",
       "      <td>...</td>\n",
       "      <td>...</td>\n",
       "      <td>...</td>\n",
       "      <td>...</td>\n",
       "      <td>...</td>\n",
       "      <td>...</td>\n",
       "      <td>...</td>\n",
       "      <td>...</td>\n",
       "      <td>...</td>\n",
       "      <td>...</td>\n",
       "      <td>...</td>\n",
       "      <td>...</td>\n",
       "      <td>...</td>\n",
       "      <td>...</td>\n",
       "    </tr>\n",
       "    <tr>\n",
       "      <th>8688</th>\n",
       "      <td>Europa</td>\n",
       "      <td>False</td>\n",
       "      <td>55 Cancri e</td>\n",
       "      <td>0.823529</td>\n",
       "      <td>True</td>\n",
       "      <td>0.000000</td>\n",
       "      <td>111.786885</td>\n",
       "      <td>0.000000</td>\n",
       "      <td>31.000000</td>\n",
       "      <td>1.850</td>\n",
       "      <td>False</td>\n",
       "      <td>A</td>\n",
       "      <td>-0.371841</td>\n",
       "      <td>P</td>\n",
       "    </tr>\n",
       "    <tr>\n",
       "      <th>8689</th>\n",
       "      <td>Earth</td>\n",
       "      <td>True</td>\n",
       "      <td>PSO J318.5-22</td>\n",
       "      <td>-0.529412</td>\n",
       "      <td>False</td>\n",
       "      <td>0.000000</td>\n",
       "      <td>0.000000</td>\n",
       "      <td>0.000000</td>\n",
       "      <td>0.000000</td>\n",
       "      <td>0.000</td>\n",
       "      <td>False</td>\n",
       "      <td>G</td>\n",
       "      <td>1.314079</td>\n",
       "      <td>S</td>\n",
       "    </tr>\n",
       "    <tr>\n",
       "      <th>8690</th>\n",
       "      <td>Earth</td>\n",
       "      <td>False</td>\n",
       "      <td>TRAPPIST-1e</td>\n",
       "      <td>-0.058824</td>\n",
       "      <td>False</td>\n",
       "      <td>0.000000</td>\n",
       "      <td>0.000000</td>\n",
       "      <td>85.090909</td>\n",
       "      <td>0.018868</td>\n",
       "      <td>0.000</td>\n",
       "      <td>True</td>\n",
       "      <td>G</td>\n",
       "      <td>1.315283</td>\n",
       "      <td>S</td>\n",
       "    </tr>\n",
       "    <tr>\n",
       "      <th>8691</th>\n",
       "      <td>Europa</td>\n",
       "      <td>False</td>\n",
       "      <td>55 Cancri e</td>\n",
       "      <td>0.294118</td>\n",
       "      <td>False</td>\n",
       "      <td>0.000000</td>\n",
       "      <td>17.196721</td>\n",
       "      <td>0.000000</td>\n",
       "      <td>6.660377</td>\n",
       "      <td>80.875</td>\n",
       "      <td>False</td>\n",
       "      <td>E</td>\n",
       "      <td>0.241877</td>\n",
       "      <td>S</td>\n",
       "    </tr>\n",
       "    <tr>\n",
       "      <th>8692</th>\n",
       "      <td>Europa</td>\n",
       "      <td>False</td>\n",
       "      <td>TRAPPIST-1e</td>\n",
       "      <td>1.000000</td>\n",
       "      <td>False</td>\n",
       "      <td>3.073171</td>\n",
       "      <td>76.852459</td>\n",
       "      <td>0.000000</td>\n",
       "      <td>0.000000</td>\n",
       "      <td>0.300</td>\n",
       "      <td>True</td>\n",
       "      <td>E</td>\n",
       "      <td>0.241877</td>\n",
       "      <td>S</td>\n",
       "    </tr>\n",
       "  </tbody>\n",
       "</table>\n",
       "<p>8693 rows × 14 columns</p>\n",
       "</div>"
      ],
      "text/plain": [
       "     HomePlanet  CryoSleep    Destination       Age    VIP  RoomService  \\\n",
       "0        Europa      False    TRAPPIST-1e  0.705882  False     0.000000   \n",
       "1         Earth      False    TRAPPIST-1e -0.176471  False     2.658537   \n",
       "2        Europa      False    TRAPPIST-1e  1.823529   True     1.048780   \n",
       "3        Europa      False    TRAPPIST-1e  0.352941  False     0.000000   \n",
       "4         Earth      False    TRAPPIST-1e -0.647059  False     7.390244   \n",
       "...         ...        ...            ...       ...    ...          ...   \n",
       "8688     Europa      False    55 Cancri e  0.823529   True     0.000000   \n",
       "8689      Earth       True  PSO J318.5-22 -0.529412  False     0.000000   \n",
       "8690      Earth      False    TRAPPIST-1e -0.058824  False     0.000000   \n",
       "8691     Europa      False    55 Cancri e  0.294118  False     0.000000   \n",
       "8692     Europa      False    TRAPPIST-1e  1.000000  False     3.073171   \n",
       "\n",
       "       FoodCourt  ShoppingMall         Spa  VRDeck  Transported Deck  \\\n",
       "0       0.000000      0.000000    0.000000   0.000        False    B   \n",
       "1       0.147541      1.136364   10.358491   1.100         True    F   \n",
       "2      58.622951      0.000000  126.698113   1.225        False    A   \n",
       "3      21.032787     16.863636   62.811321   4.825        False    A   \n",
       "4       1.147541      6.863636   10.660377   0.050         True    F   \n",
       "...          ...           ...         ...     ...          ...  ...   \n",
       "8688  111.786885      0.000000   31.000000   1.850        False    A   \n",
       "8689    0.000000      0.000000    0.000000   0.000        False    G   \n",
       "8690    0.000000     85.090909    0.018868   0.000         True    G   \n",
       "8691   17.196721      0.000000    6.660377  80.875        False    E   \n",
       "8692   76.852459      0.000000    0.000000   0.300         True    E   \n",
       "\n",
       "           Num Side  \n",
       "0    -0.489771    P  \n",
       "1    -0.489771    S  \n",
       "2    -0.489771    S  \n",
       "3    -0.489771    S  \n",
       "4    -0.488568    S  \n",
       "...        ...  ...  \n",
       "8688 -0.371841    P  \n",
       "8689  1.314079    S  \n",
       "8690  1.315283    S  \n",
       "8691  0.241877    S  \n",
       "8692  0.241877    S  \n",
       "\n",
       "[8693 rows x 14 columns]"
      ]
     },
     "execution_count": 76,
     "metadata": {},
     "output_type": "execute_result"
    }
   ],
   "source": [
    "train"
   ]
  },
  {
   "cell_type": "code",
   "execution_count": 77,
   "id": "34d4edf3",
   "metadata": {
    "execution": {
     "iopub.execute_input": "2022-03-03T10:31:07.635622Z",
     "iopub.status.busy": "2022-03-03T10:31:07.635011Z",
     "iopub.status.idle": "2022-03-03T10:31:07.639149Z",
     "shell.execute_reply": "2022-03-03T10:31:07.638551Z",
     "shell.execute_reply.started": "2022-02-25T19:10:16.642212Z"
    },
    "papermill": {
     "duration": 0.21343,
     "end_time": "2022-03-03T10:31:07.639272",
     "exception": false,
     "start_time": "2022-03-03T10:31:07.425842",
     "status": "completed"
    },
    "tags": []
   },
   "outputs": [],
   "source": [
    "#cols=['HomePlanet', 'CryoSleep', 'Destination', 'Age', 'VIP', 'RoomService','FoodCourt', 'ShoppingMall', 'Spa', 'VRDeck', 'Deck','Num', 'Side']\n",
    "cols=[ 'Deck','Side']"
   ]
  },
  {
   "cell_type": "code",
   "execution_count": 78,
   "id": "eb2c3ca1",
   "metadata": {
    "execution": {
     "iopub.execute_input": "2022-03-03T10:31:08.048279Z",
     "iopub.status.busy": "2022-03-03T10:31:08.047719Z",
     "iopub.status.idle": "2022-03-03T10:31:08.052127Z",
     "shell.execute_reply": "2022-03-03T10:31:08.052790Z",
     "shell.execute_reply.started": "2022-02-25T19:10:17.119029Z"
    },
    "papermill": {
     "duration": 0.211543,
     "end_time": "2022-03-03T10:31:08.053003",
     "exception": false,
     "start_time": "2022-03-03T10:31:07.841460",
     "status": "completed"
    },
    "tags": []
   },
   "outputs": [],
   "source": [
    "train1=train.copy()"
   ]
  },
  {
   "cell_type": "code",
   "execution_count": 79,
   "id": "dad2915a",
   "metadata": {
    "execution": {
     "iopub.execute_input": "2022-03-03T10:31:08.460688Z",
     "iopub.status.busy": "2022-03-03T10:31:08.460050Z",
     "iopub.status.idle": "2022-03-03T10:31:08.462482Z",
     "shell.execute_reply": "2022-03-03T10:31:08.462969Z",
     "shell.execute_reply.started": "2022-02-25T19:10:17.462204Z"
    },
    "papermill": {
     "duration": 0.20931,
     "end_time": "2022-03-03T10:31:08.463117",
     "exception": false,
     "start_time": "2022-03-03T10:31:08.253807",
     "status": "completed"
    },
    "tags": []
   },
   "outputs": [
    {
     "data": {
      "text/plain": [
       "Index(['PassengerId', 'HomePlanet', 'CryoSleep', 'Destination', 'Age', 'VIP',\n",
       "       'RoomService', 'FoodCourt', 'ShoppingMall', 'Spa', 'VRDeck', 'Deck',\n",
       "       'Num', 'Side'],\n",
       "      dtype='object')"
      ]
     },
     "execution_count": 79,
     "metadata": {},
     "output_type": "execute_result"
    }
   ],
   "source": [
    "test.columns"
   ]
  },
  {
   "cell_type": "code",
   "execution_count": 80,
   "id": "691d2be8",
   "metadata": {
    "execution": {
     "iopub.execute_input": "2022-03-03T10:31:08.870301Z",
     "iopub.status.busy": "2022-03-03T10:31:08.869660Z",
     "iopub.status.idle": "2022-03-03T10:31:08.895888Z",
     "shell.execute_reply": "2022-03-03T10:31:08.895316Z",
     "shell.execute_reply.started": "2022-02-25T19:10:17.899867Z"
    },
    "papermill": {
     "duration": 0.230062,
     "end_time": "2022-03-03T10:31:08.896028",
     "exception": false,
     "start_time": "2022-03-03T10:31:08.665966",
     "status": "completed"
    },
    "tags": []
   },
   "outputs": [],
   "source": [
    "data = pd.concat([train[['HomePlanet', 'CryoSleep', 'Destination', 'Age', 'VIP',\n",
    "       'RoomService', 'FoodCourt', 'ShoppingMall', 'Spa', 'VRDeck', 'Deck',\n",
    "       'Num', 'Side']], test])\n",
    "features_cat = ['HomePlanet','CryoSleep' ,'Destination', 'VIP', 'Side','Deck']\n",
    "for feature in cols:\n",
    "    data[pd.get_dummies(data[feature], prefix=feature).columns] = pd.get_dummies(data[feature], prefix=feature)"
   ]
  },
  {
   "cell_type": "code",
   "execution_count": 81,
   "id": "833b4d85",
   "metadata": {
    "execution": {
     "iopub.execute_input": "2022-03-03T10:31:09.304589Z",
     "iopub.status.busy": "2022-03-03T10:31:09.304032Z",
     "iopub.status.idle": "2022-03-03T10:31:09.310023Z",
     "shell.execute_reply": "2022-03-03T10:31:09.310565Z",
     "shell.execute_reply.started": "2022-02-25T19:10:18.399027Z"
    },
    "papermill": {
     "duration": 0.212179,
     "end_time": "2022-03-03T10:31:09.310744",
     "exception": false,
     "start_time": "2022-03-03T10:31:09.098565",
     "status": "completed"
    },
    "tags": []
   },
   "outputs": [],
   "source": [
    "data['Destination'] = data['Destination'].map({'55 Cancri e': 0, 'PSO J318.5-22': 1,\n",
    "                                                   'TRAPPIST-1e': 2, 'None': 3})"
   ]
  },
  {
   "cell_type": "code",
   "execution_count": 82,
   "id": "68abb982",
   "metadata": {
    "execution": {
     "iopub.execute_input": "2022-03-03T10:31:09.780894Z",
     "iopub.status.busy": "2022-03-03T10:31:09.780263Z",
     "iopub.status.idle": "2022-03-03T10:31:09.786264Z",
     "shell.execute_reply": "2022-03-03T10:31:09.786860Z",
     "shell.execute_reply.started": "2022-02-25T19:10:18.923767Z"
    },
    "papermill": {
     "duration": 0.212612,
     "end_time": "2022-03-03T10:31:09.787014",
     "exception": false,
     "start_time": "2022-03-03T10:31:09.574402",
     "status": "completed"
    },
    "tags": []
   },
   "outputs": [],
   "source": [
    "data['HomePlanet'] = data['HomePlanet'].map({'Earth': 0, 'Europa': 1,\n",
    "                                                 'Mars': 2, 'None': 3})"
   ]
  },
  {
   "cell_type": "code",
   "execution_count": 83,
   "id": "861b3422",
   "metadata": {
    "execution": {
     "iopub.execute_input": "2022-03-03T10:31:10.196337Z",
     "iopub.status.busy": "2022-03-03T10:31:10.195661Z",
     "iopub.status.idle": "2022-03-03T10:31:10.225146Z",
     "shell.execute_reply": "2022-03-03T10:31:10.225737Z",
     "shell.execute_reply.started": "2022-02-25T19:10:19.447544Z"
    },
    "papermill": {
     "duration": 0.235933,
     "end_time": "2022-03-03T10:31:10.225898",
     "exception": false,
     "start_time": "2022-03-03T10:31:09.989965",
     "status": "completed"
    },
    "tags": []
   },
   "outputs": [
    {
     "data": {
      "text/html": [
       "<div>\n",
       "<style scoped>\n",
       "    .dataframe tbody tr th:only-of-type {\n",
       "        vertical-align: middle;\n",
       "    }\n",
       "\n",
       "    .dataframe tbody tr th {\n",
       "        vertical-align: top;\n",
       "    }\n",
       "\n",
       "    .dataframe thead th {\n",
       "        text-align: right;\n",
       "    }\n",
       "</style>\n",
       "<table border=\"1\" class=\"dataframe\">\n",
       "  <thead>\n",
       "    <tr style=\"text-align: right;\">\n",
       "      <th></th>\n",
       "      <th>HomePlanet</th>\n",
       "      <th>CryoSleep</th>\n",
       "      <th>Destination</th>\n",
       "      <th>Age</th>\n",
       "      <th>VIP</th>\n",
       "      <th>RoomService</th>\n",
       "      <th>FoodCourt</th>\n",
       "      <th>ShoppingMall</th>\n",
       "      <th>Spa</th>\n",
       "      <th>VRDeck</th>\n",
       "      <th>...</th>\n",
       "      <th>Deck_B</th>\n",
       "      <th>Deck_C</th>\n",
       "      <th>Deck_D</th>\n",
       "      <th>Deck_E</th>\n",
       "      <th>Deck_F</th>\n",
       "      <th>Deck_G</th>\n",
       "      <th>Deck_T</th>\n",
       "      <th>Side_A</th>\n",
       "      <th>Side_P</th>\n",
       "      <th>Side_S</th>\n",
       "    </tr>\n",
       "  </thead>\n",
       "  <tbody>\n",
       "    <tr>\n",
       "      <th>0</th>\n",
       "      <td>1</td>\n",
       "      <td>False</td>\n",
       "      <td>2</td>\n",
       "      <td>0.705882</td>\n",
       "      <td>False</td>\n",
       "      <td>0.000000</td>\n",
       "      <td>0.000000</td>\n",
       "      <td>0.000000</td>\n",
       "      <td>0.000000</td>\n",
       "      <td>0.000000</td>\n",
       "      <td>...</td>\n",
       "      <td>1</td>\n",
       "      <td>0</td>\n",
       "      <td>0</td>\n",
       "      <td>0</td>\n",
       "      <td>0</td>\n",
       "      <td>0</td>\n",
       "      <td>0</td>\n",
       "      <td>0</td>\n",
       "      <td>1</td>\n",
       "      <td>0</td>\n",
       "    </tr>\n",
       "    <tr>\n",
       "      <th>1</th>\n",
       "      <td>0</td>\n",
       "      <td>False</td>\n",
       "      <td>2</td>\n",
       "      <td>-0.176471</td>\n",
       "      <td>False</td>\n",
       "      <td>2.658537</td>\n",
       "      <td>0.147541</td>\n",
       "      <td>1.136364</td>\n",
       "      <td>10.358491</td>\n",
       "      <td>1.100000</td>\n",
       "      <td>...</td>\n",
       "      <td>0</td>\n",
       "      <td>0</td>\n",
       "      <td>0</td>\n",
       "      <td>0</td>\n",
       "      <td>1</td>\n",
       "      <td>0</td>\n",
       "      <td>0</td>\n",
       "      <td>0</td>\n",
       "      <td>0</td>\n",
       "      <td>1</td>\n",
       "    </tr>\n",
       "    <tr>\n",
       "      <th>2</th>\n",
       "      <td>1</td>\n",
       "      <td>False</td>\n",
       "      <td>2</td>\n",
       "      <td>1.823529</td>\n",
       "      <td>True</td>\n",
       "      <td>1.048780</td>\n",
       "      <td>58.622951</td>\n",
       "      <td>0.000000</td>\n",
       "      <td>126.698113</td>\n",
       "      <td>1.225000</td>\n",
       "      <td>...</td>\n",
       "      <td>0</td>\n",
       "      <td>0</td>\n",
       "      <td>0</td>\n",
       "      <td>0</td>\n",
       "      <td>0</td>\n",
       "      <td>0</td>\n",
       "      <td>0</td>\n",
       "      <td>0</td>\n",
       "      <td>0</td>\n",
       "      <td>1</td>\n",
       "    </tr>\n",
       "    <tr>\n",
       "      <th>3</th>\n",
       "      <td>1</td>\n",
       "      <td>False</td>\n",
       "      <td>2</td>\n",
       "      <td>0.352941</td>\n",
       "      <td>False</td>\n",
       "      <td>0.000000</td>\n",
       "      <td>21.032787</td>\n",
       "      <td>16.863636</td>\n",
       "      <td>62.811321</td>\n",
       "      <td>4.825000</td>\n",
       "      <td>...</td>\n",
       "      <td>0</td>\n",
       "      <td>0</td>\n",
       "      <td>0</td>\n",
       "      <td>0</td>\n",
       "      <td>0</td>\n",
       "      <td>0</td>\n",
       "      <td>0</td>\n",
       "      <td>0</td>\n",
       "      <td>0</td>\n",
       "      <td>1</td>\n",
       "    </tr>\n",
       "    <tr>\n",
       "      <th>4</th>\n",
       "      <td>0</td>\n",
       "      <td>False</td>\n",
       "      <td>2</td>\n",
       "      <td>-0.647059</td>\n",
       "      <td>False</td>\n",
       "      <td>7.390244</td>\n",
       "      <td>1.147541</td>\n",
       "      <td>6.863636</td>\n",
       "      <td>10.660377</td>\n",
       "      <td>0.050000</td>\n",
       "      <td>...</td>\n",
       "      <td>0</td>\n",
       "      <td>0</td>\n",
       "      <td>0</td>\n",
       "      <td>0</td>\n",
       "      <td>1</td>\n",
       "      <td>0</td>\n",
       "      <td>0</td>\n",
       "      <td>0</td>\n",
       "      <td>0</td>\n",
       "      <td>1</td>\n",
       "    </tr>\n",
       "    <tr>\n",
       "      <th>...</th>\n",
       "      <td>...</td>\n",
       "      <td>...</td>\n",
       "      <td>...</td>\n",
       "      <td>...</td>\n",
       "      <td>...</td>\n",
       "      <td>...</td>\n",
       "      <td>...</td>\n",
       "      <td>...</td>\n",
       "      <td>...</td>\n",
       "      <td>...</td>\n",
       "      <td>...</td>\n",
       "      <td>...</td>\n",
       "      <td>...</td>\n",
       "      <td>...</td>\n",
       "      <td>...</td>\n",
       "      <td>...</td>\n",
       "      <td>...</td>\n",
       "      <td>...</td>\n",
       "      <td>...</td>\n",
       "      <td>...</td>\n",
       "      <td>...</td>\n",
       "    </tr>\n",
       "    <tr>\n",
       "      <th>4272</th>\n",
       "      <td>0</td>\n",
       "      <td>True</td>\n",
       "      <td>2</td>\n",
       "      <td>0.444444</td>\n",
       "      <td>False</td>\n",
       "      <td>0.000000</td>\n",
       "      <td>0.000000</td>\n",
       "      <td>0.000000</td>\n",
       "      <td>0.000000</td>\n",
       "      <td>0.000000</td>\n",
       "      <td>...</td>\n",
       "      <td>0</td>\n",
       "      <td>0</td>\n",
       "      <td>0</td>\n",
       "      <td>0</td>\n",
       "      <td>0</td>\n",
       "      <td>1</td>\n",
       "      <td>0</td>\n",
       "      <td>0</td>\n",
       "      <td>0</td>\n",
       "      <td>1</td>\n",
       "    </tr>\n",
       "    <tr>\n",
       "      <th>4273</th>\n",
       "      <td>0</td>\n",
       "      <td>False</td>\n",
       "      <td>2</td>\n",
       "      <td>0.888889</td>\n",
       "      <td>False</td>\n",
       "      <td>0.000000</td>\n",
       "      <td>12.833333</td>\n",
       "      <td>0.629630</td>\n",
       "      <td>0.232558</td>\n",
       "      <td>4.645161</td>\n",
       "      <td>...</td>\n",
       "      <td>0</td>\n",
       "      <td>0</td>\n",
       "      <td>0</td>\n",
       "      <td>0</td>\n",
       "      <td>0</td>\n",
       "      <td>0</td>\n",
       "      <td>0</td>\n",
       "      <td>1</td>\n",
       "      <td>0</td>\n",
       "      <td>0</td>\n",
       "    </tr>\n",
       "    <tr>\n",
       "      <th>4274</th>\n",
       "      <td>2</td>\n",
       "      <td>True</td>\n",
       "      <td>0</td>\n",
       "      <td>-0.444444</td>\n",
       "      <td>False</td>\n",
       "      <td>0.000000</td>\n",
       "      <td>0.000000</td>\n",
       "      <td>0.000000</td>\n",
       "      <td>0.000000</td>\n",
       "      <td>0.000000</td>\n",
       "      <td>...</td>\n",
       "      <td>0</td>\n",
       "      <td>0</td>\n",
       "      <td>1</td>\n",
       "      <td>0</td>\n",
       "      <td>0</td>\n",
       "      <td>0</td>\n",
       "      <td>0</td>\n",
       "      <td>0</td>\n",
       "      <td>1</td>\n",
       "      <td>0</td>\n",
       "    </tr>\n",
       "    <tr>\n",
       "      <th>4275</th>\n",
       "      <td>1</td>\n",
       "      <td>False</td>\n",
       "      <td>3</td>\n",
       "      <td>-0.444444</td>\n",
       "      <td>False</td>\n",
       "      <td>0.000000</td>\n",
       "      <td>40.606061</td>\n",
       "      <td>0.000000</td>\n",
       "      <td>0.000000</td>\n",
       "      <td>16.870968</td>\n",
       "      <td>...</td>\n",
       "      <td>0</td>\n",
       "      <td>0</td>\n",
       "      <td>1</td>\n",
       "      <td>0</td>\n",
       "      <td>0</td>\n",
       "      <td>0</td>\n",
       "      <td>0</td>\n",
       "      <td>0</td>\n",
       "      <td>1</td>\n",
       "      <td>0</td>\n",
       "    </tr>\n",
       "    <tr>\n",
       "      <th>4276</th>\n",
       "      <td>0</td>\n",
       "      <td>True</td>\n",
       "      <td>1</td>\n",
       "      <td>0.944444</td>\n",
       "      <td>False</td>\n",
       "      <td>0.000000</td>\n",
       "      <td>0.000000</td>\n",
       "      <td>0.000000</td>\n",
       "      <td>0.000000</td>\n",
       "      <td>0.000000</td>\n",
       "      <td>...</td>\n",
       "      <td>0</td>\n",
       "      <td>0</td>\n",
       "      <td>0</td>\n",
       "      <td>0</td>\n",
       "      <td>0</td>\n",
       "      <td>1</td>\n",
       "      <td>0</td>\n",
       "      <td>0</td>\n",
       "      <td>0</td>\n",
       "      <td>1</td>\n",
       "    </tr>\n",
       "  </tbody>\n",
       "</table>\n",
       "<p>12970 rows × 25 columns</p>\n",
       "</div>"
      ],
      "text/plain": [
       "      HomePlanet  CryoSleep  Destination       Age    VIP  RoomService  \\\n",
       "0              1      False            2  0.705882  False     0.000000   \n",
       "1              0      False            2 -0.176471  False     2.658537   \n",
       "2              1      False            2  1.823529   True     1.048780   \n",
       "3              1      False            2  0.352941  False     0.000000   \n",
       "4              0      False            2 -0.647059  False     7.390244   \n",
       "...          ...        ...          ...       ...    ...          ...   \n",
       "4272           0       True            2  0.444444  False     0.000000   \n",
       "4273           0      False            2  0.888889  False     0.000000   \n",
       "4274           2       True            0 -0.444444  False     0.000000   \n",
       "4275           1      False            3 -0.444444  False     0.000000   \n",
       "4276           0       True            1  0.944444  False     0.000000   \n",
       "\n",
       "      FoodCourt  ShoppingMall         Spa     VRDeck  ... Deck_B  Deck_C  \\\n",
       "0      0.000000      0.000000    0.000000   0.000000  ...      1       0   \n",
       "1      0.147541      1.136364   10.358491   1.100000  ...      0       0   \n",
       "2     58.622951      0.000000  126.698113   1.225000  ...      0       0   \n",
       "3     21.032787     16.863636   62.811321   4.825000  ...      0       0   \n",
       "4      1.147541      6.863636   10.660377   0.050000  ...      0       0   \n",
       "...         ...           ...         ...        ...  ...    ...     ...   \n",
       "4272   0.000000      0.000000    0.000000   0.000000  ...      0       0   \n",
       "4273  12.833333      0.629630    0.232558   4.645161  ...      0       0   \n",
       "4274   0.000000      0.000000    0.000000   0.000000  ...      0       0   \n",
       "4275  40.606061      0.000000    0.000000  16.870968  ...      0       0   \n",
       "4276   0.000000      0.000000    0.000000   0.000000  ...      0       0   \n",
       "\n",
       "     Deck_D Deck_E  Deck_F  Deck_G  Deck_T  Side_A  Side_P  Side_S  \n",
       "0         0      0       0       0       0       0       1       0  \n",
       "1         0      0       1       0       0       0       0       1  \n",
       "2         0      0       0       0       0       0       0       1  \n",
       "3         0      0       0       0       0       0       0       1  \n",
       "4         0      0       1       0       0       0       0       1  \n",
       "...     ...    ...     ...     ...     ...     ...     ...     ...  \n",
       "4272      0      0       0       1       0       0       0       1  \n",
       "4273      0      0       0       0       0       1       0       0  \n",
       "4274      1      0       0       0       0       0       1       0  \n",
       "4275      1      0       0       0       0       0       1       0  \n",
       "4276      0      0       0       1       0       0       0       1  \n",
       "\n",
       "[12970 rows x 25 columns]"
      ]
     },
     "execution_count": 83,
     "metadata": {},
     "output_type": "execute_result"
    }
   ],
   "source": [
    "data"
   ]
  },
  {
   "cell_type": "code",
   "execution_count": 84,
   "id": "b94d2d32",
   "metadata": {
    "execution": {
     "iopub.execute_input": "2022-03-03T10:31:10.640325Z",
     "iopub.status.busy": "2022-03-03T10:31:10.639749Z",
     "iopub.status.idle": "2022-03-03T10:31:10.644399Z",
     "shell.execute_reply": "2022-03-03T10:31:10.645001Z",
     "shell.execute_reply.started": "2022-02-25T19:10:19.827206Z"
    },
    "papermill": {
     "duration": 0.21248,
     "end_time": "2022-03-03T10:31:10.645159",
     "exception": false,
     "start_time": "2022-03-03T10:31:10.432679",
     "status": "completed"
    },
    "tags": []
   },
   "outputs": [
    {
     "data": {
      "text/plain": [
       "Index(['HomePlanet', 'CryoSleep', 'Destination', 'Age', 'VIP', 'RoomService',\n",
       "       'FoodCourt', 'ShoppingMall', 'Spa', 'VRDeck', 'Deck', 'Num', 'Side',\n",
       "       'PassengerId', 'Deck_A', 'Deck_B', 'Deck_C', 'Deck_D', 'Deck_E',\n",
       "       'Deck_F', 'Deck_G', 'Deck_T', 'Side_A', 'Side_P', 'Side_S'],\n",
       "      dtype='object')"
      ]
     },
     "execution_count": 84,
     "metadata": {},
     "output_type": "execute_result"
    }
   ],
   "source": [
    "data.columns"
   ]
  },
  {
   "cell_type": "code",
   "execution_count": 85,
   "id": "11680892",
   "metadata": {
    "execution": {
     "iopub.execute_input": "2022-03-03T10:31:11.065234Z",
     "iopub.status.busy": "2022-03-03T10:31:11.064484Z",
     "iopub.status.idle": "2022-03-03T10:31:11.071830Z",
     "shell.execute_reply": "2022-03-03T10:31:11.072472Z",
     "shell.execute_reply.started": "2022-02-25T19:10:20.48894Z"
    },
    "papermill": {
     "duration": 0.218468,
     "end_time": "2022-03-03T10:31:11.072644",
     "exception": false,
     "start_time": "2022-03-03T10:31:10.854176",
     "status": "completed"
    },
    "tags": []
   },
   "outputs": [],
   "source": [
    "data.drop(['Deck', 'Side'], axis=1, inplace=True)"
   ]
  },
  {
   "cell_type": "code",
   "execution_count": 86,
   "id": "ca49260c",
   "metadata": {
    "execution": {
     "iopub.execute_input": "2022-03-03T10:31:11.488167Z",
     "iopub.status.busy": "2022-03-03T10:31:11.487539Z",
     "iopub.status.idle": "2022-03-03T10:31:11.490991Z",
     "shell.execute_reply": "2022-03-03T10:31:11.491543Z",
     "shell.execute_reply.started": "2022-02-25T19:10:21.011171Z"
    },
    "papermill": {
     "duration": 0.212612,
     "end_time": "2022-03-03T10:31:11.491718",
     "exception": false,
     "start_time": "2022-03-03T10:31:11.279106",
     "status": "completed"
    },
    "tags": []
   },
   "outputs": [],
   "source": [
    "X = data[:len(train)]\n",
    "y = train['Transported']"
   ]
  },
  {
   "cell_type": "code",
   "execution_count": 87,
   "id": "8177564d",
   "metadata": {
    "execution": {
     "iopub.execute_input": "2022-03-03T10:31:11.906100Z",
     "iopub.status.busy": "2022-03-03T10:31:11.905471Z",
     "iopub.status.idle": "2022-03-03T10:31:11.931829Z",
     "shell.execute_reply": "2022-03-03T10:31:11.932377Z",
     "shell.execute_reply.started": "2022-02-25T19:10:21.5697Z"
    },
    "papermill": {
     "duration": 0.237325,
     "end_time": "2022-03-03T10:31:11.932532",
     "exception": false,
     "start_time": "2022-03-03T10:31:11.695207",
     "status": "completed"
    },
    "tags": []
   },
   "outputs": [
    {
     "data": {
      "text/html": [
       "<div>\n",
       "<style scoped>\n",
       "    .dataframe tbody tr th:only-of-type {\n",
       "        vertical-align: middle;\n",
       "    }\n",
       "\n",
       "    .dataframe tbody tr th {\n",
       "        vertical-align: top;\n",
       "    }\n",
       "\n",
       "    .dataframe thead th {\n",
       "        text-align: right;\n",
       "    }\n",
       "</style>\n",
       "<table border=\"1\" class=\"dataframe\">\n",
       "  <thead>\n",
       "    <tr style=\"text-align: right;\">\n",
       "      <th></th>\n",
       "      <th>HomePlanet</th>\n",
       "      <th>CryoSleep</th>\n",
       "      <th>Destination</th>\n",
       "      <th>Age</th>\n",
       "      <th>VIP</th>\n",
       "      <th>RoomService</th>\n",
       "      <th>FoodCourt</th>\n",
       "      <th>ShoppingMall</th>\n",
       "      <th>Spa</th>\n",
       "      <th>VRDeck</th>\n",
       "      <th>...</th>\n",
       "      <th>Deck_B</th>\n",
       "      <th>Deck_C</th>\n",
       "      <th>Deck_D</th>\n",
       "      <th>Deck_E</th>\n",
       "      <th>Deck_F</th>\n",
       "      <th>Deck_G</th>\n",
       "      <th>Deck_T</th>\n",
       "      <th>Side_A</th>\n",
       "      <th>Side_P</th>\n",
       "      <th>Side_S</th>\n",
       "    </tr>\n",
       "  </thead>\n",
       "  <tbody>\n",
       "    <tr>\n",
       "      <th>0</th>\n",
       "      <td>1</td>\n",
       "      <td>False</td>\n",
       "      <td>2</td>\n",
       "      <td>0.705882</td>\n",
       "      <td>False</td>\n",
       "      <td>0.000000</td>\n",
       "      <td>0.000000</td>\n",
       "      <td>0.000000</td>\n",
       "      <td>0.000000</td>\n",
       "      <td>0.000</td>\n",
       "      <td>...</td>\n",
       "      <td>1</td>\n",
       "      <td>0</td>\n",
       "      <td>0</td>\n",
       "      <td>0</td>\n",
       "      <td>0</td>\n",
       "      <td>0</td>\n",
       "      <td>0</td>\n",
       "      <td>0</td>\n",
       "      <td>1</td>\n",
       "      <td>0</td>\n",
       "    </tr>\n",
       "    <tr>\n",
       "      <th>1</th>\n",
       "      <td>0</td>\n",
       "      <td>False</td>\n",
       "      <td>2</td>\n",
       "      <td>-0.176471</td>\n",
       "      <td>False</td>\n",
       "      <td>2.658537</td>\n",
       "      <td>0.147541</td>\n",
       "      <td>1.136364</td>\n",
       "      <td>10.358491</td>\n",
       "      <td>1.100</td>\n",
       "      <td>...</td>\n",
       "      <td>0</td>\n",
       "      <td>0</td>\n",
       "      <td>0</td>\n",
       "      <td>0</td>\n",
       "      <td>1</td>\n",
       "      <td>0</td>\n",
       "      <td>0</td>\n",
       "      <td>0</td>\n",
       "      <td>0</td>\n",
       "      <td>1</td>\n",
       "    </tr>\n",
       "    <tr>\n",
       "      <th>2</th>\n",
       "      <td>1</td>\n",
       "      <td>False</td>\n",
       "      <td>2</td>\n",
       "      <td>1.823529</td>\n",
       "      <td>True</td>\n",
       "      <td>1.048780</td>\n",
       "      <td>58.622951</td>\n",
       "      <td>0.000000</td>\n",
       "      <td>126.698113</td>\n",
       "      <td>1.225</td>\n",
       "      <td>...</td>\n",
       "      <td>0</td>\n",
       "      <td>0</td>\n",
       "      <td>0</td>\n",
       "      <td>0</td>\n",
       "      <td>0</td>\n",
       "      <td>0</td>\n",
       "      <td>0</td>\n",
       "      <td>0</td>\n",
       "      <td>0</td>\n",
       "      <td>1</td>\n",
       "    </tr>\n",
       "    <tr>\n",
       "      <th>3</th>\n",
       "      <td>1</td>\n",
       "      <td>False</td>\n",
       "      <td>2</td>\n",
       "      <td>0.352941</td>\n",
       "      <td>False</td>\n",
       "      <td>0.000000</td>\n",
       "      <td>21.032787</td>\n",
       "      <td>16.863636</td>\n",
       "      <td>62.811321</td>\n",
       "      <td>4.825</td>\n",
       "      <td>...</td>\n",
       "      <td>0</td>\n",
       "      <td>0</td>\n",
       "      <td>0</td>\n",
       "      <td>0</td>\n",
       "      <td>0</td>\n",
       "      <td>0</td>\n",
       "      <td>0</td>\n",
       "      <td>0</td>\n",
       "      <td>0</td>\n",
       "      <td>1</td>\n",
       "    </tr>\n",
       "    <tr>\n",
       "      <th>4</th>\n",
       "      <td>0</td>\n",
       "      <td>False</td>\n",
       "      <td>2</td>\n",
       "      <td>-0.647059</td>\n",
       "      <td>False</td>\n",
       "      <td>7.390244</td>\n",
       "      <td>1.147541</td>\n",
       "      <td>6.863636</td>\n",
       "      <td>10.660377</td>\n",
       "      <td>0.050</td>\n",
       "      <td>...</td>\n",
       "      <td>0</td>\n",
       "      <td>0</td>\n",
       "      <td>0</td>\n",
       "      <td>0</td>\n",
       "      <td>1</td>\n",
       "      <td>0</td>\n",
       "      <td>0</td>\n",
       "      <td>0</td>\n",
       "      <td>0</td>\n",
       "      <td>1</td>\n",
       "    </tr>\n",
       "    <tr>\n",
       "      <th>...</th>\n",
       "      <td>...</td>\n",
       "      <td>...</td>\n",
       "      <td>...</td>\n",
       "      <td>...</td>\n",
       "      <td>...</td>\n",
       "      <td>...</td>\n",
       "      <td>...</td>\n",
       "      <td>...</td>\n",
       "      <td>...</td>\n",
       "      <td>...</td>\n",
       "      <td>...</td>\n",
       "      <td>...</td>\n",
       "      <td>...</td>\n",
       "      <td>...</td>\n",
       "      <td>...</td>\n",
       "      <td>...</td>\n",
       "      <td>...</td>\n",
       "      <td>...</td>\n",
       "      <td>...</td>\n",
       "      <td>...</td>\n",
       "      <td>...</td>\n",
       "    </tr>\n",
       "    <tr>\n",
       "      <th>8688</th>\n",
       "      <td>1</td>\n",
       "      <td>False</td>\n",
       "      <td>0</td>\n",
       "      <td>0.823529</td>\n",
       "      <td>True</td>\n",
       "      <td>0.000000</td>\n",
       "      <td>111.786885</td>\n",
       "      <td>0.000000</td>\n",
       "      <td>31.000000</td>\n",
       "      <td>1.850</td>\n",
       "      <td>...</td>\n",
       "      <td>0</td>\n",
       "      <td>0</td>\n",
       "      <td>0</td>\n",
       "      <td>0</td>\n",
       "      <td>0</td>\n",
       "      <td>0</td>\n",
       "      <td>0</td>\n",
       "      <td>0</td>\n",
       "      <td>1</td>\n",
       "      <td>0</td>\n",
       "    </tr>\n",
       "    <tr>\n",
       "      <th>8689</th>\n",
       "      <td>0</td>\n",
       "      <td>True</td>\n",
       "      <td>1</td>\n",
       "      <td>-0.529412</td>\n",
       "      <td>False</td>\n",
       "      <td>0.000000</td>\n",
       "      <td>0.000000</td>\n",
       "      <td>0.000000</td>\n",
       "      <td>0.000000</td>\n",
       "      <td>0.000</td>\n",
       "      <td>...</td>\n",
       "      <td>0</td>\n",
       "      <td>0</td>\n",
       "      <td>0</td>\n",
       "      <td>0</td>\n",
       "      <td>0</td>\n",
       "      <td>1</td>\n",
       "      <td>0</td>\n",
       "      <td>0</td>\n",
       "      <td>0</td>\n",
       "      <td>1</td>\n",
       "    </tr>\n",
       "    <tr>\n",
       "      <th>8690</th>\n",
       "      <td>0</td>\n",
       "      <td>False</td>\n",
       "      <td>2</td>\n",
       "      <td>-0.058824</td>\n",
       "      <td>False</td>\n",
       "      <td>0.000000</td>\n",
       "      <td>0.000000</td>\n",
       "      <td>85.090909</td>\n",
       "      <td>0.018868</td>\n",
       "      <td>0.000</td>\n",
       "      <td>...</td>\n",
       "      <td>0</td>\n",
       "      <td>0</td>\n",
       "      <td>0</td>\n",
       "      <td>0</td>\n",
       "      <td>0</td>\n",
       "      <td>1</td>\n",
       "      <td>0</td>\n",
       "      <td>0</td>\n",
       "      <td>0</td>\n",
       "      <td>1</td>\n",
       "    </tr>\n",
       "    <tr>\n",
       "      <th>8691</th>\n",
       "      <td>1</td>\n",
       "      <td>False</td>\n",
       "      <td>0</td>\n",
       "      <td>0.294118</td>\n",
       "      <td>False</td>\n",
       "      <td>0.000000</td>\n",
       "      <td>17.196721</td>\n",
       "      <td>0.000000</td>\n",
       "      <td>6.660377</td>\n",
       "      <td>80.875</td>\n",
       "      <td>...</td>\n",
       "      <td>0</td>\n",
       "      <td>0</td>\n",
       "      <td>0</td>\n",
       "      <td>1</td>\n",
       "      <td>0</td>\n",
       "      <td>0</td>\n",
       "      <td>0</td>\n",
       "      <td>0</td>\n",
       "      <td>0</td>\n",
       "      <td>1</td>\n",
       "    </tr>\n",
       "    <tr>\n",
       "      <th>8692</th>\n",
       "      <td>1</td>\n",
       "      <td>False</td>\n",
       "      <td>2</td>\n",
       "      <td>1.000000</td>\n",
       "      <td>False</td>\n",
       "      <td>3.073171</td>\n",
       "      <td>76.852459</td>\n",
       "      <td>0.000000</td>\n",
       "      <td>0.000000</td>\n",
       "      <td>0.300</td>\n",
       "      <td>...</td>\n",
       "      <td>0</td>\n",
       "      <td>0</td>\n",
       "      <td>0</td>\n",
       "      <td>1</td>\n",
       "      <td>0</td>\n",
       "      <td>0</td>\n",
       "      <td>0</td>\n",
       "      <td>0</td>\n",
       "      <td>0</td>\n",
       "      <td>1</td>\n",
       "    </tr>\n",
       "  </tbody>\n",
       "</table>\n",
       "<p>8693 rows × 23 columns</p>\n",
       "</div>"
      ],
      "text/plain": [
       "      HomePlanet  CryoSleep  Destination       Age    VIP  RoomService  \\\n",
       "0              1      False            2  0.705882  False     0.000000   \n",
       "1              0      False            2 -0.176471  False     2.658537   \n",
       "2              1      False            2  1.823529   True     1.048780   \n",
       "3              1      False            2  0.352941  False     0.000000   \n",
       "4              0      False            2 -0.647059  False     7.390244   \n",
       "...          ...        ...          ...       ...    ...          ...   \n",
       "8688           1      False            0  0.823529   True     0.000000   \n",
       "8689           0       True            1 -0.529412  False     0.000000   \n",
       "8690           0      False            2 -0.058824  False     0.000000   \n",
       "8691           1      False            0  0.294118  False     0.000000   \n",
       "8692           1      False            2  1.000000  False     3.073171   \n",
       "\n",
       "       FoodCourt  ShoppingMall         Spa  VRDeck  ...  Deck_B Deck_C  \\\n",
       "0       0.000000      0.000000    0.000000   0.000  ...       1      0   \n",
       "1       0.147541      1.136364   10.358491   1.100  ...       0      0   \n",
       "2      58.622951      0.000000  126.698113   1.225  ...       0      0   \n",
       "3      21.032787     16.863636   62.811321   4.825  ...       0      0   \n",
       "4       1.147541      6.863636   10.660377   0.050  ...       0      0   \n",
       "...          ...           ...         ...     ...  ...     ...    ...   \n",
       "8688  111.786885      0.000000   31.000000   1.850  ...       0      0   \n",
       "8689    0.000000      0.000000    0.000000   0.000  ...       0      0   \n",
       "8690    0.000000     85.090909    0.018868   0.000  ...       0      0   \n",
       "8691   17.196721      0.000000    6.660377  80.875  ...       0      0   \n",
       "8692   76.852459      0.000000    0.000000   0.300  ...       0      0   \n",
       "\n",
       "      Deck_D  Deck_E  Deck_F  Deck_G  Deck_T  Side_A  Side_P  Side_S  \n",
       "0          0       0       0       0       0       0       1       0  \n",
       "1          0       0       1       0       0       0       0       1  \n",
       "2          0       0       0       0       0       0       0       1  \n",
       "3          0       0       0       0       0       0       0       1  \n",
       "4          0       0       1       0       0       0       0       1  \n",
       "...      ...     ...     ...     ...     ...     ...     ...     ...  \n",
       "8688       0       0       0       0       0       0       1       0  \n",
       "8689       0       0       0       1       0       0       0       1  \n",
       "8690       0       0       0       1       0       0       0       1  \n",
       "8691       0       1       0       0       0       0       0       1  \n",
       "8692       0       1       0       0       0       0       0       1  \n",
       "\n",
       "[8693 rows x 23 columns]"
      ]
     },
     "execution_count": 87,
     "metadata": {},
     "output_type": "execute_result"
    }
   ],
   "source": [
    "X"
   ]
  },
  {
   "cell_type": "code",
   "execution_count": 88,
   "id": "88427cf1",
   "metadata": {
    "execution": {
     "iopub.execute_input": "2022-03-03T10:31:12.346439Z",
     "iopub.status.busy": "2022-03-03T10:31:12.345783Z",
     "iopub.status.idle": "2022-03-03T10:31:12.350077Z",
     "shell.execute_reply": "2022-03-03T10:31:12.349536Z",
     "shell.execute_reply.started": "2022-02-25T19:10:22.029578Z"
    },
    "papermill": {
     "duration": 0.213316,
     "end_time": "2022-03-03T10:31:12.350207",
     "exception": false,
     "start_time": "2022-03-03T10:31:12.136891",
     "status": "completed"
    },
    "tags": []
   },
   "outputs": [],
   "source": [
    "x_test= data[len(train):]\n"
   ]
  },
  {
   "cell_type": "code",
   "execution_count": 89,
   "id": "49715fbf",
   "metadata": {
    "execution": {
     "iopub.execute_input": "2022-03-03T10:31:12.761891Z",
     "iopub.status.busy": "2022-03-03T10:31:12.761211Z",
     "iopub.status.idle": "2022-03-03T10:31:12.786673Z",
     "shell.execute_reply": "2022-03-03T10:31:12.787245Z",
     "shell.execute_reply.started": "2022-02-25T19:10:40.223647Z"
    },
    "papermill": {
     "duration": 0.232944,
     "end_time": "2022-03-03T10:31:12.787408",
     "exception": false,
     "start_time": "2022-03-03T10:31:12.554464",
     "status": "completed"
    },
    "tags": []
   },
   "outputs": [
    {
     "data": {
      "text/html": [
       "<div>\n",
       "<style scoped>\n",
       "    .dataframe tbody tr th:only-of-type {\n",
       "        vertical-align: middle;\n",
       "    }\n",
       "\n",
       "    .dataframe tbody tr th {\n",
       "        vertical-align: top;\n",
       "    }\n",
       "\n",
       "    .dataframe thead th {\n",
       "        text-align: right;\n",
       "    }\n",
       "</style>\n",
       "<table border=\"1\" class=\"dataframe\">\n",
       "  <thead>\n",
       "    <tr style=\"text-align: right;\">\n",
       "      <th></th>\n",
       "      <th>HomePlanet</th>\n",
       "      <th>CryoSleep</th>\n",
       "      <th>Destination</th>\n",
       "      <th>Age</th>\n",
       "      <th>VIP</th>\n",
       "      <th>RoomService</th>\n",
       "      <th>FoodCourt</th>\n",
       "      <th>ShoppingMall</th>\n",
       "      <th>Spa</th>\n",
       "      <th>VRDeck</th>\n",
       "      <th>...</th>\n",
       "      <th>Deck_B</th>\n",
       "      <th>Deck_C</th>\n",
       "      <th>Deck_D</th>\n",
       "      <th>Deck_E</th>\n",
       "      <th>Deck_F</th>\n",
       "      <th>Deck_G</th>\n",
       "      <th>Deck_T</th>\n",
       "      <th>Side_A</th>\n",
       "      <th>Side_P</th>\n",
       "      <th>Side_S</th>\n",
       "    </tr>\n",
       "  </thead>\n",
       "  <tbody>\n",
       "    <tr>\n",
       "      <th>0</th>\n",
       "      <td>0</td>\n",
       "      <td>True</td>\n",
       "      <td>2</td>\n",
       "      <td>0.055556</td>\n",
       "      <td>False</td>\n",
       "      <td>0.000000</td>\n",
       "      <td>0.000000</td>\n",
       "      <td>0.000000</td>\n",
       "      <td>0.000000</td>\n",
       "      <td>0.000000</td>\n",
       "      <td>...</td>\n",
       "      <td>0</td>\n",
       "      <td>0</td>\n",
       "      <td>0</td>\n",
       "      <td>0</td>\n",
       "      <td>0</td>\n",
       "      <td>1</td>\n",
       "      <td>0</td>\n",
       "      <td>0</td>\n",
       "      <td>0</td>\n",
       "      <td>1</td>\n",
       "    </tr>\n",
       "    <tr>\n",
       "      <th>1</th>\n",
       "      <td>0</td>\n",
       "      <td>False</td>\n",
       "      <td>2</td>\n",
       "      <td>-0.388889</td>\n",
       "      <td>False</td>\n",
       "      <td>0.000000</td>\n",
       "      <td>0.136364</td>\n",
       "      <td>0.000000</td>\n",
       "      <td>65.651163</td>\n",
       "      <td>0.000000</td>\n",
       "      <td>...</td>\n",
       "      <td>0</td>\n",
       "      <td>0</td>\n",
       "      <td>0</td>\n",
       "      <td>0</td>\n",
       "      <td>1</td>\n",
       "      <td>0</td>\n",
       "      <td>0</td>\n",
       "      <td>0</td>\n",
       "      <td>0</td>\n",
       "      <td>1</td>\n",
       "    </tr>\n",
       "    <tr>\n",
       "      <th>2</th>\n",
       "      <td>1</td>\n",
       "      <td>True</td>\n",
       "      <td>0</td>\n",
       "      <td>0.277778</td>\n",
       "      <td>False</td>\n",
       "      <td>0.000000</td>\n",
       "      <td>0.000000</td>\n",
       "      <td>0.000000</td>\n",
       "      <td>0.000000</td>\n",
       "      <td>0.000000</td>\n",
       "      <td>...</td>\n",
       "      <td>0</td>\n",
       "      <td>1</td>\n",
       "      <td>0</td>\n",
       "      <td>0</td>\n",
       "      <td>0</td>\n",
       "      <td>0</td>\n",
       "      <td>0</td>\n",
       "      <td>0</td>\n",
       "      <td>0</td>\n",
       "      <td>1</td>\n",
       "    </tr>\n",
       "    <tr>\n",
       "      <th>3</th>\n",
       "      <td>1</td>\n",
       "      <td>False</td>\n",
       "      <td>2</td>\n",
       "      <td>0.666667</td>\n",
       "      <td>False</td>\n",
       "      <td>0.000000</td>\n",
       "      <td>100.787879</td>\n",
       "      <td>0.000000</td>\n",
       "      <td>4.209302</td>\n",
       "      <td>18.870968</td>\n",
       "      <td>...</td>\n",
       "      <td>0</td>\n",
       "      <td>1</td>\n",
       "      <td>0</td>\n",
       "      <td>0</td>\n",
       "      <td>0</td>\n",
       "      <td>0</td>\n",
       "      <td>0</td>\n",
       "      <td>0</td>\n",
       "      <td>0</td>\n",
       "      <td>1</td>\n",
       "    </tr>\n",
       "    <tr>\n",
       "      <th>4</th>\n",
       "      <td>0</td>\n",
       "      <td>False</td>\n",
       "      <td>2</td>\n",
       "      <td>-0.333333</td>\n",
       "      <td>False</td>\n",
       "      <td>0.208333</td>\n",
       "      <td>0.000000</td>\n",
       "      <td>23.518519</td>\n",
       "      <td>0.000000</td>\n",
       "      <td>0.000000</td>\n",
       "      <td>...</td>\n",
       "      <td>0</td>\n",
       "      <td>0</td>\n",
       "      <td>0</td>\n",
       "      <td>0</td>\n",
       "      <td>1</td>\n",
       "      <td>0</td>\n",
       "      <td>0</td>\n",
       "      <td>0</td>\n",
       "      <td>0</td>\n",
       "      <td>1</td>\n",
       "    </tr>\n",
       "    <tr>\n",
       "      <th>...</th>\n",
       "      <td>...</td>\n",
       "      <td>...</td>\n",
       "      <td>...</td>\n",
       "      <td>...</td>\n",
       "      <td>...</td>\n",
       "      <td>...</td>\n",
       "      <td>...</td>\n",
       "      <td>...</td>\n",
       "      <td>...</td>\n",
       "      <td>...</td>\n",
       "      <td>...</td>\n",
       "      <td>...</td>\n",
       "      <td>...</td>\n",
       "      <td>...</td>\n",
       "      <td>...</td>\n",
       "      <td>...</td>\n",
       "      <td>...</td>\n",
       "      <td>...</td>\n",
       "      <td>...</td>\n",
       "      <td>...</td>\n",
       "      <td>...</td>\n",
       "    </tr>\n",
       "    <tr>\n",
       "      <th>4272</th>\n",
       "      <td>0</td>\n",
       "      <td>True</td>\n",
       "      <td>2</td>\n",
       "      <td>0.444444</td>\n",
       "      <td>False</td>\n",
       "      <td>0.000000</td>\n",
       "      <td>0.000000</td>\n",
       "      <td>0.000000</td>\n",
       "      <td>0.000000</td>\n",
       "      <td>0.000000</td>\n",
       "      <td>...</td>\n",
       "      <td>0</td>\n",
       "      <td>0</td>\n",
       "      <td>0</td>\n",
       "      <td>0</td>\n",
       "      <td>0</td>\n",
       "      <td>1</td>\n",
       "      <td>0</td>\n",
       "      <td>0</td>\n",
       "      <td>0</td>\n",
       "      <td>1</td>\n",
       "    </tr>\n",
       "    <tr>\n",
       "      <th>4273</th>\n",
       "      <td>0</td>\n",
       "      <td>False</td>\n",
       "      <td>2</td>\n",
       "      <td>0.888889</td>\n",
       "      <td>False</td>\n",
       "      <td>0.000000</td>\n",
       "      <td>12.833333</td>\n",
       "      <td>0.629630</td>\n",
       "      <td>0.232558</td>\n",
       "      <td>4.645161</td>\n",
       "      <td>...</td>\n",
       "      <td>0</td>\n",
       "      <td>0</td>\n",
       "      <td>0</td>\n",
       "      <td>0</td>\n",
       "      <td>0</td>\n",
       "      <td>0</td>\n",
       "      <td>0</td>\n",
       "      <td>1</td>\n",
       "      <td>0</td>\n",
       "      <td>0</td>\n",
       "    </tr>\n",
       "    <tr>\n",
       "      <th>4274</th>\n",
       "      <td>2</td>\n",
       "      <td>True</td>\n",
       "      <td>0</td>\n",
       "      <td>-0.444444</td>\n",
       "      <td>False</td>\n",
       "      <td>0.000000</td>\n",
       "      <td>0.000000</td>\n",
       "      <td>0.000000</td>\n",
       "      <td>0.000000</td>\n",
       "      <td>0.000000</td>\n",
       "      <td>...</td>\n",
       "      <td>0</td>\n",
       "      <td>0</td>\n",
       "      <td>1</td>\n",
       "      <td>0</td>\n",
       "      <td>0</td>\n",
       "      <td>0</td>\n",
       "      <td>0</td>\n",
       "      <td>0</td>\n",
       "      <td>1</td>\n",
       "      <td>0</td>\n",
       "    </tr>\n",
       "    <tr>\n",
       "      <th>4275</th>\n",
       "      <td>1</td>\n",
       "      <td>False</td>\n",
       "      <td>3</td>\n",
       "      <td>-0.444444</td>\n",
       "      <td>False</td>\n",
       "      <td>0.000000</td>\n",
       "      <td>40.606061</td>\n",
       "      <td>0.000000</td>\n",
       "      <td>0.000000</td>\n",
       "      <td>16.870968</td>\n",
       "      <td>...</td>\n",
       "      <td>0</td>\n",
       "      <td>0</td>\n",
       "      <td>1</td>\n",
       "      <td>0</td>\n",
       "      <td>0</td>\n",
       "      <td>0</td>\n",
       "      <td>0</td>\n",
       "      <td>0</td>\n",
       "      <td>1</td>\n",
       "      <td>0</td>\n",
       "    </tr>\n",
       "    <tr>\n",
       "      <th>4276</th>\n",
       "      <td>0</td>\n",
       "      <td>True</td>\n",
       "      <td>1</td>\n",
       "      <td>0.944444</td>\n",
       "      <td>False</td>\n",
       "      <td>0.000000</td>\n",
       "      <td>0.000000</td>\n",
       "      <td>0.000000</td>\n",
       "      <td>0.000000</td>\n",
       "      <td>0.000000</td>\n",
       "      <td>...</td>\n",
       "      <td>0</td>\n",
       "      <td>0</td>\n",
       "      <td>0</td>\n",
       "      <td>0</td>\n",
       "      <td>0</td>\n",
       "      <td>1</td>\n",
       "      <td>0</td>\n",
       "      <td>0</td>\n",
       "      <td>0</td>\n",
       "      <td>1</td>\n",
       "    </tr>\n",
       "  </tbody>\n",
       "</table>\n",
       "<p>4277 rows × 23 columns</p>\n",
       "</div>"
      ],
      "text/plain": [
       "      HomePlanet  CryoSleep  Destination       Age    VIP  RoomService  \\\n",
       "0              0       True            2  0.055556  False     0.000000   \n",
       "1              0      False            2 -0.388889  False     0.000000   \n",
       "2              1       True            0  0.277778  False     0.000000   \n",
       "3              1      False            2  0.666667  False     0.000000   \n",
       "4              0      False            2 -0.333333  False     0.208333   \n",
       "...          ...        ...          ...       ...    ...          ...   \n",
       "4272           0       True            2  0.444444  False     0.000000   \n",
       "4273           0      False            2  0.888889  False     0.000000   \n",
       "4274           2       True            0 -0.444444  False     0.000000   \n",
       "4275           1      False            3 -0.444444  False     0.000000   \n",
       "4276           0       True            1  0.944444  False     0.000000   \n",
       "\n",
       "       FoodCourt  ShoppingMall        Spa     VRDeck  ...  Deck_B Deck_C  \\\n",
       "0       0.000000      0.000000   0.000000   0.000000  ...       0      0   \n",
       "1       0.136364      0.000000  65.651163   0.000000  ...       0      0   \n",
       "2       0.000000      0.000000   0.000000   0.000000  ...       0      1   \n",
       "3     100.787879      0.000000   4.209302  18.870968  ...       0      1   \n",
       "4       0.000000     23.518519   0.000000   0.000000  ...       0      0   \n",
       "...          ...           ...        ...        ...  ...     ...    ...   \n",
       "4272    0.000000      0.000000   0.000000   0.000000  ...       0      0   \n",
       "4273   12.833333      0.629630   0.232558   4.645161  ...       0      0   \n",
       "4274    0.000000      0.000000   0.000000   0.000000  ...       0      0   \n",
       "4275   40.606061      0.000000   0.000000  16.870968  ...       0      0   \n",
       "4276    0.000000      0.000000   0.000000   0.000000  ...       0      0   \n",
       "\n",
       "      Deck_D  Deck_E  Deck_F  Deck_G  Deck_T  Side_A  Side_P  Side_S  \n",
       "0          0       0       0       1       0       0       0       1  \n",
       "1          0       0       1       0       0       0       0       1  \n",
       "2          0       0       0       0       0       0       0       1  \n",
       "3          0       0       0       0       0       0       0       1  \n",
       "4          0       0       1       0       0       0       0       1  \n",
       "...      ...     ...     ...     ...     ...     ...     ...     ...  \n",
       "4272       0       0       0       1       0       0       0       1  \n",
       "4273       0       0       0       0       0       1       0       0  \n",
       "4274       1       0       0       0       0       0       1       0  \n",
       "4275       1       0       0       0       0       0       1       0  \n",
       "4276       0       0       0       1       0       0       0       1  \n",
       "\n",
       "[4277 rows x 23 columns]"
      ]
     },
     "execution_count": 89,
     "metadata": {},
     "output_type": "execute_result"
    }
   ],
   "source": [
    "x_test"
   ]
  },
  {
   "cell_type": "code",
   "execution_count": 90,
   "id": "c234c170",
   "metadata": {
    "execution": {
     "iopub.execute_input": "2022-03-03T10:31:13.199478Z",
     "iopub.status.busy": "2022-03-03T10:31:13.198887Z",
     "iopub.status.idle": "2022-03-03T10:31:13.225409Z",
     "shell.execute_reply": "2022-03-03T10:31:13.225991Z",
     "shell.execute_reply.started": "2022-02-25T19:10:45.814373Z"
    },
    "papermill": {
     "duration": 0.235204,
     "end_time": "2022-03-03T10:31:13.226156",
     "exception": false,
     "start_time": "2022-03-03T10:31:12.990952",
     "status": "completed"
    },
    "tags": []
   },
   "outputs": [
    {
     "data": {
      "text/html": [
       "<div>\n",
       "<style scoped>\n",
       "    .dataframe tbody tr th:only-of-type {\n",
       "        vertical-align: middle;\n",
       "    }\n",
       "\n",
       "    .dataframe tbody tr th {\n",
       "        vertical-align: top;\n",
       "    }\n",
       "\n",
       "    .dataframe thead th {\n",
       "        text-align: right;\n",
       "    }\n",
       "</style>\n",
       "<table border=\"1\" class=\"dataframe\">\n",
       "  <thead>\n",
       "    <tr style=\"text-align: right;\">\n",
       "      <th></th>\n",
       "      <th>HomePlanet</th>\n",
       "      <th>CryoSleep</th>\n",
       "      <th>Destination</th>\n",
       "      <th>Age</th>\n",
       "      <th>VIP</th>\n",
       "      <th>RoomService</th>\n",
       "      <th>FoodCourt</th>\n",
       "      <th>ShoppingMall</th>\n",
       "      <th>Spa</th>\n",
       "      <th>VRDeck</th>\n",
       "      <th>...</th>\n",
       "      <th>Deck_B</th>\n",
       "      <th>Deck_C</th>\n",
       "      <th>Deck_D</th>\n",
       "      <th>Deck_E</th>\n",
       "      <th>Deck_F</th>\n",
       "      <th>Deck_G</th>\n",
       "      <th>Deck_T</th>\n",
       "      <th>Side_A</th>\n",
       "      <th>Side_P</th>\n",
       "      <th>Side_S</th>\n",
       "    </tr>\n",
       "  </thead>\n",
       "  <tbody>\n",
       "    <tr>\n",
       "      <th>0</th>\n",
       "      <td>1</td>\n",
       "      <td>False</td>\n",
       "      <td>2</td>\n",
       "      <td>0.705882</td>\n",
       "      <td>False</td>\n",
       "      <td>0.000000</td>\n",
       "      <td>0.000000</td>\n",
       "      <td>0.000000</td>\n",
       "      <td>0.000000</td>\n",
       "      <td>0.000</td>\n",
       "      <td>...</td>\n",
       "      <td>1</td>\n",
       "      <td>0</td>\n",
       "      <td>0</td>\n",
       "      <td>0</td>\n",
       "      <td>0</td>\n",
       "      <td>0</td>\n",
       "      <td>0</td>\n",
       "      <td>0</td>\n",
       "      <td>1</td>\n",
       "      <td>0</td>\n",
       "    </tr>\n",
       "    <tr>\n",
       "      <th>1</th>\n",
       "      <td>0</td>\n",
       "      <td>False</td>\n",
       "      <td>2</td>\n",
       "      <td>-0.176471</td>\n",
       "      <td>False</td>\n",
       "      <td>2.658537</td>\n",
       "      <td>0.147541</td>\n",
       "      <td>1.136364</td>\n",
       "      <td>10.358491</td>\n",
       "      <td>1.100</td>\n",
       "      <td>...</td>\n",
       "      <td>0</td>\n",
       "      <td>0</td>\n",
       "      <td>0</td>\n",
       "      <td>0</td>\n",
       "      <td>1</td>\n",
       "      <td>0</td>\n",
       "      <td>0</td>\n",
       "      <td>0</td>\n",
       "      <td>0</td>\n",
       "      <td>1</td>\n",
       "    </tr>\n",
       "    <tr>\n",
       "      <th>2</th>\n",
       "      <td>1</td>\n",
       "      <td>False</td>\n",
       "      <td>2</td>\n",
       "      <td>1.823529</td>\n",
       "      <td>True</td>\n",
       "      <td>1.048780</td>\n",
       "      <td>58.622951</td>\n",
       "      <td>0.000000</td>\n",
       "      <td>126.698113</td>\n",
       "      <td>1.225</td>\n",
       "      <td>...</td>\n",
       "      <td>0</td>\n",
       "      <td>0</td>\n",
       "      <td>0</td>\n",
       "      <td>0</td>\n",
       "      <td>0</td>\n",
       "      <td>0</td>\n",
       "      <td>0</td>\n",
       "      <td>0</td>\n",
       "      <td>0</td>\n",
       "      <td>1</td>\n",
       "    </tr>\n",
       "    <tr>\n",
       "      <th>3</th>\n",
       "      <td>1</td>\n",
       "      <td>False</td>\n",
       "      <td>2</td>\n",
       "      <td>0.352941</td>\n",
       "      <td>False</td>\n",
       "      <td>0.000000</td>\n",
       "      <td>21.032787</td>\n",
       "      <td>16.863636</td>\n",
       "      <td>62.811321</td>\n",
       "      <td>4.825</td>\n",
       "      <td>...</td>\n",
       "      <td>0</td>\n",
       "      <td>0</td>\n",
       "      <td>0</td>\n",
       "      <td>0</td>\n",
       "      <td>0</td>\n",
       "      <td>0</td>\n",
       "      <td>0</td>\n",
       "      <td>0</td>\n",
       "      <td>0</td>\n",
       "      <td>1</td>\n",
       "    </tr>\n",
       "    <tr>\n",
       "      <th>4</th>\n",
       "      <td>0</td>\n",
       "      <td>False</td>\n",
       "      <td>2</td>\n",
       "      <td>-0.647059</td>\n",
       "      <td>False</td>\n",
       "      <td>7.390244</td>\n",
       "      <td>1.147541</td>\n",
       "      <td>6.863636</td>\n",
       "      <td>10.660377</td>\n",
       "      <td>0.050</td>\n",
       "      <td>...</td>\n",
       "      <td>0</td>\n",
       "      <td>0</td>\n",
       "      <td>0</td>\n",
       "      <td>0</td>\n",
       "      <td>1</td>\n",
       "      <td>0</td>\n",
       "      <td>0</td>\n",
       "      <td>0</td>\n",
       "      <td>0</td>\n",
       "      <td>1</td>\n",
       "    </tr>\n",
       "    <tr>\n",
       "      <th>...</th>\n",
       "      <td>...</td>\n",
       "      <td>...</td>\n",
       "      <td>...</td>\n",
       "      <td>...</td>\n",
       "      <td>...</td>\n",
       "      <td>...</td>\n",
       "      <td>...</td>\n",
       "      <td>...</td>\n",
       "      <td>...</td>\n",
       "      <td>...</td>\n",
       "      <td>...</td>\n",
       "      <td>...</td>\n",
       "      <td>...</td>\n",
       "      <td>...</td>\n",
       "      <td>...</td>\n",
       "      <td>...</td>\n",
       "      <td>...</td>\n",
       "      <td>...</td>\n",
       "      <td>...</td>\n",
       "      <td>...</td>\n",
       "      <td>...</td>\n",
       "    </tr>\n",
       "    <tr>\n",
       "      <th>8688</th>\n",
       "      <td>1</td>\n",
       "      <td>False</td>\n",
       "      <td>0</td>\n",
       "      <td>0.823529</td>\n",
       "      <td>True</td>\n",
       "      <td>0.000000</td>\n",
       "      <td>111.786885</td>\n",
       "      <td>0.000000</td>\n",
       "      <td>31.000000</td>\n",
       "      <td>1.850</td>\n",
       "      <td>...</td>\n",
       "      <td>0</td>\n",
       "      <td>0</td>\n",
       "      <td>0</td>\n",
       "      <td>0</td>\n",
       "      <td>0</td>\n",
       "      <td>0</td>\n",
       "      <td>0</td>\n",
       "      <td>0</td>\n",
       "      <td>1</td>\n",
       "      <td>0</td>\n",
       "    </tr>\n",
       "    <tr>\n",
       "      <th>8689</th>\n",
       "      <td>0</td>\n",
       "      <td>True</td>\n",
       "      <td>1</td>\n",
       "      <td>-0.529412</td>\n",
       "      <td>False</td>\n",
       "      <td>0.000000</td>\n",
       "      <td>0.000000</td>\n",
       "      <td>0.000000</td>\n",
       "      <td>0.000000</td>\n",
       "      <td>0.000</td>\n",
       "      <td>...</td>\n",
       "      <td>0</td>\n",
       "      <td>0</td>\n",
       "      <td>0</td>\n",
       "      <td>0</td>\n",
       "      <td>0</td>\n",
       "      <td>1</td>\n",
       "      <td>0</td>\n",
       "      <td>0</td>\n",
       "      <td>0</td>\n",
       "      <td>1</td>\n",
       "    </tr>\n",
       "    <tr>\n",
       "      <th>8690</th>\n",
       "      <td>0</td>\n",
       "      <td>False</td>\n",
       "      <td>2</td>\n",
       "      <td>-0.058824</td>\n",
       "      <td>False</td>\n",
       "      <td>0.000000</td>\n",
       "      <td>0.000000</td>\n",
       "      <td>85.090909</td>\n",
       "      <td>0.018868</td>\n",
       "      <td>0.000</td>\n",
       "      <td>...</td>\n",
       "      <td>0</td>\n",
       "      <td>0</td>\n",
       "      <td>0</td>\n",
       "      <td>0</td>\n",
       "      <td>0</td>\n",
       "      <td>1</td>\n",
       "      <td>0</td>\n",
       "      <td>0</td>\n",
       "      <td>0</td>\n",
       "      <td>1</td>\n",
       "    </tr>\n",
       "    <tr>\n",
       "      <th>8691</th>\n",
       "      <td>1</td>\n",
       "      <td>False</td>\n",
       "      <td>0</td>\n",
       "      <td>0.294118</td>\n",
       "      <td>False</td>\n",
       "      <td>0.000000</td>\n",
       "      <td>17.196721</td>\n",
       "      <td>0.000000</td>\n",
       "      <td>6.660377</td>\n",
       "      <td>80.875</td>\n",
       "      <td>...</td>\n",
       "      <td>0</td>\n",
       "      <td>0</td>\n",
       "      <td>0</td>\n",
       "      <td>1</td>\n",
       "      <td>0</td>\n",
       "      <td>0</td>\n",
       "      <td>0</td>\n",
       "      <td>0</td>\n",
       "      <td>0</td>\n",
       "      <td>1</td>\n",
       "    </tr>\n",
       "    <tr>\n",
       "      <th>8692</th>\n",
       "      <td>1</td>\n",
       "      <td>False</td>\n",
       "      <td>2</td>\n",
       "      <td>1.000000</td>\n",
       "      <td>False</td>\n",
       "      <td>3.073171</td>\n",
       "      <td>76.852459</td>\n",
       "      <td>0.000000</td>\n",
       "      <td>0.000000</td>\n",
       "      <td>0.300</td>\n",
       "      <td>...</td>\n",
       "      <td>0</td>\n",
       "      <td>0</td>\n",
       "      <td>0</td>\n",
       "      <td>1</td>\n",
       "      <td>0</td>\n",
       "      <td>0</td>\n",
       "      <td>0</td>\n",
       "      <td>0</td>\n",
       "      <td>0</td>\n",
       "      <td>1</td>\n",
       "    </tr>\n",
       "  </tbody>\n",
       "</table>\n",
       "<p>8693 rows × 23 columns</p>\n",
       "</div>"
      ],
      "text/plain": [
       "      HomePlanet  CryoSleep  Destination       Age    VIP  RoomService  \\\n",
       "0              1      False            2  0.705882  False     0.000000   \n",
       "1              0      False            2 -0.176471  False     2.658537   \n",
       "2              1      False            2  1.823529   True     1.048780   \n",
       "3              1      False            2  0.352941  False     0.000000   \n",
       "4              0      False            2 -0.647059  False     7.390244   \n",
       "...          ...        ...          ...       ...    ...          ...   \n",
       "8688           1      False            0  0.823529   True     0.000000   \n",
       "8689           0       True            1 -0.529412  False     0.000000   \n",
       "8690           0      False            2 -0.058824  False     0.000000   \n",
       "8691           1      False            0  0.294118  False     0.000000   \n",
       "8692           1      False            2  1.000000  False     3.073171   \n",
       "\n",
       "       FoodCourt  ShoppingMall         Spa  VRDeck  ...  Deck_B Deck_C  \\\n",
       "0       0.000000      0.000000    0.000000   0.000  ...       1      0   \n",
       "1       0.147541      1.136364   10.358491   1.100  ...       0      0   \n",
       "2      58.622951      0.000000  126.698113   1.225  ...       0      0   \n",
       "3      21.032787     16.863636   62.811321   4.825  ...       0      0   \n",
       "4       1.147541      6.863636   10.660377   0.050  ...       0      0   \n",
       "...          ...           ...         ...     ...  ...     ...    ...   \n",
       "8688  111.786885      0.000000   31.000000   1.850  ...       0      0   \n",
       "8689    0.000000      0.000000    0.000000   0.000  ...       0      0   \n",
       "8690    0.000000     85.090909    0.018868   0.000  ...       0      0   \n",
       "8691   17.196721      0.000000    6.660377  80.875  ...       0      0   \n",
       "8692   76.852459      0.000000    0.000000   0.300  ...       0      0   \n",
       "\n",
       "      Deck_D  Deck_E  Deck_F  Deck_G  Deck_T  Side_A  Side_P  Side_S  \n",
       "0          0       0       0       0       0       0       1       0  \n",
       "1          0       0       1       0       0       0       0       1  \n",
       "2          0       0       0       0       0       0       0       1  \n",
       "3          0       0       0       0       0       0       0       1  \n",
       "4          0       0       1       0       0       0       0       1  \n",
       "...      ...     ...     ...     ...     ...     ...     ...     ...  \n",
       "8688       0       0       0       0       0       0       1       0  \n",
       "8689       0       0       0       1       0       0       0       1  \n",
       "8690       0       0       0       1       0       0       0       1  \n",
       "8691       0       1       0       0       0       0       0       1  \n",
       "8692       0       1       0       0       0       0       0       1  \n",
       "\n",
       "[8693 rows x 23 columns]"
      ]
     },
     "execution_count": 90,
     "metadata": {},
     "output_type": "execute_result"
    }
   ],
   "source": [
    "X"
   ]
  },
  {
   "cell_type": "code",
   "execution_count": 91,
   "id": "aeefc027",
   "metadata": {
    "execution": {
     "iopub.execute_input": "2022-03-03T10:31:13.641246Z",
     "iopub.status.busy": "2022-03-03T10:31:13.640651Z",
     "iopub.status.idle": "2022-03-03T10:31:13.665429Z",
     "shell.execute_reply": "2022-03-03T10:31:13.666044Z",
     "shell.execute_reply.started": "2022-02-25T19:10:53.24051Z"
    },
    "papermill": {
     "duration": 0.233641,
     "end_time": "2022-03-03T10:31:13.666212",
     "exception": false,
     "start_time": "2022-03-03T10:31:13.432571",
     "status": "completed"
    },
    "tags": []
   },
   "outputs": [
    {
     "data": {
      "text/html": [
       "<div>\n",
       "<style scoped>\n",
       "    .dataframe tbody tr th:only-of-type {\n",
       "        vertical-align: middle;\n",
       "    }\n",
       "\n",
       "    .dataframe tbody tr th {\n",
       "        vertical-align: top;\n",
       "    }\n",
       "\n",
       "    .dataframe thead th {\n",
       "        text-align: right;\n",
       "    }\n",
       "</style>\n",
       "<table border=\"1\" class=\"dataframe\">\n",
       "  <thead>\n",
       "    <tr style=\"text-align: right;\">\n",
       "      <th></th>\n",
       "      <th>HomePlanet</th>\n",
       "      <th>CryoSleep</th>\n",
       "      <th>Destination</th>\n",
       "      <th>Age</th>\n",
       "      <th>VIP</th>\n",
       "      <th>RoomService</th>\n",
       "      <th>FoodCourt</th>\n",
       "      <th>ShoppingMall</th>\n",
       "      <th>Spa</th>\n",
       "      <th>VRDeck</th>\n",
       "      <th>...</th>\n",
       "      <th>Deck_B</th>\n",
       "      <th>Deck_C</th>\n",
       "      <th>Deck_D</th>\n",
       "      <th>Deck_E</th>\n",
       "      <th>Deck_F</th>\n",
       "      <th>Deck_G</th>\n",
       "      <th>Deck_T</th>\n",
       "      <th>Side_A</th>\n",
       "      <th>Side_P</th>\n",
       "      <th>Side_S</th>\n",
       "    </tr>\n",
       "  </thead>\n",
       "  <tbody>\n",
       "    <tr>\n",
       "      <th>0</th>\n",
       "      <td>0</td>\n",
       "      <td>True</td>\n",
       "      <td>2</td>\n",
       "      <td>0.055556</td>\n",
       "      <td>False</td>\n",
       "      <td>0.000000</td>\n",
       "      <td>0.000000</td>\n",
       "      <td>0.000000</td>\n",
       "      <td>0.000000</td>\n",
       "      <td>0.000000</td>\n",
       "      <td>...</td>\n",
       "      <td>0</td>\n",
       "      <td>0</td>\n",
       "      <td>0</td>\n",
       "      <td>0</td>\n",
       "      <td>0</td>\n",
       "      <td>1</td>\n",
       "      <td>0</td>\n",
       "      <td>0</td>\n",
       "      <td>0</td>\n",
       "      <td>1</td>\n",
       "    </tr>\n",
       "    <tr>\n",
       "      <th>1</th>\n",
       "      <td>0</td>\n",
       "      <td>False</td>\n",
       "      <td>2</td>\n",
       "      <td>-0.388889</td>\n",
       "      <td>False</td>\n",
       "      <td>0.000000</td>\n",
       "      <td>0.136364</td>\n",
       "      <td>0.000000</td>\n",
       "      <td>65.651163</td>\n",
       "      <td>0.000000</td>\n",
       "      <td>...</td>\n",
       "      <td>0</td>\n",
       "      <td>0</td>\n",
       "      <td>0</td>\n",
       "      <td>0</td>\n",
       "      <td>1</td>\n",
       "      <td>0</td>\n",
       "      <td>0</td>\n",
       "      <td>0</td>\n",
       "      <td>0</td>\n",
       "      <td>1</td>\n",
       "    </tr>\n",
       "    <tr>\n",
       "      <th>2</th>\n",
       "      <td>1</td>\n",
       "      <td>True</td>\n",
       "      <td>0</td>\n",
       "      <td>0.277778</td>\n",
       "      <td>False</td>\n",
       "      <td>0.000000</td>\n",
       "      <td>0.000000</td>\n",
       "      <td>0.000000</td>\n",
       "      <td>0.000000</td>\n",
       "      <td>0.000000</td>\n",
       "      <td>...</td>\n",
       "      <td>0</td>\n",
       "      <td>1</td>\n",
       "      <td>0</td>\n",
       "      <td>0</td>\n",
       "      <td>0</td>\n",
       "      <td>0</td>\n",
       "      <td>0</td>\n",
       "      <td>0</td>\n",
       "      <td>0</td>\n",
       "      <td>1</td>\n",
       "    </tr>\n",
       "    <tr>\n",
       "      <th>3</th>\n",
       "      <td>1</td>\n",
       "      <td>False</td>\n",
       "      <td>2</td>\n",
       "      <td>0.666667</td>\n",
       "      <td>False</td>\n",
       "      <td>0.000000</td>\n",
       "      <td>100.787879</td>\n",
       "      <td>0.000000</td>\n",
       "      <td>4.209302</td>\n",
       "      <td>18.870968</td>\n",
       "      <td>...</td>\n",
       "      <td>0</td>\n",
       "      <td>1</td>\n",
       "      <td>0</td>\n",
       "      <td>0</td>\n",
       "      <td>0</td>\n",
       "      <td>0</td>\n",
       "      <td>0</td>\n",
       "      <td>0</td>\n",
       "      <td>0</td>\n",
       "      <td>1</td>\n",
       "    </tr>\n",
       "    <tr>\n",
       "      <th>4</th>\n",
       "      <td>0</td>\n",
       "      <td>False</td>\n",
       "      <td>2</td>\n",
       "      <td>-0.333333</td>\n",
       "      <td>False</td>\n",
       "      <td>0.208333</td>\n",
       "      <td>0.000000</td>\n",
       "      <td>23.518519</td>\n",
       "      <td>0.000000</td>\n",
       "      <td>0.000000</td>\n",
       "      <td>...</td>\n",
       "      <td>0</td>\n",
       "      <td>0</td>\n",
       "      <td>0</td>\n",
       "      <td>0</td>\n",
       "      <td>1</td>\n",
       "      <td>0</td>\n",
       "      <td>0</td>\n",
       "      <td>0</td>\n",
       "      <td>0</td>\n",
       "      <td>1</td>\n",
       "    </tr>\n",
       "    <tr>\n",
       "      <th>...</th>\n",
       "      <td>...</td>\n",
       "      <td>...</td>\n",
       "      <td>...</td>\n",
       "      <td>...</td>\n",
       "      <td>...</td>\n",
       "      <td>...</td>\n",
       "      <td>...</td>\n",
       "      <td>...</td>\n",
       "      <td>...</td>\n",
       "      <td>...</td>\n",
       "      <td>...</td>\n",
       "      <td>...</td>\n",
       "      <td>...</td>\n",
       "      <td>...</td>\n",
       "      <td>...</td>\n",
       "      <td>...</td>\n",
       "      <td>...</td>\n",
       "      <td>...</td>\n",
       "      <td>...</td>\n",
       "      <td>...</td>\n",
       "      <td>...</td>\n",
       "    </tr>\n",
       "    <tr>\n",
       "      <th>4272</th>\n",
       "      <td>0</td>\n",
       "      <td>True</td>\n",
       "      <td>2</td>\n",
       "      <td>0.444444</td>\n",
       "      <td>False</td>\n",
       "      <td>0.000000</td>\n",
       "      <td>0.000000</td>\n",
       "      <td>0.000000</td>\n",
       "      <td>0.000000</td>\n",
       "      <td>0.000000</td>\n",
       "      <td>...</td>\n",
       "      <td>0</td>\n",
       "      <td>0</td>\n",
       "      <td>0</td>\n",
       "      <td>0</td>\n",
       "      <td>0</td>\n",
       "      <td>1</td>\n",
       "      <td>0</td>\n",
       "      <td>0</td>\n",
       "      <td>0</td>\n",
       "      <td>1</td>\n",
       "    </tr>\n",
       "    <tr>\n",
       "      <th>4273</th>\n",
       "      <td>0</td>\n",
       "      <td>False</td>\n",
       "      <td>2</td>\n",
       "      <td>0.888889</td>\n",
       "      <td>False</td>\n",
       "      <td>0.000000</td>\n",
       "      <td>12.833333</td>\n",
       "      <td>0.629630</td>\n",
       "      <td>0.232558</td>\n",
       "      <td>4.645161</td>\n",
       "      <td>...</td>\n",
       "      <td>0</td>\n",
       "      <td>0</td>\n",
       "      <td>0</td>\n",
       "      <td>0</td>\n",
       "      <td>0</td>\n",
       "      <td>0</td>\n",
       "      <td>0</td>\n",
       "      <td>1</td>\n",
       "      <td>0</td>\n",
       "      <td>0</td>\n",
       "    </tr>\n",
       "    <tr>\n",
       "      <th>4274</th>\n",
       "      <td>2</td>\n",
       "      <td>True</td>\n",
       "      <td>0</td>\n",
       "      <td>-0.444444</td>\n",
       "      <td>False</td>\n",
       "      <td>0.000000</td>\n",
       "      <td>0.000000</td>\n",
       "      <td>0.000000</td>\n",
       "      <td>0.000000</td>\n",
       "      <td>0.000000</td>\n",
       "      <td>...</td>\n",
       "      <td>0</td>\n",
       "      <td>0</td>\n",
       "      <td>1</td>\n",
       "      <td>0</td>\n",
       "      <td>0</td>\n",
       "      <td>0</td>\n",
       "      <td>0</td>\n",
       "      <td>0</td>\n",
       "      <td>1</td>\n",
       "      <td>0</td>\n",
       "    </tr>\n",
       "    <tr>\n",
       "      <th>4275</th>\n",
       "      <td>1</td>\n",
       "      <td>False</td>\n",
       "      <td>3</td>\n",
       "      <td>-0.444444</td>\n",
       "      <td>False</td>\n",
       "      <td>0.000000</td>\n",
       "      <td>40.606061</td>\n",
       "      <td>0.000000</td>\n",
       "      <td>0.000000</td>\n",
       "      <td>16.870968</td>\n",
       "      <td>...</td>\n",
       "      <td>0</td>\n",
       "      <td>0</td>\n",
       "      <td>1</td>\n",
       "      <td>0</td>\n",
       "      <td>0</td>\n",
       "      <td>0</td>\n",
       "      <td>0</td>\n",
       "      <td>0</td>\n",
       "      <td>1</td>\n",
       "      <td>0</td>\n",
       "    </tr>\n",
       "    <tr>\n",
       "      <th>4276</th>\n",
       "      <td>0</td>\n",
       "      <td>True</td>\n",
       "      <td>1</td>\n",
       "      <td>0.944444</td>\n",
       "      <td>False</td>\n",
       "      <td>0.000000</td>\n",
       "      <td>0.000000</td>\n",
       "      <td>0.000000</td>\n",
       "      <td>0.000000</td>\n",
       "      <td>0.000000</td>\n",
       "      <td>...</td>\n",
       "      <td>0</td>\n",
       "      <td>0</td>\n",
       "      <td>0</td>\n",
       "      <td>0</td>\n",
       "      <td>0</td>\n",
       "      <td>1</td>\n",
       "      <td>0</td>\n",
       "      <td>0</td>\n",
       "      <td>0</td>\n",
       "      <td>1</td>\n",
       "    </tr>\n",
       "  </tbody>\n",
       "</table>\n",
       "<p>4277 rows × 23 columns</p>\n",
       "</div>"
      ],
      "text/plain": [
       "      HomePlanet  CryoSleep  Destination       Age    VIP  RoomService  \\\n",
       "0              0       True            2  0.055556  False     0.000000   \n",
       "1              0      False            2 -0.388889  False     0.000000   \n",
       "2              1       True            0  0.277778  False     0.000000   \n",
       "3              1      False            2  0.666667  False     0.000000   \n",
       "4              0      False            2 -0.333333  False     0.208333   \n",
       "...          ...        ...          ...       ...    ...          ...   \n",
       "4272           0       True            2  0.444444  False     0.000000   \n",
       "4273           0      False            2  0.888889  False     0.000000   \n",
       "4274           2       True            0 -0.444444  False     0.000000   \n",
       "4275           1      False            3 -0.444444  False     0.000000   \n",
       "4276           0       True            1  0.944444  False     0.000000   \n",
       "\n",
       "       FoodCourt  ShoppingMall        Spa     VRDeck  ...  Deck_B Deck_C  \\\n",
       "0       0.000000      0.000000   0.000000   0.000000  ...       0      0   \n",
       "1       0.136364      0.000000  65.651163   0.000000  ...       0      0   \n",
       "2       0.000000      0.000000   0.000000   0.000000  ...       0      1   \n",
       "3     100.787879      0.000000   4.209302  18.870968  ...       0      1   \n",
       "4       0.000000     23.518519   0.000000   0.000000  ...       0      0   \n",
       "...          ...           ...        ...        ...  ...     ...    ...   \n",
       "4272    0.000000      0.000000   0.000000   0.000000  ...       0      0   \n",
       "4273   12.833333      0.629630   0.232558   4.645161  ...       0      0   \n",
       "4274    0.000000      0.000000   0.000000   0.000000  ...       0      0   \n",
       "4275   40.606061      0.000000   0.000000  16.870968  ...       0      0   \n",
       "4276    0.000000      0.000000   0.000000   0.000000  ...       0      0   \n",
       "\n",
       "      Deck_D  Deck_E  Deck_F  Deck_G  Deck_T  Side_A  Side_P  Side_S  \n",
       "0          0       0       0       1       0       0       0       1  \n",
       "1          0       0       1       0       0       0       0       1  \n",
       "2          0       0       0       0       0       0       0       1  \n",
       "3          0       0       0       0       0       0       0       1  \n",
       "4          0       0       1       0       0       0       0       1  \n",
       "...      ...     ...     ...     ...     ...     ...     ...     ...  \n",
       "4272       0       0       0       1       0       0       0       1  \n",
       "4273       0       0       0       0       0       1       0       0  \n",
       "4274       1       0       0       0       0       0       1       0  \n",
       "4275       1       0       0       0       0       0       1       0  \n",
       "4276       0       0       0       1       0       0       0       1  \n",
       "\n",
       "[4277 rows x 23 columns]"
      ]
     },
     "execution_count": 91,
     "metadata": {},
     "output_type": "execute_result"
    }
   ],
   "source": [
    "x_test"
   ]
  },
  {
   "cell_type": "code",
   "execution_count": 92,
   "id": "5932955b",
   "metadata": {
    "execution": {
     "iopub.execute_input": "2022-03-03T10:31:14.086912Z",
     "iopub.status.busy": "2022-03-03T10:31:14.086257Z",
     "iopub.status.idle": "2022-03-03T10:31:14.099959Z",
     "shell.execute_reply": "2022-03-03T10:31:14.100376Z",
     "shell.execute_reply.started": "2022-02-25T19:11:01.892295Z"
    },
    "papermill": {
     "duration": 0.225553,
     "end_time": "2022-03-03T10:31:14.100561",
     "exception": false,
     "start_time": "2022-03-03T10:31:13.875008",
     "status": "completed"
    },
    "tags": []
   },
   "outputs": [
    {
     "name": "stdout",
     "output_type": "stream",
     "text": [
      "<class 'pandas.core.frame.DataFrame'>\n",
      "Int64Index: 4277 entries, 0 to 4276\n",
      "Data columns (total 23 columns):\n",
      " #   Column        Non-Null Count  Dtype  \n",
      "---  ------        --------------  -----  \n",
      " 0   HomePlanet    4277 non-null   int64  \n",
      " 1   CryoSleep     4277 non-null   bool   \n",
      " 2   Destination   4277 non-null   int64  \n",
      " 3   Age           4277 non-null   float64\n",
      " 4   VIP           4277 non-null   bool   \n",
      " 5   RoomService   4277 non-null   float64\n",
      " 6   FoodCourt     4277 non-null   float64\n",
      " 7   ShoppingMall  4277 non-null   float64\n",
      " 8   Spa           4277 non-null   float64\n",
      " 9   VRDeck        4277 non-null   float64\n",
      " 10  Num           4277 non-null   float64\n",
      " 11  PassengerId   4277 non-null   object \n",
      " 12  Deck_A        4277 non-null   uint8  \n",
      " 13  Deck_B        4277 non-null   uint8  \n",
      " 14  Deck_C        4277 non-null   uint8  \n",
      " 15  Deck_D        4277 non-null   uint8  \n",
      " 16  Deck_E        4277 non-null   uint8  \n",
      " 17  Deck_F        4277 non-null   uint8  \n",
      " 18  Deck_G        4277 non-null   uint8  \n",
      " 19  Deck_T        4277 non-null   uint8  \n",
      " 20  Side_A        4277 non-null   uint8  \n",
      " 21  Side_P        4277 non-null   uint8  \n",
      " 22  Side_S        4277 non-null   uint8  \n",
      "dtypes: bool(2), float64(7), int64(2), object(1), uint8(11)\n",
      "memory usage: 421.9+ KB\n"
     ]
    }
   ],
   "source": [
    "x_test.info()"
   ]
  },
  {
   "cell_type": "code",
   "execution_count": 93,
   "id": "432e6d17",
   "metadata": {
    "execution": {
     "iopub.execute_input": "2022-03-03T10:31:14.518329Z",
     "iopub.status.busy": "2022-03-03T10:31:14.517644Z",
     "iopub.status.idle": "2022-03-03T10:31:14.525945Z",
     "shell.execute_reply": "2022-03-03T10:31:14.525107Z",
     "shell.execute_reply.started": "2022-02-25T19:11:10.238028Z"
    },
    "papermill": {
     "duration": 0.220526,
     "end_time": "2022-03-03T10:31:14.526124",
     "exception": false,
     "start_time": "2022-03-03T10:31:14.305598",
     "status": "completed"
    },
    "tags": []
   },
   "outputs": [
    {
     "name": "stderr",
     "output_type": "stream",
     "text": [
      "/opt/conda/lib/python3.7/site-packages/pandas/core/frame.py:4913: SettingWithCopyWarning: \n",
      "A value is trying to be set on a copy of a slice from a DataFrame\n",
      "\n",
      "See the caveats in the documentation: https://pandas.pydata.org/pandas-docs/stable/user_guide/indexing.html#returning-a-view-versus-a-copy\n",
      "  errors=errors,\n"
     ]
    }
   ],
   "source": [
    "X.drop(['PassengerId'], axis=1, inplace=True)"
   ]
  },
  {
   "cell_type": "code",
   "execution_count": 94,
   "id": "7dfcf7db",
   "metadata": {
    "execution": {
     "iopub.execute_input": "2022-03-03T10:31:14.944950Z",
     "iopub.status.busy": "2022-03-03T10:31:14.944070Z",
     "iopub.status.idle": "2022-03-03T10:31:14.956787Z",
     "shell.execute_reply": "2022-03-03T10:31:14.957494Z",
     "shell.execute_reply.started": "2022-02-25T19:11:10.955283Z"
    },
    "papermill": {
     "duration": 0.223422,
     "end_time": "2022-03-03T10:31:14.957718",
     "exception": false,
     "start_time": "2022-03-03T10:31:14.734296",
     "status": "completed"
    },
    "tags": []
   },
   "outputs": [
    {
     "name": "stdout",
     "output_type": "stream",
     "text": [
      "<class 'pandas.core.frame.DataFrame'>\n",
      "Int64Index: 8693 entries, 0 to 8692\n",
      "Data columns (total 22 columns):\n",
      " #   Column        Non-Null Count  Dtype  \n",
      "---  ------        --------------  -----  \n",
      " 0   HomePlanet    8693 non-null   int64  \n",
      " 1   CryoSleep     8693 non-null   bool   \n",
      " 2   Destination   8693 non-null   int64  \n",
      " 3   Age           8693 non-null   float64\n",
      " 4   VIP           8693 non-null   bool   \n",
      " 5   RoomService   8693 non-null   float64\n",
      " 6   FoodCourt     8693 non-null   float64\n",
      " 7   ShoppingMall  8693 non-null   float64\n",
      " 8   Spa           8693 non-null   float64\n",
      " 9   VRDeck        8693 non-null   float64\n",
      " 10  Num           8693 non-null   float64\n",
      " 11  Deck_A        8693 non-null   uint8  \n",
      " 12  Deck_B        8693 non-null   uint8  \n",
      " 13  Deck_C        8693 non-null   uint8  \n",
      " 14  Deck_D        8693 non-null   uint8  \n",
      " 15  Deck_E        8693 non-null   uint8  \n",
      " 16  Deck_F        8693 non-null   uint8  \n",
      " 17  Deck_G        8693 non-null   uint8  \n",
      " 18  Deck_T        8693 non-null   uint8  \n",
      " 19  Side_A        8693 non-null   uint8  \n",
      " 20  Side_P        8693 non-null   uint8  \n",
      " 21  Side_S        8693 non-null   uint8  \n",
      "dtypes: bool(2), float64(7), int64(2), uint8(11)\n",
      "memory usage: 789.5 KB\n"
     ]
    }
   ],
   "source": [
    "X.info()"
   ]
  },
  {
   "cell_type": "code",
   "execution_count": 95,
   "id": "010de752",
   "metadata": {
    "execution": {
     "iopub.execute_input": "2022-03-03T10:31:15.383879Z",
     "iopub.status.busy": "2022-03-03T10:31:15.383265Z",
     "iopub.status.idle": "2022-03-03T10:31:15.387716Z",
     "shell.execute_reply": "2022-03-03T10:31:15.388196Z",
     "shell.execute_reply.started": "2022-02-25T19:11:29.670202Z"
    },
    "papermill": {
     "duration": 0.219387,
     "end_time": "2022-03-03T10:31:15.388350",
     "exception": false,
     "start_time": "2022-03-03T10:31:15.168963",
     "status": "completed"
    },
    "tags": []
   },
   "outputs": [],
   "source": [
    "x_test.drop('PassengerId',axis=1,inplace=True)"
   ]
  },
  {
   "cell_type": "markdown",
   "id": "44457240",
   "metadata": {
    "papermill": {
     "duration": 0.207213,
     "end_time": "2022-03-03T10:31:15.803744",
     "exception": false,
     "start_time": "2022-03-03T10:31:15.596531",
     "status": "completed"
    },
    "tags": []
   },
   "source": [
    "# Model"
   ]
  },
  {
   "cell_type": "code",
   "execution_count": 96,
   "id": "d5675167",
   "metadata": {
    "execution": {
     "iopub.execute_input": "2022-03-03T10:31:16.222314Z",
     "iopub.status.busy": "2022-03-03T10:31:16.221686Z",
     "iopub.status.idle": "2022-03-03T10:31:16.277092Z",
     "shell.execute_reply": "2022-03-03T10:31:16.277563Z",
     "shell.execute_reply.started": "2022-02-25T19:11:34.386633Z"
    },
    "papermill": {
     "duration": 0.264982,
     "end_time": "2022-03-03T10:31:16.277782",
     "exception": false,
     "start_time": "2022-03-03T10:31:16.012800",
     "status": "completed"
    },
    "tags": []
   },
   "outputs": [],
   "source": [
    "from sklearn.model_selection import train_test_split\n",
    "X_train , X_test , y_train , y_test = train_test_split(X, \n",
    "                                                       y,test_size =0.20)"
   ]
  },
  {
   "cell_type": "code",
   "execution_count": 97,
   "id": "5ca9a5f3",
   "metadata": {
    "execution": {
     "iopub.execute_input": "2022-03-03T10:31:16.693511Z",
     "iopub.status.busy": "2022-03-03T10:31:16.692565Z",
     "iopub.status.idle": "2022-03-03T10:31:16.701624Z",
     "shell.execute_reply": "2022-03-03T10:31:16.701160Z",
     "shell.execute_reply.started": "2022-02-25T19:11:34.907009Z"
    },
    "papermill": {
     "duration": 0.217268,
     "end_time": "2022-03-03T10:31:16.701784",
     "exception": false,
     "start_time": "2022-03-03T10:31:16.484516",
     "status": "completed"
    },
    "tags": []
   },
   "outputs": [
    {
     "name": "stdout",
     "output_type": "stream",
     "text": [
      "{'n_estimators': [200, 400, 600, 800, 1000, 1200, 1400, 1600, 1800, 2000], 'max_features': ['auto', 'sqrt', 'log2'], 'min_samples_split': [2, 5, 10], 'min_samples_leaf': [1, 2, 4], 'bootstrap': [True, False]}\n"
     ]
    }
   ],
   "source": [
    "from sklearn.model_selection import RandomizedSearchCV\n",
    "\n",
    "# Number of trees in random forest\n",
    "n_estimators = [int(x) for x in np.linspace(start = 200, stop = 2000, num = 10)]\n",
    "# Number of features to consider at every split\n",
    "max_features = ['auto', 'sqrt','log2']\n",
    "criterion=['gini', 'entropy']\n",
    "# Maximum number of levels in tree\n",
    "max_depth=[3,4,5,6,7,8,9,10,11,12],\n",
    "# Minimum number of samples required to split a node\n",
    "min_samples_split = [2, 5, 10]\n",
    "# Minimum number of samples required at each leaf node\n",
    "min_samples_leaf = [1, 2, 4]\n",
    "# Method of selecting samples for training each tree\n",
    "bootstrap = [True, False]\n",
    "\n",
    "# Create the random grid\n",
    "random_grid = {'n_estimators': n_estimators,\n",
    "               'max_features': max_features,\n",
    "               'min_samples_split': min_samples_split,\n",
    "               'min_samples_leaf': min_samples_leaf,\n",
    "               'bootstrap': bootstrap}\n",
    "\n",
    "print(random_grid)"
   ]
  },
  {
   "cell_type": "code",
   "execution_count": 98,
   "id": "5d4051a9",
   "metadata": {
    "execution": {
     "iopub.execute_input": "2022-03-03T10:31:17.127482Z",
     "iopub.status.busy": "2022-03-03T10:31:17.126522Z",
     "iopub.status.idle": "2022-03-03T10:47:10.195105Z",
     "shell.execute_reply": "2022-03-03T10:47:10.194558Z",
     "shell.execute_reply.started": "2022-02-25T19:11:35.591756Z"
    },
    "papermill": {
     "duration": 953.28125,
     "end_time": "2022-03-03T10:47:10.195263",
     "exception": false,
     "start_time": "2022-03-03T10:31:16.914013",
     "status": "completed"
    },
    "tags": []
   },
   "outputs": [
    {
     "name": "stdout",
     "output_type": "stream",
     "text": [
      "Fitting 3 folds for each of 100 candidates, totalling 300 fits\n"
     ]
    },
    {
     "name": "stderr",
     "output_type": "stream",
     "text": [
      "[Parallel(n_jobs=-1)]: Using backend LokyBackend with 4 concurrent workers.\n",
      "[Parallel(n_jobs=-1)]: Done  33 tasks      | elapsed:  2.2min\n"
     ]
    },
    {
     "name": "stdout",
     "output_type": "stream",
     "text": [
      "[CV] n_estimators=2000, min_samples_split=5, min_samples_leaf=2, max_features=log2, bootstrap=True \n",
      "[CV]  n_estimators=2000, min_samples_split=5, min_samples_leaf=2, max_features=log2, bootstrap=True, total=  18.5s\n",
      "[CV] n_estimators=400, min_samples_split=5, min_samples_leaf=4, max_features=log2, bootstrap=False \n",
      "[CV]  n_estimators=400, min_samples_split=5, min_samples_leaf=4, max_features=log2, bootstrap=False, total=   4.2s\n",
      "[CV] n_estimators=1400, min_samples_split=10, min_samples_leaf=4, max_features=auto, bootstrap=True \n",
      "[CV]  n_estimators=1400, min_samples_split=10, min_samples_leaf=4, max_features=auto, bootstrap=True, total=  11.6s\n",
      "[CV] n_estimators=1600, min_samples_split=5, min_samples_leaf=4, max_features=auto, bootstrap=True \n",
      "[CV]  n_estimators=1600, min_samples_split=5, min_samples_leaf=4, max_features=auto, bootstrap=True, total=  13.5s\n",
      "[CV] n_estimators=1600, min_samples_split=5, min_samples_leaf=4, max_features=auto, bootstrap=True \n",
      "[CV]  n_estimators=1600, min_samples_split=5, min_samples_leaf=4, max_features=auto, bootstrap=True, total=  13.4s\n",
      "[CV] n_estimators=1800, min_samples_split=10, min_samples_leaf=2, max_features=sqrt, bootstrap=False \n",
      "[CV]  n_estimators=1800, min_samples_split=10, min_samples_leaf=2, max_features=sqrt, bootstrap=False, total=  20.1s\n",
      "[CV] n_estimators=600, min_samples_split=5, min_samples_leaf=4, max_features=auto, bootstrap=False \n",
      "[CV]  n_estimators=600, min_samples_split=5, min_samples_leaf=4, max_features=auto, bootstrap=False, total=   6.2s\n",
      "[CV] n_estimators=800, min_samples_split=10, min_samples_leaf=1, max_features=sqrt, bootstrap=False \n",
      "[CV]  n_estimators=800, min_samples_split=10, min_samples_leaf=1, max_features=sqrt, bootstrap=False, total=   9.1s\n",
      "[CV] n_estimators=1400, min_samples_split=2, min_samples_leaf=1, max_features=auto, bootstrap=True \n",
      "[CV]  n_estimators=1400, min_samples_split=2, min_samples_leaf=1, max_features=auto, bootstrap=True, total=  14.2s\n",
      "[CV] n_estimators=1600, min_samples_split=10, min_samples_leaf=1, max_features=sqrt, bootstrap=True \n",
      "[CV]  n_estimators=1600, min_samples_split=10, min_samples_leaf=1, max_features=sqrt, bootstrap=True, total=  14.6s\n",
      "[CV] n_estimators=600, min_samples_split=2, min_samples_leaf=1, max_features=auto, bootstrap=False \n",
      "[CV]  n_estimators=600, min_samples_split=2, min_samples_leaf=1, max_features=auto, bootstrap=False, total=   8.3s\n",
      "[CV] n_estimators=1200, min_samples_split=5, min_samples_leaf=1, max_features=log2, bootstrap=True \n",
      "[CV]  n_estimators=1200, min_samples_split=5, min_samples_leaf=1, max_features=log2, bootstrap=True, total=  11.3s\n",
      "[CV] n_estimators=1000, min_samples_split=5, min_samples_leaf=2, max_features=log2, bootstrap=False \n",
      "[CV]  n_estimators=1000, min_samples_split=5, min_samples_leaf=2, max_features=log2, bootstrap=False, total=  11.5s\n",
      "[CV] n_estimators=1400, min_samples_split=5, min_samples_leaf=4, max_features=log2, bootstrap=False \n",
      "[CV]  n_estimators=1400, min_samples_split=5, min_samples_leaf=4, max_features=log2, bootstrap=False, total=  15.1s\n",
      "[CV] n_estimators=800, min_samples_split=5, min_samples_leaf=1, max_features=sqrt, bootstrap=False \n",
      "[CV]  n_estimators=800, min_samples_split=5, min_samples_leaf=1, max_features=sqrt, bootstrap=False, total=   9.9s\n",
      "[CV] n_estimators=1200, min_samples_split=2, min_samples_leaf=1, max_features=log2, bootstrap=True \n",
      "[CV]  n_estimators=1200, min_samples_split=2, min_samples_leaf=1, max_features=log2, bootstrap=True, total=  12.6s\n",
      "[CV] n_estimators=1600, min_samples_split=5, min_samples_leaf=4, max_features=sqrt, bootstrap=True \n",
      "[CV]  n_estimators=1600, min_samples_split=5, min_samples_leaf=4, max_features=sqrt, bootstrap=True, total=  13.5s\n",
      "[CV] n_estimators=1600, min_samples_split=5, min_samples_leaf=4, max_features=sqrt, bootstrap=True \n",
      "[CV]  n_estimators=1600, min_samples_split=5, min_samples_leaf=4, max_features=sqrt, bootstrap=True, total=  14.1s\n",
      "[CV] n_estimators=2000, min_samples_split=10, min_samples_leaf=1, max_features=log2, bootstrap=False \n",
      "[CV]  n_estimators=2000, min_samples_split=10, min_samples_leaf=1, max_features=log2, bootstrap=False, total=  23.2s\n",
      "[CV] n_estimators=200, min_samples_split=5, min_samples_leaf=1, max_features=auto, bootstrap=True \n",
      "[CV]  n_estimators=200, min_samples_split=5, min_samples_leaf=1, max_features=auto, bootstrap=True, total=   1.9s\n",
      "[CV] n_estimators=200, min_samples_split=5, min_samples_leaf=1, max_features=auto, bootstrap=True \n",
      "[CV]  n_estimators=200, min_samples_split=5, min_samples_leaf=1, max_features=auto, bootstrap=True, total=   1.9s\n",
      "[CV] n_estimators=200, min_samples_split=5, min_samples_leaf=1, max_features=auto, bootstrap=True \n",
      "[CV]  n_estimators=200, min_samples_split=5, min_samples_leaf=1, max_features=auto, bootstrap=True, total=   2.1s\n",
      "[CV] n_estimators=400, min_samples_split=5, min_samples_leaf=2, max_features=auto, bootstrap=False \n",
      "[CV]  n_estimators=400, min_samples_split=5, min_samples_leaf=2, max_features=auto, bootstrap=False, total=   4.5s\n",
      "[CV] n_estimators=400, min_samples_split=5, min_samples_leaf=2, max_features=auto, bootstrap=False \n",
      "[CV]  n_estimators=400, min_samples_split=5, min_samples_leaf=2, max_features=auto, bootstrap=False, total=   4.6s\n",
      "[CV] n_estimators=400, min_samples_split=5, min_samples_leaf=1, max_features=sqrt, bootstrap=False \n",
      "[CV]  n_estimators=400, min_samples_split=5, min_samples_leaf=1, max_features=sqrt, bootstrap=False, total=   4.9s\n",
      "[CV] n_estimators=1200, min_samples_split=2, min_samples_leaf=4, max_features=log2, bootstrap=True \n",
      "[CV]  n_estimators=1200, min_samples_split=2, min_samples_leaf=4, max_features=log2, bootstrap=True, total=  10.1s\n",
      "[CV] n_estimators=1000, min_samples_split=5, min_samples_leaf=1, max_features=log2, bootstrap=False \n",
      "[CV]  n_estimators=1000, min_samples_split=5, min_samples_leaf=1, max_features=log2, bootstrap=False, total=  12.4s\n",
      "[CV] n_estimators=2000, min_samples_split=5, min_samples_leaf=4, max_features=auto, bootstrap=False \n",
      "[CV]  n_estimators=2000, min_samples_split=5, min_samples_leaf=4, max_features=auto, bootstrap=False, total=  20.9s\n",
      "[CV] n_estimators=1000, min_samples_split=10, min_samples_leaf=2, max_features=sqrt, bootstrap=False \n",
      "[CV]  n_estimators=1000, min_samples_split=10, min_samples_leaf=2, max_features=sqrt, bootstrap=False, total=  11.4s\n",
      "[CV] n_estimators=600, min_samples_split=5, min_samples_leaf=4, max_features=auto, bootstrap=True \n",
      "[CV]  n_estimators=600, min_samples_split=5, min_samples_leaf=4, max_features=auto, bootstrap=True, total=   5.0s\n",
      "[CV] n_estimators=1400, min_samples_split=5, min_samples_leaf=1, max_features=log2, bootstrap=True \n",
      "[CV]  n_estimators=1400, min_samples_split=5, min_samples_leaf=1, max_features=log2, bootstrap=True, total=  13.5s\n",
      "[CV] n_estimators=1800, min_samples_split=10, min_samples_leaf=4, max_features=log2, bootstrap=True \n",
      "[CV]  n_estimators=1800, min_samples_split=10, min_samples_leaf=4, max_features=log2, bootstrap=True, total=  15.6s\n",
      "[CV] n_estimators=200, min_samples_split=10, min_samples_leaf=2, max_features=sqrt, bootstrap=True \n",
      "[CV]  n_estimators=200, min_samples_split=10, min_samples_leaf=2, max_features=sqrt, bootstrap=True, total=   1.8s\n",
      "[CV] n_estimators=200, min_samples_split=10, min_samples_leaf=2, max_features=sqrt, bootstrap=True \n",
      "[CV]  n_estimators=200, min_samples_split=10, min_samples_leaf=2, max_features=sqrt, bootstrap=True, total=   1.8s\n",
      "[CV] n_estimators=200, min_samples_split=10, min_samples_leaf=2, max_features=sqrt, bootstrap=True \n",
      "[CV]  n_estimators=200, min_samples_split=10, min_samples_leaf=2, max_features=sqrt, bootstrap=True, total=   1.8s\n",
      "[CV] n_estimators=1600, min_samples_split=2, min_samples_leaf=1, max_features=log2, bootstrap=False \n",
      "[CV]  n_estimators=1600, min_samples_split=2, min_samples_leaf=1, max_features=log2, bootstrap=False, total=  21.0s\n",
      "[CV] n_estimators=800, min_samples_split=10, min_samples_leaf=4, max_features=sqrt, bootstrap=True \n",
      "[CV]  n_estimators=800, min_samples_split=10, min_samples_leaf=4, max_features=sqrt, bootstrap=True, total=   6.8s\n",
      "[CV] n_estimators=2000, min_samples_split=5, min_samples_leaf=4, max_features=auto, bootstrap=True \n",
      "[CV]  n_estimators=2000, min_samples_split=5, min_samples_leaf=4, max_features=auto, bootstrap=True, total=  17.4s\n",
      "[CV] n_estimators=1400, min_samples_split=2, min_samples_leaf=2, max_features=sqrt, bootstrap=False [CV] n_estimators=2000, min_samples_split=5, min_samples_leaf=2, max_features=log2, bootstrap=True \n",
      "[CV]  n_estimators=2000, min_samples_split=5, min_samples_leaf=2, max_features=log2, bootstrap=True, total=  18.5s\n",
      "[CV] n_estimators=400, min_samples_split=5, min_samples_leaf=4, max_features=log2, bootstrap=False \n",
      "[CV]  n_estimators=400, min_samples_split=5, min_samples_leaf=4, max_features=log2, bootstrap=False, total=   4.2s\n",
      "[CV] n_estimators=2000, min_samples_split=5, min_samples_leaf=1, max_features=log2, bootstrap=False \n",
      "[CV]  n_estimators=2000, min_samples_split=5, min_samples_leaf=1, max_features=log2, bootstrap=False, total=  24.6s\n",
      "[CV] n_estimators=1600, min_samples_split=5, min_samples_leaf=4, max_features=auto, bootstrap=True \n",
      "[CV]  n_estimators=1600, min_samples_split=5, min_samples_leaf=4, max_features=auto, bootstrap=True, total=  13.4s\n",
      "[CV] n_estimators=1600, min_samples_split=10, min_samples_leaf=1, max_features=auto, bootstrap=False \n",
      "[CV]  n_estimators=1600, min_samples_split=10, min_samples_leaf=1, max_features=auto, bootstrap=False, total=  18.7s\n",
      "[CV] n_estimators=600, min_samples_split=5, min_samples_leaf=4, max_features=auto, bootstrap=False \n",
      "[CV]  n_estimators=600, min_samples_split=5, min_samples_leaf=4, max_features=auto, bootstrap=False, total=   6.2s\n",
      "[CV] n_estimators=600, min_samples_split=5, min_samples_leaf=4, max_features=auto, bootstrap=False \n",
      "[CV]  n_estimators=600, min_samples_split=5, min_samples_leaf=4, max_features=auto, bootstrap=False, total=   6.2s\n",
      "[CV] n_estimators=800, min_samples_split=10, min_samples_leaf=1, max_features=sqrt, bootstrap=False \n",
      "[CV]  n_estimators=800, min_samples_split=10, min_samples_leaf=1, max_features=sqrt, bootstrap=False, total=   9.1s\n",
      "[CV] n_estimators=1400, min_samples_split=2, min_samples_leaf=1, max_features=auto, bootstrap=True \n",
      "[CV]  n_estimators=1400, min_samples_split=2, min_samples_leaf=1, max_features=auto, bootstrap=True, total=  14.2s\n",
      "[CV] n_estimators=200, min_samples_split=10, min_samples_leaf=2, max_features=sqrt, bootstrap=False \n",
      "[CV]  n_estimators=200, min_samples_split=10, min_samples_leaf=2, max_features=sqrt, bootstrap=False, total=   2.4s\n",
      "[CV] n_estimators=200, min_samples_split=10, min_samples_leaf=2, max_features=sqrt, bootstrap=False \n",
      "[CV]  n_estimators=200, min_samples_split=10, min_samples_leaf=2, max_features=sqrt, bootstrap=False, total=   2.4s\n",
      "[CV] n_estimators=1200, min_samples_split=5, min_samples_leaf=4, max_features=auto, bootstrap=True \n",
      "[CV]  n_estimators=1200, min_samples_split=5, min_samples_leaf=4, max_features=auto, bootstrap=True, total=  10.0s\n",
      "[CV] n_estimators=600, min_samples_split=2, min_samples_leaf=1, max_features=auto, bootstrap=False \n",
      "[CV]  n_estimators=600, min_samples_split=2, min_samples_leaf=1, max_features=auto, bootstrap=False, total=   7.9s\n",
      "[CV] n_estimators=1200, min_samples_split=5, min_samples_leaf=1, max_features=log2, bootstrap=True \n",
      "[CV]  n_estimators=1200, min_samples_split=5, min_samples_leaf=1, max_features=log2, bootstrap=True, total=  11.4s\n",
      "[CV] n_estimators=400, min_samples_split=5, min_samples_leaf=1, max_features=sqrt, bootstrap=True \n",
      "[CV]  n_estimators=400, min_samples_split=5, min_samples_leaf=1, max_features=sqrt, bootstrap=True, total=   3.8s\n",
      "[CV] n_estimators=400, min_samples_split=5, min_samples_leaf=1, max_features=sqrt, bootstrap=True \n",
      "[CV]  n_estimators=400, min_samples_split=5, min_samples_leaf=1, max_features=sqrt, bootstrap=True, total=   3.9s\n",
      "[CV] n_estimators=1400, min_samples_split=5, min_samples_leaf=4, max_features=log2, bootstrap=False \n",
      "[CV]  n_estimators=1400, min_samples_split=5, min_samples_leaf=4, max_features=log2, bootstrap=False, total=  15.0s\n",
      "[CV] n_estimators=800, min_samples_split=5, min_samples_leaf=1, max_features=sqrt, bootstrap=False \n",
      "[CV]  n_estimators=800, min_samples_split=5, min_samples_leaf=1, max_features=sqrt, bootstrap=False, total=   9.8s\n",
      "[CV] n_estimators=1200, min_samples_split=2, min_samples_leaf=1, max_features=log2, bootstrap=True \n",
      "[CV]  n_estimators=1200, min_samples_split=2, min_samples_leaf=1, max_features=log2, bootstrap=True, total=  12.3s\n",
      "[CV] n_estimators=1800, min_samples_split=10, min_samples_leaf=1, max_features=auto, bootstrap=False \n",
      "[CV]  n_estimators=1800, min_samples_split=10, min_samples_leaf=1, max_features=auto, bootstrap=False, total=  21.0s\n",
      "[CV] n_estimators=2000, min_samples_split=10, min_samples_leaf=1, max_features=log2, bootstrap=False \n",
      "[CV]  n_estimators=2000, min_samples_split=10, min_samples_leaf=1, max_features=log2, bootstrap=False, total=  23.2s\n",
      "[CV] n_estimators=200, min_samples_split=2, min_samples_leaf=1, max_features=log2, bootstrap=True \n",
      "[CV]  n_estimators=200, min_samples_split=2, min_samples_leaf=1, max_features=log2, bootstrap=True, total=   2.0s\n",
      "[CV] n_estimators=1600, min_samples_split=10, min_samples_leaf=4, max_features=auto, bootstrap=False \n",
      "[CV]  n_estimators=1600, min_samples_split=10, min_samples_leaf=4, max_features=auto, bootstrap=False, total=  16.9s\n",
      "[CV] n_estimators=400, min_samples_split=5, min_samples_leaf=2, max_features=auto, bootstrap=False \n",
      "[CV]  n_estimators=400, min_samples_split=5, min_samples_leaf=2, max_features=auto, bootstrap=False, total=   4.6s\n",
      "[CV] n_estimators=1400, min_samples_split=10, min_samples_leaf=4, max_features=sqrt, bootstrap=True \n",
      "[CV]  n_estimators=1400, min_samples_split=10, min_samples_leaf=4, max_features=sqrt, bootstrap=True, total=  11.6s\n",
      "[CV] n_estimators=1200, min_samples_split=2, min_samples_leaf=4, max_features=log2, bootstrap=True \n",
      "[CV]  n_estimators=1200, min_samples_split=2, min_samples_leaf=4, max_features=log2, bootstrap=True, total=  10.5s\n",
      "[CV] n_estimators=1000, min_samples_split=5, min_samples_leaf=1, max_features=log2, bootstrap=False \n",
      "[CV]  n_estimators=1000, min_samples_split=5, min_samples_leaf=1, max_features=log2, bootstrap=False, total=  12.3s\n",
      "[CV] n_estimators=1000, min_samples_split=5, min_samples_leaf=4, max_features=log2, bootstrap=False \n",
      "[CV]  n_estimators=1000, min_samples_split=5, min_samples_leaf=4, max_features=log2, bootstrap=False, total=  10.4s\n",
      "[CV] n_estimators=1000, min_samples_split=5, min_samples_leaf=4, max_features=log2, bootstrap=False \n",
      "[CV]  n_estimators=1000, min_samples_split=5, min_samples_leaf=4, max_features=log2, bootstrap=False, total=  10.8s\n",
      "[CV] n_estimators=600, min_samples_split=5, min_samples_leaf=4, max_features=auto, bootstrap=True \n",
      "[CV]  n_estimators=600, min_samples_split=5, min_samples_leaf=4, max_features=auto, bootstrap=True, total=   5.1s\n",
      "[CV] n_estimators=1400, min_samples_split=5, min_samples_leaf=1, max_features=log2, bootstrap=True \n",
      "[CV]  n_estimators=1400, min_samples_split=5, min_samples_leaf=1, max_features=log2, bootstrap=True, total=  13.4s\n",
      "[CV] n_estimators=1800, min_samples_split=10, min_samples_leaf=4, max_features=log2, bootstrap=True \n",
      "[CV]  n_estimators=1800, min_samples_split=10, min_samples_leaf=4, max_features=log2, bootstrap=True, total=  15.6s\n",
      "[CV] n_estimators=1800, min_samples_split=2, min_samples_leaf=2, max_features=log2, bootstrap=False \n",
      "[CV]  n_estimators=1800, min_samples_split=2, min_samples_leaf=2, max_features=log2, bootstrap=False, total=  21.5s\n",
      "[CV] n_estimators=800, min_samples_split=10, min_samples_leaf=4, max_features=sqrt, bootstrap=True \n",
      "[CV]  n_estimators=800, min_samples_split=10, min_samples_leaf=4, max_features=sqrt, bootstrap=True, total=   6.9s\n",
      "[CV] n_estimators=800, min_samples_split=10, min_samples_leaf=4, max_features=sqrt, bootstrap=True \n",
      "[CV]  n_estimators=800, min_samples_split=10, min_samples_leaf=4, max_features=sqrt, bootstrap=True, total=   6.7s\n",
      "[CV] n_estimators=2000, min_samples_split=5, min_samples_leaf=4, max_features=auto, bootstrap=True \n",
      "[CV]  n_estimators=2000, min_samples_split=5, min_samples_leaf=4, max_features=auto, bootstrap=True, total=  17.4s\n",
      "[CV] n_estimators=600, min_samples_split=2, min_samples_leaf=1, max_features=sqrt, bootstrap=False \n",
      "[CV]  n_estimators=600, min_samples_split=2, min_samples_leaf=1, max_features=sqrt, bootstrap=False, total=   7.9s\n",
      "[CV] n_estimators=800, min_samples_split=10, min_samples_leaf=4, max_features=log2, bootstrap=False \n",
      "[CV]  n_estimators=800, min_samples_split=10, min_samples_leaf=4, max_features=log2, bootstrap=False, total=   8.3s[CV] n_estimators=800, min_samples_split=5, min_samples_leaf=4, max_features=auto, bootstrap=True \n",
      "[CV]  n_estimators=800, min_samples_split=5, min_samples_leaf=4, max_features=auto, bootstrap=True, total=   6.7s\n",
      "[CV] n_estimators=800, min_samples_split=5, min_samples_leaf=4, max_features=auto, bootstrap=True \n",
      "[CV]  n_estimators=800, min_samples_split=5, min_samples_leaf=4, max_features=auto, bootstrap=True, total=   6.9s\n",
      "[CV] n_estimators=800, min_samples_split=5, min_samples_leaf=4, max_features=auto, bootstrap=True \n",
      "[CV]  n_estimators=800, min_samples_split=5, min_samples_leaf=4, max_features=auto, bootstrap=True, total=   6.7s\n",
      "[CV] n_estimators=1400, min_samples_split=10, min_samples_leaf=4, max_features=auto, bootstrap=True \n",
      "[CV]  n_estimators=1400, min_samples_split=10, min_samples_leaf=4, max_features=auto, bootstrap=True, total=  11.4s\n",
      "[CV] n_estimators=2000, min_samples_split=5, min_samples_leaf=1, max_features=log2, bootstrap=False \n",
      "[CV]  n_estimators=2000, min_samples_split=5, min_samples_leaf=1, max_features=log2, bootstrap=False, total=  24.5s\n",
      "[CV] n_estimators=1600, min_samples_split=10, min_samples_leaf=1, max_features=auto, bootstrap=False \n",
      "[CV]  n_estimators=1600, min_samples_split=10, min_samples_leaf=1, max_features=auto, bootstrap=False, total=  18.8s\n",
      "[CV] n_estimators=1800, min_samples_split=10, min_samples_leaf=2, max_features=sqrt, bootstrap=False \n",
      "[CV]  n_estimators=1800, min_samples_split=10, min_samples_leaf=2, max_features=sqrt, bootstrap=False, total=  19.6s\n",
      "[CV] n_estimators=800, min_samples_split=10, min_samples_leaf=1, max_features=sqrt, bootstrap=False \n",
      "[CV]  n_estimators=800, min_samples_split=10, min_samples_leaf=1, max_features=sqrt, bootstrap=False, total=   9.7s\n",
      "[CV] n_estimators=1600, min_samples_split=10, min_samples_leaf=1, max_features=sqrt, bootstrap=True \n",
      "[CV]  n_estimators=1600, min_samples_split=10, min_samples_leaf=1, max_features=sqrt, bootstrap=True, total=  14.6s\n",
      "[CV] n_estimators=200, min_samples_split=10, min_samples_leaf=2, max_features=sqrt, bootstrap=False \n",
      "[CV]  n_estimators=200, min_samples_split=10, min_samples_leaf=2, max_features=sqrt, bootstrap=False, total=   2.2s\n",
      "[CV] n_estimators=1200, min_samples_split=5, min_samples_leaf=4, max_features=auto, bootstrap=True \n",
      "[CV]  n_estimators=1200, min_samples_split=5, min_samples_leaf=4, max_features=auto, bootstrap=True, total=  10.1s\n",
      "[CV] n_estimators=600, min_samples_split=2, min_samples_leaf=1, max_features=auto, bootstrap=False \n",
      "[CV]  n_estimators=600, min_samples_split=2, min_samples_leaf=1, max_features=auto, bootstrap=False, total=   7.8s\n",
      "[CV] n_estimators=1000, min_samples_split=5, min_samples_leaf=2, max_features=log2, bootstrap=False \n",
      "[CV]  n_estimators=1000, min_samples_split=5, min_samples_leaf=2, max_features=log2, bootstrap=False, total=  11.4s\n",
      "[CV] n_estimators=400, min_samples_split=5, min_samples_leaf=1, max_features=sqrt, bootstrap=True \n",
      "[CV]  n_estimators=400, min_samples_split=5, min_samples_leaf=1, max_features=sqrt, bootstrap=True, total=   3.8s\n",
      "[CV] n_estimators=1400, min_samples_split=5, min_samples_leaf=4, max_features=log2, bootstrap=False \n",
      "[CV]  n_estimators=1400, min_samples_split=5, min_samples_leaf=4, max_features=log2, bootstrap=False, total=  15.1s\n",
      "[CV] n_estimators=1200, min_samples_split=10, min_samples_leaf=2, max_features=auto, bootstrap=True \n",
      "[CV]  n_estimators=1200, min_samples_split=10, min_samples_leaf=2, max_features=auto, bootstrap=True, total=  10.6s\n",
      "[CV] n_estimators=800, min_samples_split=5, min_samples_leaf=1, max_features=sqrt, bootstrap=False \n",
      "[CV]  n_estimators=800, min_samples_split=5, min_samples_leaf=1, max_features=sqrt, bootstrap=False, total=   9.9s\n",
      "[CV] n_estimators=1800, min_samples_split=10, min_samples_leaf=1, max_features=auto, bootstrap=False \n",
      "[CV]  n_estimators=1800, min_samples_split=10, min_samples_leaf=1, max_features=auto, bootstrap=False, total=  21.5s\n",
      "[CV] n_estimators=1600, min_samples_split=5, min_samples_leaf=4, max_features=sqrt, bootstrap=True \n",
      "[CV]  n_estimators=1600, min_samples_split=5, min_samples_leaf=4, max_features=sqrt, bootstrap=True, total=  13.9s\n",
      "[CV] n_estimators=600, min_samples_split=2, min_samples_leaf=1, max_features=auto, bootstrap=True \n",
      "[CV]  n_estimators=600, min_samples_split=2, min_samples_leaf=1, max_features=auto, bootstrap=True, total=   5.9s\n",
      "[CV] n_estimators=600, min_samples_split=2, min_samples_leaf=1, max_features=auto, bootstrap=True \n",
      "[CV]  n_estimators=600, min_samples_split=2, min_samples_leaf=1, max_features=auto, bootstrap=True, total=   5.9s\n",
      "[CV] n_estimators=600, min_samples_split=2, min_samples_leaf=1, max_features=auto, bootstrap=True \n",
      "[CV]  n_estimators=600, min_samples_split=2, min_samples_leaf=1, max_features=auto, bootstrap=True, total=   6.0s\n",
      "[CV] n_estimators=1600, min_samples_split=10, min_samples_leaf=4, max_features=auto, bootstrap=False \n",
      "[CV]  n_estimators=1600, min_samples_split=10, min_samples_leaf=4, max_features=auto, bootstrap=False, total=  16.9s\n",
      "[CV] n_estimators=400, min_samples_split=5, min_samples_leaf=1, max_features=sqrt, bootstrap=False \n",
      "[CV]  n_estimators=400, min_samples_split=5, min_samples_leaf=1, max_features=sqrt, bootstrap=False, total=   4.8s\n",
      "[CV] n_estimators=1400, min_samples_split=10, min_samples_leaf=4, max_features=sqrt, bootstrap=True \n",
      "[CV]  n_estimators=1400, min_samples_split=10, min_samples_leaf=4, max_features=sqrt, bootstrap=True, total=  11.7s\n",
      "[CV] n_estimators=1000, min_samples_split=5, min_samples_leaf=1, max_features=log2, bootstrap=False \n",
      "[CV]  n_estimators=1000, min_samples_split=5, min_samples_leaf=1, max_features=log2, bootstrap=False, total=  12.5s\n",
      "[CV] n_estimators=2000, min_samples_split=5, min_samples_leaf=4, max_features=auto, bootstrap=False \n",
      "[CV]  n_estimators=2000, min_samples_split=5, min_samples_leaf=4, max_features=auto, bootstrap=False, total=  20.9s\n",
      "[CV] n_estimators=1000, min_samples_split=10, min_samples_leaf=2, max_features=sqrt, bootstrap=False \n",
      "[CV]  n_estimators=1000, min_samples_split=10, min_samples_leaf=2, max_features=sqrt, bootstrap=False, total=  11.1s\n",
      "[CV] n_estimators=600, min_samples_split=5, min_samples_leaf=4, max_features=auto, bootstrap=True \n",
      "[CV]  n_estimators=600, min_samples_split=5, min_samples_leaf=4, max_features=auto, bootstrap=True, total=   5.0s\n",
      "[CV] n_estimators=1400, min_samples_split=5, min_samples_leaf=1, max_features=log2, bootstrap=True \n",
      "[CV]  n_estimators=1400, min_samples_split=5, min_samples_leaf=1, max_features=log2, bootstrap=True, total=  13.5s\n",
      "[CV] n_estimators=400, min_samples_split=10, min_samples_leaf=2, max_features=auto, bootstrap=False \n",
      "[CV]  n_estimators=400, min_samples_split=10, min_samples_leaf=2, max_features=auto, bootstrap=False, total=   4.5s\n",
      "[CV] n_estimators=400, min_samples_split=10, min_samples_leaf=2, max_features=auto, bootstrap=False \n",
      "[CV]  n_estimators=400, min_samples_split=10, min_samples_leaf=2, max_features=auto, bootstrap=False, total=   4.5s\n",
      "[CV] n_estimators=1800, min_samples_split=2, min_samples_leaf=2, max_features=log2, bootstrap=False \n",
      "[CV]  n_estimators=1800, min_samples_split=2, min_samples_leaf=2, max_features=log2, bootstrap=False, total=  20.8s\n",
      "[CV] n_estimators=1600, min_samples_split=2, min_samples_leaf=1, max_features=log2, bootstrap=False \n",
      "[CV]  n_estimators=1600, min_samples_split=2, min_samples_leaf=1, max_features=log2, bootstrap=False, total=  20.8s\n",
      "[CV] n_estimators=600, min_samples_split=2, min_samples_leaf=1, max_features=sqrt, bootstrap=False \n",
      "[CV]  n_estimators=600, min_samples_split=2, min_samples_leaf=1, max_features=sqrt, bootstrap=False, total=   7.7s\n",
      "[CV] n_estimators=600, min_samples_split=2, min_samples_leaf=1, max_features=sqrt, bootstrap=False \n",
      "[CV]  n_estimators=600, min_samples_split=2, min_samples_leaf=1, max_features=sqrt, bootstrap=False, total=   8.0s\n",
      "[CV] n_estimators=1400, min_samples_split=2, min_samples_leaf=2, max_features=sqrt, bootstrap=False \n",
      "[CV]  n_estimators=1400, min_samples_split=2, min_samples_leaf=2, max_features=sqrt, bootstrap=False, total=  16.3s\n",
      "[CV] n_estimators=200, min_samples_split=2, min_samples_leaf=2, max_features=auto, bootstrap=True \n",
      "[CV]  n_estimators=200, min_samples_split=2, min_samples_leaf=2, max_features=auto, bootstrap=True, total=   1.8s"
     ]
    },
    {
     "name": "stderr",
     "output_type": "stream",
     "text": [
      "[Parallel(n_jobs=-1)]: Done 154 tasks      | elapsed:  8.1min\n"
     ]
    },
    {
     "name": "stdout",
     "output_type": "stream",
     "text": [
      "[CV] n_estimators=2000, min_samples_split=5, min_samples_leaf=2, max_features=log2, bootstrap=True \n",
      "[CV]  n_estimators=2000, min_samples_split=5, min_samples_leaf=2, max_features=log2, bootstrap=True, total=  18.5s\n",
      "[CV] n_estimators=400, min_samples_split=5, min_samples_leaf=4, max_features=log2, bootstrap=False \n",
      "[CV]  n_estimators=400, min_samples_split=5, min_samples_leaf=4, max_features=log2, bootstrap=False, total=   4.2s\n",
      "[CV] n_estimators=1400, min_samples_split=10, min_samples_leaf=4, max_features=auto, bootstrap=True \n",
      "[CV]  n_estimators=1400, min_samples_split=10, min_samples_leaf=4, max_features=auto, bootstrap=True, total=  11.5s\n",
      "[CV] n_estimators=2000, min_samples_split=5, min_samples_leaf=1, max_features=log2, bootstrap=False \n",
      "[CV]  n_estimators=2000, min_samples_split=5, min_samples_leaf=1, max_features=log2, bootstrap=False, total=  24.7s\n",
      "[CV] n_estimators=1600, min_samples_split=10, min_samples_leaf=1, max_features=auto, bootstrap=False \n",
      "[CV]  n_estimators=1600, min_samples_split=10, min_samples_leaf=1, max_features=auto, bootstrap=False, total=  18.5s\n",
      "[CV] n_estimators=1800, min_samples_split=10, min_samples_leaf=2, max_features=sqrt, bootstrap=False \n",
      "[CV]  n_estimators=1800, min_samples_split=10, min_samples_leaf=2, max_features=sqrt, bootstrap=False, total=  19.7s\n",
      "[CV] n_estimators=1400, min_samples_split=2, min_samples_leaf=1, max_features=auto, bootstrap=True \n",
      "[CV]  n_estimators=1400, min_samples_split=2, min_samples_leaf=1, max_features=auto, bootstrap=True, total=  14.1s\n",
      "[CV] n_estimators=1600, min_samples_split=10, min_samples_leaf=1, max_features=sqrt, bootstrap=True \n",
      "[CV]  n_estimators=1600, min_samples_split=10, min_samples_leaf=1, max_features=sqrt, bootstrap=True, total=  14.6s\n",
      "[CV] n_estimators=1200, min_samples_split=5, min_samples_leaf=4, max_features=auto, bootstrap=True \n",
      "[CV]  n_estimators=1200, min_samples_split=5, min_samples_leaf=4, max_features=auto, bootstrap=True, total=  10.5s\n",
      "[CV] n_estimators=1200, min_samples_split=5, min_samples_leaf=1, max_features=log2, bootstrap=True \n",
      "[CV]  n_estimators=1200, min_samples_split=5, min_samples_leaf=1, max_features=log2, bootstrap=True, total=  11.3s\n",
      "[CV] n_estimators=1000, min_samples_split=5, min_samples_leaf=2, max_features=log2, bootstrap=False \n",
      "[CV]  n_estimators=1000, min_samples_split=5, min_samples_leaf=2, max_features=log2, bootstrap=False, total=  11.6s\n",
      "[CV] n_estimators=1200, min_samples_split=10, min_samples_leaf=2, max_features=auto, bootstrap=True \n",
      "[CV]  n_estimators=1200, min_samples_split=10, min_samples_leaf=2, max_features=auto, bootstrap=True, total=  10.8s\n",
      "[CV] n_estimators=1200, min_samples_split=10, min_samples_leaf=2, max_features=auto, bootstrap=True \n",
      "[CV]  n_estimators=1200, min_samples_split=10, min_samples_leaf=2, max_features=auto, bootstrap=True, total=  10.6s\n",
      "[CV] n_estimators=1200, min_samples_split=2, min_samples_leaf=1, max_features=log2, bootstrap=True \n",
      "[CV]  n_estimators=1200, min_samples_split=2, min_samples_leaf=1, max_features=log2, bootstrap=True, total=  12.5s\n",
      "[CV] n_estimators=1800, min_samples_split=10, min_samples_leaf=1, max_features=auto, bootstrap=False \n",
      "[CV]  n_estimators=1800, min_samples_split=10, min_samples_leaf=1, max_features=auto, bootstrap=False, total=  21.0s\n",
      "[CV] n_estimators=2000, min_samples_split=10, min_samples_leaf=1, max_features=log2, bootstrap=False \n",
      "[CV]  n_estimators=2000, min_samples_split=10, min_samples_leaf=1, max_features=log2, bootstrap=False, total=  23.5s\n",
      "[CV] n_estimators=200, min_samples_split=2, min_samples_leaf=1, max_features=log2, bootstrap=True \n",
      "[CV]  n_estimators=200, min_samples_split=2, min_samples_leaf=1, max_features=log2, bootstrap=True, total=   2.0s\n",
      "[CV] n_estimators=200, min_samples_split=2, min_samples_leaf=1, max_features=log2, bootstrap=True \n",
      "[CV]  n_estimators=200, min_samples_split=2, min_samples_leaf=1, max_features=log2, bootstrap=True, total=   2.0s\n",
      "[CV] n_estimators=1600, min_samples_split=10, min_samples_leaf=4, max_features=auto, bootstrap=False \n",
      "[CV]  n_estimators=1600, min_samples_split=10, min_samples_leaf=4, max_features=auto, bootstrap=False, total=  16.7s\n",
      "[CV] n_estimators=400, min_samples_split=5, min_samples_leaf=1, max_features=sqrt, bootstrap=False \n",
      "[CV]  n_estimators=400, min_samples_split=5, min_samples_leaf=1, max_features=sqrt, bootstrap=False, total=   4.8s\n",
      "[CV] n_estimators=1400, min_samples_split=10, min_samples_leaf=4, max_features=sqrt, bootstrap=True \n",
      "[CV]  n_estimators=1400, min_samples_split=10, min_samples_leaf=4, max_features=sqrt, bootstrap=True, total=  11.6s\n",
      "[CV] n_estimators=1200, min_samples_split=2, min_samples_leaf=4, max_features=log2, bootstrap=True \n",
      "[CV]  n_estimators=1200, min_samples_split=2, min_samples_leaf=4, max_features=log2, bootstrap=True, total=  10.6s\n",
      "[CV] n_estimators=2000, min_samples_split=5, min_samples_leaf=4, max_features=auto, bootstrap=False \n",
      "[CV]  n_estimators=2000, min_samples_split=5, min_samples_leaf=4, max_features=auto, bootstrap=False, total=  20.8s\n",
      "[CV] n_estimators=1000, min_samples_split=5, min_samples_leaf=4, max_features=log2, bootstrap=False \n",
      "[CV]  n_estimators=1000, min_samples_split=5, min_samples_leaf=4, max_features=log2, bootstrap=False, total=  10.9s\n",
      "[CV] n_estimators=1000, min_samples_split=10, min_samples_leaf=2, max_features=sqrt, bootstrap=False \n",
      "[CV]  n_estimators=1000, min_samples_split=10, min_samples_leaf=2, max_features=sqrt, bootstrap=False, total=  11.0s\n",
      "[CV] n_estimators=1800, min_samples_split=10, min_samples_leaf=4, max_features=log2, bootstrap=True \n",
      "[CV]  n_estimators=1800, min_samples_split=10, min_samples_leaf=4, max_features=log2, bootstrap=True, total=  15.3s\n",
      "[CV] n_estimators=400, min_samples_split=10, min_samples_leaf=2, max_features=auto, bootstrap=False \n",
      "[CV]  n_estimators=400, min_samples_split=10, min_samples_leaf=2, max_features=auto, bootstrap=False, total=   4.4s\n",
      "[CV] n_estimators=1800, min_samples_split=2, min_samples_leaf=2, max_features=log2, bootstrap=False \n",
      "[CV]  n_estimators=1800, min_samples_split=2, min_samples_leaf=2, max_features=log2, bootstrap=False, total=  20.9s\n",
      "[CV] n_estimators=1600, min_samples_split=2, min_samples_leaf=1, max_features=log2, bootstrap=False \n",
      "[CV]  n_estimators=1600, min_samples_split=2, min_samples_leaf=1, max_features=log2, bootstrap=False, total=  20.9s\n",
      "[CV] n_estimators=2000, min_samples_split=5, min_samples_leaf=4, max_features=auto, bootstrap=True \n",
      "[CV]  n_estimators=2000, min_samples_split=5, min_samples_leaf=4, max_features=auto, bootstrap=True, total=  17.4s\n",
      "[CV] n_estimators=1400, min_samples_split=2, min_samples_leaf=2, max_features=sqrt, bootstrap=False \n",
      "[CV]  n_estimators=1400, min_samples_split=2, min_samples_leaf=2, max_features=sqrt, bootstrap=False, total=  16.3s\n",
      "[CV] n_estimators=200, min_samples_split=2, min_samples_leaf=2, max_features=auto, bootstrap=True \n",
      "[CV]  n_estimators=200, min_samples_split=2, min_samples_leaf=2, max_features=auto, bootstrap=True, total=   1.8s\n",
      "[CV] n_estimators=1200, min_samples_split=10, min_samples_leaf=2, max_features=log2, bootstrap=True \n",
      "[CV]  n_estimators=1200, min_samples_split=10, min_samples_leaf=2, max_features=log2, bootstrap=True, total=  10.9s\n",
      "[CV] n_estimators=400, min_samples_split=2, min_samples_leaf=4, max_features=log2, bootstrap=False \n",
      "[CV]  n_estimators=400, min_samples_split=2, min_samples_leaf=4, max_features=log2, bootstrap=False, total=   4.5s\n",
      "[CV] n_estimators=2000, min_samples_split=2, min_samples_leaf=1, max_features=auto, bootstrap=True \n",
      "[CV]  n_estimators=2000, min_samples_split=2, min_samples_leaf=1, max_features=auto, bootstrap=True, total=  20.1s\n",
      "[CV] n_estimators=1800, min_samples_split=5, min_samples_leaf=4, max_features=log2, bootstrap=False \n",
      "[CV]  n_estimators=1800, min_samples_split=5, min_samples_leaf=4, max_features=log2, bootstrap=False, total=  18.8s\n",
      "[CV] n_estimators=1200, min_samples_split=10, min_samples_leaf=2, max_features=auto, bootstrap=False \n",
      "[CV]  n_estimators=1200, min_samples_split=10, min_samples_leaf=2, max_features=auto, bootstrap=False, total=  13.6s\n",
      "[CV] n_estimators=1000, min_samples_split=5, min_samples_leaf=1, max_features=sqrt, bootstrap=True \n",
      "[CV]  n_estimators=1000, min_samples_split=5, min_samples_leaf=1, max_features=sqrt, bootstrap=True, total=   9.4s\n",
      "[CV]  n_estimators=1400, min_samples_split=2, min_samples_leaf=2, max_features=sqrt, bootstrap=False, total=  16.5s\n",
      "[CV] n_estimators=800, min_samples_split=10, min_samples_leaf=4, max_features=log2, bootstrap=False \n",
      "[CV]  n_estimators=800, min_samples_split=10, min_samples_leaf=4, max_features=log2, bootstrap=False, total=   8.5s\n",
      "[CV] n_estimators=400, min_samples_split=2, min_samples_leaf=4, max_features=log2, bootstrap=False \n",
      "[CV]  n_estimators=400, min_samples_split=2, min_samples_leaf=4, max_features=log2, bootstrap=False, total=   4.2s\n",
      "[CV] n_estimators=400, min_samples_split=2, min_samples_leaf=4, max_features=log2, bootstrap=False \n",
      "[CV]  n_estimators=400, min_samples_split=2, min_samples_leaf=4, max_features=log2, bootstrap=False, total=   4.3s\n",
      "[CV] n_estimators=1600, min_samples_split=5, min_samples_leaf=2, max_features=log2, bootstrap=False \n",
      "[CV]  n_estimators=1600, min_samples_split=5, min_samples_leaf=2, max_features=log2, bootstrap=False, total=  18.4s\n",
      "[CV] n_estimators=2000, min_samples_split=2, min_samples_leaf=1, max_features=auto, bootstrap=True \n",
      "[CV]  n_estimators=2000, min_samples_split=2, min_samples_leaf=1, max_features=auto, bootstrap=True, total=  20.4s\n",
      "[CV] n_estimators=1200, min_samples_split=10, min_samples_leaf=2, max_features=auto, bootstrap=False \n",
      "[CV]  n_estimators=1200, min_samples_split=10, min_samples_leaf=2, max_features=auto, bootstrap=False, total=  13.7s\n",
      "[CV] n_estimators=1000, min_samples_split=5, min_samples_leaf=1, max_features=sqrt, bootstrap=True \n",
      "[CV]  n_estimators=1000, min_samples_split=5, min_samples_leaf=1, max_features=sqrt, bootstrap=True, total=   9.5s\n",
      "[CV] n_estimators=1400, min_samples_split=10, min_samples_leaf=4, max_features=sqrt, bootstrap=False \n",
      "[CV]  n_estimators=1400, min_samples_split=10, min_samples_leaf=4, max_features=sqrt, bootstrap=False, total=  14.6s\n",
      "[CV] n_estimators=2000, min_samples_split=2, min_samples_leaf=4, max_features=log2, bootstrap=True \n",
      "[CV]  n_estimators=2000, min_samples_split=2, min_samples_leaf=4, max_features=log2, bootstrap=True, total=  17.0s\n",
      "[CV] n_estimators=1400, min_samples_split=5, min_samples_leaf=2, max_features=auto, bootstrap=False \n",
      "[CV]  n_estimators=1400, min_samples_split=5, min_samples_leaf=2, max_features=auto, bootstrap=False, total=  16.1s\n",
      "[CV] n_estimators=1400, min_samples_split=5, min_samples_leaf=4, max_features=auto, bootstrap=True \n",
      "[CV]  n_estimators=1400, min_samples_split=5, min_samples_leaf=4, max_features=auto, bootstrap=True, total=  12.0s\n",
      "[CV] n_estimators=200, min_samples_split=5, min_samples_leaf=4, max_features=auto, bootstrap=True \n",
      "[CV]  n_estimators=200, min_samples_split=5, min_samples_leaf=4, max_features=auto, bootstrap=True, total=   1.7s\n",
      "[CV] n_estimators=200, min_samples_split=5, min_samples_leaf=4, max_features=auto, bootstrap=True \n",
      "[CV]  n_estimators=200, min_samples_split=5, min_samples_leaf=4, max_features=auto, bootstrap=True, total=   1.7s\n",
      "[CV] n_estimators=200, min_samples_split=5, min_samples_leaf=4, max_features=auto, bootstrap=True \n",
      "[CV]  n_estimators=200, min_samples_split=5, min_samples_leaf=4, max_features=auto, bootstrap=True, total=   1.7s\n",
      "[CV] n_estimators=1400, min_samples_split=2, min_samples_leaf=2, max_features=log2, bootstrap=False \n",
      "[CV]  n_estimators=1400, min_samples_split=2, min_samples_leaf=2, max_features=log2, bootstrap=False, total=  16.6s\n",
      "[CV] n_estimators=1800, min_samples_split=2, min_samples_leaf=1, max_features=sqrt, bootstrap=False \n",
      "[CV]  n_estimators=1800, min_samples_split=2, min_samples_leaf=1, max_features=sqrt, bootstrap=False, total=  23.1s\n",
      "[CV] n_estimators=600, min_samples_split=5, min_samples_leaf=2, max_features=sqrt, bootstrap=True \n",
      "[CV]  n_estimators=600, min_samples_split=5, min_samples_leaf=2, max_features=sqrt, bootstrap=True, total=   5.9s\n",
      "[CV] n_estimators=2000, min_samples_split=10, min_samples_leaf=2, max_features=sqrt, bootstrap=True \n",
      "[CV]  n_estimators=2000, min_samples_split=10, min_samples_leaf=2, max_features=sqrt, bootstrap=True, total=  17.7s\n",
      "[CV] n_estimators=1200, min_samples_split=2, min_samples_leaf=4, max_features=auto, bootstrap=False \n",
      "[CV]  n_estimators=1200, min_samples_split=2, min_samples_leaf=4, max_features=auto, bootstrap=False, total=  12.8s\n",
      "[CV] n_estimators=1800, min_samples_split=10, min_samples_leaf=1, max_features=log2, bootstrap=True \n",
      "[CV]  n_estimators=1800, min_samples_split=10, min_samples_leaf=1, max_features=log2, bootstrap=True, total=  16.5s\n",
      "[CV] n_estimators=200, min_samples_split=5, min_samples_leaf=4, max_features=log2, bootstrap=True \n",
      "[CV]  n_estimators=200, min_samples_split=5, min_samples_leaf=4, max_features=log2, bootstrap=True, total=   1.7s\n",
      "[CV] n_estimators=200, min_samples_split=5, min_samples_leaf=4, max_features=log2, bootstrap=True \n",
      "[CV]  n_estimators=200, min_samples_split=5, min_samples_leaf=4, max_features=log2, bootstrap=True, total=   1.7s\n",
      "[CV] n_estimators=200, min_samples_split=5, min_samples_leaf=4, max_features=log2, bootstrap=True \n",
      "[CV]  n_estimators=200, min_samples_split=5, min_samples_leaf=4, max_features=log2, bootstrap=True, total=   1.7s\n",
      "[CV] n_estimators=800, min_samples_split=2, min_samples_leaf=4, max_features=auto, bootstrap=True \n",
      "[CV]  n_estimators=800, min_samples_split=2, min_samples_leaf=4, max_features=auto, bootstrap=True, total=   7.0s\n",
      "[CV] n_estimators=800, min_samples_split=2, min_samples_leaf=4, max_features=auto, bootstrap=True \n",
      "[CV]  n_estimators=800, min_samples_split=2, min_samples_leaf=4, max_features=auto, bootstrap=True, total=   6.7s\n",
      "[CV] n_estimators=2000, min_samples_split=10, min_samples_leaf=1, max_features=log2, bootstrap=True \n",
      "[CV]  n_estimators=2000, min_samples_split=10, min_samples_leaf=1, max_features=log2, bootstrap=True, total=  17.7s\n",
      "[CV] n_estimators=600, min_samples_split=5, min_samples_leaf=1, max_features=log2, bootstrap=True \n",
      "[CV]  n_estimators=600, min_samples_split=5, min_samples_leaf=1, max_features=log2, bootstrap=True, total=   6.3s\n",
      "[CV] n_estimators=800, min_samples_split=2, min_samples_leaf=2, max_features=auto, bootstrap=True \n",
      "[CV]  n_estimators=800, min_samples_split=2, min_samples_leaf=2, max_features=auto, bootstrap=True, total=   7.4s\n",
      "[CV] n_estimators=1000, min_samples_split=10, min_samples_leaf=4, max_features=auto, bootstrap=True \n",
      "[CV]  n_estimators=1000, min_samples_split=10, min_samples_leaf=4, max_features=auto, bootstrap=True, total=   8.5s\n",
      "[CV] n_estimators=200, min_samples_split=2, min_samples_leaf=1, max_features=auto, bootstrap=True \n",
      "[CV]  n_estimators=200, min_samples_split=2, min_samples_leaf=1, max_features=auto, bootstrap=True, total=   2.0s\n",
      "[CV] n_estimators=200, min_samples_split=2, min_samples_leaf=1, max_features=auto, bootstrap=True \n",
      "[CV]  n_estimators=200, min_samples_split=2, min_samples_leaf=1, max_features=auto, bootstrap=True, total=   2.0s\n",
      "[CV] n_estimators=200, min_samples_split=2, min_samples_leaf=1, max_features=auto, bootstrap=True \n",
      "[CV]  n_estimators=200, min_samples_split=2, min_samples_leaf=1, max_features=auto, bootstrap=True, total=   2.0s\n",
      "[CV] n_estimators=400, min_samples_split=5, min_samples_leaf=1, max_features=auto, bootstrap=True \n",
      "[CV]  n_estimators=400, min_samples_split=5, min_samples_leaf=1, max_features=auto, bootstrap=True, total=   3.9s\n",
      "[CV] n_estimators=600, min_samples_split=10, min_samples_leaf=1, max_features=log2, bootstrap=False \n",
      "[CV]  n_estimators=600, min_samples_split=10, min_samples_leaf=1, max_features=log2, bootstrap=False, total=   7.5s\n",
      "[CV] n_estimators=600, min_samples_split=10, min_samples_leaf=1, max_features=auto, bootstrap=True \n",
      "[CV]  n_estimators=600, min_samples_split=10, min_samples_leaf=1, max_features=auto, bootstrap=True, total=   5.5s\n",
      "[CV] n_estimators=200, min_samples_split=2, min_samples_leaf=1, max_features=sqrt, bootstrap=True \n",
      "[CV]  n_estimators=200, min_samples_split=2, min_samples_leaf=1, max_features=sqrt, bootstrap=True, total=   2.0s\n",
      "[CV] n_estimators=200, min_samples_split=2, min_samples_leaf=1, max_features=sqrt, bootstrap=True \n",
      "[CV]  n_estimators=200, min_samples_split=2, min_samples_leaf=1, max_features=sqrt, bootstrap=True, total=   2.0s\n",
      "[CV] n_estimators=200, min_samples_split=2, min_samples_leaf=1, max_features=sqrt, bootstrap=True \n",
      "[CV]  n_estimators=200, min_samples_split=2, min_samples_leaf=1, max_features=sqrt, bootstrap=True, total=   2.1s\n",
      "[CV] n_estimators=800, min_samples_split=10, min_samples_leaf=4, max_features=log2, bootstrap=False \n",
      "[CV]  n_estimators=800, min_samples_split=10, min_samples_leaf=4, max_features=log2, bootstrap=False, total=   8.4s\n",
      "[CV] n_estimators=1200, min_samples_split=10, min_samples_leaf=2, max_features=log2, bootstrap=True \n",
      "[CV]  n_estimators=1200, min_samples_split=10, min_samples_leaf=2, max_features=log2, bootstrap=True, total=  11.1s\n",
      "[CV] n_estimators=1600, min_samples_split=5, min_samples_leaf=2, max_features=log2, bootstrap=False \n",
      "[CV]  n_estimators=1600, min_samples_split=5, min_samples_leaf=2, max_features=log2, bootstrap=False, total=  18.5s\n",
      "[CV] n_estimators=1800, min_samples_split=5, min_samples_leaf=4, max_features=log2, bootstrap=False \n",
      "[CV]  n_estimators=1800, min_samples_split=5, min_samples_leaf=4, max_features=log2, bootstrap=False, total=  19.3s\n",
      "[CV] n_estimators=1200, min_samples_split=10, min_samples_leaf=2, max_features=auto, bootstrap=False \n",
      "[CV]  n_estimators=1200, min_samples_split=10, min_samples_leaf=2, max_features=auto, bootstrap=False, total=  13.8s\n",
      "[CV] n_estimators=1000, min_samples_split=5, min_samples_leaf=1, max_features=sqrt, bootstrap=True \n",
      "[CV]  n_estimators=1000, min_samples_split=5, min_samples_leaf=1, max_features=sqrt, bootstrap=True, total=   9.4s\n",
      "[CV] n_estimators=1400, min_samples_split=10, min_samples_leaf=4, max_features=sqrt, bootstrap=False \n",
      "[CV]  n_estimators=1400, min_samples_split=10, min_samples_leaf=4, max_features=sqrt, bootstrap=False, total=  14.5s\n",
      "[CV] n_estimators=1800, min_samples_split=2, min_samples_leaf=4, max_features=sqrt, bootstrap=True \n",
      "[CV]  n_estimators=1800, min_samples_split=2, min_samples_leaf=4, max_features=sqrt, bootstrap=True, total=  15.5s\n",
      "[CV] n_estimators=1400, min_samples_split=5, min_samples_leaf=2, max_features=auto, bootstrap=False \n",
      "[CV]  n_estimators=1400, min_samples_split=5, min_samples_leaf=2, max_features=auto, bootstrap=False, total=  16.0s\n",
      "[CV] n_estimators=1400, min_samples_split=5, min_samples_leaf=4, max_features=auto, bootstrap=True \n",
      "[CV]  n_estimators=1400, min_samples_split=5, min_samples_leaf=4, max_features=auto, bootstrap=True, total=  12.2s\n",
      "[CV] n_estimators=1200, min_samples_split=10, min_samples_leaf=4, max_features=log2, bootstrap=False \n",
      "[CV]  n_estimators=1200, min_samples_split=10, min_samples_leaf=4, max_features=log2, bootstrap=False, total=  12.3s\n",
      "[CV] n_estimators=200, min_samples_split=5, min_samples_leaf=1, max_features=log2, bootstrap=False \n",
      "[CV]  n_estimators=200, min_samples_split=5, min_samples_leaf=1, max_features=log2, bootstrap=False, total=   2.4s\n",
      "[CV] n_estimators=200, min_samples_split=5, min_samples_leaf=1, max_features=log2, bootstrap=False \n",
      "[CV]  n_estimators=200, min_samples_split=5, min_samples_leaf=1, max_features=log2, bootstrap=False, total=   2.4s\n",
      "[CV] n_estimators=200, min_samples_split=5, min_samples_leaf=1, max_features=log2, bootstrap=False \n",
      "[CV]  n_estimators=200, min_samples_split=5, min_samples_leaf=1, max_features=log2, bootstrap=False, total=   2.5s\n",
      "[CV] n_estimators=1800, min_samples_split=2, min_samples_leaf=1, max_features=sqrt, bootstrap=False \n",
      "[CV]  n_estimators=1800, min_samples_split=2, min_samples_leaf=1, max_features=sqrt, bootstrap=False, total=  23.6s\n",
      "[CV] n_estimators=600, min_samples_split=5, min_samples_leaf=2, max_features=sqrt, bootstrap=True \n",
      "[CV]  n_estimators=600, min_samples_split=5, min_samples_leaf=2, max_features=sqrt, bootstrap=True, total=   5.4s\n",
      "[CV] n_estimators=1800, min_samples_split=5, min_samples_leaf=4, max_features=auto, bootstrap=True \n",
      "[CV]  n_estimators=1800, min_samples_split=5, min_samples_leaf=4, max_features=auto, bootstrap=True, total=  15.5s\n",
      "[CV] n_estimators=2000, min_samples_split=10, min_samples_leaf=2, max_features=sqrt, bootstrap=True \n",
      "[CV]  n_estimators=2000, min_samples_split=10, min_samples_leaf=2, max_features=sqrt, bootstrap=True, total=  17.7s\n",
      "[CV] n_estimators=1800, min_samples_split=10, min_samples_leaf=1, max_features=log2, bootstrap=True \n",
      "[CV]  n_estimators=1800, min_samples_split=10, min_samples_leaf=1, max_features=log2, bootstrap=True, total=  16.3s\n",
      "[CV] n_estimators=1800, min_samples_split=2, min_samples_leaf=4, max_features=auto, bootstrap=True \n",
      "[CV]  n_estimators=1800, min_samples_split=2, min_samples_leaf=4, max_features=auto, bootstrap=True, total=  15.5s\n",
      "[CV] n_estimators=1000, min_samples_split=10, min_samples_leaf=2, max_features=log2, bootstrap=True \n",
      "[CV]  n_estimators=1000, min_samples_split=10, min_samples_leaf=2, max_features=log2, bootstrap=True, total=   8.6s\n",
      "[CV] n_estimators=600, min_samples_split=10, min_samples_leaf=4, max_features=auto, bootstrap=True \n",
      "[CV]  n_estimators=600, min_samples_split=10, min_samples_leaf=4, max_features=auto, bootstrap=True, total=   4.9s\n",
      "[CV] n_estimators=600, min_samples_split=10, min_samples_leaf=4, max_features=auto, bootstrap=True \n",
      "[CV]  n_estimators=600, min_samples_split=10, min_samples_leaf=4, max_features=auto, bootstrap=True, total=   4.8s\n",
      "[CV] n_estimators=600, min_samples_split=10, min_samples_leaf=4, max_features=auto, bootstrap=True \n",
      "[CV]  n_estimators=600, min_samples_split=10, min_samples_leaf=4, max_features=auto, bootstrap=True, total=   4.9s\n",
      "[CV] n_estimators=600, min_samples_split=5, min_samples_leaf=1, max_features=log2, bootstrap=True \n",
      "[CV]  n_estimators=600, min_samples_split=5, min_samples_leaf=1, max_features=log2, bootstrap=True, total=   6.2s\n",
      "[CV] n_estimators=800, min_samples_split=2, min_samples_leaf=2, max_features=auto, bootstrap=True \n",
      "[CV]  n_estimators=800, min_samples_split=2, min_samples_leaf=2, max_features=auto, bootstrap=True, total=   7.4s\n",
      "[CV] n_estimators=1600, min_samples_split=10, min_samples_leaf=4, max_features=sqrt, bootstrap=True \n",
      "[CV]  n_estimators=1600, min_samples_split=10, min_samples_leaf=4, max_features=sqrt, bootstrap=True, total=  13.4s\n",
      "[CV] n_estimators=400, min_samples_split=5, min_samples_leaf=1, max_features=auto, bootstrap=True \n",
      "[CV]  n_estimators=400, min_samples_split=5, min_samples_leaf=1, max_features=auto, bootstrap=True, total=   3.9s\n",
      "[CV] n_estimators=600, min_samples_split=10, min_samples_leaf=1, max_features=log2, bootstrap=False \n",
      "[CV]  n_estimators=600, min_samples_split=10, min_samples_leaf=1, max_features=log2, bootstrap=False, total=   7.3s\n",
      "[CV] n_estimators=600, min_samples_split=10, min_samples_leaf=1, max_features=auto, bootstrap=True \n",
      "[CV]  n_estimators=600, min_samples_split=10, min_samples_leaf=1, max_features=auto, bootstrap=True, total=   5.5s\n",
      "[CV] n_estimators=1400, min_samples_split=10, min_samples_leaf=4, max_features=auto, bootstrap=False \n",
      "[CV]  n_estimators=1400, min_samples_split=10, min_samples_leaf=4, max_features=auto, bootstrap=False, total=  14.6s\n",
      "[CV] n_estimators=800, min_samples_split=2, min_samples_leaf=4, max_features=sqrt, bootstrap=True \n",
      "[CV]  n_estimators=800, min_samples_split=2, min_samples_leaf=4, max_features=sqrt, bootstrap=True, total=   7.1s\n",
      "[CV] n_estimators=800, min_samples_split=2, min_samples_leaf=4, max_features=sqrt, bootstrap=True \n",
      "[CV]  n_estimators=800, min_samples_split=2, min_samples_leaf=4, max_features=sqrt, bootstrap=True, total=   6.9s\n",
      "[CV] n_estimators=1600, min_samples_split=2, min_samples_leaf=1, max_features=auto, bootstrap=False \n",
      "[CV]  n_estimators=1600, min_samples_split=2, min_samples_leaf=1, max_features=auto, bootstrap=False, total=  20.8s\n",
      "[CV] n_estimators=1400, min_samples_split=5, min_samples_leaf=1, max_features=sqrt, bootstrap=False \n",
      "[CV]  n_estimators=1400, min_samples_split=5, min_samples_leaf=1, max_features=sqrt, bootstrap=False, total=  17.0s\n",
      "[CV] n_estimators=2000, min_samples_split=2, min_samples_leaf=4, max_features=sqrt, bootstrap=False \n",
      "[CV]  n_estimators=2000, min_samples_split=2, min_samples_leaf=4, max_features=sqrt, bootstrap=False, total=  21.0s\n",
      "[CV] n_estimators=1800, min_samples_split=5, min_samples_leaf=1, max_features=auto, bootstrap=True \n",
      "[CV]  n_estimators=1800, min_samples_split=5, min_samples_leaf=1, max_features=auto, bootstrap=True, total=  16.9s\n",
      "[CV] n_estimators=1800, min_samples_split=10, min_samples_leaf=4, max_features=sqrt, bootstrap=False \n",
      "[CV]  n_estimators=1800, min_samples_split=10, min_samples_leaf=4, max_features=sqrt, bootstrap=False, total=  16.1s"
     ]
    },
    {
     "name": "stderr",
     "output_type": "stream",
     "text": [
      "[Parallel(n_jobs=-1)]: Done 300 out of 300 | elapsed: 15.9min finished\n"
     ]
    }
   ],
   "source": [
    "from sklearn.ensemble import RandomForestClassifier\n",
    "# Use the random grid to search for best hyperparameters\n",
    "# First create the base model to tune\n",
    "rf = RandomForestClassifier(random_state = 42)\n",
    "# Random search of parameters, using 3 fold cross validation, \n",
    "# search across 100 different combinations, and use all available cores\n",
    "rf_random = RandomizedSearchCV(estimator=rf, param_distributions=random_grid,\n",
    "                              n_iter = 100, scoring='f1_micro',\n",
    "                              cv = 3, verbose=2, random_state=42, n_jobs=-1,\n",
    "                              return_train_score=True)\n",
    "\n",
    "# Fit the random search model\n",
    "rf_random.fit(X_train, y_train);"
   ]
  },
  {
   "cell_type": "code",
   "execution_count": 99,
   "id": "d38cdac7",
   "metadata": {
    "execution": {
     "iopub.execute_input": "2022-03-03T10:47:10.632114Z",
     "iopub.status.busy": "2022-03-03T10:47:10.631455Z",
     "iopub.status.idle": "2022-03-03T10:47:10.641571Z",
     "shell.execute_reply": "2022-03-03T10:47:10.642207Z",
     "shell.execute_reply.started": "2022-02-25T16:56:26.197957Z"
    },
    "papermill": {
     "duration": 0.229583,
     "end_time": "2022-03-03T10:47:10.642391",
     "exception": false,
     "start_time": "2022-03-03T10:47:10.412808",
     "status": "completed"
    },
    "tags": []
   },
   "outputs": [
    {
     "data": {
      "text/plain": [
       "RandomizedSearchCV(cv=3, estimator=RandomForestClassifier(random_state=42),\n",
       "                   n_iter=100, n_jobs=-1,\n",
       "                   param_distributions={'bootstrap': [True, False],\n",
       "                                        'max_features': ['auto', 'sqrt',\n",
       "                                                         'log2'],\n",
       "                                        'min_samples_leaf': [1, 2, 4],\n",
       "                                        'min_samples_split': [2, 5, 10],\n",
       "                                        'n_estimators': [200, 400, 600, 800,\n",
       "                                                         1000, 1200, 1400, 1600,\n",
       "                                                         1800, 2000]},\n",
       "                   random_state=42, return_train_score=True, scoring='f1_micro',\n",
       "                   verbose=2)"
      ]
     },
     "execution_count": 99,
     "metadata": {},
     "output_type": "execute_result"
    }
   ],
   "source": [
    "rf_random"
   ]
  },
  {
   "cell_type": "code",
   "execution_count": 100,
   "id": "ba473ae7",
   "metadata": {
    "execution": {
     "iopub.execute_input": "2022-03-03T10:47:11.080232Z",
     "iopub.status.busy": "2022-03-03T10:47:11.079299Z",
     "iopub.status.idle": "2022-03-03T10:47:11.085005Z",
     "shell.execute_reply": "2022-03-03T10:47:11.085569Z",
     "shell.execute_reply.started": "2022-02-25T16:56:29.508178Z"
    },
    "papermill": {
     "duration": 0.226531,
     "end_time": "2022-03-03T10:47:11.085762",
     "exception": false,
     "start_time": "2022-03-03T10:47:10.859231",
     "status": "completed"
    },
    "tags": []
   },
   "outputs": [
    {
     "data": {
      "text/plain": [
       "{'n_estimators': 200,\n",
       " 'min_samples_split': 5,\n",
       " 'min_samples_leaf': 4,\n",
       " 'max_features': 'auto',\n",
       " 'bootstrap': True}"
      ]
     },
     "execution_count": 100,
     "metadata": {},
     "output_type": "execute_result"
    }
   ],
   "source": [
    "rf_random.best_params_"
   ]
  },
  {
   "cell_type": "code",
   "execution_count": 101,
   "id": "85a0b5e3",
   "metadata": {
    "execution": {
     "iopub.execute_input": "2022-03-03T10:47:11.521613Z",
     "iopub.status.busy": "2022-03-03T10:47:11.520695Z",
     "iopub.status.idle": "2022-03-03T10:47:11.525212Z",
     "shell.execute_reply": "2022-03-03T10:47:11.525802Z",
     "shell.execute_reply.started": "2022-02-25T16:58:36.290759Z"
    },
    "papermill": {
     "duration": 0.223722,
     "end_time": "2022-03-03T10:47:11.525965",
     "exception": false,
     "start_time": "2022-03-03T10:47:11.302243",
     "status": "completed"
    },
    "tags": []
   },
   "outputs": [],
   "source": [
    "rfc1=RandomForestClassifier(random_state=42,n_estimators=600,min_samples_split=5,min_samples_leaf=2, max_features='sqrt',max_depth=20, bootstrap=False, criterion='gini')"
   ]
  },
  {
   "cell_type": "code",
   "execution_count": 102,
   "id": "38648caf",
   "metadata": {
    "execution": {
     "iopub.execute_input": "2022-03-03T10:47:11.970851Z",
     "iopub.status.busy": "2022-03-03T10:47:11.969804Z",
     "iopub.status.idle": "2022-03-03T10:47:11.994992Z",
     "shell.execute_reply": "2022-03-03T10:47:11.995591Z",
     "shell.execute_reply.started": "2022-02-25T16:58:37.394897Z"
    },
    "papermill": {
     "duration": 0.247822,
     "end_time": "2022-03-03T10:47:11.995783",
     "exception": false,
     "start_time": "2022-03-03T10:47:11.747961",
     "status": "completed"
    },
    "tags": []
   },
   "outputs": [
    {
     "data": {
      "text/html": [
       "<div>\n",
       "<style scoped>\n",
       "    .dataframe tbody tr th:only-of-type {\n",
       "        vertical-align: middle;\n",
       "    }\n",
       "\n",
       "    .dataframe tbody tr th {\n",
       "        vertical-align: top;\n",
       "    }\n",
       "\n",
       "    .dataframe thead th {\n",
       "        text-align: right;\n",
       "    }\n",
       "</style>\n",
       "<table border=\"1\" class=\"dataframe\">\n",
       "  <thead>\n",
       "    <tr style=\"text-align: right;\">\n",
       "      <th></th>\n",
       "      <th>HomePlanet</th>\n",
       "      <th>CryoSleep</th>\n",
       "      <th>Destination</th>\n",
       "      <th>Age</th>\n",
       "      <th>VIP</th>\n",
       "      <th>RoomService</th>\n",
       "      <th>FoodCourt</th>\n",
       "      <th>ShoppingMall</th>\n",
       "      <th>Spa</th>\n",
       "      <th>VRDeck</th>\n",
       "      <th>...</th>\n",
       "      <th>Deck_B</th>\n",
       "      <th>Deck_C</th>\n",
       "      <th>Deck_D</th>\n",
       "      <th>Deck_E</th>\n",
       "      <th>Deck_F</th>\n",
       "      <th>Deck_G</th>\n",
       "      <th>Deck_T</th>\n",
       "      <th>Side_A</th>\n",
       "      <th>Side_P</th>\n",
       "      <th>Side_S</th>\n",
       "    </tr>\n",
       "  </thead>\n",
       "  <tbody>\n",
       "    <tr>\n",
       "      <th>0</th>\n",
       "      <td>0</td>\n",
       "      <td>True</td>\n",
       "      <td>2</td>\n",
       "      <td>0.055556</td>\n",
       "      <td>False</td>\n",
       "      <td>0.000000</td>\n",
       "      <td>0.000000</td>\n",
       "      <td>0.000000</td>\n",
       "      <td>0.000000</td>\n",
       "      <td>0.000000</td>\n",
       "      <td>...</td>\n",
       "      <td>0</td>\n",
       "      <td>0</td>\n",
       "      <td>0</td>\n",
       "      <td>0</td>\n",
       "      <td>0</td>\n",
       "      <td>1</td>\n",
       "      <td>0</td>\n",
       "      <td>0</td>\n",
       "      <td>0</td>\n",
       "      <td>1</td>\n",
       "    </tr>\n",
       "    <tr>\n",
       "      <th>1</th>\n",
       "      <td>0</td>\n",
       "      <td>False</td>\n",
       "      <td>2</td>\n",
       "      <td>-0.388889</td>\n",
       "      <td>False</td>\n",
       "      <td>0.000000</td>\n",
       "      <td>0.136364</td>\n",
       "      <td>0.000000</td>\n",
       "      <td>65.651163</td>\n",
       "      <td>0.000000</td>\n",
       "      <td>...</td>\n",
       "      <td>0</td>\n",
       "      <td>0</td>\n",
       "      <td>0</td>\n",
       "      <td>0</td>\n",
       "      <td>1</td>\n",
       "      <td>0</td>\n",
       "      <td>0</td>\n",
       "      <td>0</td>\n",
       "      <td>0</td>\n",
       "      <td>1</td>\n",
       "    </tr>\n",
       "    <tr>\n",
       "      <th>2</th>\n",
       "      <td>1</td>\n",
       "      <td>True</td>\n",
       "      <td>0</td>\n",
       "      <td>0.277778</td>\n",
       "      <td>False</td>\n",
       "      <td>0.000000</td>\n",
       "      <td>0.000000</td>\n",
       "      <td>0.000000</td>\n",
       "      <td>0.000000</td>\n",
       "      <td>0.000000</td>\n",
       "      <td>...</td>\n",
       "      <td>0</td>\n",
       "      <td>1</td>\n",
       "      <td>0</td>\n",
       "      <td>0</td>\n",
       "      <td>0</td>\n",
       "      <td>0</td>\n",
       "      <td>0</td>\n",
       "      <td>0</td>\n",
       "      <td>0</td>\n",
       "      <td>1</td>\n",
       "    </tr>\n",
       "    <tr>\n",
       "      <th>3</th>\n",
       "      <td>1</td>\n",
       "      <td>False</td>\n",
       "      <td>2</td>\n",
       "      <td>0.666667</td>\n",
       "      <td>False</td>\n",
       "      <td>0.000000</td>\n",
       "      <td>100.787879</td>\n",
       "      <td>0.000000</td>\n",
       "      <td>4.209302</td>\n",
       "      <td>18.870968</td>\n",
       "      <td>...</td>\n",
       "      <td>0</td>\n",
       "      <td>1</td>\n",
       "      <td>0</td>\n",
       "      <td>0</td>\n",
       "      <td>0</td>\n",
       "      <td>0</td>\n",
       "      <td>0</td>\n",
       "      <td>0</td>\n",
       "      <td>0</td>\n",
       "      <td>1</td>\n",
       "    </tr>\n",
       "    <tr>\n",
       "      <th>4</th>\n",
       "      <td>0</td>\n",
       "      <td>False</td>\n",
       "      <td>2</td>\n",
       "      <td>-0.333333</td>\n",
       "      <td>False</td>\n",
       "      <td>0.208333</td>\n",
       "      <td>0.000000</td>\n",
       "      <td>23.518519</td>\n",
       "      <td>0.000000</td>\n",
       "      <td>0.000000</td>\n",
       "      <td>...</td>\n",
       "      <td>0</td>\n",
       "      <td>0</td>\n",
       "      <td>0</td>\n",
       "      <td>0</td>\n",
       "      <td>1</td>\n",
       "      <td>0</td>\n",
       "      <td>0</td>\n",
       "      <td>0</td>\n",
       "      <td>0</td>\n",
       "      <td>1</td>\n",
       "    </tr>\n",
       "    <tr>\n",
       "      <th>...</th>\n",
       "      <td>...</td>\n",
       "      <td>...</td>\n",
       "      <td>...</td>\n",
       "      <td>...</td>\n",
       "      <td>...</td>\n",
       "      <td>...</td>\n",
       "      <td>...</td>\n",
       "      <td>...</td>\n",
       "      <td>...</td>\n",
       "      <td>...</td>\n",
       "      <td>...</td>\n",
       "      <td>...</td>\n",
       "      <td>...</td>\n",
       "      <td>...</td>\n",
       "      <td>...</td>\n",
       "      <td>...</td>\n",
       "      <td>...</td>\n",
       "      <td>...</td>\n",
       "      <td>...</td>\n",
       "      <td>...</td>\n",
       "      <td>...</td>\n",
       "    </tr>\n",
       "    <tr>\n",
       "      <th>4272</th>\n",
       "      <td>0</td>\n",
       "      <td>True</td>\n",
       "      <td>2</td>\n",
       "      <td>0.444444</td>\n",
       "      <td>False</td>\n",
       "      <td>0.000000</td>\n",
       "      <td>0.000000</td>\n",
       "      <td>0.000000</td>\n",
       "      <td>0.000000</td>\n",
       "      <td>0.000000</td>\n",
       "      <td>...</td>\n",
       "      <td>0</td>\n",
       "      <td>0</td>\n",
       "      <td>0</td>\n",
       "      <td>0</td>\n",
       "      <td>0</td>\n",
       "      <td>1</td>\n",
       "      <td>0</td>\n",
       "      <td>0</td>\n",
       "      <td>0</td>\n",
       "      <td>1</td>\n",
       "    </tr>\n",
       "    <tr>\n",
       "      <th>4273</th>\n",
       "      <td>0</td>\n",
       "      <td>False</td>\n",
       "      <td>2</td>\n",
       "      <td>0.888889</td>\n",
       "      <td>False</td>\n",
       "      <td>0.000000</td>\n",
       "      <td>12.833333</td>\n",
       "      <td>0.629630</td>\n",
       "      <td>0.232558</td>\n",
       "      <td>4.645161</td>\n",
       "      <td>...</td>\n",
       "      <td>0</td>\n",
       "      <td>0</td>\n",
       "      <td>0</td>\n",
       "      <td>0</td>\n",
       "      <td>0</td>\n",
       "      <td>0</td>\n",
       "      <td>0</td>\n",
       "      <td>1</td>\n",
       "      <td>0</td>\n",
       "      <td>0</td>\n",
       "    </tr>\n",
       "    <tr>\n",
       "      <th>4274</th>\n",
       "      <td>2</td>\n",
       "      <td>True</td>\n",
       "      <td>0</td>\n",
       "      <td>-0.444444</td>\n",
       "      <td>False</td>\n",
       "      <td>0.000000</td>\n",
       "      <td>0.000000</td>\n",
       "      <td>0.000000</td>\n",
       "      <td>0.000000</td>\n",
       "      <td>0.000000</td>\n",
       "      <td>...</td>\n",
       "      <td>0</td>\n",
       "      <td>0</td>\n",
       "      <td>1</td>\n",
       "      <td>0</td>\n",
       "      <td>0</td>\n",
       "      <td>0</td>\n",
       "      <td>0</td>\n",
       "      <td>0</td>\n",
       "      <td>1</td>\n",
       "      <td>0</td>\n",
       "    </tr>\n",
       "    <tr>\n",
       "      <th>4275</th>\n",
       "      <td>1</td>\n",
       "      <td>False</td>\n",
       "      <td>3</td>\n",
       "      <td>-0.444444</td>\n",
       "      <td>False</td>\n",
       "      <td>0.000000</td>\n",
       "      <td>40.606061</td>\n",
       "      <td>0.000000</td>\n",
       "      <td>0.000000</td>\n",
       "      <td>16.870968</td>\n",
       "      <td>...</td>\n",
       "      <td>0</td>\n",
       "      <td>0</td>\n",
       "      <td>1</td>\n",
       "      <td>0</td>\n",
       "      <td>0</td>\n",
       "      <td>0</td>\n",
       "      <td>0</td>\n",
       "      <td>0</td>\n",
       "      <td>1</td>\n",
       "      <td>0</td>\n",
       "    </tr>\n",
       "    <tr>\n",
       "      <th>4276</th>\n",
       "      <td>0</td>\n",
       "      <td>True</td>\n",
       "      <td>1</td>\n",
       "      <td>0.944444</td>\n",
       "      <td>False</td>\n",
       "      <td>0.000000</td>\n",
       "      <td>0.000000</td>\n",
       "      <td>0.000000</td>\n",
       "      <td>0.000000</td>\n",
       "      <td>0.000000</td>\n",
       "      <td>...</td>\n",
       "      <td>0</td>\n",
       "      <td>0</td>\n",
       "      <td>0</td>\n",
       "      <td>0</td>\n",
       "      <td>0</td>\n",
       "      <td>1</td>\n",
       "      <td>0</td>\n",
       "      <td>0</td>\n",
       "      <td>0</td>\n",
       "      <td>1</td>\n",
       "    </tr>\n",
       "  </tbody>\n",
       "</table>\n",
       "<p>4277 rows × 22 columns</p>\n",
       "</div>"
      ],
      "text/plain": [
       "      HomePlanet  CryoSleep  Destination       Age    VIP  RoomService  \\\n",
       "0              0       True            2  0.055556  False     0.000000   \n",
       "1              0      False            2 -0.388889  False     0.000000   \n",
       "2              1       True            0  0.277778  False     0.000000   \n",
       "3              1      False            2  0.666667  False     0.000000   \n",
       "4              0      False            2 -0.333333  False     0.208333   \n",
       "...          ...        ...          ...       ...    ...          ...   \n",
       "4272           0       True            2  0.444444  False     0.000000   \n",
       "4273           0      False            2  0.888889  False     0.000000   \n",
       "4274           2       True            0 -0.444444  False     0.000000   \n",
       "4275           1      False            3 -0.444444  False     0.000000   \n",
       "4276           0       True            1  0.944444  False     0.000000   \n",
       "\n",
       "       FoodCourt  ShoppingMall        Spa     VRDeck  ...  Deck_B  Deck_C  \\\n",
       "0       0.000000      0.000000   0.000000   0.000000  ...       0       0   \n",
       "1       0.136364      0.000000  65.651163   0.000000  ...       0       0   \n",
       "2       0.000000      0.000000   0.000000   0.000000  ...       0       1   \n",
       "3     100.787879      0.000000   4.209302  18.870968  ...       0       1   \n",
       "4       0.000000     23.518519   0.000000   0.000000  ...       0       0   \n",
       "...          ...           ...        ...        ...  ...     ...     ...   \n",
       "4272    0.000000      0.000000   0.000000   0.000000  ...       0       0   \n",
       "4273   12.833333      0.629630   0.232558   4.645161  ...       0       0   \n",
       "4274    0.000000      0.000000   0.000000   0.000000  ...       0       0   \n",
       "4275   40.606061      0.000000   0.000000  16.870968  ...       0       0   \n",
       "4276    0.000000      0.000000   0.000000   0.000000  ...       0       0   \n",
       "\n",
       "      Deck_D  Deck_E  Deck_F  Deck_G  Deck_T  Side_A  Side_P  Side_S  \n",
       "0          0       0       0       1       0       0       0       1  \n",
       "1          0       0       1       0       0       0       0       1  \n",
       "2          0       0       0       0       0       0       0       1  \n",
       "3          0       0       0       0       0       0       0       1  \n",
       "4          0       0       1       0       0       0       0       1  \n",
       "...      ...     ...     ...     ...     ...     ...     ...     ...  \n",
       "4272       0       0       0       1       0       0       0       1  \n",
       "4273       0       0       0       0       0       1       0       0  \n",
       "4274       1       0       0       0       0       0       1       0  \n",
       "4275       1       0       0       0       0       0       1       0  \n",
       "4276       0       0       0       1       0       0       0       1  \n",
       "\n",
       "[4277 rows x 22 columns]"
      ]
     },
     "execution_count": 102,
     "metadata": {},
     "output_type": "execute_result"
    }
   ],
   "source": [
    "# Test Data\n",
    "x_test"
   ]
  },
  {
   "cell_type": "code",
   "execution_count": 103,
   "id": "daaa9b4f",
   "metadata": {
    "execution": {
     "iopub.execute_input": "2022-03-03T10:47:12.439636Z",
     "iopub.status.busy": "2022-03-03T10:47:12.438615Z",
     "iopub.status.idle": "2022-03-03T10:47:19.070907Z",
     "shell.execute_reply": "2022-03-03T10:47:19.070351Z",
     "shell.execute_reply.started": "2022-02-25T16:58:38.121953Z"
    },
    "papermill": {
     "duration": 6.855207,
     "end_time": "2022-03-03T10:47:19.071059",
     "exception": false,
     "start_time": "2022-03-03T10:47:12.215852",
     "status": "completed"
    },
    "tags": []
   },
   "outputs": [],
   "source": [
    "rfc1.fit(X_train, y_train)\n",
    "\n",
    "y_pred = rfc1.predict(X_test)"
   ]
  },
  {
   "cell_type": "code",
   "execution_count": 104,
   "id": "f20c6015",
   "metadata": {
    "execution": {
     "iopub.execute_input": "2022-03-03T10:47:19.509961Z",
     "iopub.status.busy": "2022-03-03T10:47:19.509348Z",
     "iopub.status.idle": "2022-03-03T10:47:19.779853Z",
     "shell.execute_reply": "2022-03-03T10:47:19.780335Z",
     "shell.execute_reply.started": "2022-02-25T16:58:44.818303Z"
    },
    "papermill": {
     "duration": 0.493047,
     "end_time": "2022-03-03T10:47:19.780495",
     "exception": false,
     "start_time": "2022-03-03T10:47:19.287448",
     "status": "completed"
    },
    "tags": []
   },
   "outputs": [
    {
     "data": {
      "text/plain": [
       "0.8067855089131685"
      ]
     },
     "execution_count": 104,
     "metadata": {},
     "output_type": "execute_result"
    }
   ],
   "source": [
    "rfc1.score(X_test, y_test)"
   ]
  },
  {
   "cell_type": "code",
   "execution_count": 105,
   "id": "1f25b923",
   "metadata": {
    "execution": {
     "iopub.execute_input": "2022-03-03T10:47:20.223053Z",
     "iopub.status.busy": "2022-03-03T10:47:20.222371Z",
     "iopub.status.idle": "2022-03-03T10:47:20.362136Z",
     "shell.execute_reply": "2022-03-03T10:47:20.361471Z",
     "shell.execute_reply.started": "2022-02-25T17:00:10.097887Z"
    },
    "papermill": {
     "duration": 0.359987,
     "end_time": "2022-03-03T10:47:20.362418",
     "exception": true,
     "start_time": "2022-03-03T10:47:20.002431",
     "status": "failed"
    },
    "tags": []
   },
   "outputs": [
    {
     "ename": "KeyError",
     "evalue": "\"['PassengerId'] not found in axis\"",
     "output_type": "error",
     "traceback": [
      "\u001b[0;31m---------------------------------------------------------------------------\u001b[0m",
      "\u001b[0;31mKeyError\u001b[0m                                  Traceback (most recent call last)",
      "\u001b[0;32m/tmp/ipykernel_19/3494073979.py\u001b[0m in \u001b[0;36m<module>\u001b[0;34m\u001b[0m\n\u001b[0;32m----> 1\u001b[0;31m \u001b[0mx_test\u001b[0m\u001b[0;34m.\u001b[0m\u001b[0mdrop\u001b[0m\u001b[0;34m(\u001b[0m\u001b[0;34m'PassengerId'\u001b[0m\u001b[0;34m,\u001b[0m\u001b[0maxis\u001b[0m\u001b[0;34m=\u001b[0m\u001b[0;36m1\u001b[0m\u001b[0;34m,\u001b[0m\u001b[0minplace\u001b[0m\u001b[0;34m=\u001b[0m\u001b[0;32mTrue\u001b[0m\u001b[0;34m)\u001b[0m\u001b[0;34m\u001b[0m\u001b[0;34m\u001b[0m\u001b[0m\n\u001b[0m",
      "\u001b[0;32m/opt/conda/lib/python3.7/site-packages/pandas/util/_decorators.py\u001b[0m in \u001b[0;36mwrapper\u001b[0;34m(*args, **kwargs)\u001b[0m\n\u001b[1;32m    309\u001b[0m                     \u001b[0mstacklevel\u001b[0m\u001b[0;34m=\u001b[0m\u001b[0mstacklevel\u001b[0m\u001b[0;34m,\u001b[0m\u001b[0;34m\u001b[0m\u001b[0;34m\u001b[0m\u001b[0m\n\u001b[1;32m    310\u001b[0m                 )\n\u001b[0;32m--> 311\u001b[0;31m             \u001b[0;32mreturn\u001b[0m \u001b[0mfunc\u001b[0m\u001b[0;34m(\u001b[0m\u001b[0;34m*\u001b[0m\u001b[0margs\u001b[0m\u001b[0;34m,\u001b[0m \u001b[0;34m**\u001b[0m\u001b[0mkwargs\u001b[0m\u001b[0;34m)\u001b[0m\u001b[0;34m\u001b[0m\u001b[0;34m\u001b[0m\u001b[0m\n\u001b[0m\u001b[1;32m    312\u001b[0m \u001b[0;34m\u001b[0m\u001b[0m\n\u001b[1;32m    313\u001b[0m         \u001b[0;32mreturn\u001b[0m \u001b[0mwrapper\u001b[0m\u001b[0;34m\u001b[0m\u001b[0;34m\u001b[0m\u001b[0m\n",
      "\u001b[0;32m/opt/conda/lib/python3.7/site-packages/pandas/core/frame.py\u001b[0m in \u001b[0;36mdrop\u001b[0;34m(self, labels, axis, index, columns, level, inplace, errors)\u001b[0m\n\u001b[1;32m   4911\u001b[0m             \u001b[0mlevel\u001b[0m\u001b[0;34m=\u001b[0m\u001b[0mlevel\u001b[0m\u001b[0;34m,\u001b[0m\u001b[0;34m\u001b[0m\u001b[0;34m\u001b[0m\u001b[0m\n\u001b[1;32m   4912\u001b[0m             \u001b[0minplace\u001b[0m\u001b[0;34m=\u001b[0m\u001b[0minplace\u001b[0m\u001b[0;34m,\u001b[0m\u001b[0;34m\u001b[0m\u001b[0;34m\u001b[0m\u001b[0m\n\u001b[0;32m-> 4913\u001b[0;31m             \u001b[0merrors\u001b[0m\u001b[0;34m=\u001b[0m\u001b[0merrors\u001b[0m\u001b[0;34m,\u001b[0m\u001b[0;34m\u001b[0m\u001b[0;34m\u001b[0m\u001b[0m\n\u001b[0m\u001b[1;32m   4914\u001b[0m         )\n\u001b[1;32m   4915\u001b[0m \u001b[0;34m\u001b[0m\u001b[0m\n",
      "\u001b[0;32m/opt/conda/lib/python3.7/site-packages/pandas/core/generic.py\u001b[0m in \u001b[0;36mdrop\u001b[0;34m(self, labels, axis, index, columns, level, inplace, errors)\u001b[0m\n\u001b[1;32m   4148\u001b[0m         \u001b[0;32mfor\u001b[0m \u001b[0maxis\u001b[0m\u001b[0;34m,\u001b[0m \u001b[0mlabels\u001b[0m \u001b[0;32min\u001b[0m \u001b[0maxes\u001b[0m\u001b[0;34m.\u001b[0m\u001b[0mitems\u001b[0m\u001b[0;34m(\u001b[0m\u001b[0;34m)\u001b[0m\u001b[0;34m:\u001b[0m\u001b[0;34m\u001b[0m\u001b[0;34m\u001b[0m\u001b[0m\n\u001b[1;32m   4149\u001b[0m             \u001b[0;32mif\u001b[0m \u001b[0mlabels\u001b[0m \u001b[0;32mis\u001b[0m \u001b[0;32mnot\u001b[0m \u001b[0;32mNone\u001b[0m\u001b[0;34m:\u001b[0m\u001b[0;34m\u001b[0m\u001b[0;34m\u001b[0m\u001b[0m\n\u001b[0;32m-> 4150\u001b[0;31m                 \u001b[0mobj\u001b[0m \u001b[0;34m=\u001b[0m \u001b[0mobj\u001b[0m\u001b[0;34m.\u001b[0m\u001b[0m_drop_axis\u001b[0m\u001b[0;34m(\u001b[0m\u001b[0mlabels\u001b[0m\u001b[0;34m,\u001b[0m \u001b[0maxis\u001b[0m\u001b[0;34m,\u001b[0m \u001b[0mlevel\u001b[0m\u001b[0;34m=\u001b[0m\u001b[0mlevel\u001b[0m\u001b[0;34m,\u001b[0m \u001b[0merrors\u001b[0m\u001b[0;34m=\u001b[0m\u001b[0merrors\u001b[0m\u001b[0;34m)\u001b[0m\u001b[0;34m\u001b[0m\u001b[0;34m\u001b[0m\u001b[0m\n\u001b[0m\u001b[1;32m   4151\u001b[0m \u001b[0;34m\u001b[0m\u001b[0m\n\u001b[1;32m   4152\u001b[0m         \u001b[0;32mif\u001b[0m \u001b[0minplace\u001b[0m\u001b[0;34m:\u001b[0m\u001b[0;34m\u001b[0m\u001b[0;34m\u001b[0m\u001b[0m\n",
      "\u001b[0;32m/opt/conda/lib/python3.7/site-packages/pandas/core/generic.py\u001b[0m in \u001b[0;36m_drop_axis\u001b[0;34m(self, labels, axis, level, errors)\u001b[0m\n\u001b[1;32m   4183\u001b[0m                 \u001b[0mnew_axis\u001b[0m \u001b[0;34m=\u001b[0m \u001b[0maxis\u001b[0m\u001b[0;34m.\u001b[0m\u001b[0mdrop\u001b[0m\u001b[0;34m(\u001b[0m\u001b[0mlabels\u001b[0m\u001b[0;34m,\u001b[0m \u001b[0mlevel\u001b[0m\u001b[0;34m=\u001b[0m\u001b[0mlevel\u001b[0m\u001b[0;34m,\u001b[0m \u001b[0merrors\u001b[0m\u001b[0;34m=\u001b[0m\u001b[0merrors\u001b[0m\u001b[0;34m)\u001b[0m\u001b[0;34m\u001b[0m\u001b[0;34m\u001b[0m\u001b[0m\n\u001b[1;32m   4184\u001b[0m             \u001b[0;32melse\u001b[0m\u001b[0;34m:\u001b[0m\u001b[0;34m\u001b[0m\u001b[0;34m\u001b[0m\u001b[0m\n\u001b[0;32m-> 4185\u001b[0;31m                 \u001b[0mnew_axis\u001b[0m \u001b[0;34m=\u001b[0m \u001b[0maxis\u001b[0m\u001b[0;34m.\u001b[0m\u001b[0mdrop\u001b[0m\u001b[0;34m(\u001b[0m\u001b[0mlabels\u001b[0m\u001b[0;34m,\u001b[0m \u001b[0merrors\u001b[0m\u001b[0;34m=\u001b[0m\u001b[0merrors\u001b[0m\u001b[0;34m)\u001b[0m\u001b[0;34m\u001b[0m\u001b[0;34m\u001b[0m\u001b[0m\n\u001b[0m\u001b[1;32m   4186\u001b[0m             \u001b[0mresult\u001b[0m \u001b[0;34m=\u001b[0m \u001b[0mself\u001b[0m\u001b[0;34m.\u001b[0m\u001b[0mreindex\u001b[0m\u001b[0;34m(\u001b[0m\u001b[0;34m**\u001b[0m\u001b[0;34m{\u001b[0m\u001b[0maxis_name\u001b[0m\u001b[0;34m:\u001b[0m \u001b[0mnew_axis\u001b[0m\u001b[0;34m}\u001b[0m\u001b[0;34m)\u001b[0m\u001b[0;34m\u001b[0m\u001b[0;34m\u001b[0m\u001b[0m\n\u001b[1;32m   4187\u001b[0m \u001b[0;34m\u001b[0m\u001b[0m\n",
      "\u001b[0;32m/opt/conda/lib/python3.7/site-packages/pandas/core/indexes/base.py\u001b[0m in \u001b[0;36mdrop\u001b[0;34m(self, labels, errors)\u001b[0m\n\u001b[1;32m   6015\u001b[0m         \u001b[0;32mif\u001b[0m \u001b[0mmask\u001b[0m\u001b[0;34m.\u001b[0m\u001b[0many\u001b[0m\u001b[0;34m(\u001b[0m\u001b[0;34m)\u001b[0m\u001b[0;34m:\u001b[0m\u001b[0;34m\u001b[0m\u001b[0;34m\u001b[0m\u001b[0m\n\u001b[1;32m   6016\u001b[0m             \u001b[0;32mif\u001b[0m \u001b[0merrors\u001b[0m \u001b[0;34m!=\u001b[0m \u001b[0;34m\"ignore\"\u001b[0m\u001b[0;34m:\u001b[0m\u001b[0;34m\u001b[0m\u001b[0;34m\u001b[0m\u001b[0m\n\u001b[0;32m-> 6017\u001b[0;31m                 \u001b[0;32mraise\u001b[0m \u001b[0mKeyError\u001b[0m\u001b[0;34m(\u001b[0m\u001b[0;34mf\"{labels[mask]} not found in axis\"\u001b[0m\u001b[0;34m)\u001b[0m\u001b[0;34m\u001b[0m\u001b[0;34m\u001b[0m\u001b[0m\n\u001b[0m\u001b[1;32m   6018\u001b[0m             \u001b[0mindexer\u001b[0m \u001b[0;34m=\u001b[0m \u001b[0mindexer\u001b[0m\u001b[0;34m[\u001b[0m\u001b[0;34m~\u001b[0m\u001b[0mmask\u001b[0m\u001b[0;34m]\u001b[0m\u001b[0;34m\u001b[0m\u001b[0;34m\u001b[0m\u001b[0m\n\u001b[1;32m   6019\u001b[0m         \u001b[0;32mreturn\u001b[0m \u001b[0mself\u001b[0m\u001b[0;34m.\u001b[0m\u001b[0mdelete\u001b[0m\u001b[0;34m(\u001b[0m\u001b[0mindexer\u001b[0m\u001b[0;34m)\u001b[0m\u001b[0;34m\u001b[0m\u001b[0;34m\u001b[0m\u001b[0m\n",
      "\u001b[0;31mKeyError\u001b[0m: \"['PassengerId'] not found in axis\""
     ]
    }
   ],
   "source": [
    "x_test.drop('PassengerId',axis=1,inplace=True)"
   ]
  },
  {
   "cell_type": "code",
   "execution_count": null,
   "id": "d3832361",
   "metadata": {
    "execution": {
     "iopub.execute_input": "2022-02-25T19:11:50.932503Z",
     "iopub.status.busy": "2022-02-25T19:11:50.932168Z",
     "iopub.status.idle": "2022-02-25T19:11:50.939596Z",
     "shell.execute_reply": "2022-02-25T19:11:50.938859Z",
     "shell.execute_reply.started": "2022-02-25T19:11:50.932466Z"
    },
    "papermill": {
     "duration": null,
     "end_time": null,
     "exception": null,
     "start_time": null,
     "status": "pending"
    },
    "tags": []
   },
   "outputs": [],
   "source": [
    "x_test.columns"
   ]
  },
  {
   "cell_type": "code",
   "execution_count": null,
   "id": "9a191814",
   "metadata": {
    "execution": {
     "iopub.execute_input": "2022-02-25T17:00:14.242096Z",
     "iopub.status.busy": "2022-02-25T17:00:14.241749Z",
     "iopub.status.idle": "2022-02-25T17:00:14.765534Z",
     "shell.execute_reply": "2022-02-25T17:00:14.764662Z",
     "shell.execute_reply.started": "2022-02-25T17:00:14.242064Z"
    },
    "papermill": {
     "duration": null,
     "end_time": null,
     "exception": null,
     "start_time": null,
     "status": "pending"
    },
    "tags": []
   },
   "outputs": [],
   "source": [
    "submit=pd.read_csv(\"/kaggle/input/spaceship-titanic/sample_submission.csv\")\n",
    "submit['Transported']=rfc1.predict(x_test)\n",
    "submit.to_csv('submissionrf.csv', index=False)"
   ]
  },
  {
   "cell_type": "markdown",
   "id": "b1527f65",
   "metadata": {
    "papermill": {
     "duration": null,
     "end_time": null,
     "exception": null,
     "start_time": null,
     "status": "pending"
    },
    "tags": []
   },
   "source": [
    "# XGBoost"
   ]
  },
  {
   "cell_type": "code",
   "execution_count": null,
   "id": "f32bee7f",
   "metadata": {
    "execution": {
     "iopub.execute_input": "2022-02-25T20:35:47.194142Z",
     "iopub.status.busy": "2022-02-25T20:35:47.193379Z",
     "iopub.status.idle": "2022-02-25T20:35:47.19974Z",
     "shell.execute_reply": "2022-02-25T20:35:47.198929Z",
     "shell.execute_reply.started": "2022-02-25T20:35:47.194087Z"
    },
    "papermill": {
     "duration": null,
     "end_time": null,
     "exception": null,
     "start_time": null,
     "status": "pending"
    },
    "tags": []
   },
   "outputs": [],
   "source": [
    "type(y_train)"
   ]
  },
  {
   "cell_type": "code",
   "execution_count": null,
   "id": "0135f9e0",
   "metadata": {
    "papermill": {
     "duration": null,
     "end_time": null,
     "exception": null,
     "start_time": null,
     "status": "pending"
    },
    "tags": []
   },
   "outputs": [],
   "source": []
  },
  {
   "cell_type": "code",
   "execution_count": null,
   "id": "a7f67a7c",
   "metadata": {
    "execution": {
     "iopub.execute_input": "2022-02-25T19:12:01.617471Z",
     "iopub.status.busy": "2022-02-25T19:12:01.617204Z",
     "iopub.status.idle": "2022-02-25T19:12:01.694101Z",
     "shell.execute_reply": "2022-02-25T19:12:01.693346Z",
     "shell.execute_reply.started": "2022-02-25T19:12:01.617432Z"
    },
    "papermill": {
     "duration": null,
     "end_time": null,
     "exception": null,
     "start_time": null,
     "status": "pending"
    },
    "tags": []
   },
   "outputs": [],
   "source": [
    "import xgboost as xgb"
   ]
  },
  {
   "cell_type": "code",
   "execution_count": null,
   "id": "b82d605a",
   "metadata": {
    "execution": {
     "iopub.execute_input": "2022-02-25T20:36:53.072349Z",
     "iopub.status.busy": "2022-02-25T20:36:53.072084Z",
     "iopub.status.idle": "2022-02-25T20:36:53.363045Z",
     "shell.execute_reply": "2022-02-25T20:36:53.362396Z",
     "shell.execute_reply.started": "2022-02-25T20:36:53.07232Z"
    },
    "papermill": {
     "duration": null,
     "end_time": null,
     "exception": null,
     "start_time": null,
     "status": "pending"
    },
    "tags": []
   },
   "outputs": [],
   "source": [
    "xgbc0 = xgb.XGBClassifier(objective='binary:logistic',\n",
    "                          booster='gbtree',\n",
    "                          eval_metric='logloss',\n",
    "                          tree_method='hist',\n",
    "                          grow_policy='lossguide')\n",
    "xgbc0.fit(X_train , y_train)"
   ]
  },
  {
   "cell_type": "code",
   "execution_count": null,
   "id": "6a9ab048",
   "metadata": {
    "execution": {
     "iopub.execute_input": "2022-02-25T20:36:56.533167Z",
     "iopub.status.busy": "2022-02-25T20:36:56.532886Z",
     "iopub.status.idle": "2022-02-25T20:36:56.548666Z",
     "shell.execute_reply": "2022-02-25T20:36:56.54795Z",
     "shell.execute_reply.started": "2022-02-25T20:36:56.533136Z"
    },
    "papermill": {
     "duration": null,
     "end_time": null,
     "exception": null,
     "start_time": null,
     "status": "pending"
    },
    "tags": []
   },
   "outputs": [],
   "source": [
    "y_pred = xgbc0.predict(X_test)"
   ]
  },
  {
   "cell_type": "code",
   "execution_count": null,
   "id": "ca1d5119",
   "metadata": {
    "execution": {
     "iopub.execute_input": "2022-02-25T20:37:09.93724Z",
     "iopub.status.busy": "2022-02-25T20:37:09.936679Z",
     "iopub.status.idle": "2022-02-25T20:37:09.943164Z",
     "shell.execute_reply": "2022-02-25T20:37:09.942169Z",
     "shell.execute_reply.started": "2022-02-25T20:37:09.9372Z"
    },
    "papermill": {
     "duration": null,
     "end_time": null,
     "exception": null,
     "start_time": null,
     "status": "pending"
    },
    "tags": []
   },
   "outputs": [],
   "source": [
    "y_pred"
   ]
  },
  {
   "cell_type": "code",
   "execution_count": null,
   "id": "6737ad8a",
   "metadata": {
    "execution": {
     "iopub.execute_input": "2022-02-25T20:36:57.54539Z",
     "iopub.status.busy": "2022-02-25T20:36:57.544787Z",
     "iopub.status.idle": "2022-02-25T20:36:57.563673Z",
     "shell.execute_reply": "2022-02-25T20:36:57.563104Z",
     "shell.execute_reply.started": "2022-02-25T20:36:57.545352Z"
    },
    "papermill": {
     "duration": null,
     "end_time": null,
     "exception": null,
     "start_time": null,
     "status": "pending"
    },
    "tags": []
   },
   "outputs": [],
   "source": [
    "xgbc0.score(X_test, y_test)"
   ]
  },
  {
   "cell_type": "code",
   "execution_count": null,
   "id": "bae4bd8f",
   "metadata": {
    "execution": {
     "iopub.execute_input": "2022-02-25T20:37:13.777037Z",
     "iopub.status.busy": "2022-02-25T20:37:13.776466Z",
     "iopub.status.idle": "2022-02-25T20:37:13.81938Z",
     "shell.execute_reply": "2022-02-25T20:37:13.818644Z",
     "shell.execute_reply.started": "2022-02-25T20:37:13.777002Z"
    },
    "papermill": {
     "duration": null,
     "end_time": null,
     "exception": null,
     "start_time": null,
     "status": "pending"
    },
    "tags": []
   },
   "outputs": [],
   "source": [
    "submit=pd.read_csv(\"/kaggle/input/spaceship-titanic/sample_submission.csv\")\n",
    "submit['Transported']=xgbc0.predict(x_test)\n",
    "submit.to_csv('submissionxgboost.csv', index=False)"
   ]
  },
  {
   "cell_type": "code",
   "execution_count": null,
   "id": "e44ccef3",
   "metadata": {
    "execution": {
     "iopub.execute_input": "2022-02-25T20:24:58.120322Z",
     "iopub.status.busy": "2022-02-25T20:24:58.119781Z",
     "iopub.status.idle": "2022-02-25T20:24:58.124778Z",
     "shell.execute_reply": "2022-02-25T20:24:58.123955Z",
     "shell.execute_reply.started": "2022-02-25T20:24:58.120284Z"
    },
    "papermill": {
     "duration": null,
     "end_time": null,
     "exception": null,
     "start_time": null,
     "status": "pending"
    },
    "tags": []
   },
   "outputs": [],
   "source": [
    "# A parameter grid for XGBoost\n",
    "param_grid = {'n_estimators': [100, 200, 400, 600],\n",
    "              'learning_rate': [0.1, 0.05, 0.]}"
   ]
  },
  {
   "cell_type": "code",
   "execution_count": null,
   "id": "2e980283",
   "metadata": {
    "execution": {
     "iopub.execute_input": "2022-02-25T20:24:59.363582Z",
     "iopub.status.busy": "2022-02-25T20:24:59.363294Z",
     "iopub.status.idle": "2022-02-25T20:24:59.367617Z",
     "shell.execute_reply": "2022-02-25T20:24:59.366893Z",
     "shell.execute_reply.started": "2022-02-25T20:24:59.363551Z"
    },
    "papermill": {
     "duration": null,
     "end_time": null,
     "exception": null,
     "start_time": null,
     "status": "pending"
    },
    "tags": []
   },
   "outputs": [],
   "source": [
    "from sklearn.model_selection import train_test_split, GridSearchCV"
   ]
  },
  {
   "cell_type": "code",
   "execution_count": null,
   "id": "b74da698",
   "metadata": {
    "execution": {
     "iopub.execute_input": "2022-02-25T20:27:16.465535Z",
     "iopub.status.busy": "2022-02-25T20:27:16.464812Z",
     "iopub.status.idle": "2022-02-25T20:27:48.780071Z",
     "shell.execute_reply": "2022-02-25T20:27:48.779338Z",
     "shell.execute_reply.started": "2022-02-25T20:27:16.46547Z"
    },
    "papermill": {
     "duration": null,
     "end_time": null,
     "exception": null,
     "start_time": null,
     "status": "pending"
    },
    "tags": []
   },
   "outputs": [],
   "source": [
    "grid = GridSearchCV(xgb.XGBClassifier(objective='binary:logistic',\n",
    "                          booster='gbtree',\n",
    "                          eval_metric='auc',\n",
    "                          tree_method='hist',\n",
    "                          grow_policy='lossguide',\n",
    "                          use_label_encoder=False), param_grid=params, cv=5, scoring='f1_micro')\n",
    "grid.fit(X_train , y_train)\n",
    "best_params = grid.best_params_\n",
    "print('Best score of cross validation: {:.2f}'.format(grid.best_score_))\n",
    "print('Best parameters:', best_params)"
   ]
  },
  {
   "cell_type": "code",
   "execution_count": null,
   "id": "262a477a",
   "metadata": {
    "execution": {
     "iopub.execute_input": "2022-02-25T20:28:07.492437Z",
     "iopub.status.busy": "2022-02-25T20:28:07.491975Z",
     "iopub.status.idle": "2022-02-25T20:28:07.749207Z",
     "shell.execute_reply": "2022-02-25T20:28:07.748356Z",
     "shell.execute_reply.started": "2022-02-25T20:28:07.492397Z"
    },
    "papermill": {
     "duration": null,
     "end_time": null,
     "exception": null,
     "start_time": null,
     "status": "pending"
    },
    "tags": []
   },
   "outputs": [],
   "source": [
    "model = xgb.XGBClassifier(objective='binary:logistic',\n",
    "                          booster='gbtree',\n",
    "                          eval_metric='auc',\n",
    "                          tree_method='hist',\n",
    "                          grow_policy='lossguide',\n",
    "                          use_label_encoder=False)\n",
    "model.set_params(**best_params)\n",
    "model.fit(X_train, y_train)"
   ]
  },
  {
   "cell_type": "code",
   "execution_count": null,
   "id": "00e5e6de",
   "metadata": {
    "execution": {
     "iopub.execute_input": "2022-02-25T20:28:10.013134Z",
     "iopub.status.busy": "2022-02-25T20:28:10.012407Z",
     "iopub.status.idle": "2022-02-25T20:28:10.029043Z",
     "shell.execute_reply": "2022-02-25T20:28:10.028525Z",
     "shell.execute_reply.started": "2022-02-25T20:28:10.013096Z"
    },
    "papermill": {
     "duration": null,
     "end_time": null,
     "exception": null,
     "start_time": null,
     "status": "pending"
    },
    "tags": []
   },
   "outputs": [],
   "source": [
    "y_pred = model.predict(X_test)"
   ]
  },
  {
   "cell_type": "code",
   "execution_count": null,
   "id": "9d2822c3",
   "metadata": {
    "execution": {
     "iopub.execute_input": "2022-02-25T20:28:11.092262Z",
     "iopub.status.busy": "2022-02-25T20:28:11.091726Z",
     "iopub.status.idle": "2022-02-25T20:28:11.110136Z",
     "shell.execute_reply": "2022-02-25T20:28:11.109645Z",
     "shell.execute_reply.started": "2022-02-25T20:28:11.092223Z"
    },
    "papermill": {
     "duration": null,
     "end_time": null,
     "exception": null,
     "start_time": null,
     "status": "pending"
    },
    "tags": []
   },
   "outputs": [],
   "source": [
    "model.score(X_test, y_test)"
   ]
  },
  {
   "cell_type": "code",
   "execution_count": null,
   "id": "79697c4a",
   "metadata": {
    "execution": {
     "iopub.execute_input": "2022-02-25T20:02:27.116632Z",
     "iopub.status.busy": "2022-02-25T20:02:27.11145Z",
     "iopub.status.idle": "2022-02-25T20:02:27.176807Z",
     "shell.execute_reply": "2022-02-25T20:02:27.176141Z",
     "shell.execute_reply.started": "2022-02-25T20:02:27.116589Z"
    },
    "papermill": {
     "duration": null,
     "end_time": null,
     "exception": null,
     "start_time": null,
     "status": "pending"
    },
    "tags": []
   },
   "outputs": [],
   "source": [
    "submit=pd.read_csv(\"/kaggle/input/spaceship-titanic/sample_submission.csv\")\n",
    "submit['Transported']=model.predict(x_test)\n",
    "submit.to_csv('submissionxgboost.csv', index=False)"
   ]
  },
  {
   "cell_type": "markdown",
   "id": "19f963dc",
   "metadata": {
    "papermill": {
     "duration": null,
     "end_time": null,
     "exception": null,
     "start_time": null,
     "status": "pending"
    },
    "tags": []
   },
   "source": [
    "### pca"
   ]
  },
  {
   "cell_type": "code",
   "execution_count": null,
   "id": "a310c06b",
   "metadata": {
    "execution": {
     "iopub.execute_input": "2022-02-24T20:22:39.845486Z",
     "iopub.status.busy": "2022-02-24T20:22:39.844425Z",
     "iopub.status.idle": "2022-02-24T20:22:39.901317Z",
     "shell.execute_reply": "2022-02-24T20:22:39.900279Z",
     "shell.execute_reply.started": "2022-02-24T20:22:39.845433Z"
    },
    "papermill": {
     "duration": null,
     "end_time": null,
     "exception": null,
     "start_time": null,
     "status": "pending"
    },
    "tags": []
   },
   "outputs": [],
   "source": [
    "from sklearn.decomposition import PCA"
   ]
  },
  {
   "cell_type": "code",
   "execution_count": null,
   "id": "767d02f4",
   "metadata": {
    "execution": {
     "iopub.execute_input": "2022-02-24T20:22:40.379378Z",
     "iopub.status.busy": "2022-02-24T20:22:40.379095Z",
     "iopub.status.idle": "2022-02-24T20:22:40.383222Z",
     "shell.execute_reply": "2022-02-24T20:22:40.382597Z",
     "shell.execute_reply.started": "2022-02-24T20:22:40.37935Z"
    },
    "papermill": {
     "duration": null,
     "end_time": null,
     "exception": null,
     "start_time": null,
     "status": "pending"
    },
    "tags": []
   },
   "outputs": [],
   "source": [
    "pca_13=PCA(n_components=13)"
   ]
  },
  {
   "cell_type": "code",
   "execution_count": null,
   "id": "088390a0",
   "metadata": {
    "papermill": {
     "duration": null,
     "end_time": null,
     "exception": null,
     "start_time": null,
     "status": "pending"
    },
    "tags": []
   },
   "outputs": [],
   "source": []
  },
  {
   "cell_type": "code",
   "execution_count": null,
   "id": "b387ee2f",
   "metadata": {
    "execution": {
     "iopub.execute_input": "2022-02-24T20:22:40.91693Z",
     "iopub.status.busy": "2022-02-24T20:22:40.916379Z",
     "iopub.status.idle": "2022-02-24T20:22:41.118361Z",
     "shell.execute_reply": "2022-02-24T20:22:41.117382Z",
     "shell.execute_reply.started": "2022-02-24T20:22:40.916888Z"
    },
    "papermill": {
     "duration": null,
     "end_time": null,
     "exception": null,
     "start_time": null,
     "status": "pending"
    },
    "tags": []
   },
   "outputs": [],
   "source": [
    "pca_13.fit(X)"
   ]
  },
  {
   "cell_type": "code",
   "execution_count": null,
   "id": "75a4edbd",
   "metadata": {
    "execution": {
     "iopub.execute_input": "2022-02-24T20:22:42.10062Z",
     "iopub.status.busy": "2022-02-24T20:22:42.099667Z",
     "iopub.status.idle": "2022-02-24T20:22:42.113774Z",
     "shell.execute_reply": "2022-02-24T20:22:42.112639Z",
     "shell.execute_reply.started": "2022-02-24T20:22:42.100569Z"
    },
    "papermill": {
     "duration": null,
     "end_time": null,
     "exception": null,
     "start_time": null,
     "status": "pending"
    },
    "tags": []
   },
   "outputs": [],
   "source": [
    "X_PCA_13=pca_13.transform(X)"
   ]
  },
  {
   "cell_type": "code",
   "execution_count": null,
   "id": "daeb3c1d",
   "metadata": {
    "execution": {
     "iopub.execute_input": "2022-02-24T20:22:42.270195Z",
     "iopub.status.busy": "2022-02-24T20:22:42.269495Z",
     "iopub.status.idle": "2022-02-24T20:22:42.277632Z",
     "shell.execute_reply": "2022-02-24T20:22:42.276799Z",
     "shell.execute_reply.started": "2022-02-24T20:22:42.270153Z"
    },
    "papermill": {
     "duration": null,
     "end_time": null,
     "exception": null,
     "start_time": null,
     "status": "pending"
    },
    "tags": []
   },
   "outputs": [],
   "source": [
    "sum(pca_13.explained_variance_ratio_*100)"
   ]
  },
  {
   "cell_type": "code",
   "execution_count": null,
   "id": "ebc82689",
   "metadata": {
    "execution": {
     "iopub.execute_input": "2022-02-24T20:22:42.601599Z",
     "iopub.status.busy": "2022-02-24T20:22:42.601007Z",
     "iopub.status.idle": "2022-02-24T20:22:42.609358Z",
     "shell.execute_reply": "2022-02-24T20:22:42.608281Z",
     "shell.execute_reply.started": "2022-02-24T20:22:42.601522Z"
    },
    "papermill": {
     "duration": null,
     "end_time": null,
     "exception": null,
     "start_time": null,
     "status": "pending"
    },
    "tags": []
   },
   "outputs": [],
   "source": [
    "np.cumsum(pca_13.explained_variance_ratio_*100)"
   ]
  },
  {
   "cell_type": "code",
   "execution_count": null,
   "id": "581678ff",
   "metadata": {
    "execution": {
     "iopub.execute_input": "2022-02-24T20:22:42.792504Z",
     "iopub.status.busy": "2022-02-24T20:22:42.792233Z",
     "iopub.status.idle": "2022-02-24T20:22:43.019571Z",
     "shell.execute_reply": "2022-02-24T20:22:43.018289Z",
     "shell.execute_reply.started": "2022-02-24T20:22:42.792475Z"
    },
    "papermill": {
     "duration": null,
     "end_time": null,
     "exception": null,
     "start_time": null,
     "status": "pending"
    },
    "tags": []
   },
   "outputs": [],
   "source": [
    "plt.plot(np.cumsum(pca_13.explained_variance_ratio_))\n",
    "plt.xlabel('No of component')\n",
    "plt.ylabel('Explained Variance')"
   ]
  },
  {
   "cell_type": "code",
   "execution_count": null,
   "id": "4f2bd95e",
   "metadata": {
    "execution": {
     "iopub.execute_input": "2022-02-24T20:22:43.02177Z",
     "iopub.status.busy": "2022-02-24T20:22:43.021468Z",
     "iopub.status.idle": "2022-02-24T20:22:43.026086Z",
     "shell.execute_reply": "2022-02-24T20:22:43.02542Z",
     "shell.execute_reply.started": "2022-02-24T20:22:43.02174Z"
    },
    "papermill": {
     "duration": null,
     "end_time": null,
     "exception": null,
     "start_time": null,
     "status": "pending"
    },
    "tags": []
   },
   "outputs": [],
   "source": [
    "# VAriance Explained by no on components"
   ]
  },
  {
   "cell_type": "code",
   "execution_count": null,
   "id": "fb991a78",
   "metadata": {
    "execution": {
     "iopub.execute_input": "2022-02-24T20:22:43.158541Z",
     "iopub.status.busy": "2022-02-24T20:22:43.157456Z",
     "iopub.status.idle": "2022-02-24T20:22:43.166869Z",
     "shell.execute_reply": "2022-02-24T20:22:43.165798Z",
     "shell.execute_reply.started": "2022-02-24T20:22:43.158494Z"
    },
    "papermill": {
     "duration": null,
     "end_time": null,
     "exception": null,
     "start_time": null,
     "status": "pending"
    },
    "tags": []
   },
   "outputs": [],
   "source": [
    "# first component\n",
    "np.cumsum(pca_13.explained_variance_ratio_*100)[0]"
   ]
  },
  {
   "cell_type": "code",
   "execution_count": null,
   "id": "d4c4b0bb",
   "metadata": {
    "execution": {
     "iopub.execute_input": "2022-02-24T20:22:43.282227Z",
     "iopub.status.busy": "2022-02-24T20:22:43.281064Z",
     "iopub.status.idle": "2022-02-24T20:22:43.289428Z",
     "shell.execute_reply": "2022-02-24T20:22:43.28836Z",
     "shell.execute_reply.started": "2022-02-24T20:22:43.282128Z"
    },
    "papermill": {
     "duration": null,
     "end_time": null,
     "exception": null,
     "start_time": null,
     "status": "pending"
    },
    "tags": []
   },
   "outputs": [],
   "source": [
    "# second component\n",
    "np.cumsum(pca_13.explained_variance_ratio_*100)[1]"
   ]
  },
  {
   "cell_type": "code",
   "execution_count": null,
   "id": "df591e08",
   "metadata": {
    "execution": {
     "iopub.execute_input": "2022-02-24T20:22:43.419982Z",
     "iopub.status.busy": "2022-02-24T20:22:43.419594Z",
     "iopub.status.idle": "2022-02-24T20:22:43.428153Z",
     "shell.execute_reply": "2022-02-24T20:22:43.42697Z",
     "shell.execute_reply.started": "2022-02-24T20:22:43.419946Z"
    },
    "papermill": {
     "duration": null,
     "end_time": null,
     "exception": null,
     "start_time": null,
     "status": "pending"
    },
    "tags": []
   },
   "outputs": [],
   "source": [
    "np.cumsum(pca_13.explained_variance_ratio_*100)[2]"
   ]
  },
  {
   "cell_type": "code",
   "execution_count": null,
   "id": "f429904d",
   "metadata": {
    "execution": {
     "iopub.execute_input": "2022-02-24T20:22:43.744033Z",
     "iopub.status.busy": "2022-02-24T20:22:43.743002Z",
     "iopub.status.idle": "2022-02-24T20:22:43.750233Z",
     "shell.execute_reply": "2022-02-24T20:22:43.749338Z",
     "shell.execute_reply.started": "2022-02-24T20:22:43.743987Z"
    },
    "papermill": {
     "duration": null,
     "end_time": null,
     "exception": null,
     "start_time": null,
     "status": "pending"
    },
    "tags": []
   },
   "outputs": [],
   "source": [
    "np.cumsum(pca_13.explained_variance_ratio_*100)[3]"
   ]
  },
  {
   "cell_type": "code",
   "execution_count": null,
   "id": "78d7f0c4",
   "metadata": {
    "execution": {
     "iopub.execute_input": "2022-02-24T20:22:43.88471Z",
     "iopub.status.busy": "2022-02-24T20:22:43.883973Z",
     "iopub.status.idle": "2022-02-24T20:22:43.893042Z",
     "shell.execute_reply": "2022-02-24T20:22:43.89181Z",
     "shell.execute_reply.started": "2022-02-24T20:22:43.884655Z"
    },
    "papermill": {
     "duration": null,
     "end_time": null,
     "exception": null,
     "start_time": null,
     "status": "pending"
    },
    "tags": []
   },
   "outputs": [],
   "source": [
    "np.cumsum(pca_13.explained_variance_ratio_*100)[4]"
   ]
  },
  {
   "cell_type": "code",
   "execution_count": null,
   "id": "9ff4ea10",
   "metadata": {
    "execution": {
     "iopub.execute_input": "2022-02-24T20:22:44.025814Z",
     "iopub.status.busy": "2022-02-24T20:22:44.025363Z",
     "iopub.status.idle": "2022-02-24T20:22:44.033841Z",
     "shell.execute_reply": "2022-02-24T20:22:44.032903Z",
     "shell.execute_reply.started": "2022-02-24T20:22:44.025783Z"
    },
    "papermill": {
     "duration": null,
     "end_time": null,
     "exception": null,
     "start_time": null,
     "status": "pending"
    },
    "tags": []
   },
   "outputs": [],
   "source": [
    "np.cumsum(pca_13.explained_variance_ratio_*100)[5]"
   ]
  },
  {
   "cell_type": "code",
   "execution_count": null,
   "id": "c6d07a0b",
   "metadata": {
    "execution": {
     "iopub.execute_input": "2022-02-24T20:22:44.173497Z",
     "iopub.status.busy": "2022-02-24T20:22:44.173113Z",
     "iopub.status.idle": "2022-02-24T20:22:44.28391Z",
     "shell.execute_reply": "2022-02-24T20:22:44.282833Z",
     "shell.execute_reply.started": "2022-02-24T20:22:44.173461Z"
    },
    "papermill": {
     "duration": null,
     "end_time": null,
     "exception": null,
     "start_time": null,
     "status": "pending"
    },
    "tags": []
   },
   "outputs": [],
   "source": [
    "pca_5=PCA(n_components=5)\n",
    "pca_5.fit(X)\n",
    "X_PCA_5=pca_5.transform(X)"
   ]
  },
  {
   "cell_type": "code",
   "execution_count": null,
   "id": "884d7acb",
   "metadata": {
    "execution": {
     "iopub.execute_input": "2022-02-24T21:12:48.652034Z",
     "iopub.status.busy": "2022-02-24T21:12:48.65118Z",
     "iopub.status.idle": "2022-02-24T21:12:48.684306Z",
     "shell.execute_reply": "2022-02-24T21:12:48.683642Z",
     "shell.execute_reply.started": "2022-02-24T21:12:48.651985Z"
    },
    "papermill": {
     "duration": null,
     "end_time": null,
     "exception": null,
     "start_time": null,
     "status": "pending"
    },
    "tags": []
   },
   "outputs": [],
   "source": [
    "X"
   ]
  },
  {
   "cell_type": "code",
   "execution_count": null,
   "id": "9079516e",
   "metadata": {
    "execution": {
     "iopub.execute_input": "2022-02-24T20:22:44.339973Z",
     "iopub.status.busy": "2022-02-24T20:22:44.339483Z",
     "iopub.status.idle": "2022-02-24T20:22:44.468209Z",
     "shell.execute_reply": "2022-02-24T20:22:44.467211Z",
     "shell.execute_reply.started": "2022-02-24T20:22:44.339923Z"
    },
    "papermill": {
     "duration": null,
     "end_time": null,
     "exception": null,
     "start_time": null,
     "status": "pending"
    },
    "tags": []
   },
   "outputs": [],
   "source": [
    "pca_5=PCA(n_components=5)\n",
    "pca_5.fit(X_test)\n",
    "X_test_PCA_5=pca_5.transform(X_test)"
   ]
  },
  {
   "cell_type": "code",
   "execution_count": null,
   "id": "abccddc6",
   "metadata": {
    "execution": {
     "iopub.execute_input": "2022-02-24T20:22:44.511138Z",
     "iopub.status.busy": "2022-02-24T20:22:44.51067Z",
     "iopub.status.idle": "2022-02-24T20:22:44.518438Z",
     "shell.execute_reply": "2022-02-24T20:22:44.517592Z",
     "shell.execute_reply.started": "2022-02-24T20:22:44.511089Z"
    },
    "papermill": {
     "duration": null,
     "end_time": null,
     "exception": null,
     "start_time": null,
     "status": "pending"
    },
    "tags": []
   },
   "outputs": [],
   "source": [
    "X_test_PCA_5.shape"
   ]
  },
  {
   "cell_type": "code",
   "execution_count": null,
   "id": "55e4c308",
   "metadata": {
    "execution": {
     "iopub.execute_input": "2022-02-24T20:22:44.642284Z",
     "iopub.status.busy": "2022-02-24T20:22:44.6414Z",
     "iopub.status.idle": "2022-02-24T20:22:44.652327Z",
     "shell.execute_reply": "2022-02-24T20:22:44.651246Z",
     "shell.execute_reply.started": "2022-02-24T20:22:44.642219Z"
    },
    "papermill": {
     "duration": null,
     "end_time": null,
     "exception": null,
     "start_time": null,
     "status": "pending"
    },
    "tags": []
   },
   "outputs": [],
   "source": [
    "np.cumsum(pca_5.explained_variance_ratio_*100)"
   ]
  },
  {
   "cell_type": "markdown",
   "id": "0140ba83",
   "metadata": {
    "papermill": {
     "duration": null,
     "end_time": null,
     "exception": null,
     "start_time": null,
     "status": "pending"
    },
    "tags": []
   },
   "source": [
    "# Model"
   ]
  },
  {
   "cell_type": "code",
   "execution_count": null,
   "id": "907baa37",
   "metadata": {
    "execution": {
     "iopub.execute_input": "2022-02-24T20:22:45.044872Z",
     "iopub.status.busy": "2022-02-24T20:22:45.044406Z",
     "iopub.status.idle": "2022-02-24T20:22:45.051332Z",
     "shell.execute_reply": "2022-02-24T20:22:45.050733Z",
     "shell.execute_reply.started": "2022-02-24T20:22:45.044812Z"
    },
    "papermill": {
     "duration": null,
     "end_time": null,
     "exception": null,
     "start_time": null,
     "status": "pending"
    },
    "tags": []
   },
   "outputs": [],
   "source": [
    "from sklearn.model_selection import train_test_split\n",
    "X_train , X_test , y_train , y_test = train_test_split(X_PCA_5, \n",
    "                                                       y,test_size =0.20)"
   ]
  },
  {
   "cell_type": "code",
   "execution_count": null,
   "id": "293f9e75",
   "metadata": {
    "execution": {
     "iopub.execute_input": "2022-02-24T20:22:45.230384Z",
     "iopub.status.busy": "2022-02-24T20:22:45.229842Z",
     "iopub.status.idle": "2022-02-24T20:22:45.267597Z",
     "shell.execute_reply": "2022-02-24T20:22:45.266659Z",
     "shell.execute_reply.started": "2022-02-24T20:22:45.230349Z"
    },
    "papermill": {
     "duration": null,
     "end_time": null,
     "exception": null,
     "start_time": null,
     "status": "pending"
    },
    "tags": []
   },
   "outputs": [],
   "source": [
    "from sklearn.linear_model import LogisticRegression\n",
    "clf = LogisticRegression(random_state=0).fit(X_train, y_train)\n",
    "predicted_vals=clf.predict(X_test)"
   ]
  },
  {
   "cell_type": "code",
   "execution_count": null,
   "id": "dba38e61",
   "metadata": {
    "execution": {
     "iopub.execute_input": "2022-02-24T20:22:45.422035Z",
     "iopub.status.busy": "2022-02-24T20:22:45.421756Z",
     "iopub.status.idle": "2022-02-24T20:22:45.429618Z",
     "shell.execute_reply": "2022-02-24T20:22:45.428941Z",
     "shell.execute_reply.started": "2022-02-24T20:22:45.422007Z"
    },
    "papermill": {
     "duration": null,
     "end_time": null,
     "exception": null,
     "start_time": null,
     "status": "pending"
    },
    "tags": []
   },
   "outputs": [],
   "source": [
    "clf.score(X_test, y_test)"
   ]
  },
  {
   "cell_type": "code",
   "execution_count": null,
   "id": "1215d687",
   "metadata": {
    "execution": {
     "iopub.execute_input": "2022-02-24T20:22:45.696607Z",
     "iopub.status.busy": "2022-02-24T20:22:45.695295Z",
     "iopub.status.idle": "2022-02-24T20:22:47.32796Z",
     "shell.execute_reply": "2022-02-24T20:22:47.327213Z",
     "shell.execute_reply.started": "2022-02-24T20:22:45.696566Z"
    },
    "papermill": {
     "duration": null,
     "end_time": null,
     "exception": null,
     "start_time": null,
     "status": "pending"
    },
    "tags": []
   },
   "outputs": [],
   "source": [
    "from sklearn.ensemble import RandomForestClassifier\n",
    "clf = RandomForestClassifier(random_state=0).fit(X_train, y_train)\n",
    "predicted_vals=clf.predict(X_test)\n",
    "clf.score(X_test, y_test)"
   ]
  },
  {
   "cell_type": "code",
   "execution_count": null,
   "id": "3ce48783",
   "metadata": {
    "execution": {
     "iopub.execute_input": "2022-02-24T20:22:47.330254Z",
     "iopub.status.busy": "2022-02-24T20:22:47.329358Z",
     "iopub.status.idle": "2022-02-24T20:22:48.18338Z",
     "shell.execute_reply": "2022-02-24T20:22:48.182654Z",
     "shell.execute_reply.started": "2022-02-24T20:22:47.33021Z"
    },
    "papermill": {
     "duration": null,
     "end_time": null,
     "exception": null,
     "start_time": null,
     "status": "pending"
    },
    "tags": []
   },
   "outputs": [],
   "source": [
    "from lightgbm import LGBMClassifier\n",
    "\n",
    "lgbm = LGBMClassifier(objective='binary', random_state=5)\n",
    "\n",
    "lgbm.fit(X_train, y_train)\n",
    "\n",
    "y_pred = lgbm.predict(X_test)"
   ]
  },
  {
   "cell_type": "code",
   "execution_count": null,
   "id": "85bbc1d6",
   "metadata": {
    "execution": {
     "iopub.execute_input": "2022-02-24T20:22:48.185109Z",
     "iopub.status.busy": "2022-02-24T20:22:48.184706Z",
     "iopub.status.idle": "2022-02-24T20:22:48.193068Z",
     "shell.execute_reply": "2022-02-24T20:22:48.192425Z",
     "shell.execute_reply.started": "2022-02-24T20:22:48.185077Z"
    },
    "papermill": {
     "duration": null,
     "end_time": null,
     "exception": null,
     "start_time": null,
     "status": "pending"
    },
    "tags": []
   },
   "outputs": [],
   "source": [
    "from sklearn.metrics import confusion_matrix,classification_report\n",
    "confusion_matrix(y_test, y_pred)"
   ]
  },
  {
   "cell_type": "code",
   "execution_count": null,
   "id": "8ff44f82",
   "metadata": {
    "execution": {
     "iopub.execute_input": "2022-02-24T20:22:48.195143Z",
     "iopub.status.busy": "2022-02-24T20:22:48.194722Z",
     "iopub.status.idle": "2022-02-24T20:22:48.211446Z",
     "shell.execute_reply": "2022-02-24T20:22:48.210758Z",
     "shell.execute_reply.started": "2022-02-24T20:22:48.19511Z"
    },
    "papermill": {
     "duration": null,
     "end_time": null,
     "exception": null,
     "start_time": null,
     "status": "pending"
    },
    "tags": []
   },
   "outputs": [],
   "source": [
    "print(classification_report(y_test, y_pred))"
   ]
  },
  {
   "cell_type": "code",
   "execution_count": null,
   "id": "8866a99d",
   "metadata": {
    "execution": {
     "iopub.execute_input": "2022-02-24T20:22:48.213588Z",
     "iopub.status.busy": "2022-02-24T20:22:48.213099Z",
     "iopub.status.idle": "2022-02-24T20:22:48.228949Z",
     "shell.execute_reply": "2022-02-24T20:22:48.228142Z",
     "shell.execute_reply.started": "2022-02-24T20:22:48.213544Z"
    },
    "papermill": {
     "duration": null,
     "end_time": null,
     "exception": null,
     "start_time": null,
     "status": "pending"
    },
    "tags": []
   },
   "outputs": [],
   "source": [
    "y_pred = lgbm.predict(X_test_PCA_5)"
   ]
  },
  {
   "cell_type": "markdown",
   "id": "747b1b97",
   "metadata": {
    "papermill": {
     "duration": null,
     "end_time": null,
     "exception": null,
     "start_time": null,
     "status": "pending"
    },
    "tags": []
   },
   "source": [
    "# submission"
   ]
  },
  {
   "cell_type": "code",
   "execution_count": null,
   "id": "e6a9d001",
   "metadata": {
    "execution": {
     "iopub.execute_input": "2022-02-24T20:22:48.230731Z",
     "iopub.status.busy": "2022-02-24T20:22:48.230339Z",
     "iopub.status.idle": "2022-02-24T20:22:48.245244Z",
     "shell.execute_reply": "2022-02-24T20:22:48.243957Z",
     "shell.execute_reply.started": "2022-02-24T20:22:48.230699Z"
    },
    "papermill": {
     "duration": null,
     "end_time": null,
     "exception": null,
     "start_time": null,
     "status": "pending"
    },
    "tags": []
   },
   "outputs": [],
   "source": [
    "submit=pd.read_csv(\"/kaggle/input/spaceship-titanic/sample_submission.csv\")\n",
    "submit['Transported']=y_pred\n",
    "submit.to_csv('submission1.csv', index=False)"
   ]
  },
  {
   "cell_type": "code",
   "execution_count": null,
   "id": "f9ac9cf4",
   "metadata": {
    "execution": {
     "iopub.execute_input": "2022-02-24T20:22:48.24743Z",
     "iopub.status.busy": "2022-02-24T20:22:48.247Z",
     "iopub.status.idle": "2022-02-24T20:22:48.263595Z",
     "shell.execute_reply": "2022-02-24T20:22:48.262883Z",
     "shell.execute_reply.started": "2022-02-24T20:22:48.247395Z"
    },
    "papermill": {
     "duration": null,
     "end_time": null,
     "exception": null,
     "start_time": null,
     "status": "pending"
    },
    "tags": []
   },
   "outputs": [],
   "source": []
  },
  {
   "cell_type": "markdown",
   "id": "5cf0f8ec",
   "metadata": {
    "papermill": {
     "duration": null,
     "end_time": null,
     "exception": null,
     "start_time": null,
     "status": "pending"
    },
    "tags": []
   },
   "source": [
    "# gridcv search with Random Forest"
   ]
  },
  {
   "cell_type": "code",
   "execution_count": null,
   "id": "d10cc33e",
   "metadata": {
    "execution": {
     "iopub.execute_input": "2022-02-24T21:57:04.927209Z",
     "iopub.status.busy": "2022-02-24T21:57:04.926819Z",
     "iopub.status.idle": "2022-02-24T21:57:04.939652Z",
     "shell.execute_reply": "2022-02-24T21:57:04.938346Z",
     "shell.execute_reply.started": "2022-02-24T21:57:04.927174Z"
    },
    "papermill": {
     "duration": null,
     "end_time": null,
     "exception": null,
     "start_time": null,
     "status": "pending"
    },
    "tags": []
   },
   "outputs": [],
   "source": [
    "from sklearn.model_selection import RandomizedSearchCV\n",
    "\n",
    "# Number of trees in random forest\n",
    "n_estimators = [int(x) for x in np.linspace(start = 200, stop = 2000, num = 10)]\n",
    "# Number of features to consider at every split\n",
    "max_features = ['auto', 'sqrt','log2']\n",
    "criterion=['gini', 'entropy']\n",
    "# Maximum number of levels in tree\n",
    "# Minimum number of samples required to split a node\n",
    "min_samples_split = [2, 5, 10]\n",
    "# Minimum number of samples required at each leaf node\n",
    "min_samples_leaf = [1, 2, 4]\n",
    "# Method of selecting samples for training each tree\n",
    "bootstrap = [True, False]\n",
    "\n",
    "# Create the random grid\n",
    "random_grid = {'n_estimators': n_estimators,\n",
    "               'max_features': max_features,\n",
    "               'max_depth': max_depth,\n",
    "               'min_samples_split': min_samples_split,\n",
    "               'min_samples_leaf': min_samples_leaf,\n",
    "               'bootstrap': bootstrap}\n",
    "\n",
    "print(random_grid)"
   ]
  },
  {
   "cell_type": "code",
   "execution_count": null,
   "id": "08379169",
   "metadata": {
    "papermill": {
     "duration": null,
     "end_time": null,
     "exception": null,
     "start_time": null,
     "status": "pending"
    },
    "tags": []
   },
   "outputs": [],
   "source": []
  },
  {
   "cell_type": "code",
   "execution_count": null,
   "id": "1c5c22e3",
   "metadata": {
    "collapsed": true,
    "execution": {
     "iopub.execute_input": "2022-02-24T20:33:10.890124Z",
     "iopub.status.busy": "2022-02-24T20:33:10.888917Z",
     "iopub.status.idle": "2022-02-24T21:00:28.681324Z",
     "shell.execute_reply": "2022-02-24T21:00:28.679641Z",
     "shell.execute_reply.started": "2022-02-24T20:33:10.890042Z"
    },
    "jupyter": {
     "outputs_hidden": true
    },
    "papermill": {
     "duration": null,
     "end_time": null,
     "exception": null,
     "start_time": null,
     "status": "pending"
    },
    "tags": []
   },
   "outputs": [],
   "source": [
    "# Use the random grid to search for best hyperparameters\n",
    "# First create the base model to tune\n",
    "rf = RandomForestClassifier(random_state = 42)\n",
    "# Random search of parameters, using 3 fold cross validation, \n",
    "# search across 100 different combinations, and use all available cores\n",
    "rf_random = RandomizedSearchCV(estimator=rf, param_distributions=random_grid,\n",
    "                              n_iter = 100, scoring='f1_micro',\n",
    "                              cv = 3, verbose=2, random_state=42, n_jobs=-1,\n",
    "                              return_train_score=True)\n",
    "\n",
    "# Fit the random search model\n",
    "rf_random.fit(X_train, y_train);"
   ]
  },
  {
   "cell_type": "code",
   "execution_count": null,
   "id": "40b1c3e5",
   "metadata": {
    "execution": {
     "iopub.execute_input": "2022-02-24T21:00:29.010647Z",
     "iopub.status.busy": "2022-02-24T21:00:29.010109Z",
     "iopub.status.idle": "2022-02-24T21:00:29.019244Z",
     "shell.execute_reply": "2022-02-24T21:00:29.017953Z",
     "shell.execute_reply.started": "2022-02-24T21:00:29.01055Z"
    },
    "papermill": {
     "duration": null,
     "end_time": null,
     "exception": null,
     "start_time": null,
     "status": "pending"
    },
    "tags": []
   },
   "outputs": [],
   "source": [
    "rf_random.best_params_"
   ]
  },
  {
   "cell_type": "code",
   "execution_count": null,
   "id": "9eec369e",
   "metadata": {
    "execution": {
     "iopub.execute_input": "2022-02-24T21:04:41.835471Z",
     "iopub.status.busy": "2022-02-24T21:04:41.835118Z",
     "iopub.status.idle": "2022-02-24T21:04:41.844119Z",
     "shell.execute_reply": "2022-02-24T21:04:41.843279Z",
     "shell.execute_reply.started": "2022-02-24T21:04:41.83544Z"
    },
    "papermill": {
     "duration": null,
     "end_time": null,
     "exception": null,
     "start_time": null,
     "status": "pending"
    },
    "tags": []
   },
   "outputs": [],
   "source": [
    "rfc1=RandomForestClassifier(random_state=42,n_estimators=1200,min_samples_split=5,min_samples_leaf=2, max_features='sqrt',max_depth=10, bootstrap=False, criterion='gini')"
   ]
  },
  {
   "cell_type": "code",
   "execution_count": null,
   "id": "eac88a7b",
   "metadata": {
    "collapsed": true,
    "execution": {
     "iopub.execute_input": "2022-02-24T21:04:42.690805Z",
     "iopub.status.busy": "2022-02-24T21:04:42.690305Z",
     "iopub.status.idle": "2022-02-24T21:05:03.554499Z",
     "shell.execute_reply": "2022-02-24T21:05:03.553576Z",
     "shell.execute_reply.started": "2022-02-24T21:04:42.690752Z"
    },
    "jupyter": {
     "outputs_hidden": true
    },
    "papermill": {
     "duration": null,
     "end_time": null,
     "exception": null,
     "start_time": null,
     "status": "pending"
    },
    "tags": []
   },
   "outputs": [],
   "source": [
    "rfc1.fit(X_train, y_train)\n",
    "\n",
    "y_pred = rfc1.predict(X_test)"
   ]
  },
  {
   "cell_type": "code",
   "execution_count": null,
   "id": "ddc0ca91",
   "metadata": {
    "execution": {
     "iopub.execute_input": "2022-02-24T21:05:03.557107Z",
     "iopub.status.busy": "2022-02-24T21:05:03.556522Z",
     "iopub.status.idle": "2022-02-24T21:05:03.570339Z",
     "shell.execute_reply": "2022-02-24T21:05:03.569461Z",
     "shell.execute_reply.started": "2022-02-24T21:05:03.55707Z"
    },
    "papermill": {
     "duration": null,
     "end_time": null,
     "exception": null,
     "start_time": null,
     "status": "pending"
    },
    "tags": []
   },
   "outputs": [],
   "source": [
    "print(classification_report(y_test, y_pred))"
   ]
  },
  {
   "cell_type": "code",
   "execution_count": null,
   "id": "5a79e8b8",
   "metadata": {
    "execution": {
     "iopub.execute_input": "2022-02-24T21:06:30.858387Z",
     "iopub.status.busy": "2022-02-24T21:06:30.857684Z",
     "iopub.status.idle": "2022-02-24T21:06:30.864746Z",
     "shell.execute_reply": "2022-02-24T21:06:30.863739Z",
     "shell.execute_reply.started": "2022-02-24T21:06:30.858341Z"
    },
    "papermill": {
     "duration": null,
     "end_time": null,
     "exception": null,
     "start_time": null,
     "status": "pending"
    },
    "tags": []
   },
   "outputs": [],
   "source": [
    "len(y_pred)"
   ]
  },
  {
   "cell_type": "code",
   "execution_count": null,
   "id": "4b26747f",
   "metadata": {
    "execution": {
     "iopub.execute_input": "2022-02-24T21:07:16.186801Z",
     "iopub.status.busy": "2022-02-24T21:07:16.185964Z",
     "iopub.status.idle": "2022-02-24T21:07:16.193438Z",
     "shell.execute_reply": "2022-02-24T21:07:16.192254Z",
     "shell.execute_reply.started": "2022-02-24T21:07:16.186766Z"
    },
    "papermill": {
     "duration": null,
     "end_time": null,
     "exception": null,
     "start_time": null,
     "status": "pending"
    },
    "tags": []
   },
   "outputs": [],
   "source": [
    "X_test.shape"
   ]
  },
  {
   "cell_type": "code",
   "execution_count": null,
   "id": "34db7726",
   "metadata": {
    "execution": {
     "iopub.execute_input": "2022-02-24T21:07:40.981611Z",
     "iopub.status.busy": "2022-02-24T21:07:40.981047Z",
     "iopub.status.idle": "2022-02-24T21:07:40.991335Z",
     "shell.execute_reply": "2022-02-24T21:07:40.990556Z",
     "shell.execute_reply.started": "2022-02-24T21:07:40.981575Z"
    },
    "papermill": {
     "duration": null,
     "end_time": null,
     "exception": null,
     "start_time": null,
     "status": "pending"
    },
    "tags": []
   },
   "outputs": [],
   "source": [
    "submit=pd.read_csv(\"/kaggle/input/spaceship-titanic/sample_submission.csv\")"
   ]
  },
  {
   "cell_type": "code",
   "execution_count": null,
   "id": "b621b915",
   "metadata": {
    "execution": {
     "iopub.execute_input": "2022-02-24T21:10:28.048838Z",
     "iopub.status.busy": "2022-02-24T21:10:28.047748Z",
     "iopub.status.idle": "2022-02-24T21:10:28.585161Z",
     "shell.execute_reply": "2022-02-24T21:10:28.584465Z",
     "shell.execute_reply.started": "2022-02-24T21:10:28.04878Z"
    },
    "papermill": {
     "duration": null,
     "end_time": null,
     "exception": null,
     "start_time": null,
     "status": "pending"
    },
    "tags": []
   },
   "outputs": [],
   "source": [
    "y_pred = rfc1.predict(X_test_PCA_5)"
   ]
  },
  {
   "cell_type": "code",
   "execution_count": null,
   "id": "75f83a2a",
   "metadata": {
    "execution": {
     "iopub.execute_input": "2022-02-24T21:10:39.445889Z",
     "iopub.status.busy": "2022-02-24T21:10:39.444734Z",
     "iopub.status.idle": "2022-02-24T21:10:39.460084Z",
     "shell.execute_reply": "2022-02-24T21:10:39.459371Z",
     "shell.execute_reply.started": "2022-02-24T21:10:39.44585Z"
    },
    "papermill": {
     "duration": null,
     "end_time": null,
     "exception": null,
     "start_time": null,
     "status": "pending"
    },
    "tags": []
   },
   "outputs": [],
   "source": [
    "submit['Transported']=y_pred\n",
    "submit.to_csv('submission_random_grid_cv.csv', index=False)"
   ]
  },
  {
   "cell_type": "markdown",
   "id": "52f3068c",
   "metadata": {
    "papermill": {
     "duration": null,
     "end_time": null,
     "exception": null,
     "start_time": null,
     "status": "pending"
    },
    "tags": []
   },
   "source": [
    "# Without PCA"
   ]
  },
  {
   "cell_type": "code",
   "execution_count": null,
   "id": "d39c46ef",
   "metadata": {
    "execution": {
     "iopub.execute_input": "2022-02-24T21:14:28.886818Z",
     "iopub.status.busy": "2022-02-24T21:14:28.886264Z",
     "iopub.status.idle": "2022-02-24T21:14:28.920838Z",
     "shell.execute_reply": "2022-02-24T21:14:28.920107Z",
     "shell.execute_reply.started": "2022-02-24T21:14:28.886783Z"
    },
    "papermill": {
     "duration": null,
     "end_time": null,
     "exception": null,
     "start_time": null,
     "status": "pending"
    },
    "tags": []
   },
   "outputs": [],
   "source": [
    "X_test"
   ]
  },
  {
   "cell_type": "code",
   "execution_count": null,
   "id": "04478ffb",
   "metadata": {
    "execution": {
     "iopub.execute_input": "2022-02-24T21:14:34.608637Z",
     "iopub.status.busy": "2022-02-24T21:14:34.608147Z",
     "iopub.status.idle": "2022-02-24T21:14:34.638848Z",
     "shell.execute_reply": "2022-02-24T21:14:34.638178Z",
     "shell.execute_reply.started": "2022-02-24T21:14:34.608602Z"
    },
    "papermill": {
     "duration": null,
     "end_time": null,
     "exception": null,
     "start_time": null,
     "status": "pending"
    },
    "tags": []
   },
   "outputs": [],
   "source": [
    "X"
   ]
  },
  {
   "cell_type": "code",
   "execution_count": null,
   "id": "7a9eca91",
   "metadata": {
    "execution": {
     "iopub.execute_input": "2022-02-24T21:14:43.91923Z",
     "iopub.status.busy": "2022-02-24T21:14:43.918883Z",
     "iopub.status.idle": "2022-02-24T21:14:43.927777Z",
     "shell.execute_reply": "2022-02-24T21:14:43.927025Z",
     "shell.execute_reply.started": "2022-02-24T21:14:43.919185Z"
    },
    "papermill": {
     "duration": null,
     "end_time": null,
     "exception": null,
     "start_time": null,
     "status": "pending"
    },
    "tags": []
   },
   "outputs": [],
   "source": [
    "y"
   ]
  },
  {
   "cell_type": "code",
   "execution_count": null,
   "id": "380c9ffd",
   "metadata": {
    "execution": {
     "iopub.execute_input": "2022-02-24T21:17:04.515079Z",
     "iopub.status.busy": "2022-02-24T21:17:04.514466Z",
     "iopub.status.idle": "2022-02-24T21:17:04.525878Z",
     "shell.execute_reply": "2022-02-24T21:17:04.524884Z",
     "shell.execute_reply.started": "2022-02-24T21:17:04.515042Z"
    },
    "papermill": {
     "duration": null,
     "end_time": null,
     "exception": null,
     "start_time": null,
     "status": "pending"
    },
    "tags": []
   },
   "outputs": [],
   "source": [
    "from sklearn.model_selection import train_test_split\n",
    "X_train , x_test , y_train , y_test = train_test_split(X, \n",
    "                                                       y,test_size =0.20)"
   ]
  },
  {
   "cell_type": "code",
   "execution_count": null,
   "id": "94ec2199",
   "metadata": {
    "execution": {
     "iopub.execute_input": "2022-02-24T21:17:50.198372Z",
     "iopub.status.busy": "2022-02-24T21:17:50.198067Z",
     "iopub.status.idle": "2022-02-24T21:17:50.229774Z",
     "shell.execute_reply": "2022-02-24T21:17:50.228526Z",
     "shell.execute_reply.started": "2022-02-24T21:17:50.198337Z"
    },
    "papermill": {
     "duration": null,
     "end_time": null,
     "exception": null,
     "start_time": null,
     "status": "pending"
    },
    "tags": []
   },
   "outputs": [],
   "source": [
    "X_train"
   ]
  },
  {
   "cell_type": "code",
   "execution_count": null,
   "id": "b1cf03af",
   "metadata": {
    "execution": {
     "iopub.execute_input": "2022-02-24T21:51:46.930639Z",
     "iopub.status.busy": "2022-02-24T21:51:46.930256Z",
     "iopub.status.idle": "2022-02-24T21:51:47.008421Z",
     "shell.execute_reply": "2022-02-24T21:51:47.007368Z",
     "shell.execute_reply.started": "2022-02-24T21:51:46.930604Z"
    },
    "papermill": {
     "duration": null,
     "end_time": null,
     "exception": null,
     "start_time": null,
     "status": "pending"
    },
    "tags": []
   },
   "outputs": [],
   "source": [
    "from sklearn.linear_model import LogisticRegression\n",
    "clf = LogisticRegression(random_state=0,solver='liblinear').fit(X_train, y_train)\n",
    "predicted_vals=clf.predict(x_test)"
   ]
  },
  {
   "cell_type": "code",
   "execution_count": null,
   "id": "52a344e8",
   "metadata": {
    "execution": {
     "iopub.execute_input": "2022-02-24T21:51:48.006155Z",
     "iopub.status.busy": "2022-02-24T21:51:48.005788Z",
     "iopub.status.idle": "2022-02-24T21:51:48.019808Z",
     "shell.execute_reply": "2022-02-24T21:51:48.018893Z",
     "shell.execute_reply.started": "2022-02-24T21:51:48.006122Z"
    },
    "papermill": {
     "duration": null,
     "end_time": null,
     "exception": null,
     "start_time": null,
     "status": "pending"
    },
    "tags": []
   },
   "outputs": [],
   "source": [
    "clf.score(x_test, y_test)"
   ]
  },
  {
   "cell_type": "code",
   "execution_count": null,
   "id": "fd2288b2",
   "metadata": {
    "execution": {
     "iopub.execute_input": "2022-02-24T21:51:48.893977Z",
     "iopub.status.busy": "2022-02-24T21:51:48.893638Z",
     "iopub.status.idle": "2022-02-24T21:51:48.901242Z",
     "shell.execute_reply": "2022-02-24T21:51:48.899597Z",
     "shell.execute_reply.started": "2022-02-24T21:51:48.893942Z"
    },
    "papermill": {
     "duration": null,
     "end_time": null,
     "exception": null,
     "start_time": null,
     "status": "pending"
    },
    "tags": []
   },
   "outputs": [],
   "source": [
    "X_test=X_test[x_test.columns]"
   ]
  },
  {
   "cell_type": "code",
   "execution_count": null,
   "id": "bb60750a",
   "metadata": {
    "execution": {
     "iopub.execute_input": "2022-02-24T21:51:51.430931Z",
     "iopub.status.busy": "2022-02-24T21:51:51.430539Z",
     "iopub.status.idle": "2022-02-24T21:51:51.460298Z",
     "shell.execute_reply": "2022-02-24T21:51:51.459186Z",
     "shell.execute_reply.started": "2022-02-24T21:51:51.430892Z"
    },
    "papermill": {
     "duration": null,
     "end_time": null,
     "exception": null,
     "start_time": null,
     "status": "pending"
    },
    "tags": []
   },
   "outputs": [],
   "source": [
    "submit['Transported']=clf.predict(X_test)\n",
    "submit.to_csv('submission_lr.csv', index=False)"
   ]
  },
  {
   "cell_type": "code",
   "execution_count": null,
   "id": "3ad60f87",
   "metadata": {
    "execution": {
     "iopub.execute_input": "2022-02-24T21:48:15.693258Z",
     "iopub.status.busy": "2022-02-24T21:48:15.692874Z",
     "iopub.status.idle": "2022-02-24T21:48:16.863648Z",
     "shell.execute_reply": "2022-02-24T21:48:16.862308Z",
     "shell.execute_reply.started": "2022-02-24T21:48:15.693221Z"
    },
    "papermill": {
     "duration": null,
     "end_time": null,
     "exception": null,
     "start_time": null,
     "status": "pending"
    },
    "tags": []
   },
   "outputs": [],
   "source": [
    "from sklearn.ensemble import RandomForestClassifier\n",
    "clf = RandomForestClassifier(random_state=0).fit(X_train, y_train)\n",
    "predicted_vals=clf.predict(x_test)\n",
    "clf.score(x_test, y_test)"
   ]
  },
  {
   "cell_type": "code",
   "execution_count": null,
   "id": "b84ed2e6",
   "metadata": {
    "execution": {
     "iopub.execute_input": "2022-02-24T21:48:21.409523Z",
     "iopub.status.busy": "2022-02-24T21:48:21.409189Z",
     "iopub.status.idle": "2022-02-24T21:48:21.528491Z",
     "shell.execute_reply": "2022-02-24T21:48:21.527072Z",
     "shell.execute_reply.started": "2022-02-24T21:48:21.409488Z"
    },
    "papermill": {
     "duration": null,
     "end_time": null,
     "exception": null,
     "start_time": null,
     "status": "pending"
    },
    "tags": []
   },
   "outputs": [],
   "source": [
    "submit['Transported']=clf.predict(X_test)\n",
    "submit.to_csv('submission_rf.csv', index=False)"
   ]
  },
  {
   "cell_type": "code",
   "execution_count": null,
   "id": "39858231",
   "metadata": {
    "execution": {
     "iopub.execute_input": "2022-02-24T21:57:20.431591Z",
     "iopub.status.busy": "2022-02-24T21:57:20.431083Z",
     "iopub.status.idle": "2022-02-24T22:12:50.987423Z",
     "shell.execute_reply": "2022-02-24T22:12:50.986361Z",
     "shell.execute_reply.started": "2022-02-24T21:57:20.431557Z"
    },
    "papermill": {
     "duration": null,
     "end_time": null,
     "exception": null,
     "start_time": null,
     "status": "pending"
    },
    "tags": []
   },
   "outputs": [],
   "source": [
    "# Use the random grid to search for best hyperparameters\n",
    "# First create the base model to tune\n",
    "rf = RandomForestClassifier(random_state = 42)\n",
    "# Random search of parameters, using 3 fold cross validation, \n",
    "# search across 100 different combinations, and use all available cores\n",
    "rf_random = RandomizedSearchCV(estimator=rf, param_distributions=random_grid,\n",
    "                              n_iter = 100, scoring='f1_micro',\n",
    "                              cv = 3, verbose=2, random_state=42, n_jobs=-1,\n",
    "                              return_train_score=True)\n",
    "\n",
    "# Fit the random search model\n",
    "rf_random.fit(X_train, y_train);"
   ]
  },
  {
   "cell_type": "code",
   "execution_count": null,
   "id": "08e93ea7",
   "metadata": {
    "execution": {
     "iopub.execute_input": "2022-02-24T22:12:50.99015Z",
     "iopub.status.busy": "2022-02-24T22:12:50.989654Z",
     "iopub.status.idle": "2022-02-24T22:12:50.99851Z",
     "shell.execute_reply": "2022-02-24T22:12:50.997284Z",
     "shell.execute_reply.started": "2022-02-24T22:12:50.990114Z"
    },
    "papermill": {
     "duration": null,
     "end_time": null,
     "exception": null,
     "start_time": null,
     "status": "pending"
    },
    "tags": []
   },
   "outputs": [],
   "source": [
    "rf_random.best_params_"
   ]
  },
  {
   "cell_type": "code",
   "execution_count": null,
   "id": "ce6a7a22",
   "metadata": {
    "execution": {
     "iopub.execute_input": "2022-02-24T22:17:18.966152Z",
     "iopub.status.busy": "2022-02-24T22:17:18.96574Z",
     "iopub.status.idle": "2022-02-24T22:17:18.98579Z",
     "shell.execute_reply": "2022-02-24T22:17:18.984549Z",
     "shell.execute_reply.started": "2022-02-24T22:17:18.966114Z"
    },
    "papermill": {
     "duration": null,
     "end_time": null,
     "exception": null,
     "start_time": null,
     "status": "pending"
    },
    "tags": []
   },
   "outputs": [],
   "source": [
    "rfc1=RandomForestClassifier(random_state=42,n_estimators=1400,min_samples_split=2,min_samples_leaf=1, max_features='sqrt',max_depth=10, bootstrap=True, criterion='gini')"
   ]
  },
  {
   "cell_type": "code",
   "execution_count": null,
   "id": "a9304bea",
   "metadata": {
    "execution": {
     "iopub.execute_input": "2022-02-24T22:17:19.815679Z",
     "iopub.status.busy": "2022-02-24T22:17:19.815336Z",
     "iopub.status.idle": "2022-02-24T22:17:31.312167Z",
     "shell.execute_reply": "2022-02-24T22:17:31.310691Z",
     "shell.execute_reply.started": "2022-02-24T22:17:19.815648Z"
    },
    "papermill": {
     "duration": null,
     "end_time": null,
     "exception": null,
     "start_time": null,
     "status": "pending"
    },
    "tags": []
   },
   "outputs": [],
   "source": [
    "rfc1.fit(X_train, y_train)\n",
    "\n",
    "y_pred = rfc1.predict(x_test)"
   ]
  },
  {
   "cell_type": "code",
   "execution_count": null,
   "id": "fbc23bbb",
   "metadata": {
    "execution": {
     "iopub.execute_input": "2022-02-24T22:17:31.314521Z",
     "iopub.status.busy": "2022-02-24T22:17:31.314243Z",
     "iopub.status.idle": "2022-02-24T22:17:31.332011Z",
     "shell.execute_reply": "2022-02-24T22:17:31.330394Z",
     "shell.execute_reply.started": "2022-02-24T22:17:31.314491Z"
    },
    "papermill": {
     "duration": null,
     "end_time": null,
     "exception": null,
     "start_time": null,
     "status": "pending"
    },
    "tags": []
   },
   "outputs": [],
   "source": [
    "print(classification_report(y_test, y_pred))"
   ]
  },
  {
   "cell_type": "code",
   "execution_count": null,
   "id": "22874630",
   "metadata": {
    "execution": {
     "iopub.execute_input": "2022-02-24T22:17:58.441314Z",
     "iopub.status.busy": "2022-02-24T22:17:58.44097Z",
     "iopub.status.idle": "2022-02-24T22:17:59.313164Z",
     "shell.execute_reply": "2022-02-24T22:17:59.312082Z",
     "shell.execute_reply.started": "2022-02-24T22:17:58.44128Z"
    },
    "papermill": {
     "duration": null,
     "end_time": null,
     "exception": null,
     "start_time": null,
     "status": "pending"
    },
    "tags": []
   },
   "outputs": [],
   "source": [
    "submit['Transported']=rfc1.predict(X_test)\n",
    "submit.to_csv('submission_rfcv.csv', index=False)"
   ]
  },
  {
   "cell_type": "code",
   "execution_count": null,
   "id": "234afb78",
   "metadata": {
    "papermill": {
     "duration": null,
     "end_time": null,
     "exception": null,
     "start_time": null,
     "status": "pending"
    },
    "tags": []
   },
   "outputs": [],
   "source": []
  }
 ],
 "metadata": {
  "kernelspec": {
   "display_name": "Python 3",
   "language": "python",
   "name": "python3"
  },
  "language_info": {
   "codemirror_mode": {
    "name": "ipython",
    "version": 3
   },
   "file_extension": ".py",
   "mimetype": "text/x-python",
   "name": "python",
   "nbconvert_exporter": "python",
   "pygments_lexer": "ipython3",
   "version": "3.7.12"
  },
  "papermill": {
   "default_parameters": {},
   "duration": 1017.419832,
   "end_time": "2022-03-03T10:47:21.495761",
   "environment_variables": {},
   "exception": true,
   "input_path": "__notebook__.ipynb",
   "output_path": "__notebook__.ipynb",
   "parameters": {},
   "start_time": "2022-03-03T10:30:24.075929",
   "version": "2.3.3"
  }
 },
 "nbformat": 4,
 "nbformat_minor": 5
}
